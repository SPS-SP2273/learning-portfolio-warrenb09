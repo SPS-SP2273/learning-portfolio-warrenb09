{
 "cells": [
  {
   "attachments": {},
   "cell_type": "markdown",
   "id": "123456",
   "metadata": {},
   "source": [
    "<div style=\"text-align:left;font-size:2em\"><span style=\"font-weight:bolder;font-size:1.25em\">SP2273 | Learning Portfolio</span><br><br><span style=\"font-weight:bold;color:darkred\">Loops (Good) Exercises</span></div>"
   ]
  },
  {
   "cell_type": "markdown",
   "id": "996c5ed1-51b9-4575-8911-c1e038ccb98b",
   "metadata": {},
   "source": [
    "**Exercise 1**"
   ]
  },
  {
   "cell_type": "code",
   "execution_count": 4,
   "id": "361113d2-b7f5-45c5-987b-8c76bff68379",
   "metadata": {},
   "outputs": [
    {
     "name": "stdout",
     "output_type": "stream",
     "text": [
      "[1, 9, 25, 49, 81]\n"
     ]
    }
   ],
   "source": [
    "list_odd_squares = []\n",
    "\n",
    "for i in range(10):\n",
    "    if i % 2 == 0:\n",
    "        continue\n",
    "    list_odd_squares.append(i ** 2)\n",
    "\n",
    "print(list_odd_squares)"
   ]
  },
  {
   "cell_type": "markdown",
   "id": "963880c5-62ea-436c-99fb-8ca294df4d25",
   "metadata": {},
   "source": [
    "<p></p>"
   ]
  },
  {
   "cell_type": "markdown",
   "id": "f2ca2e2c-0e0f-4c2b-9205-9a42ca42922b",
   "metadata": {},
   "source": [
    "**Exercise 2**"
   ]
  },
  {
   "cell_type": "code",
   "execution_count": 6,
   "id": "b045e3a0-a618-498f-a83d-e56780dd2c40",
   "metadata": {},
   "outputs": [
    {
     "name": "stdout",
     "output_type": "stream",
     "text": [
      "[1, 9, 25, 49, 81]\n"
     ]
    }
   ],
   "source": [
    "print([i ** 2 for i in range(10) if i % 2 != 0])"
   ]
  },
  {
   "cell_type": "markdown",
   "id": "3e85e90d-e1d5-4eb7-9874-204740e6df10",
   "metadata": {},
   "source": [
    "<p></p>"
   ]
  },
  {
   "cell_type": "markdown",
   "id": "89a500d9-f521-4be3-b7fb-ad235e19eaca",
   "metadata": {},
   "source": [
    "**Exercise 3**"
   ]
  },
  {
   "cell_type": "code",
   "execution_count": 12,
   "id": "0793d9c9-d70d-4777-9f9d-ffd9e52b77fc",
   "metadata": {},
   "outputs": [
    {
     "name": "stdout",
     "output_type": "stream",
     "text": [
      "727 ns ± 55.2 ns per loop (mean ± std. dev. of 7 runs, 1,000,000 loops each)\n"
     ]
    }
   ],
   "source": [
    "#First way\n",
    "%%timeit\n",
    "\n",
    "list_odd_squares = []\n",
    "\n",
    "for i in range(10):\n",
    "    if i % 2 == 0:\n",
    "        continue\n",
    "    list_odd_squares.append(i ** 2)"
   ]
  },
  {
   "cell_type": "markdown",
   "id": "884ba3fa-fa65-409d-8e4c-fa2497bcdb58",
   "metadata": {},
   "source": [
    "<p></p>"
   ]
  },
  {
   "cell_type": "code",
   "execution_count": 14,
   "id": "be5ed6c4-2dfe-48a3-bcec-6982afd6266a",
   "metadata": {},
   "outputs": [
    {
     "name": "stdout",
     "output_type": "stream",
     "text": [
      "801 ns ± 103 ns per loop (mean ± std. dev. of 7 runs, 1,000,000 loops each)\n"
     ]
    }
   ],
   "source": [
    "#Second way\n",
    "%%timeit\n",
    "\n",
    "[i ** 2 for i in range(10) if i % 2 != 0]"
   ]
  },
  {
   "cell_type": "markdown",
   "id": "5a831611-f1e1-43dc-aa66-a3be19471d13",
   "metadata": {},
   "source": [
    "<p></p>"
   ]
  },
  {
   "cell_type": "markdown",
   "id": "586e5a50-d6d4-43a3-8618-8e6eba80c594",
   "metadata": {},
   "source": [
    "First way is faster."
   ]
  },
  {
   "cell_type": "markdown",
   "id": "33141997-3524-49a3-819f-3174d3882246",
   "metadata": {},
   "source": [
    "<p></p>"
   ]
  },
  {
   "cell_type": "markdown",
   "id": "8a7a0a85-c18d-4283-b13e-6def2a875263",
   "metadata": {},
   "source": [
    "**Exercise 4**"
   ]
  },
  {
   "cell_type": "code",
   "execution_count": 15,
   "id": "a1f313e8-292d-436d-b800-ede87b0fe02a",
   "metadata": {},
   "outputs": [
    {
     "name": "stdout",
     "output_type": "stream",
     "text": [
      "14\n"
     ]
    }
   ],
   "source": [
    "qty = 100\n",
    "year = 0\n",
    "\n",
    "while qty > 50:\n",
    "    qty = qty * 0.95\n",
    "    year += 1\n",
    "\n",
    "print(year)"
   ]
  },
  {
   "cell_type": "markdown",
   "id": "e0c7acc4-cbef-42e2-b1bb-e0cde194d7cc",
   "metadata": {},
   "source": [
    "<p></p>"
   ]
  },
  {
   "cell_type": "markdown",
   "id": "344c8a85-8eca-4930-a189-cd02468bc2c9",
   "metadata": {},
   "source": [
    "**Exercise 5**"
   ]
  },
  {
   "cell_type": "code",
   "execution_count": 39,
   "id": "6d2e18bf-f0c4-4ab7-af8e-45863fc397be",
   "metadata": {},
   "outputs": [
    {
     "name": "stdout",
     "output_type": "stream",
     "text": [
      "There is a 3 or more ppm increase in CO2 from 2015 to 2016. The change in CO2 is 3.41.\n"
     ]
    }
   ],
   "source": [
    "#What I thought at first\n",
    "co2_data = [\n",
    "    (2000, 369.55), (2001, 371.14), (2002, 373.28), \n",
    "    (2003, 375.80), (2004, 377.52), (2005, 379.80), \n",
    "    (2006, 381.90), (2007, 383.79), (2008, 385.60), \n",
    "    (2009, 387.43), (2010, 389.90), (2011, 391.65), \n",
    "    (2012, 393.85), (2013, 396.52), (2014, 398.65),\n",
    "    (2015, 400.83), (2016, 404.24), (2017, 406.55), \n",
    "    (2018, 408.52), (2019, 411.44), (2020, 414.24)\n",
    "]\n",
    "\n",
    "for i, data in enumerate(co2_data[:-1]):                   #enumerate returns both the index and element, so data needs to be there even if not used\n",
    "    co2_change = co2_data[i + 1][1] - co2_data[i][1]\n",
    "    if co2_change >= 3:\n",
    "        print(f\"There is a 3 or more ppm increase in CO2 from {co2_data[i][0]} to {co2_data[i + 1][0]}. The change in CO2 is {co2_change:.2f}.\")"
   ]
  },
  {
   "cell_type": "markdown",
   "id": "2506e1f0-d52b-4363-9ccc-668d3846411c",
   "metadata": {},
   "source": [
    "<p></p>"
   ]
  },
  {
   "cell_type": "code",
   "execution_count": 34,
   "id": "c41b189a-3609-45c5-acc6-dedf10b64b09",
   "metadata": {},
   "outputs": [
    {
     "name": "stdout",
     "output_type": "stream",
     "text": [
      "There is a 3 or more ppm increase in CO2 from 2015 to 2016. The change in CO2 is 3.41.\n"
     ]
    }
   ],
   "source": [
    "#I think this is more readable (thought of this after a while)\n",
    "co2_data = [\n",
    "    (2000, 369.55), (2001, 371.14), (2002, 373.28), \n",
    "    (2003, 375.80), (2004, 377.52), (2005, 379.80), \n",
    "    (2006, 381.90), (2007, 383.79), (2008, 385.60), \n",
    "    (2009, 387.43), (2010, 389.90), (2011, 391.65), \n",
    "    (2012, 393.85), (2013, 396.52), (2014, 398.65),\n",
    "    (2015, 400.83), (2016, 404.24), (2017, 406.55), \n",
    "    (2018, 408.52), (2019, 411.44), (2020, 414.24)\n",
    "]\n",
    "\n",
    "for i in range(len(co2_data) - 1):\n",
    "    this_year, this_co2 = co2_data[i]\n",
    "    next_year, next_co2 = co2_data[i + 1]\n",
    "    co2_change = next_co2 - this_co2\n",
    "    if co2_change >= 3:\n",
    "        print(f\"There is a 3 or more ppm increase in CO2 from {this_year} to {next_year}. The change in CO2 is {co2_change:.2f}.\")"
   ]
  }
 ],
 "metadata": {
  "kernelspec": {
   "display_name": "Python 3 (ipykernel)",
   "language": "python",
   "name": "python3"
  },
  "language_info": {
   "codemirror_mode": {
    "name": "ipython",
    "version": 3
   },
   "file_extension": ".py",
   "mimetype": "text/x-python",
   "name": "python",
   "nbconvert_exporter": "python",
   "pygments_lexer": "ipython3",
   "version": "3.11.5"
  },
  "toc": {
   "base_numbering": 1,
   "nav_menu": {},
   "number_sections": true,
   "sideBar": true,
   "skip_h1_title": false,
   "title_cell": "Table of Contents",
   "title_sidebar": "Contents",
   "toc_cell": false,
   "toc_position": {},
   "toc_section_display": true,
   "toc_window_display": false
  },
  "vscode": {
   "interpreter": {
    "hash": "31f2aee4e71d21fbe5cf8b01ff0e069b9275f58929596ceb00d14d90e3e16cd6"
   }
  }
 },
 "nbformat": 4,
 "nbformat_minor": 5
}
