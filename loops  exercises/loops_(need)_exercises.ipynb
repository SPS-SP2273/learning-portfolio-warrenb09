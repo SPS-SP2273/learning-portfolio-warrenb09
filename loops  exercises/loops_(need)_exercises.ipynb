{
 "cells": [
  {
   "attachments": {},
   "cell_type": "markdown",
   "id": "123456",
   "metadata": {},
   "source": [
    "<div style=\"text-align:left;font-size:2em\"><span style=\"font-weight:bolder;font-size:1.25em\">SP2273 | Learning Portfolio</span><br><br><span style=\"font-weight:bold;color:darkred\">Loops (Need) Exercises</span></div>"
   ]
  },
  {
   "cell_type": "markdown",
   "id": "ab3cbc51-b957-4e8a-8fa7-156fbc5df078",
   "metadata": {},
   "source": [
    "**Exercise 1**"
   ]
  },
  {
   "cell_type": "code",
   "execution_count": 3,
   "id": "abe03fdd-5e3e-4951-b803-9efe9f4d6aee",
   "metadata": {},
   "outputs": [
    {
     "name": "stdout",
     "output_type": "stream",
     "text": [
      "[32.0, 41.0, 50.0, 59.0, 68.0, 77.0, 86.0, 95.0, 104.0, 113.0, 122.0]\n"
     ]
    }
   ],
   "source": [
    "#Loop\n",
    "temperatures_celsius = [\n",
    "    0, 5, 10, 15, 20, 25,\n",
    "    30, 35, 40, 45, 50\n",
    "]\n",
    "\n",
    "temperatures_fahrenheit = []\n",
    "\n",
    "for c in temperatures_celsius:\n",
    "    f = ((9 / 5) * c) + 32\n",
    "    temperatures_fahrenheit.append(f)\n",
    "\n",
    "print(temperatures_fahrenheit)"
   ]
  },
  {
   "cell_type": "markdown",
   "id": "669040cd-fd95-45e4-8231-222eaedf70d0",
   "metadata": {},
   "source": [
    "<p></p>"
   ]
  },
  {
   "cell_type": "code",
   "execution_count": 1,
   "id": "0935f31a-bb9b-475d-8cc9-a28747375548",
   "metadata": {},
   "outputs": [
    {
     "name": "stdout",
     "output_type": "stream",
     "text": [
      "[ 32.  41.  50.  59.  68.  77.  86.  95. 104. 113. 122.]\n"
     ]
    }
   ],
   "source": [
    "#numpy\n",
    "import numpy as np\n",
    "\n",
    "temperatures_celsius = [\n",
    "    0, 5, 10, 15, 20, 25,\n",
    "    30, 35, 40, 45, 50\n",
    "]\n",
    "\n",
    "temperatures_celsius_array = np.array(temperatures_celsius)\n",
    "temperatures_fahrenheit = ((9 / 5) * temperatures_celsius_array) + 32\n",
    "print(temperatures_fahrenheit)"
   ]
  },
  {
   "cell_type": "markdown",
   "id": "5cd88964-f6c0-4d70-b9f0-2154a484905e",
   "metadata": {},
   "source": [
    "<p></p>"
   ]
  },
  {
   "cell_type": "markdown",
   "id": "4a93f300-b1f8-49d8-929d-c40f62e3371b",
   "metadata": {},
   "source": [
    "**Exercise 2**"
   ]
  },
  {
   "cell_type": "code",
   "execution_count": 4,
   "id": "8c7e080f-0cb0-447d-92fd-015f031cd064",
   "metadata": {},
   "outputs": [
    {
     "name": "stdout",
     "output_type": "stream",
     "text": [
      "A1\tA2\tA3\t\n",
      "\n",
      "B1\tB2\tB3\t\n",
      "\n",
      "C1\tC2\tC3\t\n",
      "\n"
     ]
    }
   ],
   "source": [
    "for letter in ['A', 'B', 'C']:\n",
    "    for number in [1, 2, 3]:\n",
    "        print(f'{letter}{number}', end='\\t')\n",
    "    print('\\n')"
   ]
  },
  {
   "cell_type": "code",
   "execution_count": 44,
   "id": "4dbc7f4f-b452-43ff-a904-14f5e8989e92",
   "metadata": {},
   "outputs": [
    {
     "name": "stdout",
     "output_type": "stream",
     "text": [
      "1 : 1   2   3   4   5   \n",
      "\n",
      "2 : 2   4   6   8   10  \n",
      "\n",
      "3 : 3   6   9   12  15  \n",
      "\n",
      "4 : 4   8   12  16  20  \n",
      "\n",
      "5 : 5   10  15  20  25  \n",
      "\n"
     ]
    }
   ],
   "source": [
    "for count, n in enumerate(range(1, 6), 1):\n",
    "    print(f\"{count:<2}: \", end = \"\")           #The end = \"\" is so that the count is in one line with the stuff (default is \\n, which looks ugly)\n",
    "    for m in range(1, 6):\n",
    "        print(f\"{n * m:<4}\", end = \"\")         #Operations can go inside {} to work in f-string\n",
    "    print(\"\\n\")"
   ]
  }
 ],
 "metadata": {
  "kernelspec": {
   "display_name": "Python 3 (ipykernel)",
   "language": "python",
   "name": "python3"
  },
  "language_info": {
   "codemirror_mode": {
    "name": "ipython",
    "version": 3
   },
   "file_extension": ".py",
   "mimetype": "text/x-python",
   "name": "python",
   "nbconvert_exporter": "python",
   "pygments_lexer": "ipython3",
   "version": "3.11.5"
  },
  "toc": {
   "base_numbering": 1,
   "nav_menu": {},
   "number_sections": true,
   "sideBar": true,
   "skip_h1_title": false,
   "title_cell": "Table of Contents",
   "title_sidebar": "Contents",
   "toc_cell": false,
   "toc_position": {},
   "toc_section_display": true,
   "toc_window_display": false
  },
  "vscode": {
   "interpreter": {
    "hash": "31f2aee4e71d21fbe5cf8b01ff0e069b9275f58929596ceb00d14d90e3e16cd6"
   }
  }
 },
 "nbformat": 4,
 "nbformat_minor": 5
}
