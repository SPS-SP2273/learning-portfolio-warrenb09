{
 "cells": [
  {
   "attachments": {},
   "cell_type": "markdown",
   "id": "123456",
   "metadata": {},
   "source": [
    "<div style=\"text-align:left;font-size:2em\"><span style=\"font-weight:bolder;font-size:1.25em\">SP2273 | Learning Portfolio</span><br><br><span style=\"font-weight:bold;color:darkred\">Loops (Need)</span></div>"
   ]
  },
  {
   "attachments": {},
   "cell_type": "markdown",
   "id": "cadbe9ab",
   "metadata": {},
   "source": [
    "# What to expect in this chapter"
   ]
  },
  {
   "cell_type": "markdown",
   "id": "c4c0fa47-e821-469c-934e-62c8ec6aa7d8",
   "metadata": {},
   "source": [
    "There are two mechanisms for **looping**: the `for` statements and the `while` statements."
   ]
  },
  {
   "attachments": {},
   "cell_type": "markdown",
   "id": "a68e5949",
   "metadata": {},
   "source": [
    "# 1 The for iterator"
   ]
  },
  {
   "cell_type": "markdown",
   "id": "b09fcc34-f137-4803-af54-e6074157fead",
   "metadata": {},
   "source": [
    "`for` loops are useful in many ways. Let's say we want to print out all of the names of the superheroes in a list shown below."
   ]
  },
  {
   "cell_type": "code",
   "execution_count": 1,
   "id": "b000c445-5362-4732-9182-c16335b9d133",
   "metadata": {},
   "outputs": [],
   "source": [
    "real_names = [\"Natasha Romanoff\", \"Tony Stark\", \"Stephen Strange\"]"
   ]
  },
  {
   "cell_type": "markdown",
   "id": "6080d100-80a4-47f2-b605-38c735e71c20",
   "metadata": {},
   "source": [
    "We can do it manually by indexing, but this way of coding is:\n",
    "1. Inefficient, because the code is very long\n",
    "2. Tiring, because imagine if you have to do 100 names and one error will require you to make changes 100 times\n",
    "3. Error prone, because there are more chances of you making an error"
   ]
  },
  {
   "cell_type": "code",
   "execution_count": 2,
   "id": "61a6d89e-469d-4faf-bc7a-d95784b2b4fa",
   "metadata": {},
   "outputs": [
    {
     "name": "stdout",
     "output_type": "stream",
     "text": [
      "Natasha Romanoff is a Marvel superhero!\n",
      "Tony Stark is a Marvel superhero!\n",
      "Stephen Strange is a Marvel superhero!\n"
     ]
    }
   ],
   "source": [
    "name=real_names[0]\n",
    "print(f\"{name} is a Marvel superhero!\")\n",
    "\n",
    "name=real_names[1]\n",
    "print(f\"{name} is a Marvel superhero!\")\n",
    "\n",
    "name=real_names[2]\n",
    "print(f\"{name} is a Marvel superhero!\")"
   ]
  },
  {
   "cell_type": "markdown",
   "id": "a860540f-d317-49d3-a47c-c9452e14bb13",
   "metadata": {},
   "source": [
    "<p></p>"
   ]
  },
  {
   "attachments": {},
   "cell_type": "markdown",
   "id": "f4b5fceb",
   "metadata": {},
   "source": [
    "## 1.1 for with a list"
   ]
  },
  {
   "cell_type": "markdown",
   "id": "c8d14f2b-1e74-4e62-8fdf-48088ddad6ab",
   "metadata": {},
   "source": [
    "We can use `for` loops for this task."
   ]
  },
  {
   "cell_type": "code",
   "execution_count": 7,
   "id": "2ad7542f-9e0f-4826-ace4-82739e563bae",
   "metadata": {},
   "outputs": [
    {
     "name": "stdout",
     "output_type": "stream",
     "text": [
      "Natasha Romanoff is a Marvel superhero!\n",
      "Tony Stark is a Marvel superhero!\n",
      "Stephen Strange is a Marvel superhero!\n"
     ]
    }
   ],
   "source": [
    "for i in real_names:\n",
    "    print(f\"{i} is a Marvel superhero!\")"
   ]
  },
  {
   "cell_type": "markdown",
   "id": "111c6197-378f-496b-9b21-49b29c917edb",
   "metadata": {},
   "source": [
    "<p></p>"
   ]
  },
  {
   "cell_type": "markdown",
   "id": "657b3403-778b-4306-983c-f3a0192be177",
   "metadata": {},
   "source": [
    "Notice the structure of the `for` loops:\n",
    "1. It uses a variable (`i` in this case) as elements in the list and runs through the block of code assigned to the `for` loop for each element.\n",
    "2. The block of code is assigned to the `for` loop by `:` and `Tab`, just like `if` statements.\n",
    "\n",
    "*Note: The name of the variable does not matter. It is `i` here, but it can `x`, or `t` or `isbcijfoiwejfj`. Just ensure that it is not a Python function, but usually we keep it to just simple things like a letter (or simple words to improve the readability of the code) to make it easier to type the code."
   ]
  },
  {
   "cell_type": "code",
   "execution_count": 6,
   "id": "fcbc31e3-4728-4333-93e8-3ba9a4273de9",
   "metadata": {},
   "outputs": [
    {
     "name": "stdout",
     "output_type": "stream",
     "text": [
      "Natasha Romanoff is a Marvel superhero!\n",
      "Tony Stark is a Marvel superhero!\n",
      "Stephen Strange is a Marvel superhero!\n"
     ]
    }
   ],
   "source": [
    "for sadjieiuwdheu in real_names:                                #Name of the variable can be anything\n",
    "    print(f\"{sadjieiuwdheu} is a Marvel superhero!\")            #This yields the same result"
   ]
  },
  {
   "cell_type": "markdown",
   "id": "c8eda691-eb09-4347-845a-4f982af929a2",
   "metadata": {},
   "source": [
    "<p></p>"
   ]
  },
  {
   "attachments": {},
   "cell_type": "markdown",
   "id": "9332f957",
   "metadata": {},
   "source": [
    "## 1.2 for with enumerate"
   ]
  },
  {
   "cell_type": "markdown",
   "id": "1e60274f-c5d0-42af-9179-a1c881981ffe",
   "metadata": {},
   "source": [
    "The function `enumerate` is used for counting elements in a list. In this way, we can also view it as `enumerate` keeping track of the index numbers of the elements in the list that is running through the block of code in a `for` loop. For example:"
   ]
  },
  {
   "cell_type": "code",
   "execution_count": 12,
   "id": "c6b13a37-f130-40a7-ae34-7f945ea293b2",
   "metadata": {},
   "outputs": [
    {
     "name": "stdout",
     "output_type": "stream",
     "text": [
      "0: Natasha Romanoff is a Marvel superhero!\n",
      "1: Tony Stark is a Marvel superhero!\n",
      "2: Stephen Strange is a Marvel superhero!\n"
     ]
    }
   ],
   "source": [
    "for index, name in enumerate(real_names):\n",
    "    print(f\"{index}: {name} is a Marvel superhero!\")"
   ]
  },
  {
   "cell_type": "markdown",
   "id": "48e22261-5d6f-4dfb-93d4-5e3fbb4fcffd",
   "metadata": {},
   "source": [
    "In the above example, the index number of the elements in `real_names` are displayed. `enumerate` counts from 0 (the first index number) to 2 (the last index number).\n",
    "\n",
    "`enumerate` can also start counting from numbers other than 0. In the example below, the `100` argument in `enumerate` causes `enumerate` to count from 100 to 102 (but now, `enumerate` does not represent index numbers)."
   ]
  },
  {
   "cell_type": "code",
   "execution_count": 13,
   "id": "c5f4bb1f-31b3-408a-a001-7e586aebd7bd",
   "metadata": {},
   "outputs": [
    {
     "name": "stdout",
     "output_type": "stream",
     "text": [
      "100: Natasha Romanoff is a Marvel superhero!\n",
      "101: Tony Stark is a Marvel superhero!\n",
      "102: Stephen Strange is a Marvel superhero!\n"
     ]
    }
   ],
   "source": [
    "for count, name in enumerate(real_names, 100):            #count instead of index because enumerate no longer represents index numbers\n",
    "    print(f\"{count}: {name} is a Marvel superhero!\")"
   ]
  },
  {
   "cell_type": "markdown",
   "id": "9af8c3b3-c216-4a6a-b9d6-4503b5de3df0",
   "metadata": {},
   "source": [
    "<p></p>"
   ]
  },
  {
   "cell_type": "markdown",
   "id": "56efc964-a87b-492f-bcb3-0e9e57c8c24c",
   "metadata": {},
   "source": [
    "`enumerate` is useful when we want to use data from two separate lists in one `for` loop, since `for` loops only accept one list. See below for an example."
   ]
  },
  {
   "cell_type": "code",
   "execution_count": 14,
   "id": "05c964de-8f0d-4b84-8a3f-9810cc8d10c5",
   "metadata": {},
   "outputs": [
    {
     "name": "stdout",
     "output_type": "stream",
     "text": [
      "Natasha Romanoff is Black Widow\n",
      "Tony Stark is Iron Man\n",
      "Stephen Strange is Doctor Strange\n"
     ]
    }
   ],
   "source": [
    "super_names = [\"Black Widow\", \"Iron Man\", \"Doctor Strange\"]\n",
    "real_names = [\"Natasha Romanoff\", \"Tony Stark\", \"Stephen Strange\"]\n",
    "\n",
    "for index, name in enumerate(real_names):\n",
    "    superhero = super_names[index]\n",
    "    print(f\"{name} is {superhero}\")"
   ]
  },
  {
   "cell_type": "markdown",
   "id": "9b2273a7-a2f8-4fc7-86a6-a9e5f761b995",
   "metadata": {},
   "source": [
    "<p></p>"
   ]
  },
  {
   "attachments": {},
   "cell_type": "markdown",
   "id": "1917e720",
   "metadata": {},
   "source": [
    "## 1.3 for with range"
   ]
  },
  {
   "cell_type": "markdown",
   "id": "05855f45-7e0c-4065-ade1-858dfb016674",
   "metadata": {},
   "source": [
    "The function `range` generates a sequence of number. It is commonly used in make loops run a specific number of times. The syntax for `range` is `range(x, y, z)` where `x` is the starting number, `y - 1` is the last number in the sequence, and `z` is the step."
   ]
  },
  {
   "cell_type": "code",
   "execution_count": 19,
   "id": "ed7b9307-b5fe-4463-befe-b9486e65d2cb",
   "metadata": {},
   "outputs": [
    {
     "name": "stdout",
     "output_type": "stream",
     "text": [
      "0\n",
      "1\n",
      "2\n",
      "3\n",
      "4\n"
     ]
    }
   ],
   "source": [
    "for i in range(5):                #range(5) creates a sequence of number from 0 to 4 (not 5!)\n",
    "    print(i)                      #The loop will run 5 times"
   ]
  },
  {
   "cell_type": "code",
   "execution_count": 21,
   "id": "40240427-a242-49c3-80fc-af4884088fcd",
   "metadata": {},
   "outputs": [
    {
     "name": "stdout",
     "output_type": "stream",
     "text": [
      "3\n",
      "5\n",
      "7\n",
      "9\n"
     ]
    }
   ],
   "source": [
    "for i in range(3, 10, 2):         #Sequence of number starts from 3, ends with 10 - 1 = 9, with step of 2\n",
    "    print(i)"
   ]
  },
  {
   "cell_type": "markdown",
   "id": "3f68c183-ee0a-4c82-b97e-d96c66a18b67",
   "metadata": {},
   "source": [
    "<p></p>"
   ]
  },
  {
   "cell_type": "markdown",
   "id": "10e5fadb-8c03-4e21-9c03-2942eb7ca1fb",
   "metadata": {},
   "source": [
    "We can use `range` to represent index numbers in `for` loops. See below for an example."
   ]
  },
  {
   "cell_type": "code",
   "execution_count": 22,
   "id": "05c0e27b-4a33-4a8c-95e5-a1f81cdbb4c6",
   "metadata": {},
   "outputs": [
    {
     "name": "stdout",
     "output_type": "stream",
     "text": [
      "Natasha Romanoff is Black Widow.\n",
      "Tony Stark is Iron Man.\n",
      "Stephen Strange is Doctor Strange.\n"
     ]
    }
   ],
   "source": [
    "for i in range(len(real_names)):          #len(real_names) = 3, creating a sequence of index numbers (0, 1, 2) for the super_names and real_names lists\n",
    "    superhero = super_names[i]\n",
    "    real = real_names[i]\n",
    "    print(f\"{real} is {superhero}.\")      #The loop will run thrice"
   ]
  },
  {
   "cell_type": "markdown",
   "id": "07cab5a4-aae8-445c-ab2e-b2ea91acf79f",
   "metadata": {},
   "source": [
    "<p></p>"
   ]
  },
  {
   "cell_type": "markdown",
   "id": "73fa0dc7-21db-4cf5-86cf-0eb58b6b9639",
   "metadata": {},
   "source": [
    "Note that `enumerate` and `range` only works with looping structures. Without any looping structures, the output does not do anything useful."
   ]
  },
  {
   "cell_type": "code",
   "execution_count": 24,
   "id": "cf562674-a0e0-4523-ab1f-b636cf035b92",
   "metadata": {},
   "outputs": [
    {
     "name": "stdout",
     "output_type": "stream",
     "text": [
      "<enumerate object at 0x0000023D20610B30>\n",
      "range(0, 3)\n"
     ]
    }
   ],
   "source": [
    "print(enumerate(super_names))\n",
    "print(range(len(super_names)))"
   ]
  },
  {
   "cell_type": "markdown",
   "id": "e927fc8a-5a13-46f6-b443-ebb9548c7270",
   "metadata": {},
   "source": [
    "<p></p>"
   ]
  },
  {
   "attachments": {},
   "cell_type": "markdown",
   "id": "fb46a426",
   "metadata": {},
   "source": [
    "# while"
   ]
  },
  {
   "cell_type": "markdown",
   "id": "0eda7b7b-74c5-46e4-af0f-907e9e2c974e",
   "metadata": {},
   "source": [
    "`while` loops run for as long as the condition assigned to it is `True`. `while` loops can be more useful than `for` loops when we do not know how many times we need the loop to run."
   ]
  },
  {
   "cell_type": "markdown",
   "id": "80eae472-f84e-4ad3-8050-9696d13b6bb4",
   "metadata": {},
   "source": [
    "<p></p>"
   ]
  },
  {
   "cell_type": "markdown",
   "id": "0e483dad-9959-476d-84b4-2cfb0db7c5d7",
   "metadata": {},
   "source": [
    "**Example usage**"
   ]
  },
  {
   "cell_type": "markdown",
   "id": "e22d26ba-1b43-4f23-a152-0f89eff3da89",
   "metadata": {},
   "source": [
    "A bank has an interest rate of 3.30% compounded annually. I put `$10000` in my bank account at January 1. How many years until I have `$12000` in my bank account?"
   ]
  },
  {
   "cell_type": "code",
   "execution_count": 26,
   "id": "c7f63533-bca7-4197-b980-e7634d7c2f26",
   "metadata": {},
   "outputs": [
    {
     "name": "stdout",
     "output_type": "stream",
     "text": [
      "6\n"
     ]
    }
   ],
   "source": [
    "a = 10000\n",
    "year = 0                    #At this point, we don't know how many years (i.e. how many loops will be run until the money becomes $12000\n",
    "\n",
    "while a <= 12000:\n",
    "    a = a * 1.033\n",
    "    year += 1\n",
    "\n",
    "print(year)"
   ]
  }
 ],
 "metadata": {
  "kernelspec": {
   "display_name": "Python 3 (ipykernel)",
   "language": "python",
   "name": "python3"
  },
  "language_info": {
   "codemirror_mode": {
    "name": "ipython",
    "version": 3
   },
   "file_extension": ".py",
   "mimetype": "text/x-python",
   "name": "python",
   "nbconvert_exporter": "python",
   "pygments_lexer": "ipython3",
   "version": "3.11.5"
  },
  "toc": {
   "base_numbering": 1,
   "nav_menu": {},
   "number_sections": true,
   "sideBar": true,
   "skip_h1_title": false,
   "title_cell": "Table of Contents",
   "title_sidebar": "Contents",
   "toc_cell": false,
   "toc_position": {},
   "toc_section_display": true,
   "toc_window_display": false
  },
  "vscode": {
   "interpreter": {
    "hash": "31f2aee4e71d21fbe5cf8b01ff0e069b9275f58929596ceb00d14d90e3e16cd6"
   }
  }
 },
 "nbformat": 4,
 "nbformat_minor": 5
}
