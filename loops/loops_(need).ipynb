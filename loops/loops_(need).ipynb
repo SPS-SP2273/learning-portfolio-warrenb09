{
 "cells": [
  {
   "attachments": {},
   "cell_type": "markdown",
   "id": "123456",
   "metadata": {},
   "source": [
    "<div style=\"text-align:left;font-size:2em\"><span style=\"font-weight:bolder;font-size:1.25em\">SP2273 | Learning Portfolio</span><br><br><span style=\"font-weight:bold;color:darkred\">Loops (Need)</span></div>"
   ]
  },
  {
   "attachments": {},
   "cell_type": "markdown",
   "id": "cadbe9ab",
   "metadata": {},
   "source": [
    "# What to expect in this chapter"
   ]
  },
  {
   "cell_type": "markdown",
   "id": "c4c0fa47-e821-469c-934e-62c8ec6aa7d8",
   "metadata": {},
   "source": [
    "There are two mechanisms for **looping**: the `for` statements and the `while` statements."
   ]
  },
  {
   "attachments": {},
   "cell_type": "markdown",
   "id": "a68e5949",
   "metadata": {},
   "source": [
    "# 1 The for iterator"
   ]
  },
  {
   "cell_type": "markdown",
   "id": "b09fcc34-f137-4803-af54-e6074157fead",
   "metadata": {},
   "source": [
    "`for` loops are useful in many ways. Let's say we want to print out all of the names of the superheroes in a list shown below."
   ]
  },
  {
   "cell_type": "code",
   "execution_count": 1,
   "id": "b000c445-5362-4732-9182-c16335b9d133",
   "metadata": {},
   "outputs": [],
   "source": [
    "real_names = [\"Natasha Romanoff\", \"Tony Stark\", \"Stephen Strange\"]"
   ]
  },
  {
   "cell_type": "markdown",
   "id": "6080d100-80a4-47f2-b605-38c735e71c20",
   "metadata": {},
   "source": [
    "We can do it manually by indexing, but this way of coding is:\n",
    "1. Inefficient, because the code is very long\n",
    "2. Tiring, because imagine if you have to do 100 names and one error will require you to make changes 100 times\n",
    "3. Error prone, because there are more chances of you making an error"
   ]
  },
  {
   "cell_type": "code",
   "execution_count": 2,
   "id": "61a6d89e-469d-4faf-bc7a-d95784b2b4fa",
   "metadata": {},
   "outputs": [
    {
     "name": "stdout",
     "output_type": "stream",
     "text": [
      "Natasha Romanoff is a Marvel superhero!\n",
      "Tony Stark is a Marvel superhero!\n",
      "Stephen Strange is a Marvel superhero!\n"
     ]
    }
   ],
   "source": [
    "name=real_names[0]\n",
    "print(f\"{name} is a Marvel superhero!\")\n",
    "\n",
    "name=real_names[1]\n",
    "print(f\"{name} is a Marvel superhero!\")\n",
    "\n",
    "name=real_names[2]\n",
    "print(f\"{name} is a Marvel superhero!\")"
   ]
  },
  {
   "cell_type": "markdown",
   "id": "a860540f-d317-49d3-a47c-c9452e14bb13",
   "metadata": {},
   "source": [
    "<p></p>"
   ]
  },
  {
   "attachments": {},
   "cell_type": "markdown",
   "id": "f4b5fceb",
   "metadata": {},
   "source": [
    "## 1.1 for with a list"
   ]
  },
  {
   "cell_type": "markdown",
   "id": "c8d14f2b-1e74-4e62-8fdf-48088ddad6ab",
   "metadata": {},
   "source": [
    "We can use `for` loops for this task."
   ]
  },
  {
   "cell_type": "code",
   "execution_count": 7,
   "id": "2ad7542f-9e0f-4826-ace4-82739e563bae",
   "metadata": {},
   "outputs": [
    {
     "name": "stdout",
     "output_type": "stream",
     "text": [
      "Natasha Romanoff is a Marvel superhero!\n",
      "Tony Stark is a Marvel superhero!\n",
      "Stephen Strange is a Marvel superhero!\n"
     ]
    }
   ],
   "source": [
    "for i in real_names:\n",
    "    print(f\"{i} is a Marvel superhero!\")"
   ]
  },
  {
   "cell_type": "markdown",
   "id": "111c6197-378f-496b-9b21-49b29c917edb",
   "metadata": {},
   "source": [
    "<p></p>"
   ]
  },
  {
   "cell_type": "markdown",
   "id": "657b3403-778b-4306-983c-f3a0192be177",
   "metadata": {},
   "source": [
    "Notice the structure of the `for` loops:\n",
    "1. It uses a variable (`i` in this case) as elements in the list and runs through the block of code assigned to the `for` loop for each element.\n",
    "2. The block of code is assigned to the `for` loop by `:` and `Tab`, just like `if` statements.\n",
    "\n",
    "*Note: The name of the variable does not matter. It is `i` here, but it can `x`, or `t` or `isbcijfoiwejfj`. Just ensure that it is not a Python function, but usually we keep it to just simple things like a letter (or simple words to improve the readability of the code) to make it easier to type the code."
   ]
  },
  {
   "cell_type": "code",
   "execution_count": 6,
   "id": "fcbc31e3-4728-4333-93e8-3ba9a4273de9",
   "metadata": {},
   "outputs": [
    {
     "name": "stdout",
     "output_type": "stream",
     "text": [
      "Natasha Romanoff is a Marvel superhero!\n",
      "Tony Stark is a Marvel superhero!\n",
      "Stephen Strange is a Marvel superhero!\n"
     ]
    }
   ],
   "source": [
    "for sadjieiuwdheu in real_names:                                #Name of the variable can be anything\n",
    "    print(f\"{sadjieiuwdheu} is a Marvel superhero!\")            #This yields the same result"
   ]
  },
  {
   "cell_type": "markdown",
   "id": "c8eda691-eb09-4347-845a-4f982af929a2",
   "metadata": {},
   "source": [
    "<p></p>"
   ]
  },
  {
   "attachments": {},
   "cell_type": "markdown",
   "id": "9332f957",
   "metadata": {},
   "source": [
    "## 1.2 for with enumerate"
   ]
  },
  {
   "cell_type": "markdown",
   "id": "1e60274f-c5d0-42af-9179-a1c881981ffe",
   "metadata": {},
   "source": [
    "The function `enumerate` is used for counting elements in a list. In this way, we can also view it as `enumerate` keeping track of the index numbers of the elements in the list that is running through the block of code in a `for` loop. For example:"
   ]
  },
  {
   "cell_type": "code",
   "execution_count": 10,
   "id": "c6b13a37-f130-40a7-ae34-7f945ea293b2",
   "metadata": {},
   "outputs": [
    {
     "name": "stdout",
     "output_type": "stream",
     "text": [
      "0: Natasha Romanoff is a Marvel superhero!\n",
      "1: Tony Stark is a Marvel superhero!\n",
      "2: Stephen Strange is a Marvel superhero!\n"
     ]
    }
   ],
   "source": [
    "for index, name in enumerate(real_names):\n",
    "    print(f\"{index}: {name} is a Marvel superhero!\")"
   ]
  },
  {
   "cell_type": "markdown",
   "id": "48e22261-5d6f-4dfb-93d4-5e3fbb4fcffd",
   "metadata": {},
   "source": [
    "In the above example, the index number of the elements in `real_names` are displayed. `enumerate` 'counts' from 0 (the first index number) to 2 (the last index number).\n",
    "\n",
    "`enumerate` can also start counting from numbers other than 0. In the example below, the `100` argument in `enumerate` causes `enumerate` to count from 100 to 102."
   ]
  },
  {
   "cell_type": "code",
   "execution_count": 11,
   "id": "c5f4bb1f-31b3-408a-a001-7e586aebd7bd",
   "metadata": {},
   "outputs": [
    {
     "name": "stdout",
     "output_type": "stream",
     "text": [
      "100: Natasha Romanoff is a Marvel superhero!\n",
      "101: Tony Stark is a Marvel superhero!\n",
      "102: Stephen Strange is a Marvel superhero!\n"
     ]
    }
   ],
   "source": [
    "for index, name in enumerate(real_names, 100):\n",
    "    print(f\"{index}: {name} is a Marvel superhero!\")"
   ]
  },
  {
   "cell_type": "markdown",
   "id": "9af8c3b3-c216-4a6a-b9d6-4503b5de3df0",
   "metadata": {},
   "source": [
    "<p></p>"
   ]
  },
  {
   "cell_type": "markdown",
   "id": "56efc964-a87b-492f-bcb3-0e9e57c8c24c",
   "metadata": {},
   "source": [
    "`for` loops only accept one list. To use data from two separate lists in one `for` loop, we need to use `enumerate`. See below for an example."
   ]
  },
  {
   "cell_type": "code",
   "execution_count": null,
   "id": "1db79b7e-462b-4fb1-acfa-84bfbf5f914b",
   "metadata": {},
   "outputs": [],
   "source": []
  },
  {
   "attachments": {},
   "cell_type": "markdown",
   "id": "1917e720",
   "metadata": {},
   "source": [
    "## 1.3 for with range"
   ]
  },
  {
   "attachments": {},
   "cell_type": "markdown",
   "id": "fb46a426",
   "metadata": {},
   "source": [
    "# 2 while"
   ]
  }
 ],
 "metadata": {
  "kernelspec": {
   "display_name": "Python 3 (ipykernel)",
   "language": "python",
   "name": "python3"
  },
  "language_info": {
   "codemirror_mode": {
    "name": "ipython",
    "version": 3
   },
   "file_extension": ".py",
   "mimetype": "text/x-python",
   "name": "python",
   "nbconvert_exporter": "python",
   "pygments_lexer": "ipython3",
   "version": "3.11.5"
  },
  "toc": {
   "base_numbering": 1,
   "nav_menu": {},
   "number_sections": true,
   "sideBar": true,
   "skip_h1_title": false,
   "title_cell": "Table of Contents",
   "title_sidebar": "Contents",
   "toc_cell": false,
   "toc_position": {},
   "toc_section_display": true,
   "toc_window_display": false
  },
  "vscode": {
   "interpreter": {
    "hash": "31f2aee4e71d21fbe5cf8b01ff0e069b9275f58929596ceb00d14d90e3e16cd6"
   }
  }
 },
 "nbformat": 4,
 "nbformat_minor": 5
}
