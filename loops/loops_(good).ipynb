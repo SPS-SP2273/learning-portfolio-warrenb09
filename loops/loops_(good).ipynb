{
 "cells": [
  {
   "attachments": {},
   "cell_type": "markdown",
   "id": "123456",
   "metadata": {},
   "source": [
    "<div style=\"text-align:left;font-size:2em\"><span style=\"font-weight:bolder;font-size:1.25em\">SP2273 | Learning Portfolio</span><br><br><span style=\"font-weight:bold;color:darkred\">Loops (Good)</span></div>"
   ]
  },
  {
   "attachments": {},
   "cell_type": "markdown",
   "id": "6b4c6749",
   "metadata": {},
   "source": [
    "# What to expect in this chapter"
   ]
  },
  {
   "attachments": {},
   "cell_type": "markdown",
   "id": "3fd5ee5c",
   "metadata": {},
   "source": [
    "# 1 Interrupting the flow"
   ]
  },
  {
   "cell_type": "markdown",
   "id": "d9ac728f-527c-4dbe-bf7f-e843d397ed93",
   "metadata": {},
   "source": [
    "We can change the flow of a loop by using the `break` and `continue` commands."
   ]
  },
  {
   "cell_type": "markdown",
   "id": "95b57516-9791-4deb-9292-e56ed9bfe70f",
   "metadata": {},
   "source": [
    "<p></p>"
   ]
  },
  {
   "cell_type": "markdown",
   "id": "9c94bb80-9a9d-4175-94fc-ed795aa83e82",
   "metadata": {},
   "source": [
    "**`break`**"
   ]
  },
  {
   "cell_type": "markdown",
   "id": "f2b8ea87-edf9-4702-856e-6703bcd8cbf0",
   "metadata": {},
   "source": [
    "`break` will completely stop the loop after a certain condition is reached. We usually pair this with an `if` statement to specify what the condition is."
   ]
  },
  {
   "cell_type": "code",
   "execution_count": 4,
   "id": "bdbac407-5193-4df3-9545-eeac26e1350b",
   "metadata": {},
   "outputs": [
    {
     "name": "stdout",
     "output_type": "stream",
     "text": [
      "0 1\n",
      "1 10\n",
      "2 100\n",
      "3 1000\n"
     ]
    }
   ],
   "source": [
    "for i in range(5):\n",
    "    x = 10 ** i\n",
    "    if x > 5000:           #When x > 5000, the loop stops\n",
    "        break\n",
    "    print(i, x)"
   ]
  },
  {
   "cell_type": "markdown",
   "id": "a8ca4a19-1cdb-4113-9388-9288007ee49b",
   "metadata": {},
   "source": [
    "<p></p>"
   ]
  },
  {
   "cell_type": "markdown",
   "id": "a0ce812a-f7ad-4400-b01e-1afdc05b8fdf",
   "metadata": {},
   "source": [
    "`break` also works with `while` loops. See below."
   ]
  },
  {
   "cell_type": "code",
   "execution_count": null,
   "id": "a1d7df8b-a13f-4029-9f3b-9b7e31b6b09a",
   "metadata": {},
   "outputs": [],
   "source": [
    "import numpy as np\n",
    "\n",
    "array1 = np.array([5, 10, 15, 20, 25])\n",
    "\n",
    "while True:\n",
    "    array1 += 5\n",
    "    if i in array1 == 100:\n",
    "        break\n",
    "\n",
    "print(array1)"
   ]
  },
  {
   "cell_type": "markdown",
   "id": "d5cbb087-484b-4d9d-acb7-df91b623a919",
   "metadata": {},
   "source": [
    "<p></p>"
   ]
  },
  {
   "cell_type": "markdown",
   "id": "37b8f744-2fbf-4e4c-84dd-93243335765a",
   "metadata": {},
   "source": [
    "**`continue`**"
   ]
  },
  {
   "cell_type": "markdown",
   "id": "c12e6623-7a41-40e8-83eb-f3287ed0d0fa",
   "metadata": {},
   "source": [
    "`continue` skips one loop when a certain condition is reached, but subsequent loops still continue. We usually also pair this with an `if` statement like `break`."
   ]
  },
  {
   "cell_type": "code",
   "execution_count": 13,
   "id": "9a616f88-b830-49b8-920a-1dd6b4c9b6ae",
   "metadata": {},
   "outputs": [
    {
     "name": "stdout",
     "output_type": "stream",
     "text": [
      "1\n",
      "3\n",
      "5\n",
      "7\n",
      "9\n"
     ]
    }
   ],
   "source": [
    "for i in range(10):\n",
    "    if i % 2 == 0:            #If i is divisible by 2, the loop is skipped and the subsequent loop continues\n",
    "        continue\n",
    "    print(i)"
   ]
  },
  {
   "cell_type": "markdown",
   "id": "a8492dd0-e236-44e0-a972-ce140e9c7281",
   "metadata": {},
   "source": [
    "*Note: this also works with `while` loops"
   ]
  },
  {
   "attachments": {},
   "cell_type": "markdown",
   "id": "8e284824",
   "metadata": {},
   "source": [
    "# 2 List comprehension!"
   ]
  },
  {
   "attachments": {},
   "cell_type": "markdown",
   "id": "6cc44e13",
   "metadata": {},
   "source": [
    "## 2.1 Basic syntax"
   ]
  },
  {
   "attachments": {},
   "cell_type": "markdown",
   "id": "afec3206",
   "metadata": {},
   "source": [
    "## 2.2 List comprehension with conditions"
   ]
  },
  {
   "attachments": {},
   "cell_type": "markdown",
   "id": "f2c9eff5",
   "metadata": {},
   "source": [
    "# 3 Other useful stuff"
   ]
  },
  {
   "attachments": {},
   "cell_type": "markdown",
   "id": "a878c73b",
   "metadata": {},
   "source": [
    "## 3.1 for with unpacking"
   ]
  },
  {
   "attachments": {},
   "cell_type": "markdown",
   "id": "d819e434",
   "metadata": {},
   "source": [
    "## 3.2 for with zip()"
   ]
  },
  {
   "attachments": {},
   "cell_type": "markdown",
   "id": "a60d0d0c",
   "metadata": {},
   "source": [
    "## 3.3 for with dictionaries"
   ]
  },
  {
   "attachments": {},
   "cell_type": "markdown",
   "id": "f1018507",
   "metadata": {},
   "source": [
    "## Footnotes"
   ]
  }
 ],
 "metadata": {
  "kernelspec": {
   "display_name": "Python 3 (ipykernel)",
   "language": "python",
   "name": "python3"
  },
  "language_info": {
   "codemirror_mode": {
    "name": "ipython",
    "version": 3
   },
   "file_extension": ".py",
   "mimetype": "text/x-python",
   "name": "python",
   "nbconvert_exporter": "python",
   "pygments_lexer": "ipython3",
   "version": "3.11.5"
  },
  "toc": {
   "base_numbering": 1,
   "nav_menu": {},
   "number_sections": true,
   "sideBar": true,
   "skip_h1_title": false,
   "title_cell": "Table of Contents",
   "title_sidebar": "Contents",
   "toc_cell": false,
   "toc_position": {},
   "toc_section_display": true,
   "toc_window_display": false
  },
  "vscode": {
   "interpreter": {
    "hash": "31f2aee4e71d21fbe5cf8b01ff0e069b9275f58929596ceb00d14d90e3e16cd6"
   }
  }
 },
 "nbformat": 4,
 "nbformat_minor": 5
}
