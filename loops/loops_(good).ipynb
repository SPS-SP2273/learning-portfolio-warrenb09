{
 "cells": [
  {
   "attachments": {},
   "cell_type": "markdown",
   "id": "123456",
   "metadata": {},
   "source": [
    "<div style=\"text-align:left;font-size:2em\"><span style=\"font-weight:bolder;font-size:1.25em\">SP2273 | Learning Portfolio</span><br><br><span style=\"font-weight:bold;color:darkred\">Loops (Good)</span></div>"
   ]
  },
  {
   "attachments": {},
   "cell_type": "markdown",
   "id": "6b4c6749",
   "metadata": {},
   "source": [
    "# What to expect in this chapter"
   ]
  },
  {
   "attachments": {},
   "cell_type": "markdown",
   "id": "3fd5ee5c",
   "metadata": {},
   "source": [
    "# Interrupting the flow"
   ]
  },
  {
   "cell_type": "markdown",
   "id": "d9ac728f-527c-4dbe-bf7f-e843d397ed93",
   "metadata": {},
   "source": [
    "We can change the flow of a loop by using the `break` and `continue` commands."
   ]
  },
  {
   "cell_type": "markdown",
   "id": "95b57516-9791-4deb-9292-e56ed9bfe70f",
   "metadata": {},
   "source": [
    "<p></p>"
   ]
  },
  {
   "cell_type": "markdown",
   "id": "9c94bb80-9a9d-4175-94fc-ed795aa83e82",
   "metadata": {},
   "source": [
    "**`break`**"
   ]
  },
  {
   "cell_type": "markdown",
   "id": "f2b8ea87-edf9-4702-856e-6703bcd8cbf0",
   "metadata": {},
   "source": [
    "`break` will completely stop the loop after a certain condition is reached. We usually pair this with an `if` statement to specify what the condition is."
   ]
  },
  {
   "cell_type": "code",
   "execution_count": 19,
   "id": "bdbac407-5193-4df3-9545-eeac26e1350b",
   "metadata": {},
   "outputs": [
    {
     "name": "stdout",
     "output_type": "stream",
     "text": [
      "0 1\n",
      "1 10\n",
      "2 100\n",
      "3 1000\n"
     ]
    }
   ],
   "source": [
    "for i in range(5):\n",
    "    x = 10 ** i\n",
    "    if x > 5000:           #When x > 5000, the loop stops\n",
    "        break\n",
    "    print(i, x)"
   ]
  },
  {
   "cell_type": "markdown",
   "id": "a8ca4a19-1cdb-4113-9388-9288007ee49b",
   "metadata": {},
   "source": [
    "<p></p>"
   ]
  },
  {
   "cell_type": "markdown",
   "id": "a0ce812a-f7ad-4400-b01e-1afdc05b8fdf",
   "metadata": {},
   "source": [
    "`break` also works with `while` loops. See below."
   ]
  },
  {
   "cell_type": "code",
   "execution_count": 23,
   "id": "a1d7df8b-a13f-4029-9f3b-9b7e31b6b09a",
   "metadata": {},
   "outputs": [
    {
     "name": "stdout",
     "output_type": "stream",
     "text": [
      "1\n",
      "2\n",
      "3\n",
      "4\n",
      "5\n",
      "6\n",
      "7\n",
      "8\n",
      "9\n"
     ]
    }
   ],
   "source": [
    "x = 0\n",
    "\n",
    "while True:\n",
    "    x += 1\n",
    "    if x == 10:\n",
    "        break\n",
    "    print(x)"
   ]
  },
  {
   "cell_type": "markdown",
   "id": "d5cbb087-484b-4d9d-acb7-df91b623a919",
   "metadata": {},
   "source": [
    "<p></p>"
   ]
  },
  {
   "cell_type": "markdown",
   "id": "37b8f744-2fbf-4e4c-84dd-93243335765a",
   "metadata": {},
   "source": [
    "**`continue`**"
   ]
  },
  {
   "cell_type": "markdown",
   "id": "c12e6623-7a41-40e8-83eb-f3287ed0d0fa",
   "metadata": {},
   "source": [
    "`continue` skips one loop when a certain condition is reached, but subsequent loops still continue. We usually also pair this with an `if` statement like `break`."
   ]
  },
  {
   "cell_type": "code",
   "execution_count": 13,
   "id": "9a616f88-b830-49b8-920a-1dd6b4c9b6ae",
   "metadata": {},
   "outputs": [
    {
     "name": "stdout",
     "output_type": "stream",
     "text": [
      "1\n",
      "3\n",
      "5\n",
      "7\n",
      "9\n"
     ]
    }
   ],
   "source": [
    "for i in range(10):\n",
    "    if i % 2 == 0:            #If i is divisible by 2, the loop is skipped and the subsequent loop continues\n",
    "        continue\n",
    "    print(i)"
   ]
  },
  {
   "cell_type": "markdown",
   "id": "0458e26b-78b4-4e16-b430-29b5c665f14e",
   "metadata": {},
   "source": [
    "<p></p>"
   ]
  },
  {
   "cell_type": "markdown",
   "id": "a8492dd0-e236-44e0-a972-ce140e9c7281",
   "metadata": {},
   "source": [
    "`continue` also works with `while` loops. See below."
   ]
  },
  {
   "cell_type": "code",
   "execution_count": 26,
   "id": "7643b29c-c105-47b0-9727-f4f4c51abefe",
   "metadata": {},
   "outputs": [
    {
     "name": "stdout",
     "output_type": "stream",
     "text": [
      "1\n",
      "2\n",
      "4\n",
      "5\n"
     ]
    }
   ],
   "source": [
    "x = 0\n",
    "\n",
    "while x < 5:\n",
    "    x += 1\n",
    "    if x == 3:\n",
    "        continue\n",
    "    print(x)"
   ]
  },
  {
   "attachments": {},
   "cell_type": "markdown",
   "id": "8e284824",
   "metadata": {},
   "source": [
    "# List comprehension!"
   ]
  },
  {
   "cell_type": "markdown",
   "id": "4f2818ed-01d2-41a2-aa8e-6691c48b6663",
   "metadata": {},
   "source": [
    "Python has an optimised syntax called `list comprehension` to quickly create new lists from existing lists."
   ]
  },
  {
   "attachments": {},
   "cell_type": "markdown",
   "id": "6cc44e13",
   "metadata": {},
   "source": [
    "## Basic syntax"
   ]
  },
  {
   "cell_type": "markdown",
   "id": "63c71b95-b1ac-4fb1-8a17-bf45445ca2a9",
   "metadata": {},
   "source": [
    "The syntax is very similar to `for` loops: `[X for Y in list]`, where `X` is what we want to include in the new list (must be connected in some way to `Y`, e.g. `X` is `2Y`), `Y` is the variable name for elements in the existing list, and `list` is the name of the existing list that is used to create new lists."
   ]
  },
  {
   "cell_type": "markdown",
   "id": "bd130757-d4ac-4d41-8cef-08050bf66dde",
   "metadata": {},
   "source": [
    "<p></p>"
   ]
  },
  {
   "cell_type": "markdown",
   "id": "696e9f04-1b20-4aed-a1d4-0c832ce7d5da",
   "metadata": {},
   "source": [
    "**Example 1**"
   ]
  },
  {
   "cell_type": "markdown",
   "id": "9899d38c-2cc6-4e0a-9531-08b3a06f0214",
   "metadata": {},
   "source": [
    "We can create a list of numbers using `range()` as the existing list (this works because we are technically still using a `for` loop)."
   ]
  },
  {
   "cell_type": "code",
   "execution_count": 27,
   "id": "59ba6273-3c39-455d-a00e-255de893f10c",
   "metadata": {},
   "outputs": [
    {
     "data": {
      "text/plain": [
       "[0, 1, 2, 3, 4]"
      ]
     },
     "execution_count": 27,
     "metadata": {},
     "output_type": "execute_result"
    }
   ],
   "source": [
    "[number for number in range(5)]"
   ]
  },
  {
   "cell_type": "markdown",
   "id": "dad8bc74-46f1-411e-87c1-d653046f1c7c",
   "metadata": {},
   "source": [
    "<p></p>"
   ]
  },
  {
   "cell_type": "markdown",
   "id": "b22ba8bb-fe6d-4a9b-86bf-a2bd2b7259f0",
   "metadata": {},
   "source": [
    "**Example 2**"
   ]
  },
  {
   "cell_type": "markdown",
   "id": "1349c420-ed74-41a2-98b8-7b0a965fea53",
   "metadata": {},
   "source": [
    "We can create some complicated stuff too; see below."
   ]
  },
  {
   "cell_type": "code",
   "execution_count": 29,
   "id": "f7361451-f746-43c2-a87a-5725b2143210",
   "metadata": {},
   "outputs": [
    {
     "data": {
      "text/plain": [
       "[60.0, 90.0, 108.0, 120.0, 128.57142857142858, 135.0, 140.0, 144.0]"
      ]
     },
     "execution_count": 29,
     "metadata": {},
     "output_type": "execute_result"
    }
   ],
   "source": [
    "[((n - 2) * 180) / n for n in range(3, 11)]       #Creates a list of interior angles of regular polygons, starting from triangle to decagon"
   ]
  },
  {
   "cell_type": "markdown",
   "id": "9e0cd1a8-fa8f-49e4-a0ba-1976d6b8e880",
   "metadata": {},
   "source": [
    "<p></p>"
   ]
  },
  {
   "attachments": {},
   "cell_type": "markdown",
   "id": "afec3206",
   "metadata": {},
   "source": [
    "## List comprehension with conditions"
   ]
  },
  {
   "cell_type": "markdown",
   "id": "a3855951-a06e-47a6-97e9-2ac6b6c7fb8a",
   "metadata": {},
   "source": [
    "We can also specify conditions of what we want to display in the new list. See below."
   ]
  },
  {
   "cell_type": "code",
   "execution_count": 32,
   "id": "cc600d12-2c48-409d-a3bd-533128974fdb",
   "metadata": {},
   "outputs": [
    {
     "data": {
      "text/plain": [
       "[3, 6, 9, 12, 15, 18]"
      ]
     },
     "execution_count": 32,
     "metadata": {},
     "output_type": "execute_result"
    }
   ],
   "source": [
    "[n for n in range(1, 20) if n % 3 == 0]           #Creates a list of numbers divisible by 3 from a range of 1 to 19"
   ]
  },
  {
   "cell_type": "markdown",
   "id": "17ff4e9e-ba56-4329-9c4b-f68ab9ad6d1b",
   "metadata": {},
   "source": [
    "<p></p>"
   ]
  },
  {
   "attachments": {},
   "cell_type": "markdown",
   "id": "f2c9eff5",
   "metadata": {},
   "source": [
    "# Other useful stuff"
   ]
  },
  {
   "attachments": {},
   "cell_type": "markdown",
   "id": "a878c73b",
   "metadata": {},
   "source": [
    "## for with unpacking"
   ]
  },
  {
   "attachments": {},
   "cell_type": "markdown",
   "id": "d819e434",
   "metadata": {},
   "source": [
    "## for with zip()"
   ]
  },
  {
   "attachments": {},
   "cell_type": "markdown",
   "id": "a60d0d0c",
   "metadata": {},
   "source": [
    "## for with dictionaries"
   ]
  },
  {
   "cell_type": "code",
   "execution_count": null,
   "id": "74f4bebd-d946-46b7-a5e5-18febbe30fb6",
   "metadata": {},
   "outputs": [],
   "source": []
  }
 ],
 "metadata": {
  "kernelspec": {
   "display_name": "Python 3 (ipykernel)",
   "language": "python",
   "name": "python3"
  },
  "language_info": {
   "codemirror_mode": {
    "name": "ipython",
    "version": 3
   },
   "file_extension": ".py",
   "mimetype": "text/x-python",
   "name": "python",
   "nbconvert_exporter": "python",
   "pygments_lexer": "ipython3",
   "version": "3.11.5"
  },
  "toc": {
   "base_numbering": 1,
   "nav_menu": {},
   "number_sections": true,
   "sideBar": true,
   "skip_h1_title": false,
   "title_cell": "Table of Contents",
   "title_sidebar": "Contents",
   "toc_cell": false,
   "toc_position": {},
   "toc_section_display": true,
   "toc_window_display": false
  },
  "vscode": {
   "interpreter": {
    "hash": "31f2aee4e71d21fbe5cf8b01ff0e069b9275f58929596ceb00d14d90e3e16cd6"
   }
  }
 },
 "nbformat": 4,
 "nbformat_minor": 5
}
