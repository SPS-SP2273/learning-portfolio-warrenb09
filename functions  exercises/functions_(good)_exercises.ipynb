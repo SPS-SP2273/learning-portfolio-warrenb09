{
 "cells": [
  {
   "attachments": {},
   "cell_type": "markdown",
   "id": "123456",
   "metadata": {},
   "source": [
    "<div style=\"text-align:left;font-size:2em\"><span style=\"font-weight:bolder;font-size:1.25em\">SP2273 | Learning Portfolio</span><br><br><span style=\"font-weight:bold;color:darkred\">Functions (Good) Exercises</span></div>"
   ]
  },
  {
   "cell_type": "markdown",
   "id": "532cdedd-4abe-40d3-9806-05435894b8ef",
   "metadata": {},
   "source": [
    "**Exercise 1**"
   ]
  },
  {
   "cell_type": "code",
   "execution_count": 11,
   "id": "0c51938c-8475-4653-bc95-805c0d4b1bfe",
   "metadata": {},
   "outputs": [
    {
     "name": "stdout",
     "output_type": "stream",
     "text": [
      " 30.0 degrees C in Fahrenheit is 86.0 degrees F.\n",
      " 30.0 degrees C in Kelvin is 303.15 K.\n"
     ]
    }
   ],
   "source": [
    "def convert_celsius(temperature_celsius, target_scale = \"Fahrenheit\"):\n",
    "    if target_scale == \"Kelvin\":\n",
    "        temperature_kelvin = temperature_celsius + 273.15\n",
    "        return f\"{temperature_celsius: .1f} degrees C in Kelvin is {temperature_kelvin: .2f} K.\"\n",
    "    else:\n",
    "        temperature_fahrenheit = (temperature_celsius * (9/5)) + 32\n",
    "        return f\"{temperature_celsius: .1f} degrees C in Fahrenheit is {temperature_fahrenheit} degrees F.\"\n",
    "\n",
    "print(convert_celsius(30))\n",
    "print(convert_celsius(30, \"Kelvin\"))"
   ]
  },
  {
   "cell_type": "markdown",
   "id": "d7402e62-21c1-45ae-88a2-56472460b473",
   "metadata": {},
   "source": [
    "<p></p>"
   ]
  },
  {
   "cell_type": "markdown",
   "id": "0266225d-7f57-4fa3-b806-3342b6c41eb9",
   "metadata": {},
   "source": [
    "**Exercise 2**"
   ]
  },
  {
   "cell_type": "code",
   "execution_count": 13,
   "id": "ad964840-9040-4b30-a382-f2df310fe80b",
   "metadata": {},
   "outputs": [
    {
     "name": "stdout",
     "output_type": "stream",
     "text": [
      " 30.0 degrees F in Celsius is -1.1 degrees C.\n",
      " 30.0 degrees F in Kelvin is  272.04 K.\n"
     ]
    }
   ],
   "source": [
    "def convert_fahrenheit(temperature_fahrenheit, target_scale = \"Celsius\"):\n",
    "    if target_scale == \"Kelvin\":\n",
    "        temperature_kelvin = (temperature_fahrenheit - 32) * (5/9) + 273.15\n",
    "        return f\"{temperature_fahrenheit: .1f} degrees F in Kelvin is {temperature_kelvin: .2f} K.\"\n",
    "    else:\n",
    "        temperature_celsius = (temperature_fahrenheit - 32) * (5/9)\n",
    "        return f\"{temperature_fahrenheit: .1f} degrees F in Celsius is {temperature_celsius: .1f} degrees C.\"\n",
    "\n",
    "print(convert_fahrenheit(30))\n",
    "print(convert_fahrenheit(30, \"Kelvin\"))"
   ]
  },
  {
   "cell_type": "markdown",
   "id": "ea8e24ee-0499-490e-93ff-54eafe4ef455",
   "metadata": {},
   "source": [
    "<p></p>"
   ]
  },
  {
   "cell_type": "markdown",
   "id": "15c7f2fc-406f-4041-8ea0-b18971023739",
   "metadata": {},
   "source": [
    "**Exercise 3**"
   ]
  },
  {
   "cell_type": "code",
   "execution_count": 20,
   "id": "e2a3ef23-f230-4cf6-90f7-c69c5e2c9df3",
   "metadata": {},
   "outputs": [
    {
     "data": {
      "text/plain": [
       "' 30.0 K in Celsius is -243.1 degrees C.'"
      ]
     },
     "execution_count": 20,
     "metadata": {},
     "output_type": "execute_result"
    }
   ],
   "source": [
    "def convert_kelvin(temperature_kelvin, target_scale = \"Celsius\"):\n",
    "    if target_scale == \"Fahrenheit\":\n",
    "        temperature_fahrenheit = (temperature_kelvin - 273.15) * (9/5) + 32\n",
    "        return f\"{temperature_kelvin: .1f} K in Fahrenheit is {temperature_fahrenheit: .1f} degrees F.\"\n",
    "    else:\n",
    "        temperature_celsius = temperature_kelvin - 273.15\n",
    "        return f\"{temperature_kelvin: .1f} K in Celsius is {temperature_celsius: .1f} degrees C.\"\n",
    "\n",
    "def convert_temperature(temperature, source_scale, target_scale):\n",
    "    if source_scale == \"Celsius\":\n",
    "        if target_scale == \"Kelvin\":\n",
    "            return convert_celsius(temperature, \"Kelvin\")\n",
    "        elif target_scale == \"Fahrenheit\":\n",
    "            return convert_celsius(temperature)\n",
    "    elif source_scale == \"Fahrenheit\":\n",
    "        if target_scale == \"Kelvin\":\n",
    "            return convert_fahrenheit(temperature, \"Kelvin\")\n",
    "        elif target_scale == \"Celsius\":\n",
    "            return convert_fahrenheit(temperature)\n",
    "    elif source_scale == \"Kelvin\":\n",
    "        if target_scale == \"Celsius\":\n",
    "            return convert_kelvin(temperature)\n",
    "        elif target_scale == \"Fahrenheit\":\n",
    "            return convert_kelvin(temperature, \"Fahrenheit\")\n",
    "\n",
    "convert_temperature(30, \"Kelvin\", \"Celsius\")"
   ]
  }
 ],
 "metadata": {
  "kernelspec": {
   "display_name": "Python 3 (ipykernel)",
   "language": "python",
   "name": "python3"
  },
  "language_info": {
   "codemirror_mode": {
    "name": "ipython",
    "version": 3
   },
   "file_extension": ".py",
   "mimetype": "text/x-python",
   "name": "python",
   "nbconvert_exporter": "python",
   "pygments_lexer": "ipython3",
   "version": "3.11.5"
  },
  "toc": {
   "base_numbering": 1,
   "nav_menu": {},
   "number_sections": true,
   "sideBar": true,
   "skip_h1_title": false,
   "title_cell": "Table of Contents",
   "title_sidebar": "Contents",
   "toc_cell": false,
   "toc_position": {},
   "toc_section_display": true,
   "toc_window_display": false
  },
  "vscode": {
   "interpreter": {
    "hash": "31f2aee4e71d21fbe5cf8b01ff0e069b9275f58929596ceb00d14d90e3e16cd6"
   }
  }
 },
 "nbformat": 4,
 "nbformat_minor": 5
}
