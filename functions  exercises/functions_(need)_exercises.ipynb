{
 "cells": [
  {
   "attachments": {},
   "cell_type": "markdown",
   "id": "123456",
   "metadata": {},
   "source": [
    "<div style=\"text-align:left;font-size:2em\"><span style=\"font-weight:bolder;font-size:1.25em\">SP2273 | Learning Portfolio</span><br><br><span style=\"font-weight:bold;color:darkred\">Functions (Need) Exercises</span></div>"
   ]
  },
  {
   "cell_type": "markdown",
   "id": "7d1d7ad3-f561-4829-852b-6b7697c3dbe3",
   "metadata": {},
   "source": [
    "**Exercise 1**"
   ]
  },
  {
   "cell_type": "markdown",
   "id": "116692e1-2e21-4725-9a4a-4b8a6e6c95a1",
   "metadata": {},
   "source": [
    "Not all `if` statements need an `else` statement. An `if` statement that does not have an `else` statement simply will be ignored by Python if the condition attached to it is not fulfilled.\n",
    "\n",
    "In the `def` command in the code, if the condition `name == 'Batman'` is not fulfilled, the block of code associated with the `if` statement will be ignored by Python, and the code `return f'Hello {name}!'` will run instead."
   ]
  },
  {
   "cell_type": "markdown",
   "id": "e0790b9a-4fb1-4f69-9446-d04556d15021",
   "metadata": {},
   "source": [
    "<p></p>"
   ]
  },
  {
   "cell_type": "markdown",
   "id": "dfba2eef-6b43-465f-ace7-63d3e9403019",
   "metadata": {},
   "source": [
    "**Exercise 2**"
   ]
  },
  {
   "cell_type": "code",
   "execution_count": 19,
   "id": "a91a0181-3286-47e5-b653-366f393e4a36",
   "metadata": {},
   "outputs": [
    {
     "name": "stdin",
     "output_type": "stream",
     "text": [
      "Input your weight, in kilograms:  65\n",
      "Input your height, in meters:  1.635\n"
     ]
    },
    {
     "name": "stdout",
     "output_type": "stream",
     "text": [
      "Your BMI is 24.3. Your category is normal weight.\n"
     ]
    }
   ],
   "source": [
    "def calculate_bmi(weight, height):\n",
    "    BMI = round(weight / (height ** 2), 1)\n",
    "    if BMI < 18.5:\n",
    "        return f\"Your BMI is {BMI}. Your category is underweight.\"\n",
    "    elif 18.5 <= BMI <= 24.9:\n",
    "        return f\"Your BMI is {BMI}. Your category is normal weight.\"\n",
    "    elif 25 <= BMI <= 29.9:\n",
    "        return f\"Your BMI is {BMI}. Your category is overweight.\"\n",
    "    else:\n",
    "        return f\"Your BMI is {BMI}. Your category is obese.\"\n",
    "\n",
    "try:\n",
    "    input_weight = float(input(\"Input your weight, in kilograms: \"))\n",
    "    input_height = float(input(\"Input your height, in meters: \"))\n",
    "    print(calculate_bmi(input_weight, input_height))\n",
    "except:\n",
    "    print(\"Please input a valid weight or height.\")"
   ]
  }
 ],
 "metadata": {
  "kernelspec": {
   "display_name": "Python 3 (ipykernel)",
   "language": "python",
   "name": "python3"
  },
  "language_info": {
   "codemirror_mode": {
    "name": "ipython",
    "version": 3
   },
   "file_extension": ".py",
   "mimetype": "text/x-python",
   "name": "python",
   "nbconvert_exporter": "python",
   "pygments_lexer": "ipython3",
   "version": "3.11.5"
  },
  "toc": {
   "base_numbering": 1,
   "nav_menu": {},
   "number_sections": true,
   "sideBar": true,
   "skip_h1_title": false,
   "title_cell": "Table of Contents",
   "title_sidebar": "Contents",
   "toc_cell": false,
   "toc_position": {},
   "toc_section_display": true,
   "toc_window_display": false
  },
  "vscode": {
   "interpreter": {
    "hash": "31f2aee4e71d21fbe5cf8b01ff0e069b9275f58929596ceb00d14d90e3e16cd6"
   }
  }
 },
 "nbformat": 4,
 "nbformat_minor": 5
}
