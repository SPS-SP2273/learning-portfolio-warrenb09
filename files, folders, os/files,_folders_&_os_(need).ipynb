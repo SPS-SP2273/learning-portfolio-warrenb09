{
 "cells": [
  {
   "attachments": {},
   "cell_type": "markdown",
   "id": "123456",
   "metadata": {},
   "source": [
    "<div style=\"text-align:left;font-size:2em\"><span style=\"font-weight:bolder;font-size:1.25em\">SP2273 | Learning Portfolio</span><br><br><span style=\"font-weight:bold;color:darkred\">Files, Folders & OS (Need)</span></div>"
   ]
  },
  {
   "attachments": {},
   "cell_type": "markdown",
   "id": "33717537",
   "metadata": {},
   "source": [
    "# What to expect in this chapter"
   ]
  },
  {
   "attachments": {},
   "cell_type": "markdown",
   "id": "cf38fc06",
   "metadata": {},
   "source": [
    "# 1 Important concepts"
   ]
  },
  {
   "attachments": {},
   "cell_type": "markdown",
   "id": "0a430fa4",
   "metadata": {},
   "source": [
    "## 1.1 Path"
   ]
  },
  {
   "cell_type": "markdown",
   "id": "2efebcfa-fd6e-4df0-bbe6-6f773daaec08",
   "metadata": {},
   "source": [
    "A **path** is a way to specify a location on a computer. It shows an address which directs you to a particular file or folder; it allows you to know how to find that particular file or folder in your computer.\n",
    "\n",
    "A path can be defined absolutely or relatively. When defined absolutely, the path is the full *address* of where a file or folder is, but when defined relatively, the path is the relative position of the file or folder with respect to another file or folder."
   ]
  },
  {
   "attachments": {},
   "cell_type": "markdown",
   "id": "569b999c",
   "metadata": {},
   "source": [
    "## 1.2 More about relative paths"
   ]
  },
  {
   "cell_type": "markdown",
   "id": "b059a625-8125-4c15-8671-afabfb0af894",
   "metadata": {},
   "source": [
    "With relative paths, we have to know about the `.` and `..` (dot) notation.\n",
    "\n",
    "The dot notations are to set a **reference point** for which you are going to use it for relative paths for other folders or files."
   ]
  },
  {
   "cell_type": "markdown",
   "id": "8d42467a-84f4-4e53-9dda-7a4dd34d4aae",
   "metadata": {},
   "source": [
    "|**Notation**|**Meaning**|**Example**|\n",
    "|:--:|:--:|:--:|\n",
    "|`.`|'this folder'|`.\\data-files\\data-01.txt` means `data-01.txt` in the `data-files` in the current folder|\n",
    "|`..`|'the folder above'|`..\\data-files\\data-01.txt` means `data-01.txt` in the `data-files` located in the folder above.|"
   ]
  },
  {
   "attachments": {},
   "cell_type": "markdown",
   "id": "d17907b6",
   "metadata": {},
   "source": [
    "### macOS or Linux"
   ]
  },
  {
   "cell_type": "markdown",
   "id": "01f8e12f-243a-4373-b41f-0b84baaf039a",
   "metadata": {},
   "source": [
    "macOS and Linux allows the use of the `~` notation to access our home directory (i.e. the main folder associated with a particular user in a computer).\n",
    "\n",
    "For example, `~/Downloads/file.txt` will access `file.txt` in the `Downloads` folder in the home directory."
   ]
  },
  {
   "attachments": {},
   "cell_type": "markdown",
   "id": "3410ef40",
   "metadata": {},
   "source": [
    "## 1.3 Path separator"
   ]
  },
  {
   "cell_type": "markdown",
   "id": "5b2eac66-f350-4d2c-978b-c5079c7c7052",
   "metadata": {},
   "source": [
    "A **path separator** is a character used to separate components in a path. The path separator for different OS is different. Note that the structure of the path is also different for different OS.\n",
    "\n",
    "|**OS**|**Path separator**|**Path to desktop**|\n",
    "|:--:|:--:|:--:|\n",
    "|Windows|`\\`|`C:\\\\Users\\Warren\\Desktop`|\n",
    "|macOS or Linux|`/`|`/Users/Warren/Desktop`|\n",
    "\n",
    "For a code involving paths, if we want it to work on all OS, we must not **hardcode** the path separators."
   ]
  },
  {
   "attachments": {},
   "cell_type": "markdown",
   "id": "a15626bb",
   "metadata": {},
   "source": [
    "## 1.4 Text files vs. Binary files"
   ]
  },
  {
   "cell_type": "markdown",
   "id": "592c08b8-099c-4fba-b905-72b6f74237be",
   "metadata": {},
   "source": [
    "All files in a computer can be categorised into two big categories: `text files` or `binary files`.\n",
    "\n",
    "`Text files` are files that can be opened and the contents of the file can be easily read by almost all softwares (e.g. Jupyter, Notepad, etc.). Examples of `text file` formats are `.txt`, `.md` and `.csv`.\n",
    "\n",
    "`Binary files` are files that require processing ebfore they can be read properly. For instance for a `.png` file, opening it in its raw form will give a string of binary numbers that do not make sense. Also, some `binary files` only run in specific OS."
   ]
  },
  {
   "attachments": {},
   "cell_type": "markdown",
   "id": "1427b1c4",
   "metadata": {},
   "source": [
    "## 1.5 Extensions"
   ]
  },
  {
   "cell_type": "markdown",
   "id": "aed433c1-4936-4689-a27c-35c06f6b8e24",
   "metadata": {},
   "source": [
    "Files are usually named in the form of `name.extension`. The **extension** `.extension` helps the computer decide which software is to be used to read the file. For example `.xlsx` will prompt Microsoft Excel to read the file.\n",
    "\n",
    "Note that you should be careful when changing the extensions, because it may raise an error when you try to read the contents of the file."
   ]
  },
  {
   "attachments": {},
   "cell_type": "markdown",
   "id": "19bb7a79",
   "metadata": {},
   "source": [
    "# 2 Opening and closing files"
   ]
  },
  {
   "attachments": {},
   "cell_type": "markdown",
   "id": "36578221",
   "metadata": {},
   "source": [
    "## 2.1 Reading data"
   ]
  },
  {
   "cell_type": "markdown",
   "id": "f006b1ea-2714-491b-ab4d-bebc2b08a3a1",
   "metadata": {},
   "source": [
    "We can read data in a file using `with` statements combined with the `open` function.\n",
    "\n",
    "The syntax for `open` is `open('file name', 'mode')`. The `mode` can be `r` (read only), `w` (write), `a` (append), etc, which decides what we can do to the opened file.\n",
    "\n",
    "For example, we open a file called `spectrum-01.txt`."
   ]
  },
  {
   "cell_type": "code",
   "execution_count": 1,
   "id": "3092903e-3e54-423c-80f0-56427fcd9e64",
   "metadata": {},
   "outputs": [
    {
     "name": "stdout",
     "output_type": "stream",
     "text": [
      "Light Intensity, Ch A vs Actual Angular Position, Run #4\n",
      "Actual Angular Position (  )\tLight Intensity, Ch A ( % max )\n",
      "0.000\t-0.2\n",
      "0.000\t-0.1\n",
      "0.000\t-0.1\n",
      "0.000\t-0.1\n",
      "0.000\t-0.1\n",
      "0.000\t-0.2\n",
      "0.000\t-0.1\n",
      "0.000\t-0.1\n",
      "0.000\t-0.1\n",
      "0.000\t-0.2\n",
      "0.000\t-0.1\n",
      "0.000\t-0.1\n",
      "0.000\t-0.2\n",
      "0.000\t-0.3\n",
      "0.000\t-0.2\n",
      "0.000\t-0.2\n",
      "0.001\t-0.1\n",
      "0.001\t-0.1\n",
      "0.001\t-0.1\n",
      "0.001\t-0.1\n",
      "0.001\t-0.1\n",
      "0.001\t-0.1\n",
      "0.004\t-0.1\n",
      "0.010\t-0.2\n",
      "0.018\t-0.2\n",
      "0.024\t-0.3\n",
      "0.029\t-0.3\n",
      "0.033\t-0.3\n",
      "0.036\t-0.2\n",
      "0.039\t-0.1\n",
      "0.043\t-0.1\n",
      "0.047\t-0.1\n",
      "0.053\t-0.1\n",
      "0.060\t-0.1\n",
      "0.066\t-0.1\n",
      "0.069\t-0.1\n",
      "0.073\t-0.1\n",
      "0.076\t-0.1\n",
      "0.079\t-0.1\n",
      "0.081\t-0.1\n",
      "0.082\t-0.1\n",
      "0.083\t-0.2\n",
      "0.083\t-0.2\n",
      "0.086\t-0.2\n",
      "0.090\t-0.2\n",
      "0.095\t-0.2\n",
      "0.100\t-0.3\n",
      "0.103\t-0.3\n",
      "0.104\t-0.2\n",
      "0.105\t-0.3\n",
      "0.107\t-0.2\n",
      "0.110\t-0.2\n",
      "0.115\t-0.1\n",
      "0.122\t-0.2\n",
      "0.128\t-0.1\n",
      "0.134\t-0.2\n",
      "0.139\t-0.1\n",
      "0.144\t-0.2\n",
      "0.150\t-0.2\n",
      "0.157\t-0.2\n",
      "0.164\t-0.2\n",
      "0.170\t-0.3\n",
      "0.175\t-0.3\n",
      "0.180\t-0.2\n",
      "0.185\t-0.2\n",
      "0.191\t-0.1\n",
      "0.195\t-0.1\n",
      "0.198\t-0.2\n",
      "0.201\t-0.1\n",
      "0.204\t-0.2\n",
      "0.206\t-0.2\n",
      "0.208\t-0.3\n",
      "0.210\t-0.3\n",
      "0.213\t-0.1\n",
      "0.217\t0.3\n",
      "0.222\t0.6\n",
      "0.226\t0.2\n",
      "0.230\t0.0\n",
      "0.233\t-0.1\n",
      "0.235\t-0.1\n",
      "0.237\t-0.1\n",
      "0.237\t-0.1\n",
      "0.238\t-0.1\n",
      "0.241\t-0.1\n",
      "0.245\t-0.1\n",
      "0.249\t-0.1\n",
      "0.252\t-0.1\n",
      "0.254\t-0.2\n",
      "0.257\t-0.2\n",
      "0.260\t-0.2\n",
      "0.263\t-0.3\n",
      "0.266\t-0.3\n",
      "0.269\t-0.2\n",
      "0.271\t-0.1\n",
      "0.274\t-0.1\n",
      "0.277\t-0.2\n",
      "0.279\t-0.1\n",
      "0.282\t-0.2\n",
      "0.285\t-0.1\n",
      "0.289\t-0.2\n",
      "0.292\t-0.2\n",
      "0.297\t-0.3\n",
      "0.300\t-0.2\n",
      "0.304\t-0.1\n",
      "0.307\t-0.1\n",
      "0.310\t-0.2\n",
      "0.312\t-0.1\n",
      "0.316\t-0.1\n",
      "0.320\t-0.2\n",
      "0.325\t-0.3\n",
      "0.330\t-0.2\n",
      "0.334\t-0.1\n",
      "0.336\t-0.1\n",
      "0.338\t-0.1\n",
      "0.340\t-0.1\n",
      "0.343\t-0.1\n",
      "0.346\t-0.2\n",
      "0.349\t-0.3\n",
      "0.353\t-0.1\n",
      "0.357\t-0.1\n",
      "0.362\t-0.1\n",
      "0.367\t-0.2\n",
      "0.369\t-0.1\n",
      "0.371\t-0.2\n",
      "0.371\t-0.1\n",
      "0.372\t-0.2\n",
      "0.372\t-0.2\n",
      "0.372\t-0.1\n",
      "0.373\t-0.2\n",
      "0.374\t-0.1\n",
      "0.376\t-0.2\n",
      "0.378\t-0.1\n",
      "0.380\t-0.2\n",
      "0.382\t-0.2\n",
      "0.384\t-0.2\n",
      "0.385\t-0.2\n",
      "0.386\t-0.2\n",
      "0.387\t-0.2\n",
      "0.389\t-0.3\n",
      "0.391\t-0.3\n",
      "0.394\t-0.2\n",
      "0.398\t-0.1\n",
      "0.401\t-0.1\n",
      "0.404\t-0.1\n",
      "0.405\t-0.1\n",
      "0.406\t-0.1\n",
      "0.408\t-0.1\n",
      "0.411\t-0.1\n",
      "0.414\t-0.2\n",
      "0.417\t-0.1\n",
      "0.420\t-0.2\n",
      "0.423\t-0.1\n",
      "0.425\t-0.2\n",
      "0.427\t-0.1\n",
      "0.430\t-0.1\n",
      "0.433\t-0.1\n",
      "0.437\t-0.2\n",
      "0.440\t-0.2\n",
      "0.443\t-0.1\n",
      "0.446\t-0.1\n",
      "0.449\t-0.1\n",
      "0.453\t-0.1\n",
      "0.458\t-0.1\n",
      "0.462\t-0.2\n",
      "0.466\t-0.2\n",
      "0.469\t-0.2\n",
      "0.472\t-0.3\n",
      "0.474\t-0.3\n",
      "0.477\t-0.2\n",
      "0.481\t-0.1\n",
      "0.486\t-0.1\n",
      "0.490\t-0.1\n",
      "0.493\t-0.1\n",
      "0.496\t0.0\n",
      "0.498\t0.0\n",
      "0.501\t-0.1\n",
      "0.503\t-0.1\n",
      "0.505\t-0.2\n",
      "0.507\t-0.3\n",
      "0.510\t-0.1\n",
      "0.513\t-0.1\n",
      "0.516\t-0.1\n",
      "0.519\t-0.1\n",
      "0.523\t-0.1\n",
      "0.526\t-0.1\n",
      "0.529\t-0.1\n",
      "0.533\t-0.1\n",
      "0.537\t-0.1\n",
      "0.541\t-0.2\n",
      "0.544\t-0.1\n",
      "0.547\t-0.1\n",
      "0.549\t-0.1\n",
      "0.551\t-0.1\n",
      "0.554\t-0.1\n",
      "0.557\t-0.1\n",
      "0.561\t-0.1\n",
      "0.564\t-0.1\n",
      "0.568\t-0.2\n",
      "0.572\t-0.2\n",
      "0.577\t-0.2\n",
      "0.581\t-0.1\n",
      "0.586\t0.0\n",
      "0.588\t0.0\n",
      "0.590\t-0.1\n",
      "0.592\t-0.1\n",
      "0.593\t-0.2\n",
      "0.596\t-0.2\n",
      "0.599\t-0.2\n",
      "0.602\t-0.2\n",
      "0.605\t-0.2\n",
      "0.606\t-0.2\n",
      "0.607\t-0.2\n",
      "0.609\t-0.1\n",
      "0.610\t-0.1\n",
      "0.613\t0.0\n",
      "0.615\t0.0\n",
      "0.617\t-0.1\n",
      "0.619\t-0.1\n",
      "0.622\t-0.2\n",
      "0.624\t-0.1\n",
      "0.626\t0.0\n",
      "0.629\t0.1\n",
      "0.632\t0.1\n",
      "0.634\t0.0\n",
      "0.637\t0.0\n",
      "0.639\t0.0\n",
      "0.641\t0.0\n",
      "0.643\t0.0\n",
      "0.645\t0.0\n",
      "0.648\t0.0\n",
      "0.650\t0.0\n",
      "0.653\t0.0\n",
      "0.656\t0.0\n",
      "0.658\t-0.1\n",
      "0.661\t-0.2\n",
      "0.663\t0.0\n",
      "0.666\t0.0\n",
      "0.670\t0.0\n",
      "0.676\t0.0\n",
      "0.680\t0.0\n",
      "0.684\t0.0\n",
      "0.686\t0.1\n",
      "0.686\t0.1\n",
      "0.687\t0.0\n",
      "0.689\t0.0\n",
      "0.693\t0.1\n",
      "0.697\t0.3\n",
      "0.701\t0.5\n",
      "0.703\t1.2\n",
      "0.705\t7.1\n",
      "0.707\t23.7\n",
      "0.709\t51.4\n",
      "0.710\t61.3\n",
      "0.712\t48.9\n",
      "0.714\t25.8\n",
      "0.715\t12.1\n",
      "0.717\t4.6\n",
      "0.718\t1.8\n",
      "0.721\t0.7\n",
      "0.723\t0.5\n",
      "0.724\t0.4\n",
      "0.726\t0.4\n",
      "0.727\t0.4\n",
      "0.728\t0.3\n",
      "0.730\t0.2\n",
      "0.732\t0.2\n",
      "0.735\t0.1\n",
      "0.737\t0.2\n",
      "0.740\t0.2\n",
      "0.742\t0.2\n",
      "0.744\t0.1\n",
      "0.746\t0.1\n",
      "0.748\t0.1\n",
      "0.749\t0.1\n",
      "0.750\t0.0\n",
      "0.752\t0.0\n",
      "0.754\t0.1\n",
      "0.756\t0.1\n",
      "0.758\t0.1\n",
      "0.761\t0.1\n",
      "0.764\t0.0\n",
      "0.766\t-0.1\n",
      "0.768\t-0.1\n",
      "0.770\t-0.1\n",
      "0.772\t0.0\n",
      "0.774\t0.0\n",
      "0.777\t0.0\n",
      "0.779\t0.0\n",
      "0.780\t0.0\n",
      "0.782\t0.0\n",
      "0.784\t-0.1\n",
      "0.785\t0.0\n",
      "0.787\t0.0\n",
      "0.789\t0.0\n",
      "0.791\t0.0\n",
      "0.793\t0.0\n",
      "0.795\t0.0\n",
      "0.797\t-0.1\n",
      "0.800\t0.0\n",
      "0.804\t0.0\n",
      "0.806\t0.0\n",
      "0.809\t0.0\n",
      "0.811\t0.1\n",
      "0.813\t0.9\n",
      "0.815\t3.0\n",
      "0.817\t5.9\n",
      "0.819\t6.6\n",
      "0.821\t4.0\n",
      "0.823\t1.3\n",
      "0.826\t0.2\n",
      "0.828\t0.1\n",
      "0.831\t0.1\n",
      "0.833\t0.1\n",
      "0.836\t0.1\n",
      "0.838\t0.1\n",
      "0.840\t0.1\n",
      "0.843\t0.1\n",
      "0.847\t0.2\n",
      "0.850\t1.0\n",
      "0.854\t0.8\n",
      "0.856\t0.3\n",
      "0.858\t0.1\n",
      "0.860\t0.0\n",
      "0.862\t0.1\n",
      "0.864\t0.1\n",
      "0.866\t0.2\n",
      "0.869\t0.2\n",
      "0.872\t0.1\n",
      "0.875\t0.1\n",
      "0.878\t0.1\n",
      "0.881\t0.1\n",
      "0.884\t0.1\n",
      "0.887\t0.1\n",
      "0.890\t0.0\n",
      "0.893\t0.1\n",
      "0.896\t0.0\n",
      "0.898\t0.1\n",
      "0.901\t0.0\n",
      "0.903\t0.0\n",
      "0.907\t0.0\n",
      "0.910\t0.0\n",
      "0.913\t0.0\n",
      "0.916\t0.0\n",
      "0.919\t0.0\n",
      "0.922\t0.0\n",
      "0.925\t0.0\n",
      "0.929\t0.0\n",
      "0.932\t0.0\n",
      "0.935\t0.0\n",
      "0.938\t0.0\n",
      "0.940\t0.0\n",
      "0.941\t0.0\n",
      "0.942\t0.0\n",
      "0.944\t0.0\n",
      "0.947\t0.0\n",
      "0.950\t0.0\n",
      "0.951\t0.0\n",
      "0.952\t0.0\n",
      "0.953\t0.0\n",
      "0.955\t0.0\n",
      "0.957\t0.0\n",
      "0.959\t0.0\n",
      "0.961\t0.0\n",
      "0.963\t0.0\n",
      "0.965\t0.0\n",
      "0.968\t0.0\n",
      "0.971\t0.0\n",
      "0.973\t0.1\n",
      "0.976\t0.1\n",
      "0.978\t0.0\n",
      "0.980\t0.1\n",
      "0.982\t0.1\n",
      "0.983\t0.0\n",
      "0.984\t0.0\n",
      "0.986\t0.1\n",
      "0.987\t0.0\n",
      "0.989\t0.1\n",
      "0.991\t0.1\n",
      "0.993\t0.1\n",
      "0.995\t0.1\n",
      "0.998\t0.1\n",
      "1.001\t0.1\n",
      "1.004\t0.2\n",
      "1.007\t0.2\n",
      "1.010\t0.1\n",
      "1.013\t0.1\n",
      "1.015\t0.1\n",
      "1.018\t0.1\n",
      "1.021\t0.1\n",
      "1.023\t0.1\n",
      "1.026\t0.1\n",
      "1.028\t0.2\n",
      "1.030\t0.3\n",
      "1.032\t0.3\n",
      "1.034\t0.3\n",
      "1.036\t0.4\n",
      "1.038\t0.4\n",
      "1.040\t0.4\n",
      "1.042\t0.5\n",
      "1.044\t0.5\n",
      "1.047\t0.5\n",
      "1.050\t0.6\n",
      "1.053\t0.7\n",
      "1.055\t0.7\n",
      "1.057\t0.8\n",
      "1.058\t0.9\n",
      "1.060\t1.0\n",
      "1.062\t1.2\n",
      "1.065\t1.3\n",
      "1.068\t1.4\n",
      "1.070\t1.3\n",
      "1.072\t1.3\n",
      "1.074\t1.3\n",
      "1.077\t1.4\n",
      "1.079\t1.6\n",
      "1.081\t1.8\n",
      "1.084\t2.1\n",
      "1.086\t2.4\n",
      "1.088\t2.7\n",
      "1.089\t3.2\n",
      "1.091\t3.8\n",
      "1.093\t4.5\n",
      "1.096\t5.4\n",
      "1.098\t6.7\n",
      "1.101\t8.8\n",
      "1.104\t13.1\n",
      "1.107\t97.1\n",
      "1.112\t97.0\n",
      "1.117\t97.0\n",
      "1.122\t45.6\n",
      "1.125\t11.9\n",
      "1.129\t9.1\n",
      "1.131\t7.6\n",
      "1.133\t7.0\n",
      "1.134\t6.3\n",
      "1.136\t5.9\n",
      "1.138\t5.3\n",
      "1.140\t4.8\n",
      "1.142\t4.2\n",
      "1.144\t3.5\n",
      "1.147\t3.0\n",
      "1.149\t2.6\n",
      "1.152\t2.2\n",
      "1.156\t2.1\n",
      "1.159\t1.8\n",
      "1.162\t1.7\n",
      "1.165\t1.5\n",
      "1.167\t1.4\n",
      "1.170\t1.2\n",
      "1.172\t1.2\n",
      "1.174\t0.9\n",
      "1.177\t0.8\n",
      "1.179\t0.6\n",
      "1.182\t0.4\n",
      "1.184\t0.3\n",
      "1.187\t0.3\n",
      "1.190\t0.2\n",
      "1.192\t0.2\n",
      "1.193\t0.2\n",
      "1.194\t0.2\n",
      "1.194\t0.2\n",
      "1.196\t0.2\n",
      "1.198\t0.2\n",
      "1.201\t0.1\n",
      "1.204\t0.1\n",
      "1.207\t0.1\n",
      "1.211\t0.1\n",
      "1.215\t0.1\n",
      "1.218\t0.0\n",
      "1.222\t0.1\n",
      "1.226\t0.0\n",
      "1.229\t0.0\n",
      "1.231\t-0.1\n",
      "1.234\t0.0\n",
      "1.237\t-0.1\n",
      "1.240\t0.0\n",
      "1.244\t0.0\n",
      "1.247\t0.0\n",
      "1.250\t0.0\n",
      "1.253\t0.0\n",
      "1.255\t0.0\n",
      "1.257\t0.0\n",
      "1.260\t0.0\n",
      "1.263\t0.0\n",
      "1.265\t0.0\n",
      "1.266\t0.0\n",
      "1.268\t0.0\n",
      "1.269\t0.0\n",
      "1.270\t0.0\n",
      "1.271\t0.0\n",
      "1.273\t0.0\n",
      "1.275\t0.0\n",
      "1.277\t0.0\n",
      "1.278\t0.0\n",
      "1.280\t0.0\n",
      "1.281\t0.0\n",
      "1.283\t0.0\n",
      "1.285\t0.0\n",
      "1.286\t0.0\n",
      "1.287\t0.0\n",
      "1.287\t0.0\n",
      "1.288\t-0.1\n",
      "1.289\t-0.1\n",
      "1.290\t-0.1\n",
      "1.291\t-0.2\n",
      "1.292\t-0.2\n",
      "1.292\t-0.2\n",
      "1.293\t-0.1\n",
      "1.294\t0.0\n",
      "1.295\t0.0\n",
      "1.296\t-0.1\n",
      "1.297\t-0.1\n",
      "1.298\t-0.1\n",
      "1.299\t0.0\n",
      "1.300\t0.0\n",
      "1.301\t0.0\n",
      "1.302\t-0.1\n",
      "1.303\t-0.1\n",
      "1.304\t0.0\n",
      "1.306\t-0.1\n",
      "1.306\t-0.1\n",
      "1.308\t-0.1\n",
      "1.309\t-0.1\n",
      "1.311\t-0.2\n",
      "1.312\t-0.2\n",
      "1.313\t-0.2\n",
      "1.314\t-0.1\n",
      "1.316\t0.0\n",
      "1.317\t0.0\n",
      "1.318\t-0.1\n",
      "1.319\t-0.1\n",
      "1.319\t0.0\n",
      "1.320\t0.0\n",
      "1.322\t-0.1\n",
      "1.323\t-0.1\n",
      "1.325\t-0.1\n",
      "1.327\t-0.1\n",
      "1.329\t0.0\n",
      "1.332\t-0.1\n",
      "1.334\t-0.1\n",
      "1.335\t-0.1\n",
      "1.336\t-0.1\n",
      "1.338\t-0.1\n",
      "1.340\t0.0\n",
      "1.341\t-0.1\n",
      "1.343\t0.0\n",
      "1.344\t-0.1\n",
      "1.345\t-0.2\n",
      "1.347\t0.0\n",
      "1.348\t0.0\n",
      "1.349\t0.0\n",
      "1.351\t0.0\n",
      "1.352\t0.0\n",
      "1.353\t0.0\n",
      "1.354\t0.0\n",
      "1.356\t0.0\n",
      "1.358\t0.0\n",
      "1.359\t0.0\n",
      "1.361\t0.0\n",
      "1.363\t0.0\n",
      "1.366\t0.1\n",
      "1.368\t0.1\n",
      "1.369\t0.0\n",
      "1.370\t0.0\n",
      "1.371\t0.0\n",
      "1.372\t0.0\n",
      "1.373\t0.0\n",
      "1.374\t0.0\n",
      "1.376\t0.0\n",
      "1.378\t0.1\n",
      "1.380\t0.3\n",
      "1.380\t0.5\n",
      "1.380\t0.5\n",
      "1.382\t0.4\n",
      "1.384\t0.3\n",
      "1.386\t0.1\n",
      "1.386\t0.0\n",
      "1.386\t0.0\n",
      "1.388\t0.0\n",
      "1.389\t-0.1\n",
      "1.389\t0.0\n",
      "1.389\t-0.1\n",
      "1.389\t-0.1\n",
      "1.389\t-0.2\n",
      "1.390\t0.0\n",
      "1.391\t0.0\n",
      "1.393\t0.0\n",
      "1.396\t0.0\n",
      "1.398\t0.0\n",
      "1.400\t0.0\n",
      "1.401\t0.0\n",
      "1.402\t0.0\n",
      "1.404\t0.0\n",
      "1.405\t0.0\n",
      "1.406\t0.1\n",
      "1.408\t0.7\n",
      "1.409\t2.0\n",
      "1.411\t3.2\n",
      "1.413\t3.8\n",
      "1.415\t2.4\n",
      "1.418\t0.7\n",
      "1.420\t0.1\n",
      "1.423\t0.0\n",
      "1.425\t0.0\n",
      "1.428\t0.0\n",
      "1.430\t0.0\n",
      "1.432\t0.0\n",
      "1.433\t0.0\n",
      "1.435\t0.0\n",
      "1.436\t-0.1\n",
      "1.437\t-0.1\n",
      "1.439\t-0.2\n",
      "1.441\t0.0\n",
      "1.443\t0.0\n",
      "1.445\t0.0\n",
      "1.448\t0.0\n",
      "1.449\t0.0\n",
      "1.451\t0.0\n",
      "1.453\t0.0\n",
      "1.454\t0.0\n",
      "1.456\t0.0\n",
      "1.457\t0.0\n",
      "1.459\t0.0\n",
      "1.461\t0.0\n",
      "1.463\t0.0\n",
      "1.465\t-0.1\n",
      "1.467\t-0.1\n",
      "1.468\t-0.1\n",
      "1.470\t0.0\n",
      "1.472\t0.0\n",
      "1.473\t0.0\n",
      "1.476\t0.0\n",
      "1.478\t0.0\n",
      "1.480\t0.0\n",
      "1.483\t0.0\n",
      "1.486\t0.0\n",
      "1.489\t0.0\n",
      "1.492\t0.0\n",
      "1.495\t0.0\n",
      "1.499\t0.0\n",
      "1.502\t0.1\n",
      "1.507\t0.1\n",
      "1.510\t0.2\n",
      "1.513\t0.3\n",
      "1.515\t0.5\n",
      "1.518\t5.8\n",
      "1.521\t28.1\n",
      "1.525\t36.1\n",
      "1.528\t10.0\n",
      "1.531\t1.3\n",
      "1.533\t0.4\n",
      "1.535\t0.3\n",
      "1.537\t0.2\n",
      "1.540\t0.2\n",
      "1.543\t0.1\n",
      "1.546\t0.1\n",
      "1.550\t0.0\n",
      "1.553\t0.0\n",
      "1.556\t-0.1\n",
      "1.559\t-0.1\n",
      "1.562\t0.0\n",
      "1.565\t0.0\n",
      "1.569\t0.0\n",
      "1.572\t0.0\n",
      "1.575\t0.0\n",
      "1.577\t0.0\n",
      "1.581\t-0.2\n",
      "1.585\t-0.2\n",
      "1.589\t-0.1\n",
      "1.593\t0.0\n",
      "1.596\t-0.1\n",
      "1.597\t-0.1\n",
      "1.598\t-0.1\n",
      "1.599\t-0.1\n",
      "1.601\t-0.1\n",
      "1.602\t0.0\n",
      "1.603\t0.0\n",
      "1.606\t0.0\n",
      "1.611\t-0.2\n",
      "1.616\t-0.3\n",
      "1.623\t-0.2\n",
      "1.628\t-0.1\n",
      "1.633\t-0.1\n",
      "1.639\t-0.1\n",
      "1.644\t-0.1\n",
      "1.649\t-0.1\n",
      "1.654\t0.0\n",
      "1.658\t-0.1\n",
      "1.663\t-0.1\n",
      "1.667\t-0.1\n",
      "1.671\t-0.1\n",
      "1.675\t-0.1\n",
      "1.679\t-0.3\n",
      "1.684\t-0.2\n",
      "1.688\t-0.1\n",
      "1.693\t-0.1\n",
      "1.696\t-0.1\n",
      "1.700\t-0.1\n",
      "1.704\t-0.1\n",
      "1.707\t-0.1\n",
      "1.710\t-0.1\n",
      "1.712\t-0.1\n",
      "1.714\t-0.1\n",
      "1.717\t-0.1\n",
      "1.721\t-0.1\n",
      "1.726\t-0.1\n",
      "1.731\t-0.1\n",
      "1.734\t-0.1\n",
      "1.737\t-0.1\n",
      "1.739\t-0.1\n",
      "1.742\t-0.1\n",
      "1.745\t0.0\n",
      "1.749\t0.2\n",
      "1.752\t0.1\n",
      "1.756\t-0.1\n",
      "1.759\t-0.1\n",
      "1.762\t-0.1\n",
      "1.767\t-0.1\n",
      "1.772\t-0.3\n",
      "1.777\t-0.3\n",
      "1.783\t-0.2\n",
      "1.787\t-0.1\n",
      "1.792\t-0.2\n",
      "1.796\t-0.3\n",
      "1.800\t-0.2\n",
      "1.803\t-0.2\n",
      "1.808\t-0.2\n",
      "1.812\t-0.2\n",
      "1.818\t-0.1\n",
      "1.823\t-0.1\n",
      "1.828\t-0.1\n",
      "1.835\t-0.1\n",
      "1.844\t-0.1\n",
      "1.852\t-0.2\n",
      "1.859\t-0.1\n",
      "1.865\t-0.2\n",
      "1.870\t-0.1\n",
      "1.873\t-0.2\n",
      "1.874\t-0.2\n",
      "1.875\t-0.2\n",
      "1.877\t-0.2\n",
      "1.880\t-0.2\n",
      "1.883\t-0.2\n",
      "1.887\t-0.2\n",
      "1.892\t-0.3\n",
      "1.895\t-0.3\n",
      "1.898\t-0.2\n",
      "1.903\t-0.2\n",
      "1.907\t-0.2\n",
      "1.912\t-0.1\n",
      "1.918\t-0.1\n",
      "1.923\t-0.2\n",
      "1.929\t-0.2\n",
      "1.934\t-0.1\n",
      "1.940\t-0.1\n",
      "1.944\t-0.2\n",
      "1.948\t-0.2\n",
      "1.952\t-0.2\n",
      "1.955\t-0.2\n",
      "1.960\t-0.2\n",
      "1.966\t-0.2\n",
      "1.971\t-0.2\n",
      "1.975\t-0.1\n",
      "1.979\t-0.2\n",
      "1.985\t-0.3\n",
      "1.990\t-0.2\n",
      "1.997\t-0.1\n",
      "2.002\t-0.1\n",
      "2.007\t-0.2\n",
      "2.012\t-0.1\n",
      "2.017\t-0.2\n",
      "2.022\t-0.1\n",
      "2.027\t-0.2\n",
      "2.034\t-0.1\n",
      "2.041\t-0.1\n",
      "2.048\t1.1\n",
      "2.053\t1.6\n",
      "2.057\t0.7\n",
      "2.060\t0.1\n",
      "2.064\t0.0\n",
      "2.068\t-0.1\n",
      "2.073\t-0.1\n",
      "2.079\t-0.1\n",
      "2.086\t-0.1\n",
      "2.094\t-0.1\n",
      "2.100\t-0.2\n",
      "2.105\t-0.1\n",
      "2.109\t-0.1\n",
      "2.111\t-0.1\n",
      "2.115\t-0.2\n",
      "2.120\t-0.2\n",
      "2.124\t-0.1\n",
      "2.128\t-0.2\n",
      "2.131\t-0.1\n",
      "2.134\t-0.2\n",
      "2.135\t-0.1\n",
      "2.138\t-0.1\n",
      "2.140\t-0.1\n",
      "2.144\t-0.1\n",
      "2.148\t-0.1\n",
      "2.153\t-0.2\n",
      "2.158\t-0.2\n",
      "2.162\t-0.2\n",
      "2.166\t-0.2\n",
      "2.170\t-0.2\n",
      "2.175\t-0.2\n",
      "2.179\t-0.2\n",
      "2.183\t-0.1\n",
      "2.187\t-0.2\n",
      "2.191\t-0.2\n",
      "2.194\t-0.2\n",
      "2.197\t-0.2\n",
      "2.200\t-0.2\n",
      "2.203\t-0.2\n",
      "2.207\t-0.2\n",
      "2.211\t-0.1\n",
      "2.215\t-0.2\n",
      "2.219\t-0.2\n",
      "2.222\t-0.1\n",
      "2.224\t-0.2\n",
      "2.225\t-0.2\n",
      "2.225\t-0.2\n",
      "2.225\t-0.2\n",
      "2.225\t-0.3\n",
      "2.225\t-0.2\n",
      "2.225\t-0.3\n",
      "2.225\t-0.3\n",
      "2.225\t-0.3\n",
      "2.225\t-0.2\n",
      "2.225\t-0.1\n",
      "2.225\t-0.1\n",
      "2.225\t-0.1\n",
      "2.225\t-0.1\n",
      "2.225\t-0.1\n",
      "2.225\t-0.1\n",
      "2.225\t-0.2\n",
      "2.225\t-0.1\n",
      "2.225\t-0.1\n",
      "2.225\t-0.2\n",
      "2.225\t-0.1\n",
      "2.225\t-0.1\n",
      "2.225\t-0.1\n",
      "2.225\t-0.2\n",
      "2.225\t-0.2\n",
      "2.225\t-0.2\n",
      "2.225\t-0.1\n",
      "2.225\t-0.1\n",
      "2.225\t-0.2\n",
      "2.224\t-0.2\n",
      "2.224\t-0.2\n",
      "2.224\t-0.2\n",
      "2.224\t-0.2\n",
      "2.224\t-0.2\n",
      "2.224\t-0.2\n",
      "2.224\t-0.2\n",
      "2.224\t-0.3\n",
      "2.224\t-0.3\n",
      "2.224\t-0.2\n",
      "2.224\t-0.3\n",
      "2.224\t-0.3\n",
      "2.224\t-0.2\n",
      "2.224\t-0.3\n",
      "2.224\t-0.3\n",
      "2.224\t-0.3\n",
      "2.224\t-0.1\n",
      "2.224\t-0.2\n",
      "2.224\t-0.2\n",
      "2.224\t-0.2\n",
      "2.224\t-0.1\n",
      "2.224\t-0.1\n",
      "2.224\t-0.2\n",
      "2.224\t-0.2\n",
      "2.224\t-0.2\n",
      "2.224\t-0.2\n",
      "2.224\t-0.1\n",
      "2.224\t-0.1\n",
      "2.224\t-0.2\n",
      "2.224\t-0.2\n",
      "2.224\t-0.2\n",
      "2.224\t-0.2\n",
      "2.224\t-0.3\n",
      "2.224\t-0.2\n",
      "2.224\t-0.1\n",
      "2.224\t-0.1\n",
      "2.224\t-0.2\n",
      "2.224\t-0.2\n",
      "2.224\t-0.2\n",
      "2.224\t-0.2\n",
      "2.224\t-0.1\n",
      "2.224\t-0.2\n",
      "2.224\t-0.2\n",
      "2.224\t-0.2\n",
      "2.224\t-0.1\n",
      "2.224\t-0.2\n",
      "2.224\t-0.1\n",
      "2.224\t-0.2\n",
      "2.224\t-0.2\n",
      "2.224\t-0.2\n",
      "2.224\t-0.2\n",
      "2.224\t-0.2\n",
      "2.224\t-0.2\n",
      "2.224\t-0.2\n",
      "2.224\t-0.2\n",
      "2.224\t-0.2\n",
      "2.224\t-0.2\n",
      "2.224\t-0.2\n",
      "2.224\t-0.2\n",
      "2.224\t-0.2\n",
      "2.224\t-0.2\n",
      "2.224\t-0.2\n",
      "2.224\t-0.2\n",
      "2.224\t-0.3\n",
      "2.224\t-0.3\n",
      "2.224\t-0.3\n",
      "2.224\t-0.3\n",
      "2.224\t-0.3\n",
      "\n"
     ]
    }
   ],
   "source": [
    "with open('spectrum-01.txt', 'r') as file:\n",
    "    file_content = file.read()\n",
    "\n",
    "print(file_content)"
   ]
  },
  {
   "cell_type": "markdown",
   "id": "b51e4f21-0a2b-417c-92e9-e78e7946b4f3",
   "metadata": {},
   "source": [
    "Note that if we try to open a file that does not exist in the computer, then said file will be created."
   ]
  },
  {
   "attachments": {},
   "cell_type": "markdown",
   "id": "f825ff38",
   "metadata": {},
   "source": [
    "## 2.2 Writing data"
   ]
  },
  {
   "cell_type": "markdown",
   "id": "f1c9a746-5b8e-489b-a8f1-062e0a721d64",
   "metadata": {},
   "source": [
    "We can write something into a file with Python. Let's try writing the following text."
   ]
  },
  {
   "cell_type": "code",
   "execution_count": null,
   "id": "c0aa08bf-370e-403c-96ac-c6d751533f3f",
   "metadata": {},
   "outputs": [],
   "source": [
    "text = 'Far out in the uncharted backwaters of the unfashionable end of the western spiral arm of the Galaxy lies a small unregarded yellow sun.\\nOrbiting this at a distance of roughly ninety-two million miles is an utterly insignificant little blue green planet whose ape-descended life forms are so amazingly primitive that they still think digital watches are a pretty neat idea.'"
   ]
  },
  {
   "cell_type": "markdown",
   "id": "1d415897-5f66-4b6b-8b7e-50a06cea43f5",
   "metadata": {},
   "source": [
    "There are two methods to do so."
   ]
  },
  {
   "attachments": {},
   "cell_type": "markdown",
   "id": "b3ff98b3",
   "metadata": {},
   "source": [
    "### Writing to a file in one go"
   ]
  },
  {
   "cell_type": "code",
   "execution_count": 3,
   "id": "de0244e4",
   "metadata": {},
   "outputs": [],
   "source": [
    "text = 'Far out in the uncharted backwaters of the unfashionable end of the western spiral arm of the Galaxy lies a small unregarded yellow sun.\\nOrbiting this at a distance of roughly ninety-two million miles is an utterly insignificant little blue green planet whose ape-descended life forms are so amazingly primitive that they still think digital watches are a pretty neat idea.'\n",
    "\n",
    "with open('my-text-once.txt', 'w') as file:\n",
    "    file.write(text)"
   ]
  },
  {
   "cell_type": "markdown",
   "id": "f2f4a737-26ad-4472-8bb9-26c1e18177fd",
   "metadata": {},
   "source": [
    "With this method, the file `my-text-once.txt` is created in an open folder with `text` in it. Note that the `mode` for the `open` function here is `w`, for writing.\n",
    "\n",
    "Note the method associated with `file`, which is `.write`."
   ]
  },
  {
   "attachments": {},
   "cell_type": "markdown",
   "id": "1d379cee",
   "metadata": {},
   "source": [
    "### Writing to a file, line by line"
   ]
  },
  {
   "cell_type": "code",
   "execution_count": 4,
   "id": "40576ae3",
   "metadata": {},
   "outputs": [],
   "source": [
    "with open('my-text-lines.txt', 'w') as file:\n",
    "    for line in text.splitlines():                #.splitlines() is a method to split texts into a list of lines according to line endings (e.g. \\n, etc.)\n",
    "        file.writelines(text)                     #.writelines() is the same as .write() but writes line by line from a list of lines "
   ]
  },
  {
   "cell_type": "markdown",
   "id": "8d6dc39a-7c91-49eb-8c1a-2365bf40ceca",
   "metadata": {},
   "source": [
    "Writing in this way takes a lot of time."
   ]
  },
  {
   "attachments": {},
   "cell_type": "markdown",
   "id": "b47b2998",
   "metadata": {},
   "source": [
    "# 3 Some useful packages"
   ]
  },
  {
   "cell_type": "markdown",
   "id": "ca1c7d53-9c27-4f54-b0e9-2d70235fbac2",
   "metadata": {},
   "source": [
    "Below shows some useful Python packages.\n",
    "\n",
    "|**Package**|**Used for**|\n",
    "|:--:|:--:|\n",
    "|`os`|create, modify, delete folders and write OS-agnostic code|\n",
    "|`glob`|to search for files|\n",
    "|`shutil`|to copy files|\n",
    "\n",
    "*OS-agnostic code is a code that is designed to run on different operating systems without requiring modification."
   ]
  },
  {
   "attachments": {},
   "cell_type": "markdown",
   "id": "87dbe5f8",
   "metadata": {},
   "source": [
    "# 4 OS safe paths"
   ]
  },
  {
   "cell_type": "markdown",
   "id": "9098e6ac-3c31-4797-86f6-410196823eda",
   "metadata": {},
   "source": [
    "Let's say we want to open a file `im-a-file.txt` that is inside a folder `im-a-subfolder`, which is part of a folder `im-a-folder`. We can use the `os.path.join` function from the `os` package to create the path name and use the `with` and `open` method to access the contents of the file."
   ]
  },
  {
   "cell_type": "code",
   "execution_count": 5,
   "id": "eb832cd1-e735-4452-8859-c108da316b5e",
   "metadata": {},
   "outputs": [
    {
     "name": "stdout",
     "output_type": "stream",
     "text": [
      ".\\im-a-folder\\im-a-subfolder\\im-a-file.txt\n"
     ]
    }
   ],
   "source": [
    "import os\n",
    "\n",
    "path = os.path.join('.', 'im-a-folder', 'im-a-subfolder', 'im-a-file.txt')\n",
    "print(path)"
   ]
  },
  {
   "cell_type": "markdown",
   "id": "0e61f321-1ab8-4b1e-851c-d7154cf4dbff",
   "metadata": {},
   "source": [
    "In the above example, the output is `.\\im-a-folder\\im-a-subfolder\\im-a-file.txt` because it is operating on a Windows computer. However, if it is operating in a macOS or Linux computer, the output will automatically adjust to the path style for macOS and Linux, which is `./im-a-folder/im-a-subfolder/im-a-text.txt`. This is why the code then will work for all OS."
   ]
  },
  {
   "attachments": {},
   "cell_type": "markdown",
   "id": "5bbc9001",
   "metadata": {},
   "source": [
    "# 5 Folders"
   ]
  },
  {
   "attachments": {},
   "cell_type": "markdown",
   "id": "975999be",
   "metadata": {},
   "source": [
    "## 5.1 Creating folders"
   ]
  },
  {
   "cell_type": "markdown",
   "id": "38afb732-b33b-4c7c-b85a-6f5130f6867a",
   "metadata": {},
   "source": [
    "We can make folders using the `os.mkdir` function from the `os` package. This is useful because we can type very little lines of code to organise our data.\n",
    "\n",
    "Let's say we need to store data about the SPS courses SP1111, SP2222 and SP3333. We can make folders for each and compile data into each respective folder."
   ]
  },
  {
   "cell_type": "code",
   "execution_count": 7,
   "id": "cf326631-9400-402d-b525-94f5d392a7b0",
   "metadata": {},
   "outputs": [
    {
     "ename": "FileExistsError",
     "evalue": "[WinError 183] Cannot create a file when that file already exists: 'SPS_courses'",
     "output_type": "error",
     "traceback": [
      "\u001b[1;31m---------------------------------------------------------------------------\u001b[0m",
      "\u001b[1;31mFileExistsError\u001b[0m                           Traceback (most recent call last)",
      "Cell \u001b[1;32mIn[7], line 1\u001b[0m\n\u001b[1;32m----> 1\u001b[0m os\u001b[38;5;241m.\u001b[39mmkdir(\u001b[38;5;124m'\u001b[39m\u001b[38;5;124mSPS_courses\u001b[39m\u001b[38;5;124m'\u001b[39m)                               \u001b[38;5;66;03m#creates the folder in which the respective SPS course folders will be created\u001b[39;00m\n\u001b[0;32m      3\u001b[0m sp_code \u001b[38;5;241m=\u001b[39m [\u001b[38;5;124m\"\u001b[39m\u001b[38;5;124mSP1111\u001b[39m\u001b[38;5;124m\"\u001b[39m, \u001b[38;5;124m\"\u001b[39m\u001b[38;5;124mSP2222\u001b[39m\u001b[38;5;124m\"\u001b[39m, \u001b[38;5;124m\"\u001b[39m\u001b[38;5;124mSP3333\u001b[39m\u001b[38;5;124m\"\u001b[39m]\n\u001b[0;32m      4\u001b[0m \u001b[38;5;28;01mfor\u001b[39;00m course \u001b[38;5;129;01min\u001b[39;00m sp_code:\n",
      "\u001b[1;31mFileExistsError\u001b[0m: [WinError 183] Cannot create a file when that file already exists: 'SPS_courses'"
     ]
    }
   ],
   "source": [
    "os.mkdir('SPS_courses')                               #creates the folder in which the respective SPS course folders will be created\n",
    "\n",
    "sp_code = [\"SP1111\", \"SP2222\", \"SP3333\"]\n",
    "for course in sp_code:\n",
    "    path = os.path.join('SPS_courses', course)        #creates path names for all the folder for the SPS courses\n",
    "    os.mkdir(path)                                    #creates the folder for the SPS courses in the locationa according to the path names"
   ]
  },
  {
   "attachments": {},
   "cell_type": "markdown",
   "id": "60070637",
   "metadata": {},
   "source": [
    "## 5.2 Checking for existence"
   ]
  },
  {
   "cell_type": "markdown",
   "id": "edbb149a-3bd0-4399-ac4f-5798f63c6c6b",
   "metadata": {},
   "source": [
    "Python will raise an error if we try to create a folder that already exists. We can check for the existence of folders using different methods shown below."
   ]
  },
  {
   "attachments": {},
   "cell_type": "markdown",
   "id": "d7488b5c",
   "metadata": {},
   "source": [
    "### Using try-except"
   ]
  },
  {
   "cell_type": "code",
   "execution_count": 9,
   "id": "9cb62aa7",
   "metadata": {},
   "outputs": [
    {
     "name": "stdout",
     "output_type": "stream",
     "text": [
      "SPS_courses\\SP1111 already exists.\n",
      "SPS_courses\\SP2222 already exists.\n",
      "SPS_courses\\SP3333 already exists.\n"
     ]
    }
   ],
   "source": [
    "sp_code = [\"SP1111\", \"SP2222\", \"SP3333\"]\n",
    "for course in sp_code:\n",
    "    path = os.path.join('SPS_courses', course)\n",
    "    try:\n",
    "        os.mkdir(path)\n",
    "    except:                                    #catch the raised error with except\n",
    "        print(f\"{path} already exists.\")"
   ]
  },
  {
   "attachments": {},
   "cell_type": "markdown",
   "id": "af44ea8e",
   "metadata": {},
   "source": [
    "### Using os.path.exists()"
   ]
  },
  {
   "cell_type": "markdown",
   "id": "de928e76-3c54-4678-a3f0-70a7d39061cc",
   "metadata": {},
   "source": [
    "The function `os.path.exists` returns a Boolean value that indicates whether or not the folder we are trying to make exists."
   ]
  },
  {
   "cell_type": "code",
   "execution_count": 10,
   "id": "4e356aa6-ae24-41a0-a32f-4140456b4867",
   "metadata": {},
   "outputs": [
    {
     "name": "stdout",
     "output_type": "stream",
     "text": [
      "SPS_courses\\SP1111 already exists\n",
      "SPS_courses\\SP2222 already exists\n",
      "SPS_courses\\SP3333 already exists\n"
     ]
    }
   ],
   "source": [
    "sp_code = [\"SP1111\", \"SP2222\", \"SP3333\"]\n",
    "for course in sp_code:\n",
    "    path = os.path.join('SPS_courses', course)\n",
    "    if os.path.exists(path):\n",
    "        print(f\"{path} already exists\")\n",
    "    else:\n",
    "        os.mkdir(path)"
   ]
  },
  {
   "attachments": {},
   "cell_type": "markdown",
   "id": "bb6c7405",
   "metadata": {},
   "source": [
    "## 5.3 Copying files"
   ]
  },
  {
   "cell_type": "markdown",
   "id": "c7e89612-9ab4-420c-a4cf-da3dd36a75fc",
   "metadata": {},
   "source": [
    "We can use the `shutil.copy` function from the `shutil` package. The syntax is `shutil.copy('file', path name of folder in which the file will be copied to)`.\n",
    "\n",
    "Let's say we have an image `download.png` that we want to copy to each course folders."
   ]
  },
  {
   "cell_type": "code",
   "execution_count": 12,
   "id": "0381c03e-a437-4cfb-950d-c58063a3b8a9",
   "metadata": {},
   "outputs": [
    {
     "name": "stdout",
     "output_type": "stream",
     "text": [
      "Succesfully copied to SPS_courses\\SP1111.\n",
      "Succesfully copied to SPS_courses\\SP2222.\n",
      "Succesfully copied to SPS_courses\\SP3333.\n"
     ]
    }
   ],
   "source": [
    "import shutil\n",
    "\n",
    "sp_code = [\"SP1111\", \"SP2222\", \"SP3333\"]\n",
    "for course in sp_code:\n",
    "    path = os.path.join(\"SPS_courses\", course)\n",
    "    shutil.copy('download.png', path)\n",
    "    print(f\"Succesfully copied to {path}.\")"
   ]
  },
  {
   "cell_type": "markdown",
   "id": "16721a93-e99b-465c-ba0c-96e8bf443915",
   "metadata": {},
   "source": [
    "For this to work, we need to ensure that the file `download.png` is present in the current directory that is open in the `Anaconda prompt`."
   ]
  },
  {
   "cell_type": "markdown",
   "id": "3b6a2fac-1fae-4d9e-b41e-82fa9ddb3a2a",
   "metadata": {},
   "source": [
    "<p></p>"
   ]
  },
  {
   "cell_type": "markdown",
   "id": "66a7e566-a2e7-443e-a24b-317785e3a14e",
   "metadata": {},
   "source": [
    "We can also move files with the `shutil.move` function. The syntax is `shutil.move(current path of file, new path of file)`. Let's say we want to move all the `download.png` to a folder called `images` in each course folders. So first, we need to make that `image` folders."
   ]
  },
  {
   "cell_type": "code",
   "execution_count": 13,
   "id": "b3da99f8-2cab-4553-a457-eb1cc22c183d",
   "metadata": {},
   "outputs": [],
   "source": [
    "for course in sp_code:\n",
    "    path_images = os.path.join(\"SPS_courses\", course, \"images\")\n",
    "    if not os.path.exists(path_images):\n",
    "        os.mkdir(path_images)\n",
    "    current_image_loc = os.path.join(\"SPS_courses\", course, \"download.png\")\n",
    "    new_image_loc = os.path.join(\"SPS_courses\", course, \"images\", \"download.png\")\n",
    "    shutil.move(current_image_loc, new_image_loc)"
   ]
  },
  {
   "attachments": {},
   "cell_type": "markdown",
   "id": "6d77ea08",
   "metadata": {},
   "source": [
    "# 6 Listing and looking for files"
   ]
  },
  {
   "cell_type": "markdown",
   "id": "79f3da3b-11f9-413b-b177-e103ade2a04a",
   "metadata": {},
   "source": [
    "If we want to know what files are in a folder, we can use the `glob.glob` function from the `glob` package.\n",
    "\n",
    "For `glob.glob`, asterisks `*` are important to represent 'anything'. So, if for example it is `glob.glob(\"SP*\")` then we are trying to list out names of folders or files whose name start with 'SPS' followed by anything, e.g. SP1111, SP2222, etc."
   ]
  },
  {
   "cell_type": "code",
   "execution_count": 16,
   "id": "d8f944e0-a284-4a65-bb0a-345000168286",
   "metadata": {},
   "outputs": [
    {
     "data": {
      "text/plain": [
       "['spectrum-01.txt', 'SPS_courses']"
      ]
     },
     "execution_count": 16,
     "metadata": {},
     "output_type": "execute_result"
    }
   ],
   "source": [
    "import glob\n",
    "\n",
    "glob.glob(\"sp*\")"
   ]
  },
  {
   "cell_type": "markdown",
   "id": "b218fda4-84c3-475d-8009-cc547af3587a",
   "metadata": {},
   "source": [
    "*Note that the argument for `glob.glob` is not case-sensitive, as we notice above."
   ]
  },
  {
   "cell_type": "markdown",
   "id": "87bc2703-c3fd-4575-b21f-7da2dfc0b412",
   "metadata": {},
   "source": [
    "<p></p>"
   ]
  },
  {
   "cell_type": "markdown",
   "id": "c622f158-c3e4-4683-b539-9a71786798fb",
   "metadata": {},
   "source": [
    "We can also use the path separators like `\\` to list out the names of folders or files inside a folder."
   ]
  },
  {
   "cell_type": "code",
   "execution_count": 14,
   "id": "4e9e286d-443b-467d-a003-831ea6fc3198",
   "metadata": {},
   "outputs": [
    {
     "data": {
      "text/plain": [
       "['SPS_courses\\\\SP1111', 'SPS_courses\\\\SP2222', 'SPS_courses\\\\SP3333']"
      ]
     },
     "execution_count": 14,
     "metadata": {},
     "output_type": "execute_result"
    }
   ],
   "source": [
    "import glob\n",
    "\n",
    "glob.glob(\"SPS_courses/SP*\")"
   ]
  },
  {
   "cell_type": "markdown",
   "id": "f97f256e-9c93-4a75-831f-cf3c83b64750",
   "metadata": {},
   "source": [
    "<p></p>"
   ]
  },
  {
   "cell_type": "markdown",
   "id": "9b5ac001-5bd5-4b21-9d2a-349418fc6f5f",
   "metadata": {},
   "source": [
    "We can also add the `recursive = True` argument (for `glob.glob` to access ALL directories) inside `glob.glob` to list out all the contents of a folder (including files, subfolders and files inside those subfolders) and by using `**`, which means all subdirectories."
   ]
  },
  {
   "cell_type": "code",
   "execution_count": 22,
   "id": "6960da8f-84bd-49ea-9170-b8eb40d5baf6",
   "metadata": {},
   "outputs": [
    {
     "data": {
      "text/plain": [
       "['SPS_courses\\\\',\n",
       " 'SPS_courses\\\\SP1111',\n",
       " 'SPS_courses\\\\SP1111\\\\images',\n",
       " 'SPS_courses\\\\SP1111\\\\images\\\\download.png',\n",
       " 'SPS_courses\\\\SP2222',\n",
       " 'SPS_courses\\\\SP2222\\\\images',\n",
       " 'SPS_courses\\\\SP2222\\\\images\\\\download.png',\n",
       " 'SPS_courses\\\\SP3333',\n",
       " 'SPS_courses\\\\SP3333\\\\images',\n",
       " 'SPS_courses\\\\SP3333\\\\images\\\\download.png']"
      ]
     },
     "execution_count": 22,
     "metadata": {},
     "output_type": "execute_result"
    }
   ],
   "source": [
    "import glob\n",
    "\n",
    "glob.glob(\"SPS*/**\", recursive = True)"
   ]
  },
  {
   "cell_type": "markdown",
   "id": "4470118a-a669-4108-b140-796cdbf999e0",
   "metadata": {},
   "source": [
    "<p></p>"
   ]
  },
  {
   "cell_type": "markdown",
   "id": "37b8a1a6-3b80-4c1b-8eef-24a284a50e67",
   "metadata": {},
   "source": [
    "We can add extensions for files if we want to look out for specific file types (e.g. `.png`). Note that for this to work, it needs the `recursive = True` argument."
   ]
  },
  {
   "cell_type": "code",
   "execution_count": 25,
   "id": "21de2784-3ada-48b4-a13d-6bdcba78f0c8",
   "metadata": {},
   "outputs": [
    {
     "data": {
      "text/plain": [
       "['SPS_courses\\\\SP1111\\\\images\\\\download.png',\n",
       " 'SPS_courses\\\\SP2222\\\\images\\\\download.png',\n",
       " 'SPS_courses\\\\SP3333\\\\images\\\\download.png']"
      ]
     },
     "execution_count": 25,
     "metadata": {},
     "output_type": "execute_result"
    }
   ],
   "source": [
    "import glob\n",
    "\n",
    "glob.glob(\"SPS*/**/*.png\", recursive = True)"
   ]
  },
  {
   "attachments": {},
   "cell_type": "markdown",
   "id": "30cf1504",
   "metadata": {},
   "source": [
    "# 7 Extracting file info"
   ]
  },
  {
   "cell_type": "markdown",
   "id": "333a92b6-ccb2-4a51-a10a-d6f5c658452f",
   "metadata": {},
   "source": [
    "We extract file and folder names and extensions from a path by using simple string methods (i.e. `.split`)."
   ]
  },
  {
   "cell_type": "code",
   "execution_count": 28,
   "id": "d50b090b-aebd-4933-a23e-468a7382c412",
   "metadata": {},
   "outputs": [
    {
     "name": "stdout",
     "output_type": "stream",
     "text": [
      "im-a-file.txt\n",
      "txt\n"
     ]
    }
   ],
   "source": [
    "path = os.path.join('im-a-folder', 'im-a-subfolder', 'im-a-file.txt')\n",
    "filename = path.split(os.path.sep)[-1]                                   #splits path using the / or \\ as the separator (this creates a list)\n",
    "extensionname = filename.split(\".\")[-1]\n",
    "print(filename)\n",
    "print(extensionname)"
   ]
  },
  {
   "cell_type": "markdown",
   "id": "f08e81fc-20a9-4fa3-bb5f-6437c813eb57",
   "metadata": {},
   "source": [
    "<p></p>"
   ]
  },
  {
   "cell_type": "markdown",
   "id": "53eb8ab5-93b2-4f8f-afc9-24a9429351aa",
   "metadata": {},
   "source": [
    "The `os` package also has specialised functions to achieve the same. See below."
   ]
  },
  {
   "cell_type": "code",
   "execution_count": 31,
   "id": "fe13edcb-810b-4ac8-9e2b-b1f7b5a8c330",
   "metadata": {},
   "outputs": [
    {
     "name": "stdout",
     "output_type": "stream",
     "text": [
      "('im-a-folder\\\\im-a-subfolder', 'im-a-file.txt')\n",
      "('im-a-folder\\\\im-a-subfolder\\\\im-a-file', '.txt')\n",
      "im-a-folder\\im-a-subfolder\n"
     ]
    }
   ],
   "source": [
    "path = os.path.join('im-a-folder', 'im-a-subfolder', 'im-a-file.txt')\n",
    "\n",
    "print(os.path.split(path))        #splits file name from path\n",
    "print(os.path.splitext(path))     #splits extension from path\n",
    "print(os.path.dirname(path))      #gives the directory name of path"
   ]
  },
  {
   "attachments": {},
   "cell_type": "markdown",
   "id": "caa56ada",
   "metadata": {},
   "source": [
    "# 8 Deleting stuff"
   ]
  },
  {
   "cell_type": "markdown",
   "id": "9a53a0f6-30b9-4163-8e14-49ea96add162",
   "metadata": {},
   "source": [
    "**Removing a file**"
   ]
  },
  {
   "cell_type": "markdown",
   "id": "ff705689-89cd-49ee-bfa8-b0c6d8326b67",
   "metadata": {},
   "source": [
    "We use the `os.remove` function from the `os` package."
   ]
  },
  {
   "cell_type": "code",
   "execution_count": 33,
   "id": "2aa7df6d-5796-4418-b7fe-274d65c21bbd",
   "metadata": {},
   "outputs": [],
   "source": [
    "os.remove(\"SPS_courses/SP1111/images/download.png\")"
   ]
  },
  {
   "cell_type": "markdown",
   "id": "55873b19-2ad2-4131-9d91-b0c56bad4155",
   "metadata": {},
   "source": [
    "<p></p>"
   ]
  },
  {
   "cell_type": "markdown",
   "id": "ee481399-7e27-4efa-98f3-6b0726e472e2",
   "metadata": {},
   "source": [
    "**Removing an empty folder**"
   ]
  },
  {
   "cell_type": "markdown",
   "id": "3aa2b429-5b02-47a4-b5a9-dfe444670c07",
   "metadata": {},
   "source": [
    "We use the `os.rmdir` function from the `os` package."
   ]
  },
  {
   "cell_type": "code",
   "execution_count": 34,
   "id": "e3b0beae-b2ed-44c5-80eb-98c8bb128af9",
   "metadata": {},
   "outputs": [],
   "source": [
    "os.rmdir(\"SPS_courses/SP1111/images\")"
   ]
  },
  {
   "cell_type": "markdown",
   "id": "24375611-4c0a-4bc3-a768-a857fb4d338b",
   "metadata": {},
   "source": [
    "<p></p>"
   ]
  },
  {
   "cell_type": "markdown",
   "id": "512268e8-e4c8-4d23-a1de-9a57e7e71fa3",
   "metadata": {},
   "source": [
    "**Removing a filled folder**"
   ]
  },
  {
   "cell_type": "markdown",
   "id": "3e6be6c2-4e11-4d33-87f8-ec99a6160694",
   "metadata": {},
   "source": [
    "We use the `shutil.rmtree` function from the `shutil` package."
   ]
  },
  {
   "cell_type": "code",
   "execution_count": 35,
   "id": "2d5c1fed-aafd-4df1-a5b4-f5269df26f75",
   "metadata": {},
   "outputs": [],
   "source": [
    "shutil.rmtree(\"SPS_courses/SP3333\")"
   ]
  }
 ],
 "metadata": {
  "kernelspec": {
   "display_name": "Python 3 (ipykernel)",
   "language": "python",
   "name": "python3"
  },
  "language_info": {
   "codemirror_mode": {
    "name": "ipython",
    "version": 3
   },
   "file_extension": ".py",
   "mimetype": "text/x-python",
   "name": "python",
   "nbconvert_exporter": "python",
   "pygments_lexer": "ipython3",
   "version": "3.11.5"
  },
  "toc": {
   "base_numbering": 1,
   "nav_menu": {},
   "number_sections": true,
   "sideBar": true,
   "skip_h1_title": false,
   "title_cell": "Table of Contents",
   "title_sidebar": "Contents",
   "toc_cell": false,
   "toc_position": {},
   "toc_section_display": true,
   "toc_window_display": false
  },
  "vscode": {
   "interpreter": {
    "hash": "31f2aee4e71d21fbe5cf8b01ff0e069b9275f58929596ceb00d14d90e3e16cd6"
   }
  }
 },
 "nbformat": 4,
 "nbformat_minor": 5
}
