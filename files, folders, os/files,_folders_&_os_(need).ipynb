{
 "cells": [
  {
   "attachments": {},
   "cell_type": "markdown",
   "id": "123456",
   "metadata": {},
   "source": [
    "<div style=\"text-align:left;font-size:2em\"><span style=\"font-weight:bolder;font-size:1.25em\">SP2273 | Learning Portfolio</span><br><br><span style=\"font-weight:bold;color:darkred\">Files, Folders & OS (Need)</span></div>"
   ]
  },
  {
   "attachments": {},
   "cell_type": "markdown",
   "id": "33717537",
   "metadata": {},
   "source": [
    "# What to expect in this chapter"
   ]
  },
  {
   "attachments": {},
   "cell_type": "markdown",
   "id": "cf38fc06",
   "metadata": {},
   "source": [
    "# 1 Important concepts"
   ]
  },
  {
   "attachments": {},
   "cell_type": "markdown",
   "id": "0a430fa4",
   "metadata": {},
   "source": [
    "## 1.1 Path"
   ]
  },
  {
   "cell_type": "markdown",
   "id": "2efebcfa-fd6e-4df0-bbe6-6f773daaec08",
   "metadata": {},
   "source": [
    "A **path** is a way to specify a location on a computer. It shows an address which directs you to a particular file or folder; it allows you to know how to find that particular file or folder in your computer.\n",
    "\n",
    "A path can be defined absolutely or relatively. When defined absolutely, the path is the full *address* of where a file or folder is, but when defined relatively, the path is the relative position of the file or folder with respect to another file or folder."
   ]
  },
  {
   "attachments": {},
   "cell_type": "markdown",
   "id": "569b999c",
   "metadata": {},
   "source": [
    "## 1.2 More about relative paths"
   ]
  },
  {
   "cell_type": "markdown",
   "id": "b059a625-8125-4c15-8671-afabfb0af894",
   "metadata": {},
   "source": [
    "With relative paths, we have to know about the `.` and `..` (dot) notation.\n",
    "\n",
    "The dot notations are to set a **reference point** for which you are going to use it for relative paths for other folders or files."
   ]
  },
  {
   "cell_type": "markdown",
   "id": "8d42467a-84f4-4e53-9dda-7a4dd34d4aae",
   "metadata": {},
   "source": [
    "|**Notation**|**Meaning**|**Example**|\n",
    "|:--:|:--:|:--:|\n",
    "|`.`|'this folder'|`.\\data-files\\data-01.txt` means `data-01.txt` in the `data-files` in the current folder|\n",
    "|`..`|'the folder above'|`..\\data-files\\data-01.txt` means `data-01.txt` in the `data-files` located in the folder above.|"
   ]
  },
  {
   "attachments": {},
   "cell_type": "markdown",
   "id": "d17907b6",
   "metadata": {},
   "source": [
    "### macOS or Linux"
   ]
  },
  {
   "cell_type": "markdown",
   "id": "01f8e12f-243a-4373-b41f-0b84baaf039a",
   "metadata": {},
   "source": [
    "macOS and Linux allows the use of the `~` notation to access our home directory (i.e. the main folder associated with a particular user in a computer).\n",
    "\n",
    "For example, `~/Downloads/file.txt` will access `file.txt` in the `Downloads` folder in the home directory."
   ]
  },
  {
   "attachments": {},
   "cell_type": "markdown",
   "id": "3410ef40",
   "metadata": {},
   "source": [
    "## 1.3 Path separator"
   ]
  },
  {
   "cell_type": "markdown",
   "id": "5b2eac66-f350-4d2c-978b-c5079c7c7052",
   "metadata": {},
   "source": [
    "A **path separator** is a character used to separate components in a path. The path separator for different OS is different. Note that the structure of the path is also different for different OS.\n",
    "\n",
    "|**OS**|**Path separator**|**Path to desktop**|\n",
    "|:--:|:--:|:--:|\n",
    "|Windows|`\\`|`C:\\\\Users\\Warren\\Desktop`|\n",
    "|macOS or Linux|`/`|`/Users/Warren/Desktop`|\n",
    "\n",
    "For a code involving paths, if we want it to work on all OS, we must not **hardcode** the path separators."
   ]
  },
  {
   "attachments": {},
   "cell_type": "markdown",
   "id": "a15626bb",
   "metadata": {},
   "source": [
    "## 1.4 Text files vs. Binary files"
   ]
  },
  {
   "cell_type": "markdown",
   "id": "592c08b8-099c-4fba-b905-72b6f74237be",
   "metadata": {},
   "source": [
    "All files in a computer can be categorised into two big categories: `text files` or `binary files`.\n",
    "\n",
    "`Text files` are files that can be opened and the contents of the file can be easily read by almost all softwares (e.g. Jupyter, Notepad, etc.). Examples of `text file` formats are `.txt`, `.md` and `.csv`.\n",
    "\n",
    "`Binary files` are files that require processing ebfore they can be read properly. For instance for a `.png` file, opening it in its raw form will give a string of binary numbers that do not make sense. Also, some `binary files` only run in specific OS."
   ]
  },
  {
   "attachments": {},
   "cell_type": "markdown",
   "id": "1427b1c4",
   "metadata": {},
   "source": [
    "## 1.5 Extensions"
   ]
  },
  {
   "cell_type": "markdown",
   "id": "aed433c1-4936-4689-a27c-35c06f6b8e24",
   "metadata": {},
   "source": [
    "Files are usually named in the form of `name.extension`. The **extension** `.extension` helps the computer decide which software is to be used to read the file. For example `.xlsx` will prompt Microsoft Excel to read the file.\n",
    "\n",
    "Note that you should be careful when changing the extensions, because it may raise an error when you try to read the contents of the file."
   ]
  },
  {
   "attachments": {},
   "cell_type": "markdown",
   "id": "19bb7a79",
   "metadata": {},
   "source": [
    "# 2 Opening and closing files"
   ]
  },
  {
   "attachments": {},
   "cell_type": "markdown",
   "id": "36578221",
   "metadata": {},
   "source": [
    "## 2.1 Reading data"
   ]
  },
  {
   "cell_type": "markdown",
   "id": "f006b1ea-2714-491b-ab4d-bebc2b08a3a1",
   "metadata": {},
   "source": [
    "We can read data in a file using `with` statements and the `open` function.\n",
    "\n"
   ]
  },
  {
   "attachments": {},
   "cell_type": "markdown",
   "id": "f825ff38",
   "metadata": {},
   "source": [
    "## 2.2 Writing data"
   ]
  },
  {
   "attachments": {},
   "cell_type": "markdown",
   "id": "b3ff98b3",
   "metadata": {},
   "source": [
    "### Writing to a file in one go"
   ]
  },
  {
   "cell_type": "code",
   "execution_count": null,
   "id": "de0244e4",
   "metadata": {},
   "outputs": [],
   "source": [
    "\n",
    "# Your code here\n"
   ]
  },
  {
   "attachments": {},
   "cell_type": "markdown",
   "id": "1d379cee",
   "metadata": {},
   "source": [
    "### Writing to a file, line by line"
   ]
  },
  {
   "cell_type": "code",
   "execution_count": null,
   "id": "40576ae3",
   "metadata": {},
   "outputs": [],
   "source": [
    "\n",
    "# Your code here\n"
   ]
  },
  {
   "attachments": {},
   "cell_type": "markdown",
   "id": "b47b2998",
   "metadata": {},
   "source": [
    "# 3 Some useful packages"
   ]
  },
  {
   "attachments": {},
   "cell_type": "markdown",
   "id": "87dbe5f8",
   "metadata": {},
   "source": [
    "# 4 OS safe paths"
   ]
  },
  {
   "attachments": {},
   "cell_type": "markdown",
   "id": "5bbc9001",
   "metadata": {},
   "source": [
    "# 5 Folders"
   ]
  },
  {
   "attachments": {},
   "cell_type": "markdown",
   "id": "975999be",
   "metadata": {},
   "source": [
    "## 5.1 Creating folders"
   ]
  },
  {
   "attachments": {},
   "cell_type": "markdown",
   "id": "60070637",
   "metadata": {},
   "source": [
    "## 5.2 Checking for existence"
   ]
  },
  {
   "attachments": {},
   "cell_type": "markdown",
   "id": "d7488b5c",
   "metadata": {},
   "source": [
    "### Using try-except"
   ]
  },
  {
   "cell_type": "code",
   "execution_count": null,
   "id": "9cb62aa7",
   "metadata": {},
   "outputs": [],
   "source": [
    "\n",
    "# Your code here\n"
   ]
  },
  {
   "attachments": {},
   "cell_type": "markdown",
   "id": "af44ea8e",
   "metadata": {},
   "source": [
    "### Using os.path.exists()"
   ]
  },
  {
   "cell_type": "code",
   "execution_count": null,
   "id": "7639e873",
   "metadata": {},
   "outputs": [],
   "source": [
    "\n",
    "# Your code here\n"
   ]
  },
  {
   "attachments": {},
   "cell_type": "markdown",
   "id": "bb6c7405",
   "metadata": {},
   "source": [
    "## 5.3 Copying files"
   ]
  },
  {
   "attachments": {},
   "cell_type": "markdown",
   "id": "6d77ea08",
   "metadata": {},
   "source": [
    "# 6 Listing and looking for files"
   ]
  },
  {
   "attachments": {},
   "cell_type": "markdown",
   "id": "30cf1504",
   "metadata": {},
   "source": [
    "# 7 Extracting file info"
   ]
  },
  {
   "attachments": {},
   "cell_type": "markdown",
   "id": "caa56ada",
   "metadata": {},
   "source": [
    "# 8 Deleting stuff"
   ]
  }
 ],
 "metadata": {
  "kernelspec": {
   "display_name": "Python 3 (ipykernel)",
   "language": "python",
   "name": "python3"
  },
  "language_info": {
   "codemirror_mode": {
    "name": "ipython",
    "version": 3
   },
   "file_extension": ".py",
   "mimetype": "text/x-python",
   "name": "python",
   "nbconvert_exporter": "python",
   "pygments_lexer": "ipython3",
   "version": "3.11.5"
  },
  "toc": {
   "base_numbering": 1,
   "nav_menu": {},
   "number_sections": true,
   "sideBar": true,
   "skip_h1_title": false,
   "title_cell": "Table of Contents",
   "title_sidebar": "Contents",
   "toc_cell": false,
   "toc_position": {},
   "toc_section_display": true,
   "toc_window_display": false
  },
  "vscode": {
   "interpreter": {
    "hash": "31f2aee4e71d21fbe5cf8b01ff0e069b9275f58929596ceb00d14d90e3e16cd6"
   }
  }
 },
 "nbformat": 4,
 "nbformat_minor": 5
}
