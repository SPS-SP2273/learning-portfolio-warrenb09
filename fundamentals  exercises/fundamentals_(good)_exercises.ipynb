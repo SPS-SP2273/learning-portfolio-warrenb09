{
 "cells": [
  {
   "attachments": {},
   "cell_type": "markdown",
   "id": "123456",
   "metadata": {},
   "source": [
    "<div style=\"text-align:left;font-size:2em\"><span style=\"font-weight:bolder;font-size:1.25em\">SP2273 | Learning Portfolio</span><br><br><span style=\"font-weight:bold;color:darkred\">Fundamentals (Good) Exercises</span></div>"
   ]
  },
  {
   "cell_type": "markdown",
   "id": "12177b0c-f786-4dcc-97e3-c0076f2d63c0",
   "metadata": {},
   "source": [
    "**Step 1**"
   ]
  },
  {
   "cell_type": "code",
   "execution_count": 1,
   "id": "dbd8db07-1807-462e-b42d-afe8fd384d46",
   "metadata": {},
   "outputs": [
    {
     "name": "stdin",
     "output_type": "stream",
     "text": [
      "Give me a number? 2\n"
     ]
    },
    {
     "name": "stdout",
     "output_type": "stream",
     "text": [
      "You entered 2\n"
     ]
    }
   ],
   "source": [
    "user_input = input('Give me a number?')\n",
    "print('You entered', user_input)"
   ]
  },
  {
   "cell_type": "markdown",
   "id": "3a8681c8-cd86-473c-8670-d0892b1f7e26",
   "metadata": {},
   "source": [
    "<p></p>"
   ]
  },
  {
   "cell_type": "markdown",
   "id": "5e5ae72e-700c-41a8-b6f1-ea0cbbba1fb0",
   "metadata": {},
   "source": [
    "<p></p>"
   ]
  },
  {
   "cell_type": "markdown",
   "id": "8bce244a-41fe-4ee0-a1fd-7d3c29f07c7c",
   "metadata": {},
   "source": [
    "**Task**"
   ]
  },
  {
   "cell_type": "code",
   "execution_count": 39,
   "id": "9ef92bc0-7b91-46d5-a4b3-2927dcb88e88",
   "metadata": {},
   "outputs": [
    {
     "name": "stdin",
     "output_type": "stream",
     "text": [
      "Enter the student's score:  69.99\n"
     ]
    },
    {
     "name": "stdout",
     "output_type": "stream",
     "text": [
      "The student's letter grade is: B\n"
     ]
    }
   ],
   "source": [
    "try:                                                                        #Executes the block of code below, until an error is encountered\n",
    "    student_score = float(input(\"Enter the student's score: \"))\n",
    "    if 70 <= student_score <= 100:\n",
    "        student_grade = \"A\"\n",
    "    elif 50 <= student_score < 70:\n",
    "        student_grade = \"B\"\n",
    "    elif 35 <= student_score < 50:\n",
    "        student_grade = \"C\"\n",
    "    elif 0 <= student_score < 35:\n",
    "        student_grade = \"Fail\"\n",
    "    else:\n",
    "        student_grade = \"Invalid! Student's score must be between 0 and 100 inclusive.\"\n",
    "except ValueError:                                                          #When the try code block encounters a ValueError, execute this block of code instead\n",
    "    student_grade = \"Invalid! Student's score must be a number.\"\n",
    "\n",
    "print(f\"The student's letter grade is: {student_grade}\")"
   ]
  }
 ],
 "metadata": {
  "kernelspec": {
   "display_name": "Python 3 (ipykernel)",
   "language": "python",
   "name": "python3"
  },
  "language_info": {
   "codemirror_mode": {
    "name": "ipython",
    "version": 3
   },
   "file_extension": ".py",
   "mimetype": "text/x-python",
   "name": "python",
   "nbconvert_exporter": "python",
   "pygments_lexer": "ipython3",
   "version": "3.11.5"
  },
  "toc": {
   "base_numbering": 1,
   "nav_menu": {},
   "number_sections": true,
   "sideBar": true,
   "skip_h1_title": false,
   "title_cell": "Table of Contents",
   "title_sidebar": "Contents",
   "toc_cell": false,
   "toc_position": {},
   "toc_section_display": true,
   "toc_window_display": false
  },
  "vscode": {
   "interpreter": {
    "hash": "31f2aee4e71d21fbe5cf8b01ff0e069b9275f58929596ceb00d14d90e3e16cd6"
   }
  }
 },
 "nbformat": 4,
 "nbformat_minor": 5
}
