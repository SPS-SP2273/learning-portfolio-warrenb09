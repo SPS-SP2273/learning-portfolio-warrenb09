{
 "cells": [
  {
   "attachments": {},
   "cell_type": "markdown",
   "id": "123456",
   "metadata": {},
   "source": [
    "<div style=\"text-align:left;font-size:2em\"><span style=\"font-weight:bolder;font-size:1.25em\">SP2273 | Learning Portfolio</span><br><br><span style=\"font-weight:bold;color:darkred\">Fundamentals (Need) Exercises</span></div>"
   ]
  },
  {
   "cell_type": "markdown",
   "id": "f544ef5b-1b6b-4360-baf6-cf6519a43fb7",
   "metadata": {},
   "source": [
    "**Exercise 1**"
   ]
  },
  {
   "cell_type": "markdown",
   "id": "236f4a4f-1389-4c8f-8a8a-dd43a981141d",
   "metadata": {},
   "source": [
    "- Functions always take arguments, with the exception of a few. The arguments are enclosed in parenthesis `()` right after the function e.g. `print(\"Hello world!\")`, where the function is `print` and the argument is `\"Hello world!\"`.\n",
    "- Python is case-sensitive.\n",
    "- We use the `if` function to make decisions.\n",
    "- Indentations are important. `:` is used to designate a block of code.\n",
    "- We can install packages and make use of them e.g. `numpy`.\n",
    "- We can use the `.` to access functions specific to a variable.\n",
    "- We can type in comments using `#` or `'''`.\n",
    "- *Python reads the code sequentially from top to bottom, one line at a time.*\n",
    "- *`=` is to assign a value, `==` asks the question of 'is this equal to that?'.*\n",
    "- *\"A\" is a string, while A is a variable.*\n",
    "- *Brackets are used for many different purposes, including calling a function, creating a list or creating a dictionary.*"
   ]
  },
  {
   "cell_type": "markdown",
   "id": "715e443a-2bb4-47b8-9b2b-9a2f84e0b008",
   "metadata": {},
   "source": [
    "<p></p>"
   ]
  },
  {
   "cell_type": "markdown",
   "id": "679feb7b-83a3-4929-8c6f-9072acbf7000",
   "metadata": {},
   "source": [
    "<p></p>"
   ]
  },
  {
   "cell_type": "markdown",
   "id": "6910ccbe-7c56-43d7-ad1a-872af13ee1a1",
   "metadata": {},
   "source": [
    "**Exercise 2**"
   ]
  },
  {
   "cell_type": "code",
   "execution_count": 3,
   "id": "b21c0635-0eb6-44cd-9030-47ca04cf050c",
   "metadata": {},
   "outputs": [
    {
     "name": "stdout",
     "output_type": "stream",
     "text": [
      "3 4 5.0\n"
     ]
    }
   ],
   "source": [
    "import numpy as np\n",
    "\n",
    "x, y = 3, 4\n",
    "z = np.sqrt(x**2 + y**2)\n",
    "print(x, y, z)"
   ]
  },
  {
   "cell_type": "markdown",
   "id": "cc9f2ec6-ebf5-4b01-9219-db6d7cd02fa3",
   "metadata": {},
   "source": [
    "<p></p>"
   ]
  },
  {
   "cell_type": "markdown",
   "id": "d089aee8-3e00-4b5c-ac15-15750dc294ec",
   "metadata": {},
   "source": [
    "<p></p>"
   ]
  },
  {
   "cell_type": "markdown",
   "id": "cc843741-fbfa-423b-a7e3-42fbdaaeecf0",
   "metadata": {},
   "source": [
    "**Exercise 3**"
   ]
  },
  {
   "cell_type": "markdown",
   "id": "eed11254-0178-4b5a-999c-689db2e3b26a",
   "metadata": {},
   "source": [
    "|**#**|**Term**|**Description**|\n",
    "|:--:|:--|:--|\n",
    "|1|Function|It performs a specific task in a code.|\n",
    "|2|Argument|A value that is passed into a function.|\n",
    "|3|Comments|Text that can be inserted into a line of code to explain what the code on that line does.|\n",
    "|4|Indentations|Spaces inserted before a line of code to designate that line of code to a specific condition, such as an `if` statement.|\n",
    "|5|Packages|Adds new functions to Python.|\n",
    "|6|`.`|Allows access to functions associated with a variable.|\n",
    "|7|`:`|Along with indentations, designates lines of code to a specific condition.|\n",
    "|8|`[]`|Creates a list, or calls an element from a list.|\n",
    "|9|`[[[]]]`|Creates a 3D list|\n",
    "|10|`{}`|Creates a dictionary|"
   ]
  },
  {
   "cell_type": "markdown",
   "id": "46dd8591-0740-432e-8ed7-0e0dec12430c",
   "metadata": {},
   "source": [
    "<p></p>"
   ]
  },
  {
   "cell_type": "markdown",
   "id": "5dd7d891-97d7-4181-913e-35bc795f7fdb",
   "metadata": {},
   "source": [
    "<p></p>"
   ]
  },
  {
   "cell_type": "markdown",
   "id": "69ab71d8-1b58-43b0-a5bc-b9c8009467e6",
   "metadata": {},
   "source": [
    "**Exercise 4**"
   ]
  },
  {
   "cell_type": "code",
   "execution_count": 13,
   "id": "2d87e421-d875-4c02-81ea-802329f2074e",
   "metadata": {},
   "outputs": [
    {
     "data": {
      "text/plain": [
       "2.5"
      ]
     },
     "execution_count": 13,
     "metadata": {},
     "output_type": "execute_result"
    }
   ],
   "source": [
    "5/2           # Divides 5 by 2"
   ]
  },
  {
   "cell_type": "code",
   "execution_count": 11,
   "id": "dd87bfaf-21e5-4f0c-830d-9c572ed228f9",
   "metadata": {},
   "outputs": [
    {
     "data": {
      "text/plain": [
       "2"
      ]
     },
     "execution_count": 11,
     "metadata": {},
     "output_type": "execute_result"
    }
   ],
   "source": [
    "5//2          # Displays the divisor when 5 is divided by 2"
   ]
  },
  {
   "cell_type": "code",
   "execution_count": 12,
   "id": "124e90f9-cfdb-42cf-9b86-688ef298aa9c",
   "metadata": {},
   "outputs": [
    {
     "data": {
      "text/plain": [
       "1"
      ]
     },
     "execution_count": 12,
     "metadata": {},
     "output_type": "execute_result"
    }
   ],
   "source": [
    "5%2           # Displays the remainder when 5 is divided by 2 (modular arithmetic, equivalent to 5 mod 2)"
   ]
  }
 ],
 "metadata": {
  "kernelspec": {
   "display_name": "Python 3 (ipykernel)",
   "language": "python",
   "name": "python3"
  },
  "language_info": {
   "codemirror_mode": {
    "name": "ipython",
    "version": 3
   },
   "file_extension": ".py",
   "mimetype": "text/x-python",
   "name": "python",
   "nbconvert_exporter": "python",
   "pygments_lexer": "ipython3",
   "version": "3.11.5"
  },
  "toc": {
   "base_numbering": 1,
   "nav_menu": {},
   "number_sections": true,
   "sideBar": true,
   "skip_h1_title": false,
   "title_cell": "Table of Contents",
   "title_sidebar": "Contents",
   "toc_cell": false,
   "toc_position": {},
   "toc_section_display": true,
   "toc_window_display": false
  },
  "vscode": {
   "interpreter": {
    "hash": "31f2aee4e71d21fbe5cf8b01ff0e069b9275f58929596ceb00d14d90e3e16cd6"
   }
  }
 },
 "nbformat": 4,
 "nbformat_minor": 5
}
