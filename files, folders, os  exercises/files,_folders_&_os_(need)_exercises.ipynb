{
 "cells": [
  {
   "attachments": {},
   "cell_type": "markdown",
   "id": "123456",
   "metadata": {},
   "source": [
    "<div style=\"text-align:left;font-size:2em\"><span style=\"font-weight:bolder;font-size:1.25em\">SP2273 | Learning Portfolio</span><br><br><span style=\"font-weight:bold;color:darkred\">Files, Folders & OS (Need) Exercises</span></div>"
   ]
  },
  {
   "cell_type": "markdown",
   "id": "e1635610-cb60-4e94-9093-cc804188b4fa",
   "metadata": {},
   "source": [
    "**Task 1**"
   ]
  },
  {
   "cell_type": "code",
   "execution_count": 1,
   "id": "477fb273-2407-4c7c-9575-7fb2c7ba254c",
   "metadata": {},
   "outputs": [
    {
     "name": "stdout",
     "output_type": "stream",
     "text": [
      "10-08_singapore.txt\n"
     ]
    }
   ],
   "source": [
    "month_to_num = {\n",
    "'jan': '01', 'feb': '02', 'mar': '03',\n",
    "'apr': '04', 'may': '05', 'jun': '06',\n",
    "'jul': '07', 'aug': '08', 'sep': '09',\n",
    "'oct': '10', 'nov': '11', 'dec': '12'\n",
    "}\n",
    "\n",
    "filename_txt1 = 'oct-08_singapore.txt'\n",
    "month_string1, rest_txt1 = filename_txt1.split(\"-\")\n",
    "month_number1 = month_to_num[month_string1]\n",
    "new_name1 = f\"{month_number1}-{rest_txt1}\"\n",
    "print(new_name1)"
   ]
  },
  {
   "cell_type": "markdown",
   "id": "522cc005-39b3-414c-a8f4-6638fdf3f502",
   "metadata": {},
   "source": [
    "<p></p>"
   ]
  },
  {
   "cell_type": "markdown",
   "id": "c798bb9d-a29f-473e-a2c9-b6f46e2dd06f",
   "metadata": {},
   "source": [
    "**Task 2**"
   ]
  },
  {
   "cell_type": "code",
   "execution_count": 2,
   "id": "dc19ff0f-6857-4e53-9a71-3af15381cfc2",
   "metadata": {},
   "outputs": [],
   "source": [
    "def rename_my_file(old_name_file):\n",
    "    month_string, rest_txt = old_name_file.split(\"-\")\n",
    "    month_number = month_to_num[month_string]\n",
    "    new_name = f\"{month_number}-{rest_txt}\"\n",
    "    return new_name"
   ]
  },
  {
   "cell_type": "markdown",
   "id": "bd537204-e821-40df-ae2b-3cb334af0483",
   "metadata": {},
   "source": [
    "<p></p>"
   ]
  },
  {
   "cell_type": "markdown",
   "id": "3122ee41-70df-4990-9202-89f9c0a723d6",
   "metadata": {},
   "source": [
    "**Task 3**"
   ]
  },
  {
   "cell_type": "code",
   "execution_count": 3,
   "id": "499eb157-7333-4d63-b097-7d77b9aed0a7",
   "metadata": {},
   "outputs": [
    {
     "name": "stdout",
     "output_type": "stream",
     "text": [
      "oct-08_singapore.txt ---> 10-08_singapore.txt\n",
      "jul-10_cairo.txt ---> 07-10_cairo.txt\n",
      "may-15_dhaka.txt ---> 05-15_dhaka.txt\n",
      "may-13_cairo.txt ---> 05-13_cairo.txt\n",
      "oct-21_cairo.txt ---> 10-21_cairo.txt\n",
      "jan-10_singapore.txt ---> 01-10_singapore.txt\n",
      "jun-20_tokyo.txt ---> 06-20_tokyo.txt\n",
      "aug-06_jakarta.txt ---> 08-06_jakarta.txt\n",
      "dec-21_karachi.txt ---> 12-21_karachi.txt\n",
      "jan-01_tokyo.txt ---> 01-01_tokyo.txt\n"
     ]
    }
   ],
   "source": [
    "data_txt = ['oct-08_singapore.txt', 'jul-10_cairo.txt', 'may-15_dhaka.txt',\n",
    " 'may-13_cairo.txt', 'oct-21_cairo.txt', 'jan-10_singapore.txt',\n",
    " 'jun-20_tokyo.txt', 'aug-06_jakarta.txt', 'dec-21_karachi.txt',\n",
    " 'jan-01_tokyo.txt']\n",
    "\n",
    "for filename in data_txt:\n",
    "    new_name = rename_my_file(filename)\n",
    "    print(f\"{filename} ---> {new_name}\")"
   ]
  },
  {
   "cell_type": "markdown",
   "id": "b2afaed7-496f-4e75-8e81-5ba03c8213a2",
   "metadata": {},
   "source": [
    "<p></p>"
   ]
  },
  {
   "cell_type": "markdown",
   "id": "a1607979-6d5f-4962-8cf5-59add8c597fb",
   "metadata": {},
   "source": [
    "**Task 4**"
   ]
  },
  {
   "cell_type": "code",
   "execution_count": 4,
   "id": "4c12441f-d671-4cd5-b60d-f32825c72a9f",
   "metadata": {
    "scrolled": true
   },
   "outputs": [],
   "source": [
    "import os\n",
    "import glob\n",
    "import shutil\n",
    "\n",
    "data_txt4 = glob.glob(\"os-c*/*.txt\")\n",
    "\n",
    "for path in data_txt4:\n",
    "    filename_txt = os.path.split(path)[-1]\n",
    "    new_name = rename_my_file(filename_txt)\n",
    "    new_path = os.path.join(\"os-collaboration-exercise-data\", new_name)\n",
    "    os.rename(path, new_path)"
   ]
  },
  {
   "cell_type": "markdown",
   "id": "c813183f-1a22-4204-95ad-d157d8e283ad",
   "metadata": {},
   "source": [
    "<p></p>"
   ]
  },
  {
   "cell_type": "markdown",
   "id": "395e8797-686d-43fe-91aa-5123d2e319db",
   "metadata": {},
   "source": [
    "**Task 5**"
   ]
  },
  {
   "cell_type": "code",
   "execution_count": 5,
   "id": "bd331f50-112f-4885-99a4-5e336367d226",
   "metadata": {},
   "outputs": [],
   "source": [
    "countries = ['Cairo', 'Dhaka', 'Jakarta', 'Karachi', 'Manila',\n",
    " 'Melbourne', 'Osaka', 'Shanghai', 'Singapore', 'Tokyo']\n",
    "\n",
    "for country in countries:\n",
    "    folder_path_countries = os.path.join(\"os-collaboration-exercise-data\", country)\n",
    "    if not os.path.exists(folder_path_countries):\n",
    "        os.mkdir(folder_path_countries)"
   ]
  },
  {
   "cell_type": "markdown",
   "id": "8ffe442e-d702-480a-b8b6-b1f2f7201a5f",
   "metadata": {},
   "source": [
    "<p></p>"
   ]
  },
  {
   "cell_type": "markdown",
   "id": "e9dd3ec7-7c08-45b4-9424-d2d28d121e20",
   "metadata": {},
   "source": [
    "**Task 6**"
   ]
  },
  {
   "cell_type": "code",
   "execution_count": 6,
   "id": "b9549eae-df87-48d1-bdd3-a79a618ad317",
   "metadata": {},
   "outputs": [],
   "source": [
    "cairo_files = glob.glob(\"os-c*/*_cairo.txt\")\n",
    "\n",
    "for data in cairo_files:\n",
    "    filename_cairo = os.path.split(data)[-1]\n",
    "    old_path_cairo = os.path.join(\"os-collaboration-exercise-data\", filename_cairo)\n",
    "    new_path_cairo = os.path.join(\"os-collaboration-exercise-data\", \"Cairo\", filename_cairo)\n",
    "    shutil.copy(old_path_cairo, new_path_cairo)"
   ]
  },
  {
   "cell_type": "markdown",
   "id": "580a59cb-7e1a-4a12-806e-fa78fa07d394",
   "metadata": {},
   "source": [
    "<p></p>"
   ]
  },
  {
   "cell_type": "markdown",
   "id": "f67bef3d-b2e5-474d-821a-85595a18e770",
   "metadata": {},
   "source": [
    "**Task 7**"
   ]
  },
  {
   "cell_type": "code",
   "execution_count": 7,
   "id": "c7f5738e-a9ce-4c7c-b3b0-e7ea32dd2eb3",
   "metadata": {},
   "outputs": [],
   "source": [
    "all_files = glob.glob(\"os-c*/*.txt\")\n",
    "\n",
    "for country in countries:\n",
    "    country_files = glob.glob(f\"os-c*/*_{country}.txt\")\n",
    "    for spec_data in country_files:\n",
    "        filename_country = os.path.split(spec_data)[-1]\n",
    "        old_path_country = os.path.join(\"os-collaboration-exercise-data\", filename_country)\n",
    "        new_path_country = os.path.join(\"os-collaboration-exercise-data\", country, filename_country)\n",
    "        shutil.move(old_path_country, new_path_country)"
   ]
  }
 ],
 "metadata": {
  "kernelspec": {
   "display_name": "Python 3 (ipykernel)",
   "language": "python",
   "name": "python3"
  },
  "language_info": {
   "codemirror_mode": {
    "name": "ipython",
    "version": 3
   },
   "file_extension": ".py",
   "mimetype": "text/x-python",
   "name": "python",
   "nbconvert_exporter": "python",
   "pygments_lexer": "ipython3",
   "version": "3.11.5"
  },
  "toc": {
   "base_numbering": 1,
   "nav_menu": {},
   "number_sections": true,
   "sideBar": true,
   "skip_h1_title": false,
   "title_cell": "Table of Contents",
   "title_sidebar": "Contents",
   "toc_cell": false,
   "toc_position": {},
   "toc_section_display": true,
   "toc_window_display": false
  },
  "vscode": {
   "interpreter": {
    "hash": "31f2aee4e71d21fbe5cf8b01ff0e069b9275f58929596ceb00d14d90e3e16cd6"
   }
  }
 },
 "nbformat": 4,
 "nbformat_minor": 5
}
