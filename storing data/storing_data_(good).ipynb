{
 "cells": [
  {
   "attachments": {},
   "cell_type": "markdown",
   "id": "123456",
   "metadata": {},
   "source": [
    "<div style=\"text-align:left;font-size:2em\"><span style=\"font-weight:bolder;font-size:1.25em\">SP2273 | Learning Portfolio</span><br><br><span style=\"font-weight:bold;color:darkred\">Storing Data (Good)</span></div>"
   ]
  },
  {
   "attachments": {},
   "cell_type": "markdown",
   "id": "b04a7330",
   "metadata": {},
   "source": [
    "# What to expect in this chapter"
   ]
  },
  {
   "attachments": {},
   "cell_type": "markdown",
   "id": "dcda4f75",
   "metadata": {},
   "source": [
    "# Subsetting: Indexing and Slicing"
   ]
  },
  {
   "cell_type": "markdown",
   "id": "a01be20a-0ec2-4051-88ca-c01685f1b4e5",
   "metadata": {},
   "source": [
    "**Subsetting** is the act of selecting elements from a list or an array. There are two types of subsetting: **indexing** (selecting one element, demonstrated using `[]` in previous parts, and **slicing** (selecting a range of elements). "
   ]
  },
  {
   "attachments": {},
   "cell_type": "markdown",
   "id": "864478c6",
   "metadata": {},
   "source": [
    "## Lists & Arrays in 1D | Subsetting & Indexing"
   ]
  },
  {
   "cell_type": "markdown",
   "id": "3481bd62-8dd4-4b6b-9fd4-c0809308ae1e",
   "metadata": {},
   "source": [
    "The syntax for slicing is similar to indexing.\n",
    "\n",
    "For indexing, for the list `list1`, the syntax is `list[x]`, where `x` is the index number of the element (this applies to arrays as well).\n",
    "\n",
    "For slicing, the index for the same list is `list1[x:y:z]`, where `x` is the index number of the element to start with, `y` the index number of the element after the last element to be included, and `z` is the steps (e.g. if `z = 2`, then the sliced list will include every other element within the range of the `x` and `y`). See below for more clarification (this also applies to arrays)."
   ]
  },
  {
   "cell_type": "markdown",
   "id": "3e8f173e-4a95-402b-b220-119a5f5ef8b4",
   "metadata": {},
   "source": [
    "For `list1` with the elements `[a1, a2, a3, a4, a5, a6]`,\n",
    "\n",
    "|**Syntax**|**Output**|**Explanation**|**Note**|\n",
    "|:--|:--|:--|:--|\n",
    "|`list1[2:5]`|`[a3, a4, a5]`|Sliced array starts with element with index 2, ends with element with index 4|Gives $5-2=3$ elements|\n",
    "|`list1[0:4]`|`[a1, a2, a3, a4]`|Sliced array starts with element with index 0, ends with element with index 3|Gives $4-0=3$ elements|\n",
    "|`list1[0:4:2]`|`[a1, a3]`|Sliced array starts with element with index 0, ends with element with index 3, with step of 2|Gives every other of $4-0=4$ elements|\n",
    "|`list1[3:]`|`[a4, a5, a6]`|Sliced array starts with element with index 3, and includes all elements after it|Gives $6-3=3$ elements|\n",
    "|`list1[:3]`|`[a1, a2, a3]`|Sliced array starts with element with index 0, and includes all elements after it up till the element with index 2|Gives $3-0=3$ elements|\n",
    "|`list1[2:5:-1]`|`[a5, a4, a3]`|Same as the first example, but reversed||\n",
    "|`list1[0:4:-2]`|`[a3, a1]`|Same as the third example, but reversed||\n",
    "|`list1[::-1]`|`[a6, a5, a4, ..., a1]`|Reverses the list|Gives $6-0=6$ elements|"
   ]
  },
  {
   "cell_type": "markdown",
   "id": "39a7acc6-b0ca-48a5-953b-092646a539ed",
   "metadata": {},
   "source": [
    "Notice that the number of elements given by the slicing for `list1[i:j]` is always `j - i` and the sliced elements start with the element with index `i` and ends with that with index `j - 1`."
   ]
  },
  {
   "cell_type": "markdown",
   "id": "2eb45108-8ced-48ed-b7a9-5a70d20868ab",
   "metadata": {},
   "source": [
    "<p></p>"
   ]
  },
  {
   "attachments": {},
   "cell_type": "markdown",
   "id": "5dcd654d",
   "metadata": {},
   "source": [
    "## Arrays only | Subsetting by masking"
   ]
  },
  {
   "cell_type": "markdown",
   "id": "2aa3b970-90f8-4f70-8d92-5314a5aa2564",
   "metadata": {},
   "source": [
    "With arrays **only**, we can pass in arguments in the form of a boolean array to control which elements are included in a sliced array; this is called `masking`. See below for an example."
   ]
  },
  {
   "cell_type": "code",
   "execution_count": 4,
   "id": "16f6e0f8-17e1-42f5-b85f-ac15fbeb5f9c",
   "metadata": {},
   "outputs": [
    {
     "name": "stdout",
     "output_type": "stream",
     "text": [
      "[1 3 4 7 8 9]\n"
     ]
    }
   ],
   "source": [
    "import numpy as np\n",
    "\n",
    "array_mask = np.array([1, 2, 3, 4, 5, 6, 7, 8, 9, 10])\n",
    "for_masking = np.array([True, False, True, True, False, False, True, True, True, False])  \n",
    "\n",
    "masked_array = array_mask[for_masking]           \n",
    "print(masked_array)"
   ]
  },
  {
   "cell_type": "markdown",
   "id": "a86397eb-3073-43d5-8a0d-09a6a9abd329",
   "metadata": {},
   "source": [
    "In the example above, the only elements from `array_mask` that will be included in `masked_array` is those whose index numbers correspond to the same index number as the value `True` in the array `for_masking`.\n",
    "\n",
    "So, for example, in `array_mask` the index number of the element `1` is 0. In `for_masking`, the index 0 corresponds to the element `True`. This means that in `masked_array`, there will be the element `1`. However, for element `10`, the index number 9 corresponds to the element `False` in `for_masking`. Hence, `10` is not included in `masked_array`."
   ]
  },
  {
   "cell_type": "markdown",
   "id": "b835a9a2-f834-4385-b549-950b9ee7c270",
   "metadata": {},
   "source": [
    "<p>\n",
    "</p>"
   ]
  },
  {
   "cell_type": "markdown",
   "id": "86e6f992-d621-4f09-820f-1f41aa2fb5be",
   "metadata": {},
   "source": [
    "Below shows more examples (and more complex) maskings."
   ]
  },
  {
   "cell_type": "markdown",
   "id": "3ceed4cf-5d34-4cb4-bdb3-e61dcbf56e42",
   "metadata": {},
   "source": [
    "**Example 1**"
   ]
  },
  {
   "cell_type": "code",
   "execution_count": 6,
   "id": "cfb3185c-6ffd-4bd5-aa46-00ecec515e23",
   "metadata": {},
   "outputs": [
    {
     "name": "stdout",
     "output_type": "stream",
     "text": [
      "[ 4  5  6  7  8  9 10]\n"
     ]
    }
   ],
   "source": [
    "mask1 = array_mask > 3\n",
    "\n",
    "print(array_mask[mask1])     #Prints all elements more than 3"
   ]
  },
  {
   "cell_type": "markdown",
   "id": "eaaa25ef-2726-4d01-a097-a380e6beab88",
   "metadata": {},
   "source": [
    "<p></p>"
   ]
  },
  {
   "cell_type": "markdown",
   "id": "9a712693-1bfb-4006-afba-a968f2bfd032",
   "metadata": {},
   "source": [
    "**Example 2**"
   ]
  },
  {
   "cell_type": "markdown",
   "id": "c30dfe53-94a1-4443-b184-2118b74c396b",
   "metadata": {},
   "source": [
    "We can use the `bitwise operator`, `~`, to switch all the `True` elements to `False` and all the `False` elements to `True`; essentially, `~` is the `not` operator."
   ]
  },
  {
   "cell_type": "code",
   "execution_count": 7,
   "id": "0722250e-eed2-49c2-a562-a9b7af73a461",
   "metadata": {},
   "outputs": [
    {
     "name": "stdout",
     "output_type": "stream",
     "text": [
      "[1 2 3]\n"
     ]
    }
   ],
   "source": [
    "print(array_mask[~mask1])    #Prints all elements NOT more than 3"
   ]
  },
  {
   "cell_type": "markdown",
   "id": "ce548e53-e907-4edf-9f9b-1e5afb58f117",
   "metadata": {},
   "source": [
    "<p></p>"
   ]
  },
  {
   "cell_type": "markdown",
   "id": "7d32708c-e03e-4f2f-b668-f70613f2a704",
   "metadata": {},
   "source": [
    "**Example 3**"
   ]
  },
  {
   "cell_type": "markdown",
   "id": "a8c2ddc4-6ca5-4cd2-96e4-fd194bee6b4e",
   "metadata": {},
   "source": [
    "We can combine two masking arrays using `&` (i.e. the `and` operator)."
   ]
  },
  {
   "cell_type": "code",
   "execution_count": 8,
   "id": "44cc394d-82e7-4575-892f-9d7cd612a7bf",
   "metadata": {},
   "outputs": [
    {
     "name": "stdout",
     "output_type": "stream",
     "text": [
      "[4 5 6 7]\n"
     ]
    }
   ],
   "source": [
    "mask2 = array_mask < 8\n",
    "\n",
    "print(array_mask[mask1 & mask2])   #Prints all elements more than 3 and less than 8"
   ]
  },
  {
   "cell_type": "markdown",
   "id": "7253b3a9-2124-40c8-a33b-1bcc3e276fc1",
   "metadata": {},
   "source": [
    "<p></p>"
   ]
  },
  {
   "cell_type": "markdown",
   "id": "aae447ac-db68-4f3c-9ce5-ef3dc0551414",
   "metadata": {},
   "source": [
    "**Example 4**"
   ]
  },
  {
   "cell_type": "markdown",
   "id": "262e3104-61b0-485a-9dd8-ead0c832e8fc",
   "metadata": {},
   "source": [
    "We can also use the `or` operator using the symbol `|`."
   ]
  },
  {
   "cell_type": "code",
   "execution_count": 9,
   "id": "25dafe08-04d0-4f2f-942a-f385c6d17c8f",
   "metadata": {},
   "outputs": [
    {
     "name": "stdout",
     "output_type": "stream",
     "text": [
      "[ 1  4  5  6  7  8  9 10]\n"
     ]
    }
   ],
   "source": [
    "mask3 = array_mask < 2\n",
    "\n",
    "print(array_mask[mask1 | mask3])   #Prints all elements that are either less than 2 or more than 3"
   ]
  },
  {
   "cell_type": "markdown",
   "id": "d27c6f50-7e53-4658-aa59-8a1223d92d63",
   "metadata": {},
   "source": [
    "<p></p>"
   ]
  },
  {
   "attachments": {},
   "cell_type": "markdown",
   "id": "666e5588",
   "metadata": {},
   "source": [
    "## Lists & Arrays in 2D | Indexing & Slicing"
   ]
  },
  {
   "cell_type": "markdown",
   "id": "f08a72c1-e876-452a-851b-9ef0b5b7b0c5",
   "metadata": {},
   "source": [
    "The way to index and slice high dimensional lists and arrays are different. Consider the list and array below."
   ]
  },
  {
   "cell_type": "code",
   "execution_count": 10,
   "id": "23494fe0-4b6c-4475-8a1c-333ebb12294c",
   "metadata": {},
   "outputs": [],
   "source": [
    "py_list_2d = [[1, \"A\"], [2, \"B\"], [3, \"C\"], [4, \"D\"],\n",
    "              [5, \"E\"], [6, \"F\"], [7, \"G\"], [8, \"H\"],\n",
    "              [9, \"I\"], [10, \"J\"]]\n",
    "\n",
    "np_array_2d = np.array(py_list_2d)"
   ]
  },
  {
   "cell_type": "markdown",
   "id": "7dfd4ee4-4e21-4521-853b-6c81833b4cb2",
   "metadata": {},
   "source": [
    "<p></p>"
   ]
  },
  {
   "cell_type": "markdown",
   "id": "694daee7-ac85-455c-a2f7-90f032e2e491",
   "metadata": {},
   "source": [
    "**Example 1**"
   ]
  },
  {
   "cell_type": "markdown",
   "id": "be58918c-b1fa-471c-b330-1cd7115c1a45",
   "metadata": {},
   "source": [
    "The way to index the 1D list or array element is basically the same for both 2D list and 2D array. However, if we want to extract a single element from the 2D list or 2D array, the syntax is different.\n",
    "\n",
    "For example, if we want to extract `'G'` from the list and array:"
   ]
  },
  {
   "cell_type": "code",
   "execution_count": 12,
   "id": "13f22144-4028-406f-bd42-99cc14dc0dab",
   "metadata": {},
   "outputs": [
    {
     "name": "stdout",
     "output_type": "stream",
     "text": [
      "G\n",
      "G\n"
     ]
    }
   ],
   "source": [
    "print(py_list_2d[6][1])        #Extracts the element with index 1 in the 1D list with index 6 on the 2D array\n",
    "print(np_array_2d[6, 1])       #Does the same thing, but notice the difference in syntax where only one [] is used"
   ]
  },
  {
   "cell_type": "markdown",
   "id": "710a2498-580e-4656-ba06-cfe0e301ac61",
   "metadata": {},
   "source": [
    "<p></p>"
   ]
  },
  {
   "cell_type": "markdown",
   "id": "7bf86b9d-3801-4bda-9627-3b5198a21c06",
   "metadata": {},
   "source": [
    "**Example 2**"
   ]
  },
  {
   "cell_type": "markdown",
   "id": "a38763b4-8dbf-45c0-8735-215474dd3bc8",
   "metadata": {},
   "source": [
    "Consider the slicing below."
   ]
  },
  {
   "cell_type": "code",
   "execution_count": 13,
   "id": "26bb0426-e926-4b5f-ae8b-2220b22a136c",
   "metadata": {},
   "outputs": [
    {
     "data": {
      "text/plain": [
       "[1, 'A']"
      ]
     },
     "execution_count": 13,
     "metadata": {},
     "output_type": "execute_result"
    }
   ],
   "source": [
    "py_list_2d[:3][0]"
   ]
  },
  {
   "cell_type": "markdown",
   "id": "c4f49a87-a60d-40b2-acc3-db5d066282f2",
   "metadata": {},
   "source": [
    "By right, this should have extracted the elements with index 0 in all of the 1D lists in `py_list_2d[:3]`. However, this is not the case. Instead, it gives the first of the list we get from `py_list_2d[:3]` (the 1D list at index 0 in `py_list_2d[:3]`).\n",
    "\n",
    "If it was an array, the output will be as expected. See below."
   ]
  },
  {
   "cell_type": "code",
   "execution_count": 16,
   "id": "c2f3d12a-bf35-4609-8cdf-c192e55f9689",
   "metadata": {},
   "outputs": [
    {
     "data": {
      "text/plain": [
       "array(['1', '2', '3'], dtype='<U11')"
      ]
     },
     "execution_count": 16,
     "metadata": {},
     "output_type": "execute_result"
    }
   ],
   "source": [
    "np_array_2d[:3, 0]"
   ]
  },
  {
   "cell_type": "markdown",
   "id": "624489e2-eeda-4d82-86f9-86edb0a47e0a",
   "metadata": {},
   "source": [
    "<p></p>"
   ]
  },
  {
   "cell_type": "markdown",
   "id": "b7c7d4b6-0025-434f-b653-d2ee56c0dcb4",
   "metadata": {},
   "source": [
    "**Example 3**"
   ]
  },
  {
   "cell_type": "markdown",
   "id": "342b4fef-8f6c-4df7-936d-9ece39731e92",
   "metadata": {},
   "source": [
    "This example does not show the difference in syntaxes between subsetting of lists and arrays, but if we want to extract only the elements of a certain index in all of the 1D arrays in a 2D array, we do it like this:"
   ]
  },
  {
   "cell_type": "code",
   "execution_count": 17,
   "id": "0dfff92f-38da-4920-87f7-db9cc7a140a6",
   "metadata": {},
   "outputs": [
    {
     "data": {
      "text/plain": [
       "array(['1', '2', '3', '4', '5', '6', '7', '8', '9', '10'], dtype='<U11')"
      ]
     },
     "execution_count": 17,
     "metadata": {},
     "output_type": "execute_result"
    }
   ],
   "source": [
    "np_array_2d[:, 0]      #Just using : means that we will be including all of the 1D lists"
   ]
  },
  {
   "cell_type": "markdown",
   "id": "71bedb64-ea9d-43db-8af5-53bb64d5e15f",
   "metadata": {},
   "source": [
    "<p></p>"
   ]
  },
  {
   "attachments": {},
   "cell_type": "markdown",
   "id": "e77c8443",
   "metadata": {},
   "source": [
    "## Growing lists"
   ]
  },
  {
   "cell_type": "markdown",
   "id": "be892364-f1e8-4d33-b3f8-8adf0c337258",
   "metadata": {},
   "source": [
    "Lists can be more useful than arrays when the size of the list changes (changing the size of arrays is complicated).\n",
    "\n",
    "Below shows ways to change the size of a list."
   ]
  },
  {
   "cell_type": "markdown",
   "id": "86787e69-bc64-4e73-92e1-cd2673fdcb29",
   "metadata": {},
   "source": [
    "<p></p>"
   ]
  },
  {
   "cell_type": "markdown",
   "id": "ac320ae0-3efc-423d-9daf-1530420d46f3",
   "metadata": {},
   "source": [
    "**Example 1**"
   ]
  },
  {
   "cell_type": "code",
   "execution_count": 18,
   "id": "b24d7a29-e8d7-4d07-b8ba-cbc7954f9648",
   "metadata": {},
   "outputs": [
    {
     "name": "stdout",
     "output_type": "stream",
     "text": [
      "[1, 2, 1, 2, 1, 2, 1, 2, 1, 2]\n"
     ]
    }
   ],
   "source": [
    "list_grow1 = [1, 2]\n",
    "grown_list = list_grow1 * 5\n",
    "\n",
    "print(grown_list)"
   ]
  },
  {
   "cell_type": "markdown",
   "id": "a05a9eb2-c372-4ba1-a2de-9376c16bd0f3",
   "metadata": {},
   "source": [
    "<p></p>"
   ]
  },
  {
   "cell_type": "markdown",
   "id": "9d0aa6ac-eb0e-4a80-9cc5-268f02051bf0",
   "metadata": {},
   "source": [
    "**Example 2**"
   ]
  },
  {
   "cell_type": "markdown",
   "id": "3eee5014-63fe-4c3c-9985-b024cd5f826e",
   "metadata": {},
   "source": [
    "We can grow the lists one element at a time."
   ]
  },
  {
   "cell_type": "code",
   "execution_count": 23,
   "id": "4a4d2dce-1b72-4bb8-acad-e6547b7c72c8",
   "metadata": {},
   "outputs": [
    {
     "name": "stdout",
     "output_type": "stream",
     "text": [
      "[1, 2, 3, 4]\n"
     ]
    }
   ],
   "source": [
    "x = [1]                 #x = [1]\n",
    "x = x + [2]             #x = [1, 2]\n",
    "x = x + [3]             #x = [1, 2, 3]\n",
    "x = x + [4]             #x = [1, 2, 3, 4]\n",
    "\n",
    "print(x)                #You can use the += shortcut too to make the code look cleaner"
   ]
  },
  {
   "cell_type": "markdown",
   "id": "a6915422-91f2-40ee-9f3f-176e7efffff4",
   "metadata": {},
   "source": [
    "<p></p>"
   ]
  },
  {
   "cell_type": "markdown",
   "id": "aa223e27-302b-418f-9ddf-37bb97479430",
   "metadata": {},
   "source": [
    "We can use the attribute `.append` to add elements to a list too."
   ]
  },
  {
   "cell_type": "code",
   "execution_count": 25,
   "id": "59565f6f-0009-4059-993b-8b960e0d2ee2",
   "metadata": {},
   "outputs": [
    {
     "name": "stdout",
     "output_type": "stream",
     "text": [
      "[1, 2, 3, 4]\n"
     ]
    }
   ],
   "source": [
    "y = [1]                 #x = [1]\n",
    "y.append(2)             #x = [1, 2]\n",
    "y.append(3)             #x = [1, 2, 3]\n",
    "y.append(4)             #x = [1, 2, 3, 4]\n",
    "\n",
    "print(y)                #Append runs faster than using the first way of using +"
   ]
  },
  {
   "cell_type": "markdown",
   "id": "9d7d4270-26fc-4321-af17-054cd2efd0f8",
   "metadata": {},
   "source": [
    "<p></p>"
   ]
  },
  {
   "cell_type": "markdown",
   "id": "29581a9f-3e8c-456f-b705-c42f3c153c3e",
   "metadata": {},
   "source": [
    "**Example 3**"
   ]
  },
  {
   "cell_type": "markdown",
   "id": "64c3b6d2-7221-4688-8d53-9378e9e1762e",
   "metadata": {},
   "source": [
    "We can grow the lists with multiple elements."
   ]
  },
  {
   "cell_type": "code",
   "execution_count": 27,
   "id": "0c55d40c-6612-432b-a61c-0a8ea905b104",
   "metadata": {},
   "outputs": [
    {
     "name": "stdout",
     "output_type": "stream",
     "text": [
      "[1, 2, 3, 4, 5, 6]\n"
     ]
    }
   ],
   "source": [
    "z = [1, 2, 3]\n",
    "z += [4, 5, 6]\n",
    "\n",
    "print(z)"
   ]
  },
  {
   "cell_type": "markdown",
   "id": "97ed3674-c3c9-4f0b-bce2-0fc3f5e5fd0e",
   "metadata": {},
   "source": [
    "<p></p>"
   ]
  },
  {
   "cell_type": "markdown",
   "id": "fa9fd612-7f47-4757-be51-1f1c1fce38c1",
   "metadata": {},
   "source": [
    "We can use the attribute `.extend` too."
   ]
  },
  {
   "cell_type": "code",
   "execution_count": 30,
   "id": "9d523ed1-9738-4777-8b0d-d5e2e219ddad",
   "metadata": {},
   "outputs": [
    {
     "name": "stdout",
     "output_type": "stream",
     "text": [
      "[1, 2, 3, 4, 5, 6]\n"
     ]
    }
   ],
   "source": [
    "xy = [1, 2, 3]\n",
    "xy.extend([4, 5, 6])\n",
    "\n",
    "print(xy)"
   ]
  },
  {
   "cell_type": "markdown",
   "id": "06f5b516-5199-4406-baf3-34a434c1c82c",
   "metadata": {},
   "source": [
    "<p></p>"
   ]
  },
  {
   "cell_type": "markdown",
   "id": "5e3ac8a4-1367-4952-a8e9-e262b1f484b0",
   "metadata": {},
   "source": [
    "We cannot use the attribute `.append` because it will add a list inside the original list (making a 2D array). `.extend` works because it adds the individual elements in the list to be added into the original list."
   ]
  },
  {
   "cell_type": "code",
   "execution_count": 31,
   "id": "dac32fd0-a5fb-4813-b198-95a696f9ac3e",
   "metadata": {},
   "outputs": [
    {
     "name": "stdout",
     "output_type": "stream",
     "text": [
      "[1, 2, 3, [4, 5, 6]]\n"
     ]
    }
   ],
   "source": [
    "yz = [1, 2, 3]\n",
    "yz.append([4, 5, 6])      #Adds the 1D list [4, 5, 6] to the 1D list [1, 2, 3] to create a 2D list\n",
    "\n",
    "print(yz)"
   ]
  },
  {
   "attachments": {},
   "cell_type": "markdown",
   "id": "4dcb64c4",
   "metadata": {},
   "source": [
    "# Some loose ends"
   ]
  },
  {
   "attachments": {},
   "cell_type": "markdown",
   "id": "edc6f906",
   "metadata": {},
   "source": [
    "## Tuples"
   ]
  },
  {
   "cell_type": "markdown",
   "id": "029566cc-c736-4d2a-9027-039c21dc0c46",
   "metadata": {},
   "source": [
    "Tuples are like lists, but they are created using `()` and are immutable (meaning cannot be changed after being created). Tuples can be useful over lists and arrays when the elements are supposed to be unchanged (and perhaps changing it will lead to a large scale error that will be inconvenient).\n",
    "\n",
    "Tuples can still be indexed and sliced, and the syntax is the same as lists. However, we cannot add, delete or substitute any elements into the tuple once it is created."
   ]
  },
  {
   "cell_type": "code",
   "execution_count": 32,
   "id": "710491ef-e28b-4fbc-b74a-984d144e0431",
   "metadata": {},
   "outputs": [
    {
     "name": "stdout",
     "output_type": "stream",
     "text": [
      "1\n",
      "(1, 2)\n"
     ]
    }
   ],
   "source": [
    "tuple1 = (1, 2, 3)\n",
    "\n",
    "print(tuple1[0])      #Same syntax to index\n",
    "print(tuple1[:2])     #Same syntax to slice"
   ]
  },
  {
   "cell_type": "code",
   "execution_count": 34,
   "id": "daf43636-dccc-483e-b4fd-74483e286323",
   "metadata": {},
   "outputs": [
    {
     "ename": "TypeError",
     "evalue": "'tuple' object does not support item assignment",
     "output_type": "error",
     "traceback": [
      "\u001b[1;31m---------------------------------------------------------------------------\u001b[0m",
      "\u001b[1;31mTypeError\u001b[0m                                 Traceback (most recent call last)",
      "Cell \u001b[1;32mIn[34], line 1\u001b[0m\n\u001b[1;32m----> 1\u001b[0m tuple1[\u001b[38;5;241m0\u001b[39m] \u001b[38;5;241m=\u001b[39m \u001b[38;5;241m3\u001b[39m\n",
      "\u001b[1;31mTypeError\u001b[0m: 'tuple' object does not support item assignment"
     ]
    }
   ],
   "source": [
    "tuple1[0] = 3     #This yields an error because a tuple is immutable"
   ]
  },
  {
   "cell_type": "code",
   "execution_count": 36,
   "id": "3ac3ad40-f7dc-442c-978d-baca4c1c8b45",
   "metadata": {},
   "outputs": [
    {
     "ename": "TypeError",
     "evalue": "can only concatenate tuple (not \"int\") to tuple",
     "output_type": "error",
     "traceback": [
      "\u001b[1;31m---------------------------------------------------------------------------\u001b[0m",
      "\u001b[1;31mTypeError\u001b[0m                                 Traceback (most recent call last)",
      "Cell \u001b[1;32mIn[36], line 1\u001b[0m\n\u001b[1;32m----> 1\u001b[0m tuple1 \u001b[38;5;241m+\u001b[39m\u001b[38;5;241m=\u001b[39m (\u001b[38;5;241m4\u001b[39m)\n",
      "\u001b[1;31mTypeError\u001b[0m: can only concatenate tuple (not \"int\") to tuple"
     ]
    }
   ],
   "source": [
    "tuple1 += (4)     #This yields an error because a tuple is immutable"
   ]
  },
  {
   "cell_type": "markdown",
   "id": "51d94f3d-5b7d-4a26-b21c-e88feef264c0",
   "metadata": {},
   "source": [
    "<p></p>"
   ]
  },
  {
   "attachments": {},
   "cell_type": "markdown",
   "id": "55690e6c",
   "metadata": {},
   "source": [
    "## Be VERY careful when copying"
   ]
  },
  {
   "cell_type": "markdown",
   "id": "56ea3f62-aed0-43f7-b5fe-c0e7611080ab",
   "metadata": {},
   "source": [
    "Always use the `.copy` attribute to copy a list or an array; do not use `=`.\n",
    "\n",
    "This is because when we use `=`, it only creates a reference object for the original list or array (with the same code). Any changes to this copy **will** change the original list or array.\n"
   ]
  },
  {
   "cell_type": "code",
   "execution_count": 37,
   "id": "7fefd9f8-dbfe-4db1-befa-287c078b7bc9",
   "metadata": {},
   "outputs": [
    {
     "name": "stdout",
     "output_type": "stream",
     "text": [
      "[3, 2, 3]\n",
      "[3, 2, 3]\n"
     ]
    }
   ],
   "source": [
    "copying_list = [1, 2, 3]\n",
    "copy1 = copying_list\n",
    "\n",
    "copy1[0] = 3               #Change the element 1 to 3\n",
    "\n",
    "print(copying_list)        #Original list changes as well\n",
    "print(copy1)"
   ]
  },
  {
   "cell_type": "markdown",
   "id": "e7539bdc-de03-484b-b377-7bf0cc87b1a4",
   "metadata": {},
   "source": [
    "<p></p>"
   ]
  },
  {
   "cell_type": "markdown",
   "id": "645274f0-4a63-4c93-bcc4-1045d8239e3f",
   "metadata": {},
   "source": [
    "If we use `.copy`, we create an entirely new list or array that is independent from the original list or array. So, nay changes made in the copy **will not** change the original list or array."
   ]
  },
  {
   "cell_type": "code",
   "execution_count": 39,
   "id": "a888d74d-781c-47f4-a6d1-0f803b8fb7e1",
   "metadata": {},
   "outputs": [
    {
     "name": "stdout",
     "output_type": "stream",
     "text": [
      "[1, 2, 3]\n",
      "[3, 2, 3]\n"
     ]
    }
   ],
   "source": [
    "copying_list_again = [1, 2, 3]\n",
    "copy2 = copying_list_again.copy()\n",
    "\n",
    "copy2[0] = 3\n",
    "\n",
    "print(copying_list_again)    #Original list stays unchanged\n",
    "print(copy2)"
   ]
  }
 ],
 "metadata": {
  "kernelspec": {
   "display_name": "Python 3 (ipykernel)",
   "language": "python",
   "name": "python3"
  },
  "language_info": {
   "codemirror_mode": {
    "name": "ipython",
    "version": 3
   },
   "file_extension": ".py",
   "mimetype": "text/x-python",
   "name": "python",
   "nbconvert_exporter": "python",
   "pygments_lexer": "ipython3",
   "version": "3.11.5"
  },
  "toc": {
   "base_numbering": 1,
   "nav_menu": {},
   "number_sections": true,
   "sideBar": true,
   "skip_h1_title": false,
   "title_cell": "Table of Contents",
   "title_sidebar": "Contents",
   "toc_cell": false,
   "toc_position": {},
   "toc_section_display": true,
   "toc_window_display": false
  },
  "vscode": {
   "interpreter": {
    "hash": "31f2aee4e71d21fbe5cf8b01ff0e069b9275f58929596ceb00d14d90e3e16cd6"
   }
  }
 },
 "nbformat": 4,
 "nbformat_minor": 5
}
