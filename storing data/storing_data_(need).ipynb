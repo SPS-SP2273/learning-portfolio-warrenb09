{
 "cells": [
  {
   "attachments": {},
   "cell_type": "markdown",
   "id": "123456",
   "metadata": {},
   "source": [
    "<div style=\"text-align:left;font-size:2em\"><span style=\"font-weight:bolder;font-size:1.25em\">SP2273 | Learning Portfolio</span><br><br><span style=\"font-weight:bold;color:darkred\">Storing Data (Need)</span></div>"
   ]
  },
  {
   "attachments": {},
   "cell_type": "markdown",
   "id": "179af1f0",
   "metadata": {},
   "source": [
    "# What to expect in this chapter"
   ]
  },
  {
   "attachments": {},
   "cell_type": "markdown",
   "id": "246455af",
   "metadata": {},
   "source": [
    "# 1 Lists, Arrays & Dictionaries"
   ]
  },
  {
   "cell_type": "markdown",
   "id": "7f579c9d-a1a8-4b1c-a178-650e535e63ea",
   "metadata": {},
   "source": [
    "Python has several ways to store and manipulate data. Some are shown below.\n",
    "1. Lists\n",
    "2. Numpy arrays\n",
    "3. Dictionaries\n",
    "4. Tuples\n",
    "5. Dataframes\n",
    "6. Classes"
   ]
  },
  {
   "attachments": {},
   "cell_type": "markdown",
   "id": "de1d7d62",
   "metadata": {},
   "source": [
    "## 1.1 Let’s compare"
   ]
  },
  {
   "cell_type": "markdown",
   "id": "34e67961-d957-4f9d-bd14-305646a84a30",
   "metadata": {},
   "source": [
    "Let's try to store this data:\n",
    "- I took three courses, which are SP1111, SP2233 and SP4233\n",
    "- The grades I got for each course resoectively is C, A and A+\n",
    "\n",
    "We want the stored data such that it displays the correct courses for the correct grades."
   ]
  },
  {
   "cell_type": "markdown",
   "id": "2b4c1786-c0ec-4556-bdf6-c81af853fee0",
   "metadata": {},
   "source": [
    "**Python list**"
   ]
  },
  {
   "cell_type": "code",
   "execution_count": 5,
   "id": "39fcbdb3-1e6d-4366-aea8-b76a8c50cce7",
   "metadata": {},
   "outputs": [],
   "source": [
    "courses = [\"SP1111\", \"SP2233\", \"SP4233\"]\n",
    "grades = [\"C\", \"A\", \"A+\"]\n",
    "\n",
    "#Indexes of courses to their respective grades need to be the same (e.g. both the index for \"SP1111\" and \"C\" is 0)\n",
    "#You need two lists for this"
   ]
  },
  {
   "cell_type": "markdown",
   "id": "73b7f018-e98c-4596-a75a-8b1f5a0ed257",
   "metadata": {},
   "source": [
    "<p></p>"
   ]
  },
  {
   "cell_type": "markdown",
   "id": "3a4011eb-3b15-4ce3-af19-26fe721a02ca",
   "metadata": {},
   "source": [
    "**Numpy array**"
   ]
  },
  {
   "cell_type": "code",
   "execution_count": 8,
   "id": "1507c033-8df4-478c-9cbe-fae0744f86e5",
   "metadata": {},
   "outputs": [],
   "source": [
    "import numpy as np\n",
    "courses = np.array([\"SP1111\", \"SP2233\", \"SP4233\"])\n",
    "grades = np.array([\"C\", \"A\", \"A+\"])\n",
    "\n",
    "#Indexes of courses to their respective grades need to be the same (e.g. both the index for \"SP1111\" and \"C\" is 0)\n",
    "#You need two arrays for this"
   ]
  },
  {
   "cell_type": "markdown",
   "id": "fe34730b-9337-46ac-9507-88cd57dfe9dd",
   "metadata": {},
   "source": [
    "<p></p>"
   ]
  },
  {
   "cell_type": "markdown",
   "id": "60327820-9cd5-4570-aa99-27730db088c4",
   "metadata": {},
   "source": [
    "**Dictionary**"
   ]
  },
  {
   "cell_type": "code",
   "execution_count": 26,
   "id": "28bcdd1e-7790-41e4-b8ef-283390192703",
   "metadata": {},
   "outputs": [],
   "source": [
    "course_grades = {\n",
    "    \"SP1111\" : \"C\",\n",
    "    \"SP2233\" : \"A\",\n",
    "    \"SP4233\" : \"A+\"\n",
    "}\n",
    "\n",
    "#Uses a key (courses) associated with a value (the respective grade), unlike Python list and Numpy array\n",
    "#You only need one dictionary for this"
   ]
  },
  {
   "attachments": {},
   "cell_type": "markdown",
   "id": "8bd5e54f",
   "metadata": {},
   "source": [
    "## 1.2 Accessing data from a list (or array)"
   ]
  },
  {
   "cell_type": "markdown",
   "id": "25699191-d8f5-47c6-89c8-01cc13503ee6",
   "metadata": {},
   "source": [
    "We can return an element from a list or an array by using the square brackets `[]`, and specifying the index of the element to be displayed.\n",
    "\n",
    "For example, for the `courses` and `grades` array:"
   ]
  },
  {
   "cell_type": "code",
   "execution_count": 13,
   "id": "0d7c44f1-b6e9-404c-84e8-11e2afff2919",
   "metadata": {},
   "outputs": [
    {
     "name": "stdout",
     "output_type": "stream",
     "text": [
      "SP1111 C\n",
      "SP2233 A\n",
      "SP4233 A+\n"
     ]
    }
   ],
   "source": [
    "print(courses[0], grades[0])        #Prints the first element in both the courses and grades array\n",
    "print(courses[1], grades[1])        #Prints the second element in both the courses and grades array\n",
    "print(courses[2], grades[2])        #Prints the third element in both the courses and grades array"
   ]
  },
  {
   "cell_type": "markdown",
   "id": "e7f85c56-f502-4910-ae05-4c734d21fc04",
   "metadata": {},
   "source": [
    "Notice that the **first** element has an index of **0**, and **not 1**, while the **second** element has the index **1**, and so on.\n",
    "\n",
    "We can also do reverse indexing, where the index of the **last** element in the list or array is **-1**, while the **second last** element has the index **-2**, and so on."
   ]
  },
  {
   "cell_type": "code",
   "execution_count": 15,
   "id": "cf44673d-84c8-4561-833e-709ecb43ef7a",
   "metadata": {},
   "outputs": [
    {
     "name": "stdout",
     "output_type": "stream",
     "text": [
      "SP4233 A+\n",
      "SP1111 C\n"
     ]
    }
   ],
   "source": [
    "print(courses[-1], grades[-1])      #Prints the third element (which is the last element) in both the courses and grades array\n",
    "print(courses[-3], grades[-3])      #Prints the third last element in both the courses and grades array"
   ]
  },
  {
   "attachments": {},
   "cell_type": "markdown",
   "id": "ef2e4695",
   "metadata": {},
   "source": [
    "## 1.3 Accessing data from a dictionary"
   ]
  },
  {
   "cell_type": "markdown",
   "id": "a8809e61-0858-458d-af1c-380181966c74",
   "metadata": {},
   "source": [
    "We can return a value from a dictionary using `[]` too, but with specifying the **key**.\n",
    "\n",
    "For example, for the `course_grades` dictionary:"
   ]
  },
  {
   "cell_type": "code",
   "execution_count": 27,
   "id": "9ac2fce8-fdd4-4b4c-ae9f-c889ed33c1f8",
   "metadata": {},
   "outputs": [
    {
     "name": "stdout",
     "output_type": "stream",
     "text": [
      "C\n",
      "A+\n"
     ]
    }
   ],
   "source": [
    "print(course_grades[\"SP1111\"])      #Prints the value associated with the SP1111 key\n",
    "print(course_grades[\"SP4233\"])      #Prints the value associated with the SP4233 key"
   ]
  },
  {
   "cell_type": "markdown",
   "id": "fa5cb965-7496-4e09-8a17-f9c0b325b8b9",
   "metadata": {},
   "source": [
    "You can return all the keys and values as a list using the `.keys` and `.values` functions. For example:"
   ]
  },
  {
   "cell_type": "code",
   "execution_count": 20,
   "id": "4aaa28c6-3c3b-4e74-8722-450e0dff26e7",
   "metadata": {},
   "outputs": [
    {
     "name": "stdout",
     "output_type": "stream",
     "text": [
      "dict_keys(['SP1111', 'SP2233', 'SP4233'])\n",
      "dict_values(['C', 'A', 'A+'])\n"
     ]
    }
   ],
   "source": [
    "print(course_grades.keys())         #Prints an array containing all the dictionary keys\n",
    "print(course_grades.values())       #Prints an array containing all the dictionary values"
   ]
  },
  {
   "attachments": {},
   "cell_type": "markdown",
   "id": "3a0d8f30",
   "metadata": {},
   "source": [
    "## 1.4 Higher dimensional lists"
   ]
  },
  {
   "cell_type": "markdown",
   "id": "fd6b8df4-ac7f-472c-bdae-e97b5f41d4dd",
   "metadata": {},
   "source": [
    "We needed two lists for the previous example of `courses` and `grades`. A way arround it is to make a 2D array."
   ]
  },
  {
   "cell_type": "code",
   "execution_count": 29,
   "id": "131fc28b-e24c-4aab-a3c7-c3a29af98300",
   "metadata": {},
   "outputs": [
    {
     "name": "stdout",
     "output_type": "stream",
     "text": [
      "[['SP1111', 'C'], ['SP2233', 'A'], ['SP4233', 'A+']]\n"
     ]
    }
   ],
   "source": [
    "new_course_grades = [\n",
    "    [\"SP1111\", \"C\"],\n",
    "    [\"SP2233\", \"A\"],\n",
    "    [\"SP4233\", \"A+\"]\n",
    "]                                         #new_course_grades instead of course_grades because course_grades was used for the earlier examples\n",
    "\n",
    "print(new_course_grades)"
   ]
  },
  {
   "cell_type": "markdown",
   "id": "e38896a5-335c-415a-a306-4ccdd09bd6d3",
   "metadata": {},
   "source": [
    "<p></p>"
   ]
  },
  {
   "cell_type": "markdown",
   "id": "d8c6f9d7-1759-4c8b-a2b8-c93b2aa6947a",
   "metadata": {},
   "source": [
    "<p></p>"
   ]
  },
  {
   "cell_type": "markdown",
   "id": "0dce2368-bc36-434f-8106-7800d2e9837a",
   "metadata": {},
   "source": [
    "**Indexing in higher dimensional lists**"
   ]
  },
  {
   "cell_type": "markdown",
   "id": "fc1b3190-134d-4f49-b7c2-6106a6e71645",
   "metadata": {},
   "source": [
    "We can call out a 1D list from the 2D list using the index numbers of the 1D list, just like an element in a 1D list. For example:"
   ]
  },
  {
   "cell_type": "code",
   "execution_count": 30,
   "id": "fb2092e8-1f91-4169-b370-09fac618ac24",
   "metadata": {},
   "outputs": [
    {
     "name": "stdout",
     "output_type": "stream",
     "text": [
      "['SP1111', 'C']\n",
      "['SP2233', 'A']\n",
      "['SP4233', 'A+']\n"
     ]
    }
   ],
   "source": [
    "print(new_course_grades[0])        #Prints the 1D list at the first position\n",
    "print(new_course_grades[1])        #Prints the 1D list at the second position\n",
    "print(new_course_grades[2])        #Prints the 1D list at the third position"
   ]
  },
  {
   "cell_type": "markdown",
   "id": "27073573-b2fb-4f2d-b642-93439472204b",
   "metadata": {},
   "source": [
    "We can also call out individual elements from the 1D list by using **two index numbers**. The general syntax is `list[index of 1D list, index of element in the 1D list]`."
   ]
  },
  {
   "cell_type": "code",
   "execution_count": 31,
   "id": "a7e66f3e-4135-451d-87cd-5c4cb2fb9c6a",
   "metadata": {},
   "outputs": [
    {
     "ename": "TypeError",
     "evalue": "list indices must be integers or slices, not tuple",
     "output_type": "error",
     "traceback": [
      "\u001b[1;31m---------------------------------------------------------------------------\u001b[0m",
      "\u001b[1;31mTypeError\u001b[0m                                 Traceback (most recent call last)",
      "Cell \u001b[1;32mIn[31], line 1\u001b[0m\n\u001b[1;32m----> 1\u001b[0m \u001b[38;5;28mprint\u001b[39m(new_course_grades[\u001b[38;5;241m0\u001b[39m, \u001b[38;5;241m1\u001b[39m])\n",
      "\u001b[1;31mTypeError\u001b[0m: list indices must be integers or slices, not tuple"
     ]
    }
   ],
   "source": [
    "print(new_course_grades[0, 1])"
   ]
  },
  {
   "attachments": {},
   "cell_type": "markdown",
   "id": "a5059bda",
   "metadata": {},
   "source": [
    "# 2 Lists vs. Arrays"
   ]
  },
  {
   "attachments": {},
   "cell_type": "markdown",
   "id": "f1c4fc0e",
   "metadata": {},
   "source": [
    "## 2.1 Size"
   ]
  },
  {
   "attachments": {},
   "cell_type": "markdown",
   "id": "a92a2e64",
   "metadata": {},
   "source": [
    "## 2.2 Arrays are fussy about type"
   ]
  },
  {
   "attachments": {},
   "cell_type": "markdown",
   "id": "d41de304",
   "metadata": {},
   "source": [
    "## 2.3 Adding a number"
   ]
  },
  {
   "attachments": {},
   "cell_type": "markdown",
   "id": "cba3b6d7",
   "metadata": {},
   "source": [
    "## 2.4 Adding another list"
   ]
  },
  {
   "attachments": {},
   "cell_type": "markdown",
   "id": "76963f66",
   "metadata": {},
   "source": [
    "## 2.5 Multiplying by a Number"
   ]
  },
  {
   "attachments": {},
   "cell_type": "markdown",
   "id": "7ea91a85",
   "metadata": {},
   "source": [
    "## 2.6 Squaring"
   ]
  },
  {
   "attachments": {},
   "cell_type": "markdown",
   "id": "219ead7d",
   "metadata": {},
   "source": [
    "## 2.7 Asking questions"
   ]
  },
  {
   "attachments": {},
   "cell_type": "markdown",
   "id": "571d0c70",
   "metadata": {},
   "source": [
    "## 2.8 Mathematics"
   ]
  },
  {
   "attachments": {},
   "cell_type": "markdown",
   "id": "42e2b4fb",
   "metadata": {},
   "source": [
    "# Exercises & Self-Assessment"
   ]
  },
  {
   "cell_type": "code",
   "execution_count": null,
   "id": "6b1f0edc",
   "metadata": {},
   "outputs": [],
   "source": [
    "\n",
    "\n",
    "\n",
    "# Your solution here\n",
    "\n",
    "\n"
   ]
  },
  {
   "attachments": {},
   "cell_type": "markdown",
   "id": "4ebcc0ee",
   "metadata": {},
   "source": [
    "## Footnotes"
   ]
  }
 ],
 "metadata": {
  "kernelspec": {
   "display_name": "Python 3 (ipykernel)",
   "language": "python",
   "name": "python3"
  },
  "language_info": {
   "codemirror_mode": {
    "name": "ipython",
    "version": 3
   },
   "file_extension": ".py",
   "mimetype": "text/x-python",
   "name": "python",
   "nbconvert_exporter": "python",
   "pygments_lexer": "ipython3",
   "version": "3.11.5"
  },
  "toc": {
   "base_numbering": 1,
   "nav_menu": {},
   "number_sections": true,
   "sideBar": true,
   "skip_h1_title": false,
   "title_cell": "Table of Contents",
   "title_sidebar": "Contents",
   "toc_cell": false,
   "toc_position": {},
   "toc_section_display": true,
   "toc_window_display": false
  },
  "vscode": {
   "interpreter": {
    "hash": "31f2aee4e71d21fbe5cf8b01ff0e069b9275f58929596ceb00d14d90e3e16cd6"
   }
  }
 },
 "nbformat": 4,
 "nbformat_minor": 5
}
