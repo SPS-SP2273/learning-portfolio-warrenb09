{
 "cells": [
  {
   "attachments": {},
   "cell_type": "markdown",
   "id": "123456",
   "metadata": {},
   "source": [
    "<div style=\"text-align:left;font-size:2em\"><span style=\"font-weight:bolder;font-size:1.25em\">SP2273 | Learning Portfolio</span><br><br><span style=\"font-weight:bold;color:darkred\">Storing Data (Need)</span></div>"
   ]
  },
  {
   "attachments": {},
   "cell_type": "markdown",
   "id": "179af1f0",
   "metadata": {},
   "source": [
    "# What to expect in this chapter"
   ]
  },
  {
   "attachments": {},
   "cell_type": "markdown",
   "id": "246455af",
   "metadata": {},
   "source": [
    "# 1 Lists, Arrays & Dictionaries"
   ]
  },
  {
   "cell_type": "markdown",
   "id": "7f579c9d-a1a8-4b1c-a178-650e535e63ea",
   "metadata": {},
   "source": [
    "Python has several ways to store and manipulate data. Some are shown below.\n",
    "1. Lists\n",
    "2. Numpy arrays\n",
    "3. Dictionaries\n",
    "4. Tuples\n",
    "5. Dataframes\n",
    "6. Classes"
   ]
  },
  {
   "attachments": {},
   "cell_type": "markdown",
   "id": "de1d7d62",
   "metadata": {},
   "source": [
    "## 1.1 Let’s compare"
   ]
  },
  {
   "cell_type": "markdown",
   "id": "34e67961-d957-4f9d-bd14-305646a84a30",
   "metadata": {},
   "source": [
    "Let's try to store this data:\n",
    "- I took three courses, which are SP1111, SP2233 and SP4233\n",
    "- The grades I got for each course resoectively is C, A and A+\n",
    "\n",
    "We want the stored data such that it displays the correct courses for the correct grades."
   ]
  },
  {
   "cell_type": "markdown",
   "id": "2b4c1786-c0ec-4556-bdf6-c81af853fee0",
   "metadata": {},
   "source": [
    "**Python list**"
   ]
  },
  {
   "cell_type": "code",
   "execution_count": 5,
   "id": "39fcbdb3-1e6d-4366-aea8-b76a8c50cce7",
   "metadata": {},
   "outputs": [],
   "source": [
    "courses = [\"SP1111\", \"SP2233\", \"SP4233\"]\n",
    "grades = [\"C\", \"A\", \"A+\"]\n",
    "\n",
    "#Indexes of courses to their respective grades need to be the same (e.g. both the index for \"SP1111\" and \"C\" is 0)\n",
    "#You need two lists for this"
   ]
  },
  {
   "cell_type": "markdown",
   "id": "73b7f018-e98c-4596-a75a-8b1f5a0ed257",
   "metadata": {},
   "source": [
    "<p></p>"
   ]
  },
  {
   "cell_type": "markdown",
   "id": "3a4011eb-3b15-4ce3-af19-26fe721a02ca",
   "metadata": {},
   "source": [
    "**Numpy array**"
   ]
  },
  {
   "cell_type": "code",
   "execution_count": 5,
   "id": "1507c033-8df4-478c-9cbe-fae0744f86e5",
   "metadata": {},
   "outputs": [],
   "source": [
    "import numpy as np\n",
    "courses = np.array([\"SP1111\", \"SP2233\", \"SP4233\"])\n",
    "grades = np.array([\"C\", \"A\", \"A+\"])\n",
    "\n",
    "#Indexes of courses to their respective grades need to be the same (e.g. both the index for \"SP1111\" and \"C\" is 0)\n",
    "#You need two arrays for this"
   ]
  },
  {
   "cell_type": "markdown",
   "id": "fe34730b-9337-46ac-9507-88cd57dfe9dd",
   "metadata": {},
   "source": [
    "<p></p>"
   ]
  },
  {
   "cell_type": "markdown",
   "id": "60327820-9cd5-4570-aa99-27730db088c4",
   "metadata": {},
   "source": [
    "**Dictionary**"
   ]
  },
  {
   "cell_type": "code",
   "execution_count": 26,
   "id": "28bcdd1e-7790-41e4-b8ef-283390192703",
   "metadata": {},
   "outputs": [],
   "source": [
    "course_grades = {\n",
    "    \"SP1111\" : \"C\",\n",
    "    \"SP2233\" : \"A\",\n",
    "    \"SP4233\" : \"A+\"\n",
    "}\n",
    "\n",
    "#Uses a key (courses) associated with a value (the respective grade), unlike Python list and Numpy array\n",
    "#You only need one dictionary for this"
   ]
  },
  {
   "attachments": {},
   "cell_type": "markdown",
   "id": "8bd5e54f",
   "metadata": {},
   "source": [
    "## 1.2 Accessing data from a list (or array)"
   ]
  },
  {
   "cell_type": "markdown",
   "id": "25699191-d8f5-47c6-89c8-01cc13503ee6",
   "metadata": {},
   "source": [
    "We can return an element from a list or an array by using the square brackets `[]`, and specifying the index of the element to be displayed.\n",
    "\n",
    "For example, for the `courses` and `grades` array:"
   ]
  },
  {
   "cell_type": "code",
   "execution_count": 13,
   "id": "0d7c44f1-b6e9-404c-84e8-11e2afff2919",
   "metadata": {},
   "outputs": [
    {
     "name": "stdout",
     "output_type": "stream",
     "text": [
      "SP1111 C\n",
      "SP2233 A\n",
      "SP4233 A+\n"
     ]
    }
   ],
   "source": [
    "print(courses[0], grades[0])        #Prints the first element in both the courses and grades array\n",
    "print(courses[1], grades[1])        #Prints the second element in both the courses and grades array\n",
    "print(courses[2], grades[2])        #Prints the third element in both the courses and grades array"
   ]
  },
  {
   "cell_type": "markdown",
   "id": "e7f85c56-f502-4910-ae05-4c734d21fc04",
   "metadata": {},
   "source": [
    "Notice that the **first** element has an index of **0**, and **not 1**, while the **second** element has the index **1**, and so on.\n",
    "\n",
    "We can also do reverse indexing, where the index of the **last** element in the list or array is **-1**, while the **second last** element has the index **-2**, and so on."
   ]
  },
  {
   "cell_type": "code",
   "execution_count": 15,
   "id": "cf44673d-84c8-4561-833e-709ecb43ef7a",
   "metadata": {},
   "outputs": [
    {
     "name": "stdout",
     "output_type": "stream",
     "text": [
      "SP4233 A+\n",
      "SP1111 C\n"
     ]
    }
   ],
   "source": [
    "print(courses[-1], grades[-1])      #Prints the third element (which is the last element) in both the courses and grades array\n",
    "print(courses[-3], grades[-3])      #Prints the third last element in both the courses and grades array"
   ]
  },
  {
   "attachments": {},
   "cell_type": "markdown",
   "id": "ef2e4695",
   "metadata": {},
   "source": [
    "## 1.3 Accessing data from a dictionary"
   ]
  },
  {
   "cell_type": "markdown",
   "id": "a8809e61-0858-458d-af1c-380181966c74",
   "metadata": {},
   "source": [
    "We can return a value from a dictionary using `[]` too, but with specifying the **key**.\n",
    "\n",
    "For example, for the `course_grades` dictionary:"
   ]
  },
  {
   "cell_type": "code",
   "execution_count": 27,
   "id": "9ac2fce8-fdd4-4b4c-ae9f-c889ed33c1f8",
   "metadata": {},
   "outputs": [
    {
     "name": "stdout",
     "output_type": "stream",
     "text": [
      "C\n",
      "A+\n"
     ]
    }
   ],
   "source": [
    "print(course_grades[\"SP1111\"])      #Prints the value associated with the SP1111 key\n",
    "print(course_grades[\"SP4233\"])      #Prints the value associated with the SP4233 key"
   ]
  },
  {
   "cell_type": "markdown",
   "id": "fa5cb965-7496-4e09-8a17-f9c0b325b8b9",
   "metadata": {},
   "source": [
    "You can return all the keys and values as a list using the `.keys` and `.values` functions. For example:"
   ]
  },
  {
   "cell_type": "code",
   "execution_count": 20,
   "id": "4aaa28c6-3c3b-4e74-8722-450e0dff26e7",
   "metadata": {},
   "outputs": [
    {
     "name": "stdout",
     "output_type": "stream",
     "text": [
      "dict_keys(['SP1111', 'SP2233', 'SP4233'])\n",
      "dict_values(['C', 'A', 'A+'])\n"
     ]
    }
   ],
   "source": [
    "print(course_grades.keys())         #Prints an array containing all the dictionary keys\n",
    "print(course_grades.values())       #Prints an array containing all the dictionary values"
   ]
  },
  {
   "attachments": {},
   "cell_type": "markdown",
   "id": "3a0d8f30",
   "metadata": {},
   "source": [
    "## 1.4 Higher dimensional lists"
   ]
  },
  {
   "cell_type": "markdown",
   "id": "fd6b8df4-ac7f-472c-bdae-e97b5f41d4dd",
   "metadata": {},
   "source": [
    "We needed two lists for the previous example of `courses` and `grades`. A way arround it is to make a 2D array."
   ]
  },
  {
   "cell_type": "code",
   "execution_count": 2,
   "id": "131fc28b-e24c-4aab-a3c7-c3a29af98300",
   "metadata": {},
   "outputs": [
    {
     "name": "stdout",
     "output_type": "stream",
     "text": [
      "[['SP1111', 'C'], ['SP2233', 'A'], ['SP4233', 'A+']]\n"
     ]
    }
   ],
   "source": [
    "new_course_grades = [\n",
    "    [\"SP1111\", \"C\"],\n",
    "    [\"SP2233\", \"A\"],\n",
    "    [\"SP4233\", \"A+\"]\n",
    "]                                         #new_course_grades instead of course_grades because course_grades was used for the earlier examples\n",
    "\n",
    "print(new_course_grades)"
   ]
  },
  {
   "cell_type": "markdown",
   "id": "e38896a5-335c-415a-a306-4ccdd09bd6d3",
   "metadata": {},
   "source": [
    "<p></p>"
   ]
  },
  {
   "cell_type": "markdown",
   "id": "0dce2368-bc36-434f-8106-7800d2e9837a",
   "metadata": {},
   "source": [
    "**Accessing data in higher dimensional lists**"
   ]
  },
  {
   "cell_type": "markdown",
   "id": "fc1b3190-134d-4f49-b7c2-6106a6e71645",
   "metadata": {},
   "source": [
    "We can call out a 1D list from the 2D list using the index numbers of the 1D list, just like an element in a 1D list. For example:"
   ]
  },
  {
   "cell_type": "code",
   "execution_count": 30,
   "id": "fb2092e8-1f91-4169-b370-09fac618ac24",
   "metadata": {},
   "outputs": [
    {
     "name": "stdout",
     "output_type": "stream",
     "text": [
      "['SP1111', 'C']\n",
      "['SP2233', 'A']\n",
      "['SP4233', 'A+']\n"
     ]
    }
   ],
   "source": [
    "print(new_course_grades[0])        #Prints the 1D list at the first position\n",
    "print(new_course_grades[1])        #Prints the 1D list at the second position\n",
    "print(new_course_grades[2])        #Prints the 1D list at the third position"
   ]
  },
  {
   "cell_type": "markdown",
   "id": "e2e1ab5f-a675-40df-9e06-9abd8229faba",
   "metadata": {},
   "source": [
    "<p>\n",
    "</p>"
   ]
  },
  {
   "cell_type": "markdown",
   "id": "27073573-b2fb-4f2d-b642-93439472204b",
   "metadata": {},
   "source": [
    "We can also call out individual elements from the 1D list by using **two index numbers**. The general syntax is `list[index of 1D list, index of element in the 1D list]`."
   ]
  },
  {
   "cell_type": "code",
   "execution_count": 3,
   "id": "a7e66f3e-4135-451d-87cd-5c4cb2fb9c6a",
   "metadata": {},
   "outputs": [
    {
     "name": "stdout",
     "output_type": "stream",
     "text": [
      "C\n"
     ]
    }
   ],
   "source": [
    "print(new_course_grades[0][1])     #Prints the element at row at the position 0 (first row) and column at the position 1 (second column)"
   ]
  },
  {
   "attachments": {},
   "cell_type": "markdown",
   "id": "a5059bda",
   "metadata": {},
   "source": [
    "# 2 Lists vs. Arrays"
   ]
  },
  {
   "attachments": {},
   "cell_type": "markdown",
   "id": "f1c4fc0e",
   "metadata": {},
   "source": [
    "## 2.1 Size"
   ]
  },
  {
   "cell_type": "markdown",
   "id": "5c8a3798-33af-49e6-a24a-dd9a41e96681",
   "metadata": {},
   "source": [
    "We can use the `len` function to count how many elements are in a list or in an array. See the example below."
   ]
  },
  {
   "cell_type": "code",
   "execution_count": 10,
   "id": "27f8a8e4-1d86-40db-892f-a0d96e758fe7",
   "metadata": {},
   "outputs": [
    {
     "name": "stdout",
     "output_type": "stream",
     "text": [
      "10\n",
      "10\n"
     ]
    }
   ],
   "source": [
    "import numpy as np\n",
    "\n",
    "list_size = [\n",
    "    [1, \"A\"], [2, \"B\"], [3, \"C\"], [4, \"D\"],\n",
    "    [5, \"E\"], [6, \"F\"], [7, \"G\"], [8, \"H\"],\n",
    "    [9, \"I\"], [10, \"J\"]\n",
    "]\n",
    "\n",
    "array_size = np.array(list_size)\n",
    "\n",
    "print(len(list_size))\n",
    "print(len(array_size))"
   ]
  },
  {
   "cell_type": "markdown",
   "id": "66e05365-37b8-4e7a-ac0a-ff32c3c2a1c5",
   "metadata": {},
   "source": [
    "<p></p>"
   ]
  },
  {
   "cell_type": "markdown",
   "id": "0a6d6cf5-4da3-4379-933c-da59677563f6",
   "metadata": {},
   "source": [
    "We can use `.shape` to count the number of rows and columns in a 2D array (note that it does **NOT** work with lists, becauses lists do not have the `shape` attribute)."
   ]
  },
  {
   "cell_type": "code",
   "execution_count": 12,
   "id": "d9e68115-b2bb-41f2-9ef0-10d70edc9a7f",
   "metadata": {},
   "outputs": [
    {
     "data": {
      "text/plain": [
       "(10, 2)"
      ]
     },
     "execution_count": 12,
     "metadata": {},
     "output_type": "execute_result"
    }
   ],
   "source": [
    "array_size.shape"
   ]
  },
  {
   "cell_type": "markdown",
   "id": "a8383bac-922c-494e-b3fa-c4d9e30d22c9",
   "metadata": {},
   "source": [
    "In the above example, `10` is the number of rows and `2` is the number of columns."
   ]
  },
  {
   "attachments": {},
   "cell_type": "markdown",
   "id": "a92a2e64",
   "metadata": {},
   "source": [
    "## 2.2 Arrays are fussy about type"
   ]
  },
  {
   "cell_type": "markdown",
   "id": "b5922855-54b0-42c4-b2ab-c3d03378de1c",
   "metadata": {},
   "source": [
    "One difference between arrays and lists is that arrays can only contain elements of the same data type (e.g. all elements are of the `str` data type) while lists can contain more than one data type. See the example below, where the `int` and `bool` values in list `list_type` are all converted to `str` in `array_type`."
   ]
  },
  {
   "cell_type": "code",
   "execution_count": 16,
   "id": "1120b86e-9b5c-4385-81ce-0a1ea5e650ac",
   "metadata": {},
   "outputs": [
    {
     "name": "stdout",
     "output_type": "stream",
     "text": [
      "[1, False, 'hello']\n",
      "['1' 'False' 'hello']\n"
     ]
    }
   ],
   "source": [
    "import numpy as np\n",
    "\n",
    "list_type = [1, False, \"hello\"]\n",
    "array_type = np.array(list_type)\n",
    "\n",
    "print(list_type)\n",
    "print(array_type)"
   ]
  },
  {
   "cell_type": "markdown",
   "id": "e78904a3-67be-422d-b89f-eb9385a21770",
   "metadata": {},
   "source": [
    "<p></p>"
   ]
  },
  {
   "cell_type": "markdown",
   "id": "d86bd633-a86e-41a6-8123-809e78fd09b3",
   "metadata": {},
   "source": [
    "We can change the type of the elements in an array using the `astype` function. However, like changing the data type of something, the data type changing must make sense (i.e. we cannot change an `str` with an `int`). See below."
   ]
  },
  {
   "cell_type": "code",
   "execution_count": 19,
   "id": "fbe345c6-ab24-4095-871a-140afc421abb",
   "metadata": {},
   "outputs": [
    {
     "name": "stdout",
     "output_type": "stream",
     "text": [
      "[1 2 3]\n",
      "['1' '2' '3']\n"
     ]
    }
   ],
   "source": [
    "array_change_int = np.array([1, 2, 3])\n",
    "array_change_str = array_change_int.astype(str)\n",
    "\n",
    "print(array_change_int)\n",
    "print(array_change_str)"
   ]
  },
  {
   "cell_type": "code",
   "execution_count": 22,
   "id": "0bb8c172-94f8-4d25-a251-26e1f4c63b1f",
   "metadata": {},
   "outputs": [
    {
     "ename": "ValueError",
     "evalue": "invalid literal for int() with base 10: 'hello'",
     "output_type": "error",
     "traceback": [
      "\u001b[1;31m---------------------------------------------------------------------------\u001b[0m",
      "\u001b[1;31mValueError\u001b[0m                                Traceback (most recent call last)",
      "Cell \u001b[1;32mIn[22], line 2\u001b[0m\n\u001b[0;32m      1\u001b[0m array_change_str1 \u001b[38;5;241m=\u001b[39m np\u001b[38;5;241m.\u001b[39marray([\u001b[38;5;124m\"\u001b[39m\u001b[38;5;124mhello\u001b[39m\u001b[38;5;124m\"\u001b[39m, \u001b[38;5;124m\"\u001b[39m\u001b[38;5;124mhi\u001b[39m\u001b[38;5;124m\"\u001b[39m, \u001b[38;5;124m\"\u001b[39m\u001b[38;5;124myellow\u001b[39m\u001b[38;5;124m\"\u001b[39m])\n\u001b[1;32m----> 2\u001b[0m array_change_str1\u001b[38;5;241m.\u001b[39mastype(\u001b[38;5;28mint\u001b[39m)\n",
      "\u001b[1;31mValueError\u001b[0m: invalid literal for int() with base 10: 'hello'"
     ]
    }
   ],
   "source": [
    "array_change_str1 = np.array([\"hello\", \"hi\", \"yellow\"])\n",
    "array_change_str1.astype(int)                                #This yields an error"
   ]
  },
  {
   "attachments": {},
   "cell_type": "markdown",
   "id": "d41de304",
   "metadata": {},
   "source": [
    "## 2.3 Adding a number"
   ]
  },
  {
   "cell_type": "markdown",
   "id": "bec7eb53-529c-4e3e-9726-0a96723a6d8c",
   "metadata": {},
   "source": [
    "We can add a number to an array, but **not** a list. See below."
   ]
  },
  {
   "cell_type": "code",
   "execution_count": 25,
   "id": "232f5d51-d05e-4de3-9759-ff26ff2ec812",
   "metadata": {},
   "outputs": [],
   "source": [
    "import numpy as np\n",
    "\n",
    "list_add = [1, 2, 3, 4]\n",
    "array_add = np.array(list_add)"
   ]
  },
  {
   "cell_type": "code",
   "execution_count": 26,
   "id": "febc2b73-a016-4751-8e66-4a8fc8ecb5ea",
   "metadata": {},
   "outputs": [
    {
     "ename": "TypeError",
     "evalue": "can only concatenate list (not \"int\") to list",
     "output_type": "error",
     "traceback": [
      "\u001b[1;31m---------------------------------------------------------------------------\u001b[0m",
      "\u001b[1;31mTypeError\u001b[0m                                 Traceback (most recent call last)",
      "Cell \u001b[1;32mIn[26], line 1\u001b[0m\n\u001b[1;32m----> 1\u001b[0m list_add \u001b[38;5;241m+\u001b[39m \u001b[38;5;241m10\u001b[39m\n",
      "\u001b[1;31mTypeError\u001b[0m: can only concatenate list (not \"int\") to list"
     ]
    }
   ],
   "source": [
    "list_add + 10      #This yields an error"
   ]
  },
  {
   "cell_type": "code",
   "execution_count": 27,
   "id": "05bf6458-a90e-4124-bfab-fd376b222614",
   "metadata": {},
   "outputs": [
    {
     "data": {
      "text/plain": [
       "array([11, 12, 13, 14])"
      ]
     },
     "execution_count": 27,
     "metadata": {},
     "output_type": "execute_result"
    }
   ],
   "source": [
    "array_add + 10     #This adds 10 to all the elements in the list"
   ]
  },
  {
   "attachments": {},
   "cell_type": "markdown",
   "id": "cba3b6d7",
   "metadata": {},
   "source": [
    "## 2.4 Adding another list"
   ]
  },
  {
   "cell_type": "markdown",
   "id": "6e760fc0-f51a-438b-b4f0-8fed4eee0d23",
   "metadata": {},
   "source": [
    "We can add (with `+`) a list or an array to another list or array. However, if it is `list + list`, it is a concatenation of the lists, while `array + array` is an element-wise operation of addition."
   ]
  },
  {
   "cell_type": "code",
   "execution_count": 28,
   "id": "52352acc-ec0f-4aa7-8cd6-ceef00ea2c68",
   "metadata": {},
   "outputs": [
    {
     "data": {
      "text/plain": [
       "[1, 2, 3, 4, 5, 6]"
      ]
     },
     "execution_count": 28,
     "metadata": {},
     "output_type": "execute_result"
    }
   ],
   "source": [
    "list1 = [1, 2, 3]\n",
    "list2 = [4, 5, 6]\n",
    "\n",
    "list1 + list2       #This concatenates list1 and list2"
   ]
  },
  {
   "cell_type": "code",
   "execution_count": 29,
   "id": "d128ba4a-bddb-4369-ab76-fcc922a29828",
   "metadata": {},
   "outputs": [
    {
     "data": {
      "text/plain": [
       "array([5, 7, 9])"
      ]
     },
     "execution_count": 29,
     "metadata": {},
     "output_type": "execute_result"
    }
   ],
   "source": [
    "import numpy as np\n",
    "\n",
    "array1 = np.array(list1)\n",
    "array2 = np.array(list2)\n",
    "\n",
    "array1 + array2     #Element-wise addition"
   ]
  },
  {
   "cell_type": "markdown",
   "id": "a9f55960-e40c-469d-8771-0f7283fa6601",
   "metadata": {},
   "source": [
    "<p></p>"
   ]
  },
  {
   "cell_type": "markdown",
   "id": "49593e96-9495-40ea-8f83-9a3950e166c1",
   "metadata": {},
   "source": [
    "You can also add lists with arrays, but the output will be an array and not a list."
   ]
  },
  {
   "cell_type": "code",
   "execution_count": 33,
   "id": "a9775c85-d989-4aa0-91ab-e82e47a29545",
   "metadata": {},
   "outputs": [
    {
     "data": {
      "text/plain": [
       "array([2, 4, 6])"
      ]
     },
     "execution_count": 33,
     "metadata": {},
     "output_type": "execute_result"
    }
   ],
   "source": [
    "list1 + array1"
   ]
  },
  {
   "attachments": {},
   "cell_type": "markdown",
   "id": "76963f66",
   "metadata": {},
   "source": [
    "## 2.5 Multiplying by a Number"
   ]
  },
  {
   "cell_type": "markdown",
   "id": "6fa146b1-28e2-4838-995d-636e58869075",
   "metadata": {},
   "source": [
    "We can multiply (with `*`) a list or an array to a number. However, if it is `list * number`, it concatenates duplicates of the list, while `array * number` is an element-wise operation of multiplication."
   ]
  },
  {
   "cell_type": "code",
   "execution_count": 30,
   "id": "a53fbe8d-dfba-4d5b-ad90-e80d38e189f6",
   "metadata": {},
   "outputs": [
    {
     "data": {
      "text/plain": [
       "[1, 2, 3, 1, 2, 3]"
      ]
     },
     "execution_count": 30,
     "metadata": {},
     "output_type": "execute_result"
    }
   ],
   "source": [
    "list1 * 2      #This concatenates two lists of [1, 2, 3]"
   ]
  },
  {
   "cell_type": "code",
   "execution_count": 31,
   "id": "1c84fc83-f862-443b-9880-e548c185dd32",
   "metadata": {},
   "outputs": [
    {
     "data": {
      "text/plain": [
       "array([2, 4, 6])"
      ]
     },
     "execution_count": 31,
     "metadata": {},
     "output_type": "execute_result"
    }
   ],
   "source": [
    "array1 * 2     #Element-wise multiplication"
   ]
  },
  {
   "attachments": {},
   "cell_type": "markdown",
   "id": "7ea91a85",
   "metadata": {},
   "source": [
    "## 2.6 Squaring"
   ]
  },
  {
   "cell_type": "markdown",
   "id": "ed4e657d-7cd8-4f18-931a-aa6f0c26785c",
   "metadata": {},
   "source": [
    "We can square or cube (or any other higher powers) elements in an array, but **not** in a list."
   ]
  },
  {
   "cell_type": "code",
   "execution_count": 34,
   "id": "8a670f89-b1d6-41b2-92e5-96deba6f3b5a",
   "metadata": {},
   "outputs": [
    {
     "ename": "TypeError",
     "evalue": "unsupported operand type(s) for ** or pow(): 'list' and 'int'",
     "output_type": "error",
     "traceback": [
      "\u001b[1;31m---------------------------------------------------------------------------\u001b[0m",
      "\u001b[1;31mTypeError\u001b[0m                                 Traceback (most recent call last)",
      "Cell \u001b[1;32mIn[34], line 1\u001b[0m\n\u001b[1;32m----> 1\u001b[0m list1 \u001b[38;5;241m*\u001b[39m\u001b[38;5;241m*\u001b[39m \u001b[38;5;241m2\u001b[39m\n",
      "\u001b[1;31mTypeError\u001b[0m: unsupported operand type(s) for ** or pow(): 'list' and 'int'"
     ]
    }
   ],
   "source": [
    "list1 ** 2       #This yields an error"
   ]
  },
  {
   "cell_type": "code",
   "execution_count": 35,
   "id": "78b8ccf9-6424-4e2b-8861-818dd98c3a60",
   "metadata": {},
   "outputs": [
    {
     "data": {
      "text/plain": [
       "array([1, 4, 9])"
      ]
     },
     "execution_count": 35,
     "metadata": {},
     "output_type": "execute_result"
    }
   ],
   "source": [
    "array1 ** 2      #Element-wise squaring"
   ]
  },
  {
   "attachments": {},
   "cell_type": "markdown",
   "id": "219ead7d",
   "metadata": {},
   "source": [
    "## 2.7 Asking questions"
   ]
  },
  {
   "cell_type": "markdown",
   "id": "f04ee31e-57a9-4ba7-928e-27ef14e81d65",
   "metadata": {},
   "source": [
    "We can ask questions using the mathematical operators or other operators (e.g. `is`) that have been introduced previously. However, there are some restrictions if we ask questions for lists."
   ]
  },
  {
   "cell_type": "markdown",
   "id": "63476c11-cde1-472e-8b90-6087830bfed0",
   "metadata": {},
   "source": [
    "<p></p>"
   ]
  },
  {
   "cell_type": "markdown",
   "id": "fc53bdca-4f7f-4934-9a4f-b111cf5565dd",
   "metadata": {},
   "source": [
    "**Example 1**"
   ]
  },
  {
   "cell_type": "code",
   "execution_count": 38,
   "id": "e1b3859b-6a09-4729-8ecf-c9c123642563",
   "metadata": {},
   "outputs": [
    {
     "name": "stdout",
     "output_type": "stream",
     "text": [
      "True\n",
      "True\n"
     ]
    }
   ],
   "source": [
    "print(3 in list1)       #This asks whether the element 3 is in list1\n",
    "print(3 in array1)      #This asks whether the element 3 is in array1"
   ]
  },
  {
   "cell_type": "markdown",
   "id": "8599ab83-a074-4970-abd9-44e5418cb063",
   "metadata": {},
   "source": [
    "<p></p>"
   ]
  },
  {
   "cell_type": "markdown",
   "id": "981b1a3c-d8a0-4ff4-b206-eae0133ad237",
   "metadata": {},
   "source": [
    "**Example 2**"
   ]
  },
  {
   "cell_type": "markdown",
   "id": "efd62eb5-53dc-458d-99a1-361d0a375173",
   "metadata": {},
   "source": [
    "For mathematical operators, only using arrays works. This is because arrays will do element-wise operations, while lists are not capable of doing that."
   ]
  },
  {
   "cell_type": "code",
   "execution_count": 39,
   "id": "aeb35d55-a7ea-46d2-b2d9-1f921a7fde11",
   "metadata": {},
   "outputs": [
    {
     "ename": "TypeError",
     "evalue": "'>' not supported between instances of 'list' and 'int'",
     "output_type": "error",
     "traceback": [
      "\u001b[1;31m---------------------------------------------------------------------------\u001b[0m",
      "\u001b[1;31mTypeError\u001b[0m                                 Traceback (most recent call last)",
      "Cell \u001b[1;32mIn[39], line 1\u001b[0m\n\u001b[1;32m----> 1\u001b[0m list1 \u001b[38;5;241m>\u001b[39m \u001b[38;5;241m3\u001b[39m\n",
      "\u001b[1;31mTypeError\u001b[0m: '>' not supported between instances of 'list' and 'int'"
     ]
    }
   ],
   "source": [
    "list1 > 2    #This yields an error"
   ]
  },
  {
   "cell_type": "code",
   "execution_count": 42,
   "id": "62bcd9f1-9968-422c-a5d2-d0dc3be2bbed",
   "metadata": {},
   "outputs": [
    {
     "data": {
      "text/plain": [
       "array([False, False,  True])"
      ]
     },
     "execution_count": 42,
     "metadata": {},
     "output_type": "execute_result"
    }
   ],
   "source": [
    "array1 > 2   #Element-wise checking of whether each element is greater than 2"
   ]
  },
  {
   "cell_type": "markdown",
   "id": "6d4602c4-5281-4bf8-a256-7eaee02c1b5a",
   "metadata": {},
   "source": [
    "<p></p>"
   ]
  },
  {
   "cell_type": "markdown",
   "id": "e9e95227-52c7-4c3a-a87f-6709f6186caf",
   "metadata": {},
   "source": [
    "**Example 3**"
   ]
  },
  {
   "cell_type": "markdown",
   "id": "d0718c1b-a4f5-4d67-99f2-663462984bdf",
   "metadata": {},
   "source": [
    "For `==`, using lists will not yield an error, but it is ambigious: what exactly is the question, because it will only yield a single `True` or `False`."
   ]
  },
  {
   "cell_type": "code",
   "execution_count": 44,
   "id": "2d664937-ad01-4c64-a073-cbee11fcc15d",
   "metadata": {},
   "outputs": [
    {
     "data": {
      "text/plain": [
       "False"
      ]
     },
     "execution_count": 44,
     "metadata": {},
     "output_type": "execute_result"
    }
   ],
   "source": [
    "list1 == 2     #Redundant"
   ]
  },
  {
   "cell_type": "code",
   "execution_count": 45,
   "id": "b3739f4f-357a-4ba4-ad0f-db09b5ff9023",
   "metadata": {},
   "outputs": [
    {
     "data": {
      "text/plain": [
       "array([False,  True, False])"
      ]
     },
     "execution_count": 45,
     "metadata": {},
     "output_type": "execute_result"
    }
   ],
   "source": [
    "array1 == 2    #Element-wise checking of whether each element is equal to 2"
   ]
  },
  {
   "cell_type": "markdown",
   "id": "c80b96d9-1b68-410a-bea7-178f316b47b0",
   "metadata": {},
   "source": [
    "<p></p>"
   ]
  },
  {
   "attachments": {},
   "cell_type": "markdown",
   "id": "571d0c70",
   "metadata": {},
   "source": [
    "## 2.8 Mathematics"
   ]
  },
  {
   "cell_type": "markdown",
   "id": "dd84b6a7-e5d5-4a20-8f7c-91c203061939",
   "metadata": {},
   "source": [
    "We can do simple mathematical operations, such as `sum` and `max`, on both lists and arrays; but with different syntaxes."
   ]
  },
  {
   "cell_type": "code",
   "execution_count": 46,
   "id": "2af5e414-7f49-47cd-8669-f72d28d349f5",
   "metadata": {},
   "outputs": [],
   "source": [
    "import numpy as np\n",
    "\n",
    "example_list = [1, 2, 3, 4, 5]\n",
    "example_array = np.array(example_list)"
   ]
  },
  {
   "cell_type": "markdown",
   "id": "10c3ddf9-e339-4503-87c5-ef51546c9717",
   "metadata": {},
   "source": [
    "<p></p>"
   ]
  },
  {
   "cell_type": "markdown",
   "id": "c2e7b68a-4844-4c5e-856b-cb37a99b1b0b",
   "metadata": {},
   "source": [
    "Syntax for list is just using the base Python functions, such as `sum`, `max` and `min`."
   ]
  },
  {
   "cell_type": "code",
   "execution_count": 48,
   "id": "f32d8c39-a90e-4d5d-8847-66aa4c09c428",
   "metadata": {},
   "outputs": [
    {
     "name": "stdout",
     "output_type": "stream",
     "text": [
      "5\n",
      "1\n",
      "15\n"
     ]
    }
   ],
   "source": [
    "print(max(example_list))\n",
    "print(min(example_list))\n",
    "print(sum(example_list))"
   ]
  },
  {
   "cell_type": "markdown",
   "id": "5ad6f66f-7d10-4e4f-98d4-06b5d8ceaa8f",
   "metadata": {},
   "source": [
    "<p></p>"
   ]
  },
  {
   "cell_type": "markdown",
   "id": "403b6813-b7f6-4439-aee8-790223680245",
   "metadata": {},
   "source": [
    "On the other hand, those mathematical operators are attributes rather than separate functions for arrays. So, we use `.sum`, `.max` and `.min` for arrays."
   ]
  },
  {
   "cell_type": "code",
   "execution_count": 51,
   "id": "65657322-ff0e-40e7-a054-0d726a559287",
   "metadata": {},
   "outputs": [
    {
     "name": "stdout",
     "output_type": "stream",
     "text": [
      "5\n",
      "1\n",
      "15\n"
     ]
    }
   ],
   "source": [
    "print(example_array.max())\n",
    "print(example_array.min())\n",
    "print(example_array.sum())"
   ]
  }
 ],
 "metadata": {
  "kernelspec": {
   "display_name": "Python 3 (ipykernel)",
   "language": "python",
   "name": "python3"
  },
  "language_info": {
   "codemirror_mode": {
    "name": "ipython",
    "version": 3
   },
   "file_extension": ".py",
   "mimetype": "text/x-python",
   "name": "python",
   "nbconvert_exporter": "python",
   "pygments_lexer": "ipython3",
   "version": "3.11.5"
  },
  "toc": {
   "base_numbering": 1,
   "nav_menu": {},
   "number_sections": true,
   "sideBar": true,
   "skip_h1_title": false,
   "title_cell": "Table of Contents",
   "title_sidebar": "Contents",
   "toc_cell": false,
   "toc_position": {},
   "toc_section_display": true,
   "toc_window_display": false
  },
  "vscode": {
   "interpreter": {
    "hash": "31f2aee4e71d21fbe5cf8b01ff0e069b9275f58929596ceb00d14d90e3e16cd6"
   }
  }
 },
 "nbformat": 4,
 "nbformat_minor": 5
}
