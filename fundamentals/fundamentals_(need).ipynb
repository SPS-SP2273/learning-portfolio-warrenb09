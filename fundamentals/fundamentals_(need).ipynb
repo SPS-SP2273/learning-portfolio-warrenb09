{
 "cells": [
  {
   "attachments": {},
   "cell_type": "markdown",
   "id": "123456",
   "metadata": {},
   "source": [
    "<div style=\"text-align:left;font-size:2em\"><span style=\"font-weight:bolder;font-size:1.25em\">SP2273 | Learning Portfolio</span><br><br><span style=\"font-weight:bold;color:darkred\">Fundamentals (Need)</span></div>"
   ]
  },
  {
   "attachments": {},
   "cell_type": "markdown",
   "id": "2c3395da",
   "metadata": {},
   "source": [
    "# Functions"
   ]
  },
  {
   "cell_type": "markdown",
   "id": "dd90e3e7-2872-490d-9206-2c9941a6770a",
   "metadata": {},
   "source": [
    "In the line of code `print(\"Hello world!\")`:\n",
    "- `print` is the function. We can define our own function, and parentheses always follows a function (so, `print()`).\n",
    "- `\"Hello world!\"` is the argument of the `print()` function. Most functions require an argument in between the parentheses, but there are exceptions.\n",
    "- When the code is run, the `Hello world!` that appears is the output."
   ]
  },
  {
   "attachments": {},
   "cell_type": "markdown",
   "id": "9187c197",
   "metadata": {},
   "source": [
    "# Python is interpreted"
   ]
  },
  {
   "cell_type": "markdown",
   "id": "bb0fbf8f-997c-4ae0-86a6-a8cb2f46c98b",
   "metadata": {},
   "source": [
    "Python codes is interpreted **sequentially**. So, the line of code encountered by the Python interpreter first from top to bottom will be executed first, then the second line, and so on.\n",
    "\n",
    "For example:"
   ]
  },
  {
   "cell_type": "code",
   "execution_count": 1,
   "id": "a7438eb7-85f0-4220-a370-ba25a94f71e7",
   "metadata": {},
   "outputs": [
    {
     "name": "stdout",
     "output_type": "stream",
     "text": [
      "Hello world!\n",
      "Hello world, again!\n"
     ]
    }
   ],
   "source": [
    "print(\"Hello world!\")\n",
    "print(\"Hello world, again!\")"
   ]
  },
  {
   "cell_type": "markdown",
   "id": "daca03e7-553c-40c9-a4d3-d10947c46998",
   "metadata": {},
   "source": [
    "The output is `Hello world!` first then `Hello world, again!` on the second line."
   ]
  },
  {
   "attachments": {},
   "cell_type": "markdown",
   "id": "cf48436a",
   "metadata": {},
   "source": [
    "# Python is sensitive"
   ]
  },
  {
   "cell_type": "markdown",
   "id": "5c46b59c-0eda-42a3-a66c-d59cbcc780a7",
   "metadata": {},
   "source": [
    "Python is case sensitive. For example, the `print` function will not work if it is typed as `Print`(see below)."
   ]
  },
  {
   "cell_type": "code",
   "execution_count": 5,
   "id": "0daa06e2-95c8-47b4-8fdc-db912a249d50",
   "metadata": {},
   "outputs": [
    {
     "name": "stdout",
     "output_type": "stream",
     "text": [
      "Hello world!\n"
     ]
    }
   ],
   "source": [
    "print(\"Hello world!\")"
   ]
  },
  {
   "cell_type": "code",
   "execution_count": 6,
   "id": "574666aa-9476-4142-a295-359e256f1d5a",
   "metadata": {},
   "outputs": [
    {
     "ename": "NameError",
     "evalue": "name 'Print' is not defined",
     "output_type": "error",
     "traceback": [
      "\u001b[1;31m---------------------------------------------------------------------------\u001b[0m",
      "\u001b[1;31mNameError\u001b[0m                                 Traceback (most recent call last)",
      "Cell \u001b[1;32mIn[6], line 1\u001b[0m\n\u001b[1;32m----> 1\u001b[0m Print(\u001b[38;5;124m\"\u001b[39m\u001b[38;5;124mHello world!\u001b[39m\u001b[38;5;124m\"\u001b[39m)\n",
      "\u001b[1;31mNameError\u001b[0m: name 'Print' is not defined"
     ]
    }
   ],
   "source": [
    "Print(\"Hello world!\")"
   ]
  },
  {
   "cell_type": "markdown",
   "id": "e3404281-6773-401c-a16a-6cdc88489ef7",
   "metadata": {},
   "source": [
    "`print(\"Hello world!\")` generates the output `Hello world!` while `Print(\"Hello world!\")` generates an error."
   ]
  },
  {
   "attachments": {},
   "cell_type": "markdown",
   "id": "f1344207",
   "metadata": {},
   "source": [
    "# Comments"
   ]
  },
  {
   "cell_type": "markdown",
   "id": "e30c3db8-7bf2-4dfe-bda4-31174f7a94e8",
   "metadata": {},
   "source": [
    "We can put comments on our line of code. Python ignores all comments.\n",
    "\n",
    "To convert a line into a comment, just add `#` before the start of the comment; anything beyond the `#` in that line will become a comment. For example:"
   ]
  },
  {
   "cell_type": "code",
   "execution_count": 18,
   "id": "052c8f05-aae3-409b-a852-f38c10024655",
   "metadata": {},
   "outputs": [
    {
     "name": "stdout",
     "output_type": "stream",
     "text": [
      "Hello world!\n"
     ]
    }
   ],
   "source": [
    "print(\"Hello world!\")   #This is a comment"
   ]
  },
  {
   "cell_type": "markdown",
   "id": "e4825af3-c920-467e-90b5-58f1f1796f09",
   "metadata": {},
   "source": [
    "`#This is a comment` was not included in the output.\n",
    "\n",
    "Comments should only be used when they are meaningful so that it does not clutter the line of codes. In the example above, if we write `#This is the print function`, that is not exactly useful because anyone can infer that. Comments are used to explain the purpose of the code. See the example below."
   ]
  },
  {
   "cell_type": "code",
   "execution_count": 19,
   "id": "fe448520-59c2-4de6-b388-a4eec0d57d38",
   "metadata": {},
   "outputs": [
    {
     "name": "stdout",
     "output_type": "stream",
     "text": [
      "[6, 1, 2, 3, 4, 5]\n"
     ]
    }
   ],
   "source": [
    "arr = [1, 2, 3, 4, 5, 6]\n",
    "a = arr[0]                              \n",
    "temp = 0                                #Create a temporary variable to store replaced numbers\n",
    "\n",
    "for x in range(len(arr)):\n",
    "    temp = arr[(x + 1) % len(arr)]      #Store the to be replaced number in temp\n",
    "    arr[(x + 1) % len(arr)] = a         #Replace a number immediately after a number in the array with that number\n",
    "    a = temp                            \n",
    "\n",
    "print(arr)                              #Prints new array with elements shifted to the right"
   ]
  },
  {
   "cell_type": "markdown",
   "id": "bf090b10-f44f-47f5-bdd7-6c43abfdde4c",
   "metadata": {},
   "source": [
    "In the example above, the comments are useful in understanding the block of code."
   ]
  },
  {
   "cell_type": "markdown",
   "id": "4a55d6ca-b33f-4a0f-b5c7-8798449ceb97",
   "metadata": {},
   "source": [
    "We can also add comments in between `''' '''`. The difference between this and `#` is that\n",
    "1. `#` comments do not show up in the output, while `''' '''` comments do show up.\n",
    "2. `#` only allows for single line comments, while `''' '''` allows for multi-line comments.\n",
    "   \n",
    "`''' '''` is useful to deactivate parts of the code during debugging."
   ]
  },
  {
   "attachments": {},
   "cell_type": "markdown",
   "id": "05e3678e",
   "metadata": {},
   "source": [
    "# = is not the same as =="
   ]
  },
  {
   "cell_type": "markdown",
   "id": "13d7edea-8c1a-4f0f-92e3-adc9e78687e7",
   "metadata": {},
   "source": [
    "- `=` is to set something AS another thing (e.g. `a = b` means we are setting the variable `a` as the variable `b`).\n",
    "- `==` is to ask the question: is something equal to something? The answer will be `True` or `False` (e.g. `a == b` means to ask 'is `a` equal to `b`?')."
   ]
  },
  {
   "attachments": {},
   "cell_type": "markdown",
   "id": "a67ad91e",
   "metadata": {},
   "source": [
    "# Use if to make decisions"
   ]
  },
  {
   "cell_type": "markdown",
   "id": "e331acd9-3895-4d59-a83c-7fbfa18f751f",
   "metadata": {},
   "source": [
    "We can use `if` statements to branch the flow of the programme. When the condition associated with the `if` statement is `True`, the block of code designated to the statement will be executed. In a sense, `if` statements allows us to make decisions in the code; if something is `True`, do something, and if `False`, then don't do it."
   ]
  },
  {
   "cell_type": "code",
   "execution_count": 16,
   "id": "f344cfaf-89a6-4d21-8a79-627c175ba319",
   "metadata": {},
   "outputs": [
    {
     "name": "stdin",
     "output_type": "stream",
     "text": [
      "Number:  2\n"
     ]
    },
    {
     "name": "stdout",
     "output_type": "stream",
     "text": [
      "Number is less than 10.\n"
     ]
    }
   ],
   "source": [
    "a = int(input(\"Number: \"))\n",
    "\n",
    "if a < 10:\n",
    "    print(\"Number is less than 10.\")\n",
    "elif a == 10:\n",
    "    print(\"Number is exactly 10.\")\n",
    "else:\n",
    "    print(\"Number is more than 10.\")"
   ]
  },
  {
   "cell_type": "markdown",
   "id": "2869aeac-8578-4e56-b918-b84dbf806970",
   "metadata": {},
   "source": [
    "In the code above, we can input a number using the `input` function (`int` function is to convert the input variable to a number from a string).\n",
    "\n",
    "The `if` statements allows for different sentences to be printed depending on the what the input number is. The first statement is the initial statement, so use `if`. For subsequent `if` statements, we use `elif`. `else` is used when we want to designate a line of code for any other conditions not specified in the `if` and `elif` statements (in this case, the else condition is `a > 10`).\n",
    "\n",
    "Notice that after each `if` statement, there is `:`. `:`, with the indentations (explained in the next section), is used to designated a block of code to the `if` statement."
   ]
  },
  {
   "attachments": {},
   "cell_type": "markdown",
   "id": "6962af80",
   "metadata": {},
   "source": [
    "# Indentations (spaces) are sooo IMPORTANT!"
   ]
  },
  {
   "cell_type": "markdown",
   "id": "aa838290-bfe0-46e6-b6c9-e7514ea91fb2",
   "metadata": {},
   "source": [
    "Notice that in the `if` statements in the last section, the block of code associated with each `if` statement is determined by indentations.\n",
    "\n",
    "Indentations are important in Python. Use them only when necessary (e.g. assigning a block of code to an `if` statement). If an indentation is not needed but is used in the code, Python will raise an error (IndentationError), as seen below."
   ]
  },
  {
   "cell_type": "code",
   "execution_count": 21,
   "id": "bf61f64e-396c-4680-9312-dd59150bfdca",
   "metadata": {},
   "outputs": [
    {
     "ename": "IndentationError",
     "evalue": "unexpected indent (2703623731.py, line 2)",
     "output_type": "error",
     "traceback": [
      "\u001b[1;36m  Cell \u001b[1;32mIn[21], line 2\u001b[1;36m\u001b[0m\n\u001b[1;33m    print(x)\u001b[0m\n\u001b[1;37m    ^\u001b[0m\n\u001b[1;31mIndentationError\u001b[0m\u001b[1;31m:\u001b[0m unexpected indent\n"
     ]
    }
   ],
   "source": [
    "x = 10\n",
    "    print(x)     #Unneeded indent causes an error"
   ]
  },
  {
   "cell_type": "markdown",
   "id": "2bf357b0-1ab4-473e-a5c2-b8e947c1ec55",
   "metadata": {},
   "source": [
    "For indentations, always use `Tab` instead of `Space`. They are NOT the same."
   ]
  },
  {
   "attachments": {},
   "cell_type": "markdown",
   "id": "fd784990",
   "metadata": {},
   "source": [
    "# ‘age’ is English, age is a variable."
   ]
  },
  {
   "cell_type": "markdown",
   "id": "17af77a7-8a3d-44c9-ae80-79b47965900e",
   "metadata": {},
   "source": [
    "Variables are something that can hold information (i.e. a value). A variable can be named anything (except for Python functions such as `print` or `while`). However, it is better to name the variable that gives some idea about what information it is storing (e.g. rather name naming a variable storing the data of a name of a person as `hello`, name the variable `person_name` or something to that equivalent)."
   ]
  },
  {
   "cell_type": "markdown",
   "id": "ef04f62b-2ad0-4bde-a19b-7ebd79cb6b0f",
   "metadata": {},
   "source": [
    "A string is not the same as a variable; `person_name` (variable) is not the same as `\"person_name\"` (string)."
   ]
  },
  {
   "cell_type": "code",
   "execution_count": 25,
   "id": "27206987-c718-4af9-9960-fe8a89684fc7",
   "metadata": {},
   "outputs": [
    {
     "name": "stdout",
     "output_type": "stream",
     "text": [
      "warren\n",
      "person_name\n"
     ]
    }
   ],
   "source": [
    "person_name = \"warren\"    #A variable must be defined first before it can be used in subsequent codes\n",
    "print(person_name)        #Printing the information contained in the variable person_name\n",
    "print(\"person_name\")      #Printing literally person_name"
   ]
  },
  {
   "attachments": {},
   "cell_type": "markdown",
   "id": "dec366dc",
   "metadata": {},
   "source": [
    "# Brackets"
   ]
  },
  {
   "cell_type": "markdown",
   "id": "2555515b-d5b4-4e2e-a4bd-0807507bc040",
   "metadata": {},
   "source": [
    "Python uses three types of brackets: `( )`, `[ ]` and `{ }`. All three serve different functions in a code."
   ]
  },
  {
   "cell_type": "markdown",
   "id": "984cc7cf-e1d2-4b49-a9de-6f4fcd0ce71d",
   "metadata": {},
   "source": [
    "## Calling functions"
   ]
  },
  {
   "cell_type": "markdown",
   "id": "a00a0dc9-e5ec-47c2-951e-4b3472473410",
   "metadata": {},
   "source": [
    "Python uses `( )` to call functions. There are already so many examples of this: the most basic one is `print()`.\n",
    "\n",
    "*Note: Python also uses `( )` for mathematics (e.g. (1 + 2) * 3)*"
   ]
  },
  {
   "cell_type": "markdown",
   "id": "68b5dc85-2bee-4c1b-b4c6-fb08eaa3f240",
   "metadata": {},
   "source": [
    "## Listing and calling elements from a list"
   ]
  },
  {
   "cell_type": "markdown",
   "id": "f011484b-c587-4733-8f65-bcd58ed2ee3a",
   "metadata": {},
   "source": [
    "Python uses `[ ]` to create lists and to call elements from lists."
   ]
  },
  {
   "cell_type": "code",
   "execution_count": 26,
   "id": "863c3bde-e809-459c-8de3-f3af1f31187f",
   "metadata": {},
   "outputs": [
    {
     "data": {
      "text/plain": [
       "1"
      ]
     },
     "execution_count": 26,
     "metadata": {},
     "output_type": "execute_result"
    }
   ],
   "source": [
    "list1 = [1, 2, 3, 4, 5]     #Creating a list\n",
    "list1[0]                    #Calling the element at position 0 in list1"
   ]
  },
  {
   "cell_type": "markdown",
   "id": "3d86366d-0979-4d95-8e85-49102f5bf885",
   "metadata": {},
   "source": [
    "Notice that the element `1` is at position 0, not position 1. These positions are called index, and the index starts at 0."
   ]
  },
  {
   "cell_type": "markdown",
   "id": "01a97103-04f3-4697-aef3-d7a4d1110263",
   "metadata": {},
   "source": [
    "## Creating a dictionary"
   ]
  },
  {
   "cell_type": "markdown",
   "id": "098d99b7-a0d1-4f49-92c4-55eac1cffa21",
   "metadata": {},
   "source": [
    "Python uses `{ }` to create dictionaries."
   ]
  },
  {
   "cell_type": "code",
   "execution_count": 29,
   "id": "0241b5b2-61bc-4822-9818-06e481490be7",
   "metadata": {},
   "outputs": [],
   "source": [
    "dict1 = {\n",
    "    'Name': 'Warren',\n",
    "    'Module': 'SP2273',\n",
    "    'Major': 'Pharmaceutical Science',\n",
    "    'Year': 1\n",
    "}"
   ]
  },
  {
   "cell_type": "markdown",
   "id": "6c598823-53f4-4b67-95bc-a28cafc3413e",
   "metadata": {},
   "source": [
    "The dictionary assigns a **key** to a **value** (e.g. 'Name' is assigned to 'Warren'). This is useful to store data and quickly retrieve information. "
   ]
  },
  {
   "cell_type": "code",
   "execution_count": 32,
   "id": "bc91cbe4-944b-435e-a265-34edd02606d4",
   "metadata": {},
   "outputs": [
    {
     "name": "stdout",
     "output_type": "stream",
     "text": [
      "Warren\n"
     ]
    }
   ],
   "source": [
    "print(dict1['Name'])    #Use [ ] to retrieve information like in a list, but not using indexes but using the keys"
   ]
  },
  {
   "attachments": {},
   "cell_type": "markdown",
   "id": "ab368b61",
   "metadata": {},
   "source": [
    "# Giving Python superpowers with Packages"
   ]
  },
  {
   "attachments": {},
   "cell_type": "markdown",
   "id": "072d1c9d",
   "metadata": {},
   "source": [
    "## Some Context"
   ]
  },
  {
   "cell_type": "markdown",
   "id": "76fe3852-058a-44f2-98bd-4a08a40f89bf",
   "metadata": {},
   "source": [
    "The base functions given in Python are limited. For example, Python can do simple mathematics, but cannot computate more complex mathematical concepts like square roots and cube roots. This is where `packages` come into play; they add more functions to Python for us to use."
   ]
  },
  {
   "cell_type": "code",
   "execution_count": 33,
   "id": "f72fece8-58b3-4b5d-baad-3687943ed1c3",
   "metadata": {},
   "outputs": [
    {
     "name": "stdout",
     "output_type": "stream",
     "text": [
      "3\n"
     ]
    },
    {
     "ename": "NameError",
     "evalue": "name 'sqrt' is not defined",
     "output_type": "error",
     "traceback": [
      "\u001b[1;31m---------------------------------------------------------------------------\u001b[0m",
      "\u001b[1;31mNameError\u001b[0m                                 Traceback (most recent call last)",
      "Cell \u001b[1;32mIn[33], line 2\u001b[0m\n\u001b[0;32m      1\u001b[0m \u001b[38;5;28mprint\u001b[39m(\u001b[38;5;241m1\u001b[39m \u001b[38;5;241m+\u001b[39m \u001b[38;5;241m2\u001b[39m)     \u001b[38;5;66;03m#Python can do simple addition\u001b[39;00m\n\u001b[1;32m----> 2\u001b[0m \u001b[38;5;28mprint\u001b[39m(sqrt(\u001b[38;5;241m2\u001b[39m))\n",
      "\u001b[1;31mNameError\u001b[0m: name 'sqrt' is not defined"
     ]
    }
   ],
   "source": [
    "1 + 2     #Python can do simple addition\n",
    "sqrt(2)   #Python cannot do square roots"
   ]
  },
  {
   "attachments": {},
   "cell_type": "markdown",
   "id": "561a3d1f",
   "metadata": {},
   "source": [
    "## Importing the math package"
   ]
  },
  {
   "cell_type": "markdown",
   "id": "1a4e2401-fcaf-495a-a703-e03ef97d7c93",
   "metadata": {},
   "source": [
    "We use the `import` command to be able to use additional functions from a `package`. Import a `package` only once; importing more than once will not cause an error, but might affect the readability and efficiency of the code."
   ]
  },
  {
   "cell_type": "code",
   "execution_count": 35,
   "id": "beac2f2c-36b7-438d-9d84-02e22329aba8",
   "metadata": {},
   "outputs": [
    {
     "name": "stdout",
     "output_type": "stream",
     "text": [
      "1.4142135623730951\n"
     ]
    }
   ],
   "source": [
    "import math          #Importing the math package\n",
    "math.sqrt(2)         #Now, we can use the sqrt function"
   ]
  },
  {
   "attachments": {},
   "cell_type": "markdown",
   "id": "dc10e3d9",
   "metadata": {},
   "source": [
    "## Importing the numpy package"
   ]
  },
  {
   "cell_type": "markdown",
   "id": "8a9ca75a-cfd0-47a1-b6c3-256a1435df3f",
   "metadata": {},
   "source": [
    "The `math package` is not the only `package` that has the `sqrt` function. The `numpy package` also has the same function."
   ]
  },
  {
   "cell_type": "code",
   "execution_count": 36,
   "id": "9071d7a4-5b23-44bb-aead-0bc6ecd9d8f0",
   "metadata": {},
   "outputs": [
    {
     "data": {
      "text/plain": [
       "1.4142135623730951"
      ]
     },
     "execution_count": 36,
     "metadata": {},
     "output_type": "execute_result"
    }
   ],
   "source": [
    "import numpy as np   #Importing the numpy package ('as np' to shorten 'numpy')\n",
    "np.sqrt(2)           #Use the sqrt function from the numpy package"
   ]
  },
  {
   "attachments": {},
   "cell_type": "markdown",
   "id": "0090a056",
   "metadata": {},
   "source": [
    "## Why so many packages?"
   ]
  },
  {
   "cell_type": "markdown",
   "id": "803cf203-b691-4f48-8191-a62dcb622593",
   "metadata": {},
   "source": [
    "The reason that we have so many packages with the same function, such as `sqrt`, is because the same functions in different packages have different capabilities and efficiencies. For example, the `sqrt` function in `numpy` can apply square root to all elements in a list, while that in `math` cannot."
   ]
  },
  {
   "cell_type": "code",
   "execution_count": 37,
   "id": "6057defe-1cc6-4f48-ae73-cafb72531e41",
   "metadata": {},
   "outputs": [
    {
     "ename": "TypeError",
     "evalue": "must be real number, not list",
     "output_type": "error",
     "traceback": [
      "\u001b[1;31m---------------------------------------------------------------------------\u001b[0m",
      "\u001b[1;31mTypeError\u001b[0m                                 Traceback (most recent call last)",
      "Cell \u001b[1;32mIn[37], line 2\u001b[0m\n\u001b[0;32m      1\u001b[0m \u001b[38;5;28;01mimport\u001b[39;00m \u001b[38;5;21;01mmath\u001b[39;00m\n\u001b[1;32m----> 2\u001b[0m math\u001b[38;5;241m.\u001b[39msqrt([\u001b[38;5;241m1\u001b[39m, \u001b[38;5;241m2\u001b[39m])\n",
      "\u001b[1;31mTypeError\u001b[0m: must be real number, not list"
     ]
    }
   ],
   "source": [
    "import math\n",
    "math.sqrt([1, 2])     #Raises an error"
   ]
  },
  {
   "cell_type": "code",
   "execution_count": 39,
   "id": "0f96499f-9d4e-4655-af61-38eec5741994",
   "metadata": {},
   "outputs": [
    {
     "name": "stdout",
     "output_type": "stream",
     "text": [
      "[1.         1.41421356]\n"
     ]
    }
   ],
   "source": [
    "import numpy as np\n",
    "print(np.sqrt([1, 2]))       #Returns a list containing the square rooted elements"
   ]
  },
  {
   "attachments": {},
   "cell_type": "markdown",
   "id": "1216da62",
   "metadata": {},
   "source": [
    "# The dot (.)"
   ]
  },
  {
   "cell_type": "markdown",
   "id": "30c909ab-6490-4ff2-8586-38206754b7c3",
   "metadata": {},
   "source": [
    "Notice that when using the `sqrt` function from a package, the syntax is `name of package.sqrt`. The `.` indicates ownership; `math.sqrt` means the `sqrt` function from the `math package`.\n",
    "\n",
    "Everything in Python has functions and attributes that belong to them. We can use these functions and attriutes by using `.`."
   ]
  },
  {
   "cell_type": "code",
   "execution_count": 40,
   "id": "b29e99cf-8792-42ca-b11d-53bcf7272df5",
   "metadata": {},
   "outputs": [
    {
     "data": {
      "text/plain": [
       "['Hello,', 'I', 'am', 'Warren']"
      ]
     },
     "execution_count": 40,
     "metadata": {},
     "output_type": "execute_result"
    }
   ],
   "source": [
    "\"Hello, I am Warren\".split()"
   ]
  }
 ],
 "metadata": {
  "kernelspec": {
   "display_name": "Python 3 (ipykernel)",
   "language": "python",
   "name": "python3"
  },
  "language_info": {
   "codemirror_mode": {
    "name": "ipython",
    "version": 3
   },
   "file_extension": ".py",
   "mimetype": "text/x-python",
   "name": "python",
   "nbconvert_exporter": "python",
   "pygments_lexer": "ipython3",
   "version": "3.11.5"
  },
  "toc": {
   "base_numbering": 1,
   "nav_menu": {},
   "number_sections": true,
   "sideBar": true,
   "skip_h1_title": false,
   "title_cell": "Table of Contents",
   "title_sidebar": "Contents",
   "toc_cell": false,
   "toc_position": {},
   "toc_section_display": true,
   "toc_window_display": false
  },
  "vscode": {
   "interpreter": {
    "hash": "31f2aee4e71d21fbe5cf8b01ff0e069b9275f58929596ceb00d14d90e3e16cd6"
   }
  }
 },
 "nbformat": 4,
 "nbformat_minor": 5
}
