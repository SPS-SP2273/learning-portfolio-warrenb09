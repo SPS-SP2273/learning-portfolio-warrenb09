{
 "cells": [
  {
   "attachments": {},
   "cell_type": "markdown",
   "id": "123456",
   "metadata": {},
   "source": [
    "<div style=\"text-align:left;font-size:2em\"><span style=\"font-weight:bolder;font-size:1.25em\">SP2273 | Learning Portfolio</span><br><br><span style=\"font-weight:bold;color:darkred\">Fundamentals (Good)</span></div>"
   ]
  },
  {
   "attachments": {},
   "cell_type": "markdown",
   "id": "a37b4a1c",
   "metadata": {},
   "source": [
    "# What to expect in this chapter"
   ]
  },
  {
   "attachments": {},
   "cell_type": "markdown",
   "id": "87ee2edd",
   "metadata": {},
   "source": [
    "# There is more to if"
   ]
  },
  {
   "cell_type": "markdown",
   "id": "f23be70f-bdf7-4649-9052-0935841a63db",
   "metadata": {},
   "source": [
    "We use `elif` if we need more branches in the `if` statements."
   ]
  },
  {
   "cell_type": "code",
   "execution_count": 1,
   "id": "49cbe06d-a607-4668-9db5-ec1b5d15de81",
   "metadata": {},
   "outputs": [
    {
     "name": "stdin",
     "output_type": "stream",
     "text": [
      "Number:  11\n"
     ]
    },
    {
     "name": "stdout",
     "output_type": "stream",
     "text": [
      "Number is more than 10.\n"
     ]
    }
   ],
   "source": [
    "a = int(input(\"Number: \"))\n",
    "\n",
    "if a < 10:\n",
    "    print(\"Number is less than 10.\")\n",
    "elif a == 10:\n",
    "    print(\"Number is exactly 10.\")\n",
    "else:\n",
    "    print(\"Number is more than 10.\")"
   ]
  },
  {
   "cell_type": "markdown",
   "id": "756432ad-aff2-46af-905b-27a8f192939f",
   "metadata": {},
   "source": [
    "The `if` statements allows for different sentences to be printed depending on the what the input number is. The first statement is the initial statement, so use `if`. For subsequent `if` statements, we use `elif`. `else` is used when we want to designate a line of code for any other conditions not specified in the `if` and `elif` statements (in this case, the else condition is `a > 10`)."
   ]
  },
  {
   "attachments": {},
   "cell_type": "markdown",
   "id": "adcc5a71",
   "metadata": {},
   "source": [
    "# Asking questions"
   ]
  },
  {
   "cell_type": "markdown",
   "id": "ef9529ef-a65f-4869-a499-f17756e6e230",
   "metadata": {},
   "source": [
    "To use `if` statements, we need to be able to ask 'questions' (e.g. `==`, `<`, `in`, `and`, etc.) which gives the `True` or `False` answers. Below shows some ways that we can ask 'questions' and add more conditions to those 'questions' using **operators**."
   ]
  },
  {
   "cell_type": "markdown",
   "id": "4a403dc3-e955-44fd-baf9-eb2ed0e0972c",
   "metadata": {},
   "source": [
    "|**Operators**|**Example**|**Meaning**|\n",
    "|:--|:--|:--|\n",
    "|`==`|`A == B`|Is A equal to B?|\n",
    "|`>`|`A > B`|Is A greater than B?|\n",
    "|`<`|`A < B`|Is A less than B?|\n",
    "|`>=`|`A >= B`|Is A greater than or equal to B?|\n",
    "|`<=`|`A <= B`|Is A less than or equal to B?|\n",
    "|`and`|`A < 10 and A > 5`|Is A more than 5 but less than 10?|\n",
    "|`or`|`A < 10 or B < 10`|Is either A or B less than 10?|\n",
    "|`!=`|`A != B`|Is A not equal to B?|\n",
    "|`in`|`\"app\" in \"apple\"`|Are the letters \"app\", in that order, present in the word \"apple\"?|\n",
    "|`not in`|`\"app\" not in \"apple\"`|Are the letters \"app\", in that order, not present in the word \"apple\"?|"
   ]
  },
  {
   "cell_type": "markdown",
   "id": "17d45af6-d7cf-45df-9da6-a5b6c48c7ffd",
   "metadata": {},
   "source": [
    "*Some examples given above are not the most readable; for example, `A < 10 and A > 5`. To make it more readable (and less confusing), we can actually just write `5 < A < 10`. If we insist of using `and`, we can add brackets to make it somewhat more readable with `(A < 10) and (A > 5)`.*"
   ]
  },
  {
   "cell_type": "markdown",
   "id": "13991072-2b75-4b01-ab64-aa2bb0c9b30c",
   "metadata": {},
   "source": [
    "Some example codes are shown below."
   ]
  },
  {
   "cell_type": "code",
   "execution_count": 16,
   "id": "a2c66e3d-89d5-464f-b6f2-4e0f01765a0b",
   "metadata": {},
   "outputs": [
    {
     "name": "stdout",
     "output_type": "stream",
     "text": [
      "True\n",
      "False\n",
      "False\n",
      "True\n",
      "True\n",
      "False\n",
      "True\n",
      "True\n",
      "True\n"
     ]
    }
   ],
   "source": [
    "hello = [\"hi\", \"heyo\", \"hey\", \"greetings\", \"morning\"]\n",
    "\n",
    "print(\"morning\" in hello)\n",
    "print(\"heyo\" not in hello)\n",
    "print(\"hi\" in hello and \"boo\" in hello)\n",
    "print(\"hi\" in hello or \"boo\" in hello)\n",
    "print(\"hi\" != \"heyo\")\n",
    "print(\"hi\" == \"heyo\")\n",
    "print(1 < 2)\n",
    "print(1 == 1)\n",
    "print(4 <= 5)"
   ]
  },
  {
   "cell_type": "markdown",
   "id": "dc4c990a-4bfe-4d20-a388-c3d5a01ffbc5",
   "metadata": {},
   "source": [
    "*Note: When using `and` or `or`, we cannot just type e.g. `A == 10 or 15` (`15` will return `True`, so `True` will always be returned), but we have to type `A == 10 or A == 15` (translates to 'Is A either 10 or 15?').*"
   ]
  },
  {
   "cell_type": "markdown",
   "id": "02459447-2b25-4219-acbe-a0876b21590f",
   "metadata": {},
   "source": [
    "For comparison 'questions' (e.g. `>`), Python can only compare between two variables of the same type. So, `1 < 2` works, but not `\"hi\" < 2`.\n",
    "\n",
    "However, as strange as it is, we can compare between two strings using mathematical operators such as `\"hello\" > \"hi\"`. This is because Python stores strings as numbers (i.e. each letter has a number associated to them)."
   ]
  },
  {
   "attachments": {},
   "cell_type": "markdown",
   "id": "010c204c",
   "metadata": {},
   "source": [
    "# Python stores information in different formats or types"
   ]
  },
  {
   "cell_type": "markdown",
   "id": "d4605a28-4149-4f2e-8d48-c9cb8613a5d2",
   "metadata": {},
   "source": [
    "There are different data types in Python: integers (`int`), strings (`str`), decimal numbers (`float`), complex numbers (`complex`), etc.\n",
    "\n",
    "We can use the `type` function to check what data type a variable is."
   ]
  },
  {
   "cell_type": "code",
   "execution_count": 17,
   "id": "67cfe577-f651-455c-9009-10bf207a02a8",
   "metadata": {},
   "outputs": [
    {
     "data": {
      "text/plain": [
       "int"
      ]
     },
     "execution_count": 17,
     "metadata": {},
     "output_type": "execute_result"
    }
   ],
   "source": [
    "a = 10\n",
    "type(a)"
   ]
  },
  {
   "cell_type": "markdown",
   "id": "2ff092c7-f9c2-47f2-afce-b227cbd3145d",
   "metadata": {},
   "source": [
    "We can also change the data type of a variable; this is called typecasting."
   ]
  },
  {
   "cell_type": "code",
   "execution_count": 19,
   "id": "76653fdc-616a-499a-9f6d-1846ed474f3b",
   "metadata": {},
   "outputs": [
    {
     "name": "stdout",
     "output_type": "stream",
     "text": [
      "10\n",
      "10.0\n",
      "(10+0j)\n"
     ]
    }
   ],
   "source": [
    "print(str(a))\n",
    "print(float(a))\n",
    "print(complex(a))"
   ]
  },
  {
   "cell_type": "markdown",
   "id": "221a75ad-3515-4be1-a81b-1bd0231af8f2",
   "metadata": {},
   "source": [
    "Typecasting is useful for the `input` function because `input` only allows users to input strings. When we want users to input numbers instead, we can combine the `input` and the typecasting functions together. See the example below."
   ]
  },
  {
   "cell_type": "code",
   "execution_count": 21,
   "id": "7c30b09a-c365-4d8f-b750-c51dc128c99b",
   "metadata": {},
   "outputs": [
    {
     "name": "stdin",
     "output_type": "stream",
     "text": [
      "Enter a number to be squared:  2\n"
     ]
    },
    {
     "ename": "TypeError",
     "evalue": "unsupported operand type(s) for ** or pow(): 'str' and 'int'",
     "output_type": "error",
     "traceback": [
      "\u001b[1;31m---------------------------------------------------------------------------\u001b[0m",
      "\u001b[1;31mTypeError\u001b[0m                                 Traceback (most recent call last)",
      "Cell \u001b[1;32mIn[21], line 3\u001b[0m\n\u001b[0;32m      1\u001b[0m number \u001b[38;5;241m=\u001b[39m \u001b[38;5;28minput\u001b[39m(\u001b[38;5;124m\"\u001b[39m\u001b[38;5;124mEnter a number to be squared: \u001b[39m\u001b[38;5;124m\"\u001b[39m)\n\u001b[1;32m----> 3\u001b[0m \u001b[38;5;28mprint\u001b[39m(number \u001b[38;5;241m*\u001b[39m\u001b[38;5;241m*\u001b[39m \u001b[38;5;241m2\u001b[39m)\n",
      "\u001b[1;31mTypeError\u001b[0m: unsupported operand type(s) for ** or pow(): 'str' and 'int'"
     ]
    }
   ],
   "source": [
    "number = input(\"Enter a number to be squared: \")\n",
    "\n",
    "print(number ** 2)"
   ]
  },
  {
   "cell_type": "markdown",
   "id": "1ef02dd9-2a51-4e2a-af26-467ce64e7511",
   "metadata": {},
   "source": [
    "Here, the number inputed initially will be a string. The `**` mathematical operator will not be able to square a string (imagine chicken<sup>2</sup>); you will get the `TypeError`. To fix this, we use the `int` function to convert the input into an integer, which can be squared."
   ]
  },
  {
   "cell_type": "code",
   "execution_count": 22,
   "id": "c9e931fd-0d9f-40e5-884e-eb13f5c2d14b",
   "metadata": {},
   "outputs": [
    {
     "name": "stdin",
     "output_type": "stream",
     "text": [
      "Enter a number to be squared:  2\n"
     ]
    },
    {
     "name": "stdout",
     "output_type": "stream",
     "text": [
      "4\n"
     ]
    }
   ],
   "source": [
    "number = int(input(\"Enter a number to be squared: \"))\n",
    "\n",
    "print(number ** 2)"
   ]
  },
  {
   "cell_type": "markdown",
   "id": "fc786bd8-8315-4dbc-bb0a-d56a1c31b4f8",
   "metadata": {},
   "source": [
    "*Note: You cannot convert certain data types to other data types (e.g. string to integer) because it simply does not make sense. You will get the `ValueError`.*"
   ]
  },
  {
   "cell_type": "code",
   "execution_count": 23,
   "id": "4ef00fa7-d0be-47a5-a6e1-fc37a7a527ae",
   "metadata": {},
   "outputs": [
    {
     "ename": "ValueError",
     "evalue": "invalid literal for int() with base 10: 'hi'",
     "output_type": "error",
     "traceback": [
      "\u001b[1;31m---------------------------------------------------------------------------\u001b[0m",
      "\u001b[1;31mValueError\u001b[0m                                Traceback (most recent call last)",
      "Cell \u001b[1;32mIn[23], line 1\u001b[0m\n\u001b[1;32m----> 1\u001b[0m \u001b[38;5;28mint\u001b[39m(\u001b[38;5;124m\"\u001b[39m\u001b[38;5;124mhi\u001b[39m\u001b[38;5;124m\"\u001b[39m)\n",
      "\u001b[1;31mValueError\u001b[0m: invalid literal for int() with base 10: 'hi'"
     ]
    }
   ],
   "source": [
    "int(\"hi\")"
   ]
  },
  {
   "attachments": {},
   "cell_type": "markdown",
   "id": "6a47c2f1",
   "metadata": {},
   "source": [
    "# 5 Never compare floats directly"
   ]
  },
  {
   "attachments": {},
   "cell_type": "markdown",
   "id": "2550f07f",
   "metadata": {},
   "source": [
    "## 5.1 The Problem"
   ]
  },
  {
   "attachments": {},
   "cell_type": "markdown",
   "id": "038bb179",
   "metadata": {},
   "source": [
    "## 5.2 A solution"
   ]
  },
  {
   "attachments": {},
   "cell_type": "markdown",
   "id": "04f8110a",
   "metadata": {},
   "source": [
    "# 6 Combining English and variables"
   ]
  },
  {
   "attachments": {},
   "cell_type": "markdown",
   "id": "01d79f0f",
   "metadata": {},
   "source": [
    "## 6.1 Structure of f-strings"
   ]
  },
  {
   "attachments": {},
   "cell_type": "markdown",
   "id": "c97ba0ac",
   "metadata": {},
   "source": [
    "# 7 Escape sequences"
   ]
  },
  {
   "attachments": {},
   "cell_type": "markdown",
   "id": "a061d188",
   "metadata": {},
   "source": [
    "# 8 Computers read = from Right to Left!"
   ]
  },
  {
   "attachments": {},
   "cell_type": "markdown",
   "id": "deda013a",
   "metadata": {},
   "source": [
    "# 9 Shorter and Cleaner Code"
   ]
  },
  {
   "attachments": {},
   "cell_type": "markdown",
   "id": "91a1d19f",
   "metadata": {},
   "source": [
    "# 10 Python can be a prima-donna."
   ]
  },
  {
   "attachments": {},
   "cell_type": "markdown",
   "id": "cb5657c3",
   "metadata": {},
   "source": [
    "# 11 Best Practices for Scientific Computing"
   ]
  },
  {
   "attachments": {},
   "cell_type": "markdown",
   "id": "c093c20e",
   "metadata": {},
   "source": [
    "# 12 Looking for help"
   ]
  },
  {
   "attachments": {},
   "cell_type": "markdown",
   "id": "00a96789",
   "metadata": {},
   "source": [
    "## References"
   ]
  },
  {
   "attachments": {},
   "cell_type": "markdown",
   "id": "7a99f658",
   "metadata": {},
   "source": [
    "## Footnotes"
   ]
  }
 ],
 "metadata": {
  "kernelspec": {
   "display_name": "Python 3 (ipykernel)",
   "language": "python",
   "name": "python3"
  },
  "language_info": {
   "codemirror_mode": {
    "name": "ipython",
    "version": 3
   },
   "file_extension": ".py",
   "mimetype": "text/x-python",
   "name": "python",
   "nbconvert_exporter": "python",
   "pygments_lexer": "ipython3",
   "version": "3.11.5"
  },
  "toc": {
   "base_numbering": 1,
   "nav_menu": {},
   "number_sections": true,
   "sideBar": true,
   "skip_h1_title": false,
   "title_cell": "Table of Contents",
   "title_sidebar": "Contents",
   "toc_cell": false,
   "toc_position": {},
   "toc_section_display": true,
   "toc_window_display": false
  },
  "vscode": {
   "interpreter": {
    "hash": "31f2aee4e71d21fbe5cf8b01ff0e069b9275f58929596ceb00d14d90e3e16cd6"
   }
  }
 },
 "nbformat": 4,
 "nbformat_minor": 5
}
