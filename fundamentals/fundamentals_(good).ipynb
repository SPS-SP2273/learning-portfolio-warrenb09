{
 "cells": [
  {
   "attachments": {},
   "cell_type": "markdown",
   "id": "123456",
   "metadata": {},
   "source": [
    "<div style=\"text-align:left;font-size:2em\"><span style=\"font-weight:bolder;font-size:1.25em\">SP2273 | Learning Portfolio</span><br><br><span style=\"font-weight:bold;color:darkred\">Fundamentals (Good)</span></div>"
   ]
  },
  {
   "attachments": {},
   "cell_type": "markdown",
   "id": "a37b4a1c",
   "metadata": {},
   "source": [
    "# What to expect in this chapter"
   ]
  },
  {
   "attachments": {},
   "cell_type": "markdown",
   "id": "87ee2edd",
   "metadata": {},
   "source": [
    "# There is more to if"
   ]
  },
  {
   "cell_type": "markdown",
   "id": "f23be70f-bdf7-4649-9052-0935841a63db",
   "metadata": {},
   "source": [
    "We use `elif` if we need more branches in the `if` statements."
   ]
  },
  {
   "cell_type": "code",
   "execution_count": 1,
   "id": "49cbe06d-a607-4668-9db5-ec1b5d15de81",
   "metadata": {},
   "outputs": [
    {
     "name": "stdin",
     "output_type": "stream",
     "text": [
      "Number:  11\n"
     ]
    },
    {
     "name": "stdout",
     "output_type": "stream",
     "text": [
      "Number is more than 10.\n"
     ]
    }
   ],
   "source": [
    "a = int(input(\"Number: \"))\n",
    "\n",
    "if a < 10:\n",
    "    print(\"Number is less than 10.\")\n",
    "elif a == 10:\n",
    "    print(\"Number is exactly 10.\")\n",
    "else:\n",
    "    print(\"Number is more than 10.\")"
   ]
  },
  {
   "cell_type": "markdown",
   "id": "756432ad-aff2-46af-905b-27a8f192939f",
   "metadata": {},
   "source": [
    "The `if` statements allows for different sentences to be printed depending on the what the input number is. The first statement is the initial statement, so use `if`. For subsequent `if` statements, we use `elif`. `else` is used when we want to designate a line of code for any other conditions not specified in the `if` and `elif` statements (in this case, the else condition is `a > 10`)."
   ]
  },
  {
   "attachments": {},
   "cell_type": "markdown",
   "id": "adcc5a71",
   "metadata": {},
   "source": [
    "# Asking questions"
   ]
  },
  {
   "cell_type": "markdown",
   "id": "ef9529ef-a65f-4869-a499-f17756e6e230",
   "metadata": {},
   "source": [
    "To use `if` statements, we need to be able to ask 'questions' (e.g. `==`, `<`, `in`, `and`, etc.) which gives the `True` or `False` answers. Below shows some ways that we can ask 'questions' and add more conditions to those 'questions' using **operators**."
   ]
  },
  {
   "cell_type": "markdown",
   "id": "4a403dc3-e955-44fd-baf9-eb2ed0e0972c",
   "metadata": {},
   "source": [
    "|**Operators**|**Example**|**Meaning**|\n",
    "|:--|:--|:--|\n",
    "|`==`|`A == B`|Is A equal to B?|\n",
    "|`>`|`A > B`|Is A greater than B?|\n",
    "|`<`|`A < B`|Is A less than B?|\n",
    "|`>=`|`A >= B`|Is A greater than or equal to B?|\n",
    "|`<=`|`A <= B`|Is A less than or equal to B?|\n",
    "|`and`|`A < 10 and A > 5`|Is A more than 5 but less than 10?|\n",
    "|`or`|`A < 10 or B < 10`|Is either A or B less than 10?|\n",
    "|`!=`|`A != B`|Is A not equal to B?|\n",
    "|`in`|`\"app\" in \"apple\"`|Are the letters \"app\", in that order, present in the word \"apple\"?|\n",
    "|`not in`|`\"app\" not in \"apple\"`|Are the letters \"app\", in that order, not present in the word \"apple\"?|"
   ]
  },
  {
   "cell_type": "markdown",
   "id": "17d45af6-d7cf-45df-9da6-a5b6c48c7ffd",
   "metadata": {},
   "source": [
    "*Some examples given above are not the most readable; for example, `A < 10 and A > 5`. To make it more readable (and less confusing), we can actually just write `5 < A < 10`. If we insist of using `and`, we can add brackets to make it somewhat more readable with `(A < 10) and (A > 5)`.*"
   ]
  },
  {
   "cell_type": "markdown",
   "id": "13991072-2b75-4b01-ab64-aa2bb0c9b30c",
   "metadata": {},
   "source": [
    "Some example codes are shown below."
   ]
  },
  {
   "cell_type": "code",
   "execution_count": 16,
   "id": "a2c66e3d-89d5-464f-b6f2-4e0f01765a0b",
   "metadata": {},
   "outputs": [
    {
     "name": "stdout",
     "output_type": "stream",
     "text": [
      "True\n",
      "False\n",
      "False\n",
      "True\n",
      "True\n",
      "False\n",
      "True\n",
      "True\n",
      "True\n"
     ]
    }
   ],
   "source": [
    "hello = [\"hi\", \"heyo\", \"hey\", \"greetings\", \"morning\"]\n",
    "\n",
    "print(\"morning\" in hello)\n",
    "print(\"heyo\" not in hello)\n",
    "print(\"hi\" in hello and \"boo\" in hello)\n",
    "print(\"hi\" in hello or \"boo\" in hello)\n",
    "print(\"hi\" != \"heyo\")\n",
    "print(\"hi\" == \"heyo\")\n",
    "print(1 < 2)\n",
    "print(1 == 1)\n",
    "print(4 <= 5)"
   ]
  },
  {
   "cell_type": "markdown",
   "id": "dc4c990a-4bfe-4d20-a388-c3d5a01ffbc5",
   "metadata": {},
   "source": [
    "*Note: When using `and` or `or`, we cannot just type e.g. `A == 10 or 15` (`15` will return `True`, so `True` will always be returned), but we have to type `A == 10 or A == 15` (translates to 'Is A either 10 or 15?').*"
   ]
  },
  {
   "cell_type": "markdown",
   "id": "02459447-2b25-4219-acbe-a0876b21590f",
   "metadata": {},
   "source": [
    "For comparison 'questions' (e.g. `>`), Python can only compare between two variables of the same type. So, `1 < 2` works, but not `\"hi\" < 2`.\n",
    "\n",
    "However, as strange as it is, we can compare between two strings using mathematical operators such as `\"hello\" > \"hi\"`. This is because Python stores strings as numbers (i.e. each letter has a number associated to them)."
   ]
  },
  {
   "attachments": {},
   "cell_type": "markdown",
   "id": "010c204c",
   "metadata": {},
   "source": [
    "# Python stores information in different formats or types"
   ]
  },
  {
   "cell_type": "markdown",
   "id": "d4605a28-4149-4f2e-8d48-c9cb8613a5d2",
   "metadata": {},
   "source": [
    "There are different data types in Python: integers (`int`), strings (`str`), decimal numbers (`float`), complex numbers (`complex`), etc.\n",
    "\n",
    "We can use the `type` function to check what data type a variable is."
   ]
  },
  {
   "cell_type": "code",
   "execution_count": 17,
   "id": "67cfe577-f651-455c-9009-10bf207a02a8",
   "metadata": {},
   "outputs": [
    {
     "data": {
      "text/plain": [
       "int"
      ]
     },
     "execution_count": 17,
     "metadata": {},
     "output_type": "execute_result"
    }
   ],
   "source": [
    "a = 10\n",
    "type(a)"
   ]
  },
  {
   "cell_type": "markdown",
   "id": "2ff092c7-f9c2-47f2-afce-b227cbd3145d",
   "metadata": {},
   "source": [
    "We can also change the data type of a variable; this is called typecasting."
   ]
  },
  {
   "cell_type": "code",
   "execution_count": 19,
   "id": "76653fdc-616a-499a-9f6d-1846ed474f3b",
   "metadata": {},
   "outputs": [
    {
     "name": "stdout",
     "output_type": "stream",
     "text": [
      "10\n",
      "10.0\n",
      "(10+0j)\n"
     ]
    }
   ],
   "source": [
    "print(str(a))\n",
    "print(float(a))\n",
    "print(complex(a))"
   ]
  },
  {
   "cell_type": "markdown",
   "id": "221a75ad-3515-4be1-a81b-1bd0231af8f2",
   "metadata": {},
   "source": [
    "Typecasting is useful for the `input` function because `input` only allows users to input strings. When we want users to input numbers instead, we can combine the `input` and the typecasting functions together. See the example below."
   ]
  },
  {
   "cell_type": "code",
   "execution_count": 21,
   "id": "7c30b09a-c365-4d8f-b750-c51dc128c99b",
   "metadata": {},
   "outputs": [
    {
     "name": "stdin",
     "output_type": "stream",
     "text": [
      "Enter a number to be squared:  2\n"
     ]
    },
    {
     "ename": "TypeError",
     "evalue": "unsupported operand type(s) for ** or pow(): 'str' and 'int'",
     "output_type": "error",
     "traceback": [
      "\u001b[1;31m---------------------------------------------------------------------------\u001b[0m",
      "\u001b[1;31mTypeError\u001b[0m                                 Traceback (most recent call last)",
      "Cell \u001b[1;32mIn[21], line 3\u001b[0m\n\u001b[0;32m      1\u001b[0m number \u001b[38;5;241m=\u001b[39m \u001b[38;5;28minput\u001b[39m(\u001b[38;5;124m\"\u001b[39m\u001b[38;5;124mEnter a number to be squared: \u001b[39m\u001b[38;5;124m\"\u001b[39m)\n\u001b[1;32m----> 3\u001b[0m \u001b[38;5;28mprint\u001b[39m(number \u001b[38;5;241m*\u001b[39m\u001b[38;5;241m*\u001b[39m \u001b[38;5;241m2\u001b[39m)\n",
      "\u001b[1;31mTypeError\u001b[0m: unsupported operand type(s) for ** or pow(): 'str' and 'int'"
     ]
    }
   ],
   "source": [
    "number = input(\"Enter a number to be squared: \")\n",
    "\n",
    "print(number ** 2)"
   ]
  },
  {
   "cell_type": "markdown",
   "id": "1ef02dd9-2a51-4e2a-af26-467ce64e7511",
   "metadata": {},
   "source": [
    "Here, the number inputed initially will be a string. The `**` mathematical operator will not be able to square a string (imagine chicken<sup>2</sup>); you will get the `TypeError`. To fix this, we use the `int` function to convert the input into an integer, which can be squared."
   ]
  },
  {
   "cell_type": "code",
   "execution_count": 22,
   "id": "c9e931fd-0d9f-40e5-884e-eb13f5c2d14b",
   "metadata": {},
   "outputs": [
    {
     "name": "stdin",
     "output_type": "stream",
     "text": [
      "Enter a number to be squared:  2\n"
     ]
    },
    {
     "name": "stdout",
     "output_type": "stream",
     "text": [
      "4\n"
     ]
    }
   ],
   "source": [
    "number = int(input(\"Enter a number to be squared: \"))\n",
    "\n",
    "print(number ** 2)"
   ]
  },
  {
   "cell_type": "markdown",
   "id": "fc786bd8-8315-4dbc-bb0a-d56a1c31b4f8",
   "metadata": {},
   "source": [
    "*Note: You cannot convert certain data types to other data types (e.g. string to integer) because it simply does not make sense. You will get the `ValueError`.*"
   ]
  },
  {
   "cell_type": "code",
   "execution_count": 23,
   "id": "4ef00fa7-d0be-47a5-a6e1-fc37a7a527ae",
   "metadata": {},
   "outputs": [
    {
     "ename": "ValueError",
     "evalue": "invalid literal for int() with base 10: 'hi'",
     "output_type": "error",
     "traceback": [
      "\u001b[1;31m---------------------------------------------------------------------------\u001b[0m",
      "\u001b[1;31mValueError\u001b[0m                                Traceback (most recent call last)",
      "Cell \u001b[1;32mIn[23], line 1\u001b[0m\n\u001b[1;32m----> 1\u001b[0m \u001b[38;5;28mint\u001b[39m(\u001b[38;5;124m\"\u001b[39m\u001b[38;5;124mhi\u001b[39m\u001b[38;5;124m\"\u001b[39m)\n",
      "\u001b[1;31mValueError\u001b[0m: invalid literal for int() with base 10: 'hi'"
     ]
    }
   ],
   "source": [
    "int(\"hi\")"
   ]
  },
  {
   "attachments": {},
   "cell_type": "markdown",
   "id": "6a47c2f1",
   "metadata": {},
   "source": [
    "# Never compare floats directly"
   ]
  },
  {
   "attachments": {},
   "cell_type": "markdown",
   "id": "2550f07f",
   "metadata": {},
   "source": [
    "## The Problem"
   ]
  },
  {
   "cell_type": "markdown",
   "id": "37965bba-cbf1-4653-8cda-bc8872adfb9c",
   "metadata": {},
   "source": [
    "Floats cannot be stored as exact numbers (due to a `roundoff error`). So, we cannot compare floats directly. See the example below."
   ]
  },
  {
   "cell_type": "code",
   "execution_count": 4,
   "id": "4a13f11f-825c-4991-851e-82ad7eadd620",
   "metadata": {},
   "outputs": [
    {
     "data": {
      "text/plain": [
       "False"
      ]
     },
     "execution_count": 4,
     "metadata": {},
     "output_type": "execute_result"
    }
   ],
   "source": [
    "a1 = 0.1\n",
    "a2 = 3\n",
    "a1 * a2 == 0.3    #Mathematically, this is correct"
   ]
  },
  {
   "cell_type": "markdown",
   "id": "dfe5b642-d6a7-4f5c-a5ef-b5c8613a5c19",
   "metadata": {},
   "source": [
    "It returns `False` here because `0.3` is not stored exactly as `0.3`, but rather as `0.299999...`. See below for proof."
   ]
  },
  {
   "cell_type": "code",
   "execution_count": 5,
   "id": "7f479a10-0ef1-491d-b359-f3fdf8203af5",
   "metadata": {},
   "outputs": [
    {
     "data": {
      "text/plain": [
       "'0.29999999999999999'"
      ]
     },
     "execution_count": 5,
     "metadata": {},
     "output_type": "execute_result"
    }
   ],
   "source": [
    "f\"{0.3:.17f}\"    #Prints 0.3 to 17 d.p."
   ]
  },
  {
   "attachments": {},
   "cell_type": "markdown",
   "id": "038bb179",
   "metadata": {},
   "source": [
    "## A solution"
   ]
  },
  {
   "cell_type": "markdown",
   "id": "3a217376-c0e6-446b-a346-43ae883bedf8",
   "metadata": {},
   "source": [
    "To compare floats, we can instead check whether the float variable is **close to the value we expect** it to have. For example:"
   ]
  },
  {
   "cell_type": "code",
   "execution_count": 7,
   "id": "6a3ca071-46cb-4f6a-8cb8-21d3618560bc",
   "metadata": {},
   "outputs": [
    {
     "data": {
      "text/plain": [
       "True"
      ]
     },
     "execution_count": 7,
     "metadata": {},
     "output_type": "execute_result"
    }
   ],
   "source": [
    "tolerance = 1E-10            #Set the tolerance of difference between the variable and the expected value\n",
    "b = a1 * a2\n",
    "abs(b - 0.3) < tolerance     #This checks whether the difference variable b is close to 0.3"
   ]
  },
  {
   "cell_type": "markdown",
   "id": "8ea9df53-cb34-4e65-b721-2435e83b4d2f",
   "metadata": {},
   "source": [
    "There is a `numpy` function that does the exact same thing."
   ]
  },
  {
   "cell_type": "code",
   "execution_count": 8,
   "id": "3ccfcae8-1083-495c-b5f4-7f795df581d6",
   "metadata": {},
   "outputs": [
    {
     "data": {
      "text/plain": [
       "True"
      ]
     },
     "execution_count": 8,
     "metadata": {},
     "output_type": "execute_result"
    }
   ],
   "source": [
    "import numpy as np\n",
    "np.isclose(b, 0.3)"
   ]
  },
  {
   "attachments": {},
   "cell_type": "markdown",
   "id": "04f8110a",
   "metadata": {},
   "source": [
    "# Combining English and variables"
   ]
  },
  {
   "attachments": {},
   "cell_type": "markdown",
   "id": "01d79f0f",
   "metadata": {},
   "source": [
    "## Structure of f-strings"
   ]
  },
  {
   "cell_type": "markdown",
   "id": "5757cf72-9969-40a4-940d-7c648dc68866",
   "metadata": {},
   "source": [
    "We can combine strings with variables using `f-string`. A simple example is shown below."
   ]
  },
  {
   "cell_type": "code",
   "execution_count": 10,
   "id": "5f58b24a-9ebe-43e8-870b-12f7a6814d80",
   "metadata": {},
   "outputs": [
    {
     "name": "stdout",
     "output_type": "stream",
     "text": [
      "I am taking Pharmaceutical Science and I have 28 units this semester.\n"
     ]
    }
   ],
   "source": [
    "units = 28\n",
    "course = \"Pharmaceutical Science\"\n",
    "print(f\"I am taking {course} and I have {units} units this semester.\")"
   ]
  },
  {
   "cell_type": "markdown",
   "id": "6a892c3c-cadd-49f1-886e-83e7e7e938c2",
   "metadata": {},
   "source": [
    "The general syntax of `f-string` is `f\"string{X:>0Y.ZW}\"`. More information is shown below."
   ]
  },
  {
   "cell_type": "markdown",
   "id": "742705f4-1ccc-4f23-8ca0-552cf834a038",
   "metadata": {},
   "source": [
    "|**Letter**|**Action**|**Possible options**|\n",
    "|:--|:--|:--|\n",
    "|`X`|Variable to format|Can be a number or a string|\n",
    "|`>`|Alignment|<p>`<`: left-aligned<p>`^`: centre-aligned</p>`>`: right-aligned|\n",
    "|`0`|Use `0` to pad the spaces|Other characters are okay too, like a space|\n",
    "|`Y`|Total number of characters||\n",
    "|`Z`|Number of decimal places||\n",
    "|`W`|Specifies the type of variable|<p>`f`: float<p>`d`: integer<p>`s`: string</p>`g`: ask Python to figure it out|"
   ]
  },
  {
   "cell_type": "markdown",
   "id": "807b9bfc-0194-4d3f-8550-be5fccef26d1",
   "metadata": {},
   "source": [
    "Read more about `f-strings` [here](https://pyformat.info/)."
   ]
  },
  {
   "cell_type": "markdown",
   "id": "69f664cc-8f6d-4688-ac5a-b4801bccb14d",
   "metadata": {},
   "source": [
    "<p></p>"
   ]
  },
  {
   "cell_type": "markdown",
   "id": "45e7ea53-f102-4e8a-a6ab-c393f1853466",
   "metadata": {},
   "source": [
    "**Example 1: Formatting strings**"
   ]
  },
  {
   "cell_type": "markdown",
   "id": "7c0371a9-7895-4a4c-963f-e94a2b691153",
   "metadata": {},
   "source": [
    "Here we experiment with `>`, `0`, `Y` in the general syntax."
   ]
  },
  {
   "cell_type": "code",
   "execution_count": 16,
   "id": "e3a5cb85-b6a7-4dc5-a18e-487ebd9fcff4",
   "metadata": {},
   "outputs": [
    {
     "name": "stdout",
     "output_type": "stream",
     "text": [
      "Hello, good morning, thank you, goodbye           \n",
      "     Hello, good morning, thank you, goodbye      \n",
      "           Hello, good morning, thank you, goodbye\n"
     ]
    }
   ],
   "source": [
    "text = \"Hello, good morning, thank you, goodbye\"\n",
    "\n",
    "print(f\"{text:<50}\")            #Left-aligned\n",
    "print(f\"{text:^50}\")            #Centre-aligned\n",
    "print(f\"{text:>50}\")            #Right-aligned"
   ]
  },
  {
   "cell_type": "markdown",
   "id": "96771551-e52b-49fc-9629-dd374dbe3c69",
   "metadata": {},
   "source": [
    "The number `50` decides how many characters are in the whole string; so, `50` with centre-aligned means that there is (almost) equal amount of paddings to the left and right of the text, and the number of characters printed, including the padding, is `50`."
   ]
  },
  {
   "cell_type": "code",
   "execution_count": 22,
   "id": "37d654d3-5cb2-4151-a233-30e1dd33a714",
   "metadata": {},
   "outputs": [
    {
     "name": "stdout",
     "output_type": "stream",
     "text": [
      "00000Hello, good morning, thank you, goodbye000000\n"
     ]
    }
   ],
   "source": [
    "print(f\"{text:^050}\")           #Change the padding from a space to 0"
   ]
  },
  {
   "cell_type": "markdown",
   "id": "df291f02-1c30-4a40-8e5f-723ed8c00a38",
   "metadata": {},
   "source": [
    "<p></p>"
   ]
  },
  {
   "cell_type": "markdown",
   "id": "3fda2e67-98cf-4380-9b49-fe9b545b8779",
   "metadata": {},
   "source": [
    "**Example 2: Formatting numbers**"
   ]
  },
  {
   "cell_type": "code",
   "execution_count": 27,
   "id": "f8abd2ca-4bd0-40f5-8003-e0fc147da4c1",
   "metadata": {},
   "outputs": [
    {
     "name": "stdout",
     "output_type": "stream",
     "text": [
      "1.234567891\n"
     ]
    }
   ],
   "source": [
    "number = 1.23456789123456789\n",
    "\n",
    "print(f\"{number:.9f}\")"
   ]
  },
  {
   "cell_type": "markdown",
   "id": "11ade7f5-d195-424e-b079-cc5717a33626",
   "metadata": {},
   "source": [
    "`9` tells the number of decimal places that `number` should be rounded to, and `f` tells the `f-string` to give a `float` output."
   ]
  },
  {
   "cell_type": "markdown",
   "id": "89026258-e74f-4fd1-8fb7-e6472674a14c",
   "metadata": {},
   "source": [
    "<p></p>"
   ]
  },
  {
   "cell_type": "markdown",
   "id": "036268c2-6028-4cc3-8cd9-fac14868f5ab",
   "metadata": {},
   "source": [
    "**Example 3: Expressions**"
   ]
  },
  {
   "cell_type": "markdown",
   "id": "a35ee9b8-e442-4807-8121-98f421d3f2ab",
   "metadata": {},
   "source": [
    "We can put expressions inside `{}` as well."
   ]
  },
  {
   "cell_type": "code",
   "execution_count": 28,
   "id": "06557771-93fa-4a46-9faf-90e167396ada",
   "metadata": {},
   "outputs": [
    {
     "name": "stdout",
     "output_type": "stream",
     "text": [
      "If we add 10 to 10, we get 20.\n"
     ]
    }
   ],
   "source": [
    "x = 10\n",
    "\n",
    "print(f\"If we add 10 to {x}, we get {x + 10}.\")"
   ]
  },
  {
   "cell_type": "markdown",
   "id": "0e97deb9-fc36-4e0b-937c-e9f44d8d2979",
   "metadata": {},
   "source": [
    "Here, the expression is `x + 10`."
   ]
  },
  {
   "cell_type": "markdown",
   "id": "77118565-9108-470c-a443-c4904db8a52c",
   "metadata": {},
   "source": [
    "<p></p>"
   ]
  },
  {
   "cell_type": "markdown",
   "id": "039f3cbd-4b11-4076-87f1-7bdbd8a6595c",
   "metadata": {},
   "source": [
    "**Example 4: String methods**"
   ]
  },
  {
   "cell_type": "markdown",
   "id": "d6187680-dce1-4368-ada4-11d765a96b4e",
   "metadata": {},
   "source": [
    "Recall the use of the dot `.`, which calls functions belonging to the string. We can use those functions inside the `f-string`.\n",
    "\n",
    "Below shows some common functions that can be accessed with the `.`. These are called `string methods`."
   ]
  },
  {
   "cell_type": "markdown",
   "id": "88fad669-e09a-4f82-8f2f-89be5066af34",
   "metadata": {},
   "source": [
    "|**Syntax**|**Example**|**Output**|\n",
    "|:--|:--|:--|\n",
    "|`.upper`|`course.upper()`|PHARMACEUTICAL SCIENCE|\n",
    "|`.lower`|`course.lower()`|pharmaceutical science|\n",
    "|`.capitalize`|`course.capitalize()`|Pharmaceutical science|\n",
    "|`.title`|`course.title()`|Pharmaceutical Science|"
   ]
  },
  {
   "cell_type": "code",
   "execution_count": 31,
   "id": "a40ec9c4-28c2-4451-b4c9-127adefaa43f",
   "metadata": {},
   "outputs": [
    {
     "name": "stdout",
     "output_type": "stream",
     "text": [
      "I am taking PHARMACEUTICAL SCIENCE.\n"
     ]
    }
   ],
   "source": [
    "print(f\"I am taking {course.upper()}.\")"
   ]
  },
  {
   "attachments": {},
   "cell_type": "markdown",
   "id": "c97ba0ac",
   "metadata": {},
   "source": [
    "# Escape sequences"
   ]
  },
  {
   "cell_type": "markdown",
   "id": "c7b19e61-07c9-4ae6-a5f3-a10cafefbe9c",
   "metadata": {},
   "source": [
    "`Escape sequences` are special characters that are used in writing, such as the aprostophe `'`. Below shows some `escape sequences`."
   ]
  },
  {
   "cell_type": "markdown",
   "id": "bf4ced03-abf0-4b42-b707-edf08bc3e77c",
   "metadata": {},
   "source": [
    "|**Escape sequence**|**Meaning**|\n",
    "|:--:|:--:|\n",
    "|`\\'`|aprostophe/single quote|\n",
    "|`\\\\`|backslash|\n",
    "|`\\n`|new line|\n",
    "|`\\t`|tab|"
   ]
  },
  {
   "cell_type": "markdown",
   "id": "f34049a8-2e5e-49b6-a688-c20b2e6496c9",
   "metadata": {},
   "source": [
    "`Escape sequences` are useful because some special characters cannot be printed out by only typing it by itself. Consider printing an aprostophe as shown below."
   ]
  },
  {
   "cell_type": "code",
   "execution_count": 35,
   "id": "116b46c1-f41a-490b-adbe-139d1b8e8b94",
   "metadata": {},
   "outputs": [
    {
     "ename": "SyntaxError",
     "evalue": "unterminated string literal (detected at line 1) (3107872314.py, line 1)",
     "output_type": "error",
     "traceback": [
      "\u001b[1;36m  Cell \u001b[1;32mIn[35], line 1\u001b[1;36m\u001b[0m\n\u001b[1;33m    print('I'm Warren!')      #There are three single quotes!\u001b[0m\n\u001b[1;37m                      ^\u001b[0m\n\u001b[1;31mSyntaxError\u001b[0m\u001b[1;31m:\u001b[0m unterminated string literal (detected at line 1)\n"
     ]
    }
   ],
   "source": [
    "print('I'm Warren!')      #There are three single quotes!"
   ]
  },
  {
   "cell_type": "markdown",
   "id": "29e8e4af-9877-439f-8be3-6cae13a45774",
   "metadata": {},
   "source": [
    "This can be fixed by using the `escape sequence` for an aprostophe."
   ]
  },
  {
   "cell_type": "code",
   "execution_count": 36,
   "id": "4bc40152-6d48-41a6-bfa3-dd8405df315c",
   "metadata": {},
   "outputs": [
    {
     "name": "stdout",
     "output_type": "stream",
     "text": [
      "I'm Warren!\n"
     ]
    }
   ],
   "source": [
    "print('I\\'m Warren!')"
   ]
  },
  {
   "cell_type": "markdown",
   "id": "9ffca006-1533-4f85-bc84-cc944209f41f",
   "metadata": {},
   "source": [
    "*Note: Well, you can just fix it by using both `\"` and `'` i.e. `print(\"I'm Warren\")`, which is easier...*"
   ]
  },
  {
   "cell_type": "markdown",
   "id": "30e9f130-dd54-47b8-9377-30d26c3fbb25",
   "metadata": {},
   "source": [
    "<p>\n",
    "</p>"
   ]
  },
  {
   "cell_type": "markdown",
   "id": "94a81b9b-24fb-4a82-8ea0-403a4f4c83f6",
   "metadata": {},
   "source": [
    "The `\\n` and `\\t` is useful for formating blocks of texts."
   ]
  },
  {
   "cell_type": "code",
   "execution_count": 37,
   "id": "c2c73215-58e9-4400-b2ea-cf3c7fb57529",
   "metadata": {},
   "outputs": [
    {
     "name": "stdout",
     "output_type": "stream",
     "text": [
      "Hello!\n",
      "Hello!\n",
      "\tHello!\n",
      "\t\tHello!\n"
     ]
    }
   ],
   "source": [
    "print(\"Hello!\\nHello!\\n\\tHello!\\n\\t\\tHello!\")"
   ]
  },
  {
   "cell_type": "markdown",
   "id": "6bf1dbf1-f699-4f2c-b40f-5bef50c37c72",
   "metadata": {},
   "source": [
    "<p></p>"
   ]
  },
  {
   "cell_type": "markdown",
   "id": "93769ea4-745f-43a9-8aba-ca2d044fce20",
   "metadata": {},
   "source": [
    "We can print out backslashes using `\\\\`."
   ]
  },
  {
   "cell_type": "code",
   "execution_count": 38,
   "id": "bd84b7ab-c13c-457d-9f6a-5d7c5e6bce75",
   "metadata": {},
   "outputs": [
    {
     "name": "stdout",
     "output_type": "stream",
     "text": [
      "Use the \\nusstu domain to sign into Canvas.\n"
     ]
    }
   ],
   "source": [
    "print(\"Use the \\\\nusstu domain to sign into Canvas.\")"
   ]
  },
  {
   "cell_type": "markdown",
   "id": "522b2e39-1413-4e77-8019-2b8c4f0b4ba6",
   "metadata": {},
   "source": [
    "Notice that without `\\\\` it will read it as `\\n` instead."
   ]
  },
  {
   "cell_type": "code",
   "execution_count": 40,
   "id": "101ee58f-f44c-4fad-b116-5638d60cd322",
   "metadata": {},
   "outputs": [
    {
     "name": "stdout",
     "output_type": "stream",
     "text": [
      "Use the \n",
      "usstu domain to sign into Canvas.\n"
     ]
    }
   ],
   "source": [
    "print(\"Use the \\nusstu domain to sign into Canvas.\")"
   ]
  },
  {
   "attachments": {},
   "cell_type": "markdown",
   "id": "a061d188",
   "metadata": {},
   "source": [
    "# Computers read = from Right to Left!"
   ]
  },
  {
   "cell_type": "markdown",
   "id": "3fb9603a-a1c0-451e-b5dc-11d7d2dc8c9b",
   "metadata": {},
   "source": [
    "`=` is read from **right to left**. See a weird mathematical expression below."
   ]
  },
  {
   "cell_type": "code",
   "execution_count": 42,
   "id": "d750b2de-c49c-48e0-9c86-550814d168ef",
   "metadata": {},
   "outputs": [
    {
     "name": "stdout",
     "output_type": "stream",
     "text": [
      "22\n"
     ]
    }
   ],
   "source": [
    "x = 20\n",
    "x = x + 2\n",
    "print(x)"
   ]
  },
  {
   "cell_type": "markdown",
   "id": "490c26a6-1f1c-4995-983f-44c428c4673b",
   "metadata": {},
   "source": [
    "The expression `x = x + 2` does not make mathematical sense because there is no way a variable `x` can be equal to `x + 2`. But here, becasue `=` is not an equaliser and that it is read left to right, `x = x + 2` just means that we are assigning the new value of `x` to be `x + 2`, which is why the printed value of `x` is `22` instead of `20` even though we have assigned `x = 20` initially."
   ]
  },
  {
   "attachments": {},
   "cell_type": "markdown",
   "id": "deda013a",
   "metadata": {},
   "source": [
    "# Shorter and Cleaner Code"
   ]
  },
  {
   "cell_type": "markdown",
   "id": "3abff653-013d-459e-963c-3f98354083f7",
   "metadata": {},
   "source": [
    "There are some shortcuts (called `shorthand form` of some expressions) in coding that are frequently used."
   ]
  },
  {
   "cell_type": "markdown",
   "id": "86f605ad-5b0b-4340-a3fb-71cd326ee4a0",
   "metadata": {},
   "source": [
    "||**Long form**|**Shorthand form**|\n",
    "|:--|:--|:--|\n",
    "|Addition|`x = x + 2`|`x += 2`|\n",
    "|Subtraction|`x = x - 2`|`x -= 2`|\n",
    "|Multiplication|`x = x * 2`|`x *= 2`|\n",
    "|Division|`x = x / 2`|`x /= 2`|"
   ]
  },
  {
   "cell_type": "markdown",
   "id": "171ae33e-a27a-44c7-8153-58d3886e7516",
   "metadata": {},
   "source": [
    "To verify this, see the code below."
   ]
  },
  {
   "cell_type": "code",
   "execution_count": 44,
   "id": "868b48c4-e599-419b-9f56-ff103ed8b0ed",
   "metadata": {},
   "outputs": [
    {
     "data": {
      "text/plain": [
       "True"
      ]
     },
     "execution_count": 44,
     "metadata": {},
     "output_type": "execute_result"
    }
   ],
   "source": [
    "x = y = 10           #Assign the value of 10 to both x and y\n",
    "x *= 2               #Means x = x * 2, which yields 20\n",
    "y = y * 2            #Yields 20 as well\n",
    "x == y               #Check whether the value of x and y are equal"
   ]
  },
  {
   "cell_type": "markdown",
   "id": "dbabc5e3-ac1f-4cba-b3dd-5e268b8de861",
   "metadata": {},
   "source": [
    "# Python can be a prima-donna."
   ]
  },
  {
   "cell_type": "markdown",
   "id": "62709ac0-a5f4-45bb-8221-52189c8ea2fc",
   "metadata": {},
   "source": [
    "When we make a mistake in Python, we will always get a long error message. We may be lazy to read through it, but usually this message helps us in finding out where the error is. For example, if we have a `TypeError`, it means that the type of variable that we are inputting into a function is wrong.\n",
    "\n",
    "Fixing an error is called `debugging`."
   ]
  },
  {
   "attachments": {},
   "cell_type": "markdown",
   "id": "cb5657c3",
   "metadata": {},
   "source": [
    "# Best Practices for Scientific Computing"
   ]
  },
  {
   "cell_type": "markdown",
   "id": "902d3fe8-eac5-437c-9790-7056a597ff5b",
   "metadata": {},
   "source": [
    "1. Write programs for people, not computers.\r",
    "2. \n",
    "Optimise software only after it works correctly\n",
    "3. \r\n",
    "Document design and purpose, not mechanic\n",
    "4. .\r\n",
    "Collaborate."
   ]
  },
  {
   "attachments": {},
   "cell_type": "markdown",
   "id": "c093c20e",
   "metadata": {},
   "source": [
    "# Looking for help"
   ]
  },
  {
   "cell_type": "markdown",
   "id": "f7ff9f97-fb18-4a24-8899-ee7de1c00a9c",
   "metadata": {},
   "source": [
    "We can use the `help` function to get information about a function."
   ]
  },
  {
   "cell_type": "code",
   "execution_count": 45,
   "id": "a23df7a0-5fce-4544-b07c-710725a1e7f0",
   "metadata": {},
   "outputs": [
    {
     "name": "stdout",
     "output_type": "stream",
     "text": [
      "Help on built-in function print in module builtins:\n",
      "\n",
      "print(*args, sep=' ', end='\\n', file=None, flush=False)\n",
      "    Prints the values to a stream, or to sys.stdout by default.\n",
      "    \n",
      "    sep\n",
      "      string inserted between values, default a space.\n",
      "    end\n",
      "      string appended after the last value, default a newline.\n",
      "    file\n",
      "      a file-like object (stream); defaults to the current sys.stdout.\n",
      "    flush\n",
      "      whether to forcibly flush the stream.\n",
      "\n"
     ]
    }
   ],
   "source": [
    "help(print)"
   ]
  },
  {
   "cell_type": "markdown",
   "id": "246d9039-3b2b-4732-af62-5baebdcaff5f",
   "metadata": {},
   "source": [
    "But as you can see, the output is a bit confusing. So, just Google whatever questions you have, or use ChatGPT."
   ]
  }
 ],
 "metadata": {
  "kernelspec": {
   "display_name": "Python 3 (ipykernel)",
   "language": "python",
   "name": "python3"
  },
  "language_info": {
   "codemirror_mode": {
    "name": "ipython",
    "version": 3
   },
   "file_extension": ".py",
   "mimetype": "text/x-python",
   "name": "python",
   "nbconvert_exporter": "python",
   "pygments_lexer": "ipython3",
   "version": "3.11.5"
  },
  "toc": {
   "base_numbering": 1,
   "nav_menu": {},
   "number_sections": true,
   "sideBar": true,
   "skip_h1_title": false,
   "title_cell": "Table of Contents",
   "title_sidebar": "Contents",
   "toc_cell": false,
   "toc_position": {},
   "toc_section_display": true,
   "toc_window_display": false
  },
  "vscode": {
   "interpreter": {
    "hash": "31f2aee4e71d21fbe5cf8b01ff0e069b9275f58929596ceb00d14d90e3e16cd6"
   }
  }
 },
 "nbformat": 4,
 "nbformat_minor": 5
}
