{
 "cells": [
  {
   "attachments": {},
   "cell_type": "markdown",
   "id": "123456",
   "metadata": {},
   "source": [
    "<div style=\"text-align:left;font-size:2em\"><span style=\"font-weight:bolder;font-size:1.25em\">SP2273 | Learning Portfolio</span><br><br><span style=\"font-weight:bold;color:darkred\">Storing Data (Good) Exercises</span></div>"
   ]
  },
  {
   "cell_type": "markdown",
   "id": "7b1e8840-9854-4e74-abf0-090db8dff866",
   "metadata": {},
   "source": [
    "**Exercise 1**"
   ]
  },
  {
   "cell_type": "markdown",
   "id": "b74959b0-0bc3-4e51-953b-a31a8dd796ba",
   "metadata": {},
   "source": [
    "|**Term**|**Brief description**|\n",
    "|:--|:--|\n",
    "|Subsetting|Selecting data from a list or an array.|\n",
    "|Indexing|Selecting one element from a list or an array.|\n",
    "|Slicing|Selecting a range of elements from a list or an array.|\n",
    "|Masking|With arrays **only**, passing arguments in the form of a boolean array in between the square brackets `[]` to control which elements are included in a sliced array.|"
   ]
  },
  {
   "cell_type": "markdown",
   "id": "f0fb835c-257f-434f-bca6-c8d68839c912",
   "metadata": {},
   "source": [
    "<p></p>"
   ]
  },
  {
   "cell_type": "markdown",
   "id": "212120d2-9ee3-410e-b894-03c238233f9e",
   "metadata": {},
   "source": [
    "**Exercise 2**"
   ]
  },
  {
   "cell_type": "code",
   "execution_count": 25,
   "id": "df8b01dd-b4c8-42f2-8ed5-a0b7a2dceb57",
   "metadata": {},
   "outputs": [
    {
     "name": "stdout",
     "output_type": "stream",
     "text": [
      "['A' 'C' 'E' 'G' 'I']\n"
     ]
    }
   ],
   "source": [
    "#First way\n",
    "import numpy as np\n",
    "\n",
    "np_array_2d = np.array([[1, \"A\"], [3, \"C\"], [2, \"B\"], [4, \"D\"],\n",
    "                        [5, \"E\"], [7, \"G\"], [6, \"F\"], [8, \"H\"],\n",
    "                        [10, \"J\"], [9, \"I\"]])\n",
    "new_list = []\n",
    "\n",
    "for i in np_array_2d:\n",
    "    if int(i[0]) % 2 == 1:            #Numbers in the array are string, not int, so we need the int function\n",
    "        new_list.append(i[1])\n",
    "\n",
    "print(np.array(new_list))"
   ]
  },
  {
   "cell_type": "markdown",
   "id": "f16ee72c-bedb-4d21-9ec6-090ab220646f",
   "metadata": {},
   "source": [
    "<p></p>"
   ]
  },
  {
   "cell_type": "code",
   "execution_count": 24,
   "id": "7ce8124c-7848-4608-8796-1b7516d1181d",
   "metadata": {},
   "outputs": [
    {
     "name": "stdout",
     "output_type": "stream",
     "text": [
      "['A' 'C' 'E' 'G' 'I']\n"
     ]
    }
   ],
   "source": [
    "#Second way\n",
    "import numpy as np\n",
    "\n",
    "np_array_2d = np.array([[1, \"A\"], [3, \"C\"], [2, \"B\"], [4, \"D\"],\n",
    "                        [5, \"E\"], [7, \"G\"], [6, \"F\"], [8, \"H\"],\n",
    "                        [10, \"J\"], [9, \"I\"]])\n",
    "\n",
    "np_array_numbers = np_array_2d[:, 0].astype(int)\n",
    "np_array_oddnumbers = np_array_numbers % 2 == 1\n",
    "np_array_oddarray = np_array_2d[np_array_oddnumbers]\n",
    "print(np_array_oddarray[:, 1])"
   ]
  }
 ],
 "metadata": {
  "kernelspec": {
   "display_name": "Python 3 (ipykernel)",
   "language": "python",
   "name": "python3"
  },
  "language_info": {
   "codemirror_mode": {
    "name": "ipython",
    "version": 3
   },
   "file_extension": ".py",
   "mimetype": "text/x-python",
   "name": "python",
   "nbconvert_exporter": "python",
   "pygments_lexer": "ipython3",
   "version": "3.11.5"
  },
  "toc": {
   "base_numbering": 1,
   "nav_menu": {},
   "number_sections": true,
   "sideBar": true,
   "skip_h1_title": false,
   "title_cell": "Table of Contents",
   "title_sidebar": "Contents",
   "toc_cell": false,
   "toc_position": {},
   "toc_section_display": true,
   "toc_window_display": false
  },
  "vscode": {
   "interpreter": {
    "hash": "31f2aee4e71d21fbe5cf8b01ff0e069b9275f58929596ceb00d14d90e3e16cd6"
   }
  }
 },
 "nbformat": 4,
 "nbformat_minor": 5
}
