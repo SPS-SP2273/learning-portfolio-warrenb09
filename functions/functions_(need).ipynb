{
 "cells": [
  {
   "attachments": {},
   "cell_type": "markdown",
   "id": "123456",
   "metadata": {},
   "source": [
    "<div style=\"text-align:left;font-size:2em\"><span style=\"font-weight:bolder;font-size:1.25em\">SP2273 | Learning Portfolio</span><br><br><span style=\"font-weight:bold;color:darkred\">Functions (Need)</span></div>"
   ]
  },
  {
   "attachments": {},
   "cell_type": "markdown",
   "id": "e6f0e060",
   "metadata": {},
   "source": [
    "# What to expect in this chapter"
   ]
  },
  {
   "attachments": {},
   "cell_type": "markdown",
   "id": "09cc2aec",
   "metadata": {},
   "source": [
    "# 1 User-defined functions"
   ]
  },
  {
   "cell_type": "markdown",
   "id": "ff10f333-cc90-4cee-b8d0-a2a58a04e161",
   "metadata": {},
   "source": [
    "Functions like `print` and `int` are **internal functions** of Python (which are inbuilt in Python). However, we can make our own functions too.\n",
    "\n",
    "There are two type of functions that can be made: **named** and **anonymous**."
   ]
  },
  {
   "attachments": {},
   "cell_type": "markdown",
   "id": "3600986f",
   "metadata": {},
   "source": [
    "## 1.1 Named Functions"
   ]
  },
  {
   "attachments": {},
   "cell_type": "markdown",
   "id": "909e8268",
   "metadata": {},
   "source": [
    "### Named functions that return"
   ]
  },
  {
   "cell_type": "markdown",
   "id": "b95d5255-98c4-439b-885f-a035b4f0dc53",
   "metadata": {},
   "source": [
    "We define a function by using the `def` keyword."
   ]
  },
  {
   "cell_type": "code",
   "execution_count": 11,
   "id": "928cab97-4bbe-46d1-8d0e-29cee1fff037",
   "metadata": {},
   "outputs": [],
   "source": [
    "def create_multiples_two(x):\n",
    "    y = []\n",
    "    while x > 0:\n",
    "        y.append(x * 2)\n",
    "        x -= 1\n",
    "    return y"
   ]
  },
  {
   "cell_type": "markdown",
   "id": "ac0421af-e225-4138-9b40-0d6cbd169bab",
   "metadata": {},
   "source": [
    "In the example above, the function we have created is `create_multiples_two` which accepts the argument `x`. The function then can be used as follows:"
   ]
  },
  {
   "cell_type": "code",
   "execution_count": 14,
   "id": "f8c4d6da-3ed3-4be2-af63-4fb7fd9acdde",
   "metadata": {},
   "outputs": [
    {
     "name": "stdout",
     "output_type": "stream",
     "text": [
      "[10, 8, 6, 4, 2]\n"
     ]
    }
   ],
   "source": [
    "a = create_multiples_two(5)        #Creates a list of multiples of two with five elements in the list, with 2 being the lowest and 10 the highest\n",
    "print(a)"
   ]
  },
  {
   "cell_type": "markdown",
   "id": "45e44e79-e02e-4eaf-8c18-aae45b517eb6",
   "metadata": {},
   "source": [
    "Notice that `def` is followed by a colon `:` and that the block of code below `def` is indented. Similar to `if`, `while`, etc. statements, the `:` and indents assign a block of code to the `def` statement.\n",
    "\n",
    "Also notice that there is a `return` keyword at the end of the defined function. `return` allows the returned value to exit the function. The returned value then can be assigned to a variable or used directly to display an output."
   ]
  },
  {
   "cell_type": "code",
   "execution_count": 16,
   "id": "67cdd34c-72be-442b-b89c-b88031538819",
   "metadata": {},
   "outputs": [
    {
     "name": "stdout",
     "output_type": "stream",
     "text": [
      "[10, 8, 6, 4, 2]\n",
      "[10, 8, 6, 4, 2]\n"
     ]
    }
   ],
   "source": [
    "#Assigned to variable\n",
    "a = create_multiples_two(5)\n",
    "print(a)\n",
    "\n",
    "#Used directly\n",
    "print(create_multiples_two(5))"
   ]
  },
  {
   "cell_type": "markdown",
   "id": "eca6770f-f666-4693-a43c-7211b4b14288",
   "metadata": {},
   "source": [
    "Also, keep in mind that the `return` keyword can only be used within `def`."
   ]
  },
  {
   "cell_type": "markdown",
   "id": "2e208d67-0f9b-4130-a1e0-1bbfde28f4e4",
   "metadata": {},
   "source": [
    "<p></p>"
   ]
  },
  {
   "cell_type": "markdown",
   "id": "12bb6303-8476-4645-8c9a-3c53db8d3522",
   "metadata": {},
   "source": [
    "Any variables defined inside a function will **not** be a **universal variable** i.e. the variable is not defined outside of the function. For instance, in the example, we cannot do `print(y)` because the variable `y` is only defined inside the function and not outside the function. Doing `print(y)` will yield an error as shown below."
   ]
  },
  {
   "cell_type": "code",
   "execution_count": 13,
   "id": "5e88e491-b569-4643-bfaa-9f91cc152840",
   "metadata": {},
   "outputs": [
    {
     "ename": "NameError",
     "evalue": "name 'y' is not defined",
     "output_type": "error",
     "traceback": [
      "\u001b[1;31m---------------------------------------------------------------------------\u001b[0m",
      "\u001b[1;31mNameError\u001b[0m                                 Traceback (most recent call last)",
      "Cell \u001b[1;32mIn[13], line 2\u001b[0m\n\u001b[0;32m      1\u001b[0m create_multiples_two(\u001b[38;5;241m5\u001b[39m)\n\u001b[1;32m----> 2\u001b[0m \u001b[38;5;28mprint\u001b[39m(y)\n",
      "\u001b[1;31mNameError\u001b[0m: name 'y' is not defined"
     ]
    }
   ],
   "source": [
    "create_multiples_two(5)\n",
    "print(y)"
   ]
  },
  {
   "cell_type": "markdown",
   "id": "cfc643e8-5857-4a87-b9c7-e846ca4911f0",
   "metadata": {},
   "source": [
    "<p></p>"
   ]
  },
  {
   "cell_type": "markdown",
   "id": "25935465-2bb9-43cf-9699-94ba1417d237",
   "metadata": {},
   "source": [
    "`return` can return multiple values."
   ]
  },
  {
   "cell_type": "code",
   "execution_count": 20,
   "id": "1b357a7a-0826-4a85-ae36-6dd63df99f8f",
   "metadata": {},
   "outputs": [
    {
     "name": "stdout",
     "output_type": "stream",
     "text": [
      "5\n",
      "1\n",
      "3.0\n"
     ]
    }
   ],
   "source": [
    "import numpy as np\n",
    "\n",
    "def basic_stats(numbers):\n",
    "    np_numbers = np.array(numbers)\n",
    "    my_min = np_numbers.min()\n",
    "    my_max = np_numbers.max()\n",
    "    my_mean = np_numbers.mean()\n",
    "    return my_max, my_min, my_mean\n",
    "\n",
    "list_max, list_min, list_mean = basic_stats([1, 2, 3, 4, 5])         #list_max becomes my_max, list_min becomes my_min, list_mean becomes my_mean\n",
    "print(list_max)\n",
    "print(list_min)\n",
    "print(list_mean)"
   ]
  },
  {
   "cell_type": "markdown",
   "id": "74d7eb12-9150-405a-b191-45fed58daaa8",
   "metadata": {},
   "source": [
    "<p></p>"
   ]
  },
  {
   "cell_type": "markdown",
   "id": "71d400bf-864d-451e-a813-e883bc0e6f13",
   "metadata": {},
   "source": [
    "`return` can return almost anything, such as `f-string`."
   ]
  },
  {
   "cell_type": "code",
   "execution_count": 3,
   "id": "5c8b1e51-392d-4489-9669-a26a42464992",
   "metadata": {},
   "outputs": [
    {
     "name": "stdout",
     "output_type": "stream",
     "text": [
      "Hello, Warren! Have you completed your SP2273 notebooks?\n",
      "Hello, Hello!\n"
     ]
    }
   ],
   "source": [
    "def greetings(name):\n",
    "    if name == \"Warren\":\n",
    "        return f\"Hello, {name}! Have you completed your SP2273 notebooks?\"\n",
    "    else:\n",
    "        return f\"Hello, {name}!\"\n",
    "\n",
    "print(greetings(\"Warren\"))\n",
    "print(greetings(\"Hello\"))"
   ]
  },
  {
   "cell_type": "markdown",
   "id": "4344f4d9-b016-435f-9695-016c8ee75bca",
   "metadata": {},
   "source": [
    "<p></p>"
   ]
  },
  {
   "attachments": {},
   "cell_type": "markdown",
   "id": "d4f4003f",
   "metadata": {},
   "source": [
    "### Named functions that don’t return"
   ]
  },
  {
   "cell_type": "markdown",
   "id": "83c7d396-364c-4e89-8787-52288c58825d",
   "metadata": {},
   "source": [
    "It is not a must for a function to return any value. An example is `print`, where it just does its job of displaying values as an output without returning any value.\n",
    "\n",
    "These functions are useful for many purposes, such as saving data."
   ]
  },
  {
   "cell_type": "markdown",
   "id": "5523a2cc-2e66-4c07-a6da-83bd50b3c2b9",
   "metadata": {},
   "source": [
    "<p></p>"
   ]
  },
  {
   "attachments": {},
   "cell_type": "markdown",
   "id": "7e8a130a",
   "metadata": {},
   "source": [
    "## 1.2 Anonymous functions"
   ]
  },
  {
   "cell_type": "markdown",
   "id": "34e24cd8-fdb1-4d5e-b76e-75a42edb41e3",
   "metadata": {},
   "source": [
    "Anonymous function, or more commonly known as `lambda function`, are short one-line codes that define a function.\n",
    "\n",
    "The syntax to define `lambda functions` is `function_name = lambda arguments: expression`. See example below."
   ]
  },
  {
   "cell_type": "code",
   "execution_count": 4,
   "id": "692ac4a5-a2f3-49c2-8a3b-ad9f7b2d7513",
   "metadata": {},
   "outputs": [
    {
     "data": {
      "text/plain": [
       "25"
      ]
     },
     "execution_count": 4,
     "metadata": {},
     "output_type": "execute_result"
    }
   ],
   "source": [
    "short_function = lambda x: x ** 2\n",
    "\n",
    "short_function(5)"
   ]
  },
  {
   "cell_type": "markdown",
   "id": "2bbc4f6a-75b0-40b3-b08e-338d40777f24",
   "metadata": {},
   "source": [
    "`lambda functions` always return the value of the last statement."
   ]
  },
  {
   "cell_type": "markdown",
   "id": "6d013943-e458-4608-a7cc-59b5a2b3790c",
   "metadata": {},
   "source": [
    "<p></p>"
   ]
  },
  {
   "cell_type": "markdown",
   "id": "6ab07366-eeff-4f37-92a3-6f8aca1bfdf1",
   "metadata": {},
   "source": [
    "**Advanced example**"
   ]
  },
  {
   "cell_type": "markdown",
   "id": "94627c53-b85a-47ed-a7fe-610bf79fe6e4",
   "metadata": {},
   "source": [
    "`lambda functions` are very useful when trying to sort 2D lists."
   ]
  },
  {
   "cell_type": "code",
   "execution_count": 5,
   "id": "c5c6602d-5b2d-49e5-9f51-b8e9675cebb7",
   "metadata": {},
   "outputs": [],
   "source": [
    "numbers=[[9, 0, -10],\n",
    "         [8, 1, -11],\n",
    "         [7, 2, -12],\n",
    "         [6, 3, -13],\n",
    "         [5, 4, -14],\n",
    "         [4, 5, -15],\n",
    "         [3, 6, -16],\n",
    "         [2, 7, -17],\n",
    "         [1, 8, -18],\n",
    "         [0, 9, -19]]"
   ]
  },
  {
   "cell_type": "markdown",
   "id": "e5613d96-2a5a-4668-9a29-073d7ac7b459",
   "metadata": {},
   "source": [
    "Let's say we want to sort `numbers`. We can use the `sorted` function, whose syntax is `sorted(x, key = y)`, where `x` is the name of the iterable to be sorted, while `key = y` determines how the list needs to be sorted.\n",
    "\n",
    "Examine how `lambda functions` can be turned into the `key` for the `sorted` function to achieve different purposes."
   ]
  },
  {
   "cell_type": "code",
   "execution_count": 6,
   "id": "899cd161-f57a-4bff-88b5-19ab42d131d9",
   "metadata": {},
   "outputs": [
    {
     "data": {
      "text/plain": [
       "[[0, 9, -19],\n",
       " [1, 8, -18],\n",
       " [2, 7, -17],\n",
       " [3, 6, -16],\n",
       " [4, 5, -15],\n",
       " [5, 4, -14],\n",
       " [6, 3, -13],\n",
       " [7, 2, -12],\n",
       " [8, 1, -11],\n",
       " [9, 0, -10]]"
      ]
     },
     "execution_count": 6,
     "metadata": {},
     "output_type": "execute_result"
    }
   ],
   "source": [
    "#Way 1: sorted() without specified key\n",
    "sorted(numbers)         #Will sort in an ascending order based on the first element of each 1D list in the 2D list"
   ]
  },
  {
   "cell_type": "code",
   "execution_count": 8,
   "id": "a11f3bdb-dbe7-4659-957b-d8842484b8fc",
   "metadata": {},
   "outputs": [
    {
     "data": {
      "text/plain": [
       "[[9, 0, -10],\n",
       " [8, 1, -11],\n",
       " [7, 2, -12],\n",
       " [6, 3, -13],\n",
       " [5, 4, -14],\n",
       " [4, 5, -15],\n",
       " [3, 6, -16],\n",
       " [2, 7, -17],\n",
       " [1, 8, -18],\n",
       " [0, 9, -19]]"
      ]
     },
     "execution_count": 8,
     "metadata": {},
     "output_type": "execute_result"
    }
   ],
   "source": [
    "#Way 2: sorted() with lambda key\n",
    "sorted(numbers, key = lambda x: x[1])       #Will sort in an ascending order based on the element at index 1 of each 1D list in the 2D list"
   ]
  },
  {
   "cell_type": "code",
   "execution_count": 11,
   "id": "08edf06d-1ebc-448f-aafc-946cbecd7c7b",
   "metadata": {},
   "outputs": [
    {
     "data": {
      "text/plain": [
       "[[0, 9, -19],\n",
       " [1, 8, -18],\n",
       " [2, 7, -17],\n",
       " [3, 6, -16],\n",
       " [4, 5, -15],\n",
       " [5, 4, -14],\n",
       " [6, 3, -13],\n",
       " [7, 2, -12],\n",
       " [8, 1, -11],\n",
       " [9, 0, -10]]"
      ]
     },
     "execution_count": 11,
     "metadata": {},
     "output_type": "execute_result"
    }
   ],
   "source": [
    "#Way 3: sorted() with lambda key, different condition\n",
    "sorted (numbers, key = lambda x: sum(x))    #Will sort in an ascending order based on the sum of all elements in each 1D list in the 2D list"
   ]
  },
  {
   "cell_type": "markdown",
   "id": "80b14908-6276-40c6-969a-d429410c7143",
   "metadata": {},
   "source": [
    "<p></p>"
   ]
  },
  {
   "attachments": {},
   "cell_type": "markdown",
   "id": "d5236707",
   "metadata": {},
   "source": [
    "## 1.3 Optional arguments"
   ]
  },
  {
   "cell_type": "markdown",
   "id": "9de16142-c01b-47e0-8522-78bff89dd7c0",
   "metadata": {},
   "source": [
    "We can make functions that have **optional** arguments. We just need to assign it a **default** value."
   ]
  },
  {
   "cell_type": "code",
   "execution_count": 12,
   "id": "19823711-e9dd-4f0b-851c-b52842d6693b",
   "metadata": {},
   "outputs": [
    {
     "data": {
      "text/plain": [
       "'Hello, no one!'"
      ]
     },
     "execution_count": 12,
     "metadata": {},
     "output_type": "execute_result"
    }
   ],
   "source": [
    "def greetings(name = \"no one\"):              #Default value is \"no one\"\n",
    "    if name == \"Warren\":\n",
    "        return f\"Hello, {name}! Have you completed your SP2273 notebooks?\"\n",
    "    else:\n",
    "        return f\"Hello, {name}!\"\n",
    "\n",
    "greetings()                                  #Passing no arguments to the function  "
   ]
  },
  {
   "attachments": {},
   "cell_type": "markdown",
   "id": "1f1f0f10",
   "metadata": {},
   "source": [
    "## 1.4 The importance of functions?"
   ]
  },
  {
   "attachments": {},
   "cell_type": "markdown",
   "id": "649fb20a",
   "metadata": {},
   "source": [
    "### An argument for functions"
   ]
  },
  {
   "cell_type": "markdown",
   "id": "3223bb75-d5df-45d2-9cf6-ca07cabcd95e",
   "metadata": {},
   "source": [
    "- Abstraction of details: Breaking up a complicated solution into different functions makes it easier to think about it because we are not dealing with all the details all at once.\n",
    "  \n",
    "- Reusability of code: Defining chunks of code in a function makes it easier to be reused since instead of copying and pasting at different places, we can simply use the defined function that executes the same purpose.\n",
    "  \n",
    "- Maintainability of code: If we use the same chunk of code multiple times in a code, whenever there is an error, we would have to fix this error in all of the code chunks scattered all over the code. Using defined functions makes it so that we can simply fix the error in one place."
   ]
  },
  {
   "attachments": {},
   "cell_type": "markdown",
   "id": "7f4c3422",
   "metadata": {},
   "source": [
    "### A word of caution"
   ]
  },
  {
   "cell_type": "markdown",
   "id": "6c36d962-811c-4700-b627-26386a581379",
   "metadata": {},
   "source": [
    "Having too many functions can make it difficult to read your code and also increase computational overheads. "
   ]
  }
 ],
 "metadata": {
  "kernelspec": {
   "display_name": "Python 3 (ipykernel)",
   "language": "python",
   "name": "python3"
  },
  "language_info": {
   "codemirror_mode": {
    "name": "ipython",
    "version": 3
   },
   "file_extension": ".py",
   "mimetype": "text/x-python",
   "name": "python",
   "nbconvert_exporter": "python",
   "pygments_lexer": "ipython3",
   "version": "3.11.5"
  },
  "toc": {
   "base_numbering": 1,
   "nav_menu": {},
   "number_sections": true,
   "sideBar": true,
   "skip_h1_title": false,
   "title_cell": "Table of Contents",
   "title_sidebar": "Contents",
   "toc_cell": false,
   "toc_position": {},
   "toc_section_display": true,
   "toc_window_display": false
  },
  "vscode": {
   "interpreter": {
    "hash": "31f2aee4e71d21fbe5cf8b01ff0e069b9275f58929596ceb00d14d90e3e16cd6"
   }
  }
 },
 "nbformat": 4,
 "nbformat_minor": 5
}
