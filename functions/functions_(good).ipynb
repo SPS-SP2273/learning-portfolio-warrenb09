{
 "cells": [
  {
   "attachments": {},
   "cell_type": "markdown",
   "id": "123456",
   "metadata": {},
   "source": [
    "<div style=\"text-align:left;font-size:2em\"><span style=\"font-weight:bolder;font-size:1.25em\">SP2273 | Learning Portfolio</span><br><br><span style=\"font-weight:bold;color:darkred\">Functions (Good)</span></div>"
   ]
  },
  {
   "attachments": {},
   "cell_type": "markdown",
   "id": "f007e86b",
   "metadata": {},
   "source": [
    "# What to expect in this chapter"
   ]
  },
  {
   "attachments": {},
   "cell_type": "markdown",
   "id": "bfbaeabe",
   "metadata": {},
   "source": [
    "# 1 Checks, balances, and contingencies"
   ]
  },
  {
   "attachments": {},
   "cell_type": "markdown",
   "id": "4c2a8fed",
   "metadata": {},
   "source": [
    "## 1.1 assert"
   ]
  },
  {
   "cell_type": "markdown",
   "id": "05832ff6-52d1-45a5-89d5-3cc72f83924b",
   "metadata": {},
   "source": [
    "The command `assert` raises an error and prints out a simple message when its condition is **not** fulfilled.\n",
    "\n",
    "The code will run as long as the `assert` condition is fulfilled, but when it is **not**, `AssertionError` will be raised and the code stops running."
   ]
  },
  {
   "cell_type": "code",
   "execution_count": 5,
   "id": "afa68b9a-cf65-4376-92df-053212b8defc",
   "metadata": {},
   "outputs": [
    {
     "name": "stdout",
     "output_type": "stream",
     "text": [
      "10\n"
     ]
    }
   ],
   "source": [
    "x = 10\n",
    "assert x > 0, \"x needs to be positive!\"       #assert condition fulfilled, no AssertionError\n",
    "print(x)"
   ]
  },
  {
   "cell_type": "code",
   "execution_count": 7,
   "id": "de2f2dc5-27b7-4323-9161-3fab7a28d66d",
   "metadata": {},
   "outputs": [
    {
     "ename": "AssertionError",
     "evalue": "x needs to be positive!",
     "output_type": "error",
     "traceback": [
      "\u001b[1;31m---------------------------------------------------------------------------\u001b[0m",
      "\u001b[1;31mAssertionError\u001b[0m                            Traceback (most recent call last)",
      "Cell \u001b[1;32mIn[7], line 2\u001b[0m\n\u001b[0;32m      1\u001b[0m x \u001b[38;5;241m=\u001b[39m \u001b[38;5;241m-\u001b[39m\u001b[38;5;241m1\u001b[39m\n\u001b[1;32m----> 2\u001b[0m \u001b[38;5;28;01massert\u001b[39;00m x \u001b[38;5;241m>\u001b[39m \u001b[38;5;241m0\u001b[39m, \u001b[38;5;124m\"\u001b[39m\u001b[38;5;124mx needs to be positive!\u001b[39m\u001b[38;5;124m\"\u001b[39m       \u001b[38;5;66;03m#assert condition not fulfilled, AssertionError raised\u001b[39;00m\n\u001b[0;32m      3\u001b[0m \u001b[38;5;28mprint\u001b[39m(x)\n",
      "\u001b[1;31mAssertionError\u001b[0m: x needs to be positive!"
     ]
    }
   ],
   "source": [
    "x = -1\n",
    "assert x > 0, \"x needs to be positive!\"       #assert condition not fulfilled, AssertionError raised\n",
    "print(x)"
   ]
  },
  {
   "cell_type": "markdown",
   "id": "cf968015-2dd7-43db-80d3-8a1951803b71",
   "metadata": {},
   "source": [
    "<p></p>"
   ]
  },
  {
   "attachments": {},
   "cell_type": "markdown",
   "id": "54737b0d",
   "metadata": {},
   "source": [
    "## 1.2 try-except"
   ]
  },
  {
   "cell_type": "markdown",
   "id": "df57c1a2-79ec-4b72-89a8-c9a306e3f54d",
   "metadata": {},
   "source": [
    "With `assert` an error will still be raised with the printed message embedded in the error. If we want to prevent an error from being raised and simply just print out an output message whenever an error occurs (because this is nicer to look at), we use the `try-except` command.\n",
    "\n",
    "The `try-except` command will run through the block of code assigned to the `try` portion of the command. When it does this, it also looks out for any errors raised with the `except` command. When an error is raised, Python ignores the `try` block and runs the `except` block. See the example below."
   ]
  },
  {
   "cell_type": "code",
   "execution_count": 13,
   "id": "91fbe2a1-f912-4b05-8d42-19d52238d3f7",
   "metadata": {},
   "outputs": [
    {
     "name": "stdin",
     "output_type": "stream",
     "text": [
      "Input a number:  0\n"
     ]
    },
    {
     "name": "stdout",
     "output_type": "stream",
     "text": [
      "7\n"
     ]
    }
   ],
   "source": [
    "a = input(\"Input a number: \")\n",
    "\n",
    "try:\n",
    "    a = int(a)\n",
    "    b = a * 2 + 3 + 4\n",
    "    print(b)\n",
    "except:\n",
    "    print(\"Input whole number only.\")"
   ]
  },
  {
   "cell_type": "markdown",
   "id": "d7519788-f1b9-4ac2-a201-18ced24d2b81",
   "metadata": {},
   "source": [
    "<p></p>"
   ]
  },
  {
   "cell_type": "markdown",
   "id": "afbd3367-8eab-4184-bda6-54b427349d5b",
   "metadata": {},
   "source": [
    "We can also tell `except` to look out for specific errors. For example:"
   ]
  },
  {
   "cell_type": "code",
   "execution_count": 14,
   "id": "602d0861-9d8c-4aba-b4e1-173db37ecf49",
   "metadata": {},
   "outputs": [
    {
     "name": "stdin",
     "output_type": "stream",
     "text": [
      "Input a number:  e\n"
     ]
    },
    {
     "name": "stdout",
     "output_type": "stream",
     "text": [
      "Input whole number only.\n"
     ]
    }
   ],
   "source": [
    "a = input(\"Input a number: \")\n",
    "\n",
    "try:\n",
    "    a = int(a)\n",
    "    b = a * 2 + 3 + 4\n",
    "    print(b)\n",
    "except ValueError:                           #Specifically looks for ValueError only\n",
    "    print(\"Input whole number only.\")"
   ]
  },
  {
   "cell_type": "markdown",
   "id": "d3af5fca-515a-4eec-829e-b2ba0e8a9af8",
   "metadata": {},
   "source": [
    "<p></p>"
   ]
  },
  {
   "attachments": {},
   "cell_type": "markdown",
   "id": "483aca27",
   "metadata": {},
   "source": [
    "## 1.3 A simple suggestion"
   ]
  },
  {
   "cell_type": "markdown",
   "id": "768fe730-9801-4006-a0dc-19d3d1055b9d",
   "metadata": {},
   "source": [
    "It is good practice to put in `print` statements periodically throughout our code to find out which lines of code have been executed and which have not. This is so that we have an easier time debugging our code."
   ]
  },
  {
   "attachments": {},
   "cell_type": "markdown",
   "id": "b9af484a",
   "metadata": {},
   "source": [
    "# 2 Some loose ends"
   ]
  },
  {
   "attachments": {},
   "cell_type": "markdown",
   "id": "8ee15c4c",
   "metadata": {},
   "source": [
    "## 2.1 Positional, keyword and default arguments"
   ]
  },
  {
   "cell_type": "markdown",
   "id": "f8d8e3bd-83d2-4471-b9fe-bdc37fcd8656",
   "metadata": {},
   "source": [
    "There are three ways to pass off an argument in a function, that is, using **positional**, **keyword** or **default** arguments. Let's say we have a function as shown below."
   ]
  },
  {
   "cell_type": "code",
   "execution_count": 15,
   "id": "ce2fd08d-d917-4d95-8269-1cf53652c1cc",
   "metadata": {},
   "outputs": [],
   "source": [
    "def side_by_side(a, b, c=42):\r\n",
    "    return f'{a: 2d}|{b: 2d}|{c: 2d}'"
   ]
  },
  {
   "cell_type": "markdown",
   "id": "c4b66943-b849-4c07-bdbc-8ff0eeee7422",
   "metadata": {},
   "source": [
    "The examples below show how arguments can be passed to the `side_by_side` function."
   ]
  },
  {
   "cell_type": "markdown",
   "id": "05eac48c-785d-42ae-9f30-50c0baba6321",
   "metadata": {},
   "source": [
    "<p></p>"
   ]
  },
  {
   "cell_type": "markdown",
   "id": "a7e3bc9d-1f5b-41e5-9dd9-4410ac32739d",
   "metadata": {},
   "source": [
    "**Positional arguments**"
   ]
  },
  {
   "cell_type": "markdown",
   "id": "c7fa41c4-5426-4efe-a980-f3428156aadf",
   "metadata": {},
   "source": [
    "Here, we assign values according to the position of the variables inside the `()`."
   ]
  },
  {
   "cell_type": "code",
   "execution_count": 16,
   "id": "7b392d9e-2acd-41c4-85a3-e419ff3bb893",
   "metadata": {},
   "outputs": [
    {
     "data": {
      "text/plain": [
       "' 1| 2| 3'"
      ]
     },
     "execution_count": 16,
     "metadata": {},
     "output_type": "execute_result"
    }
   ],
   "source": [
    "side_by_side(1, 2, 3)"
   ]
  },
  {
   "cell_type": "markdown",
   "id": "348185d2-f405-4a4c-9708-c6738d487386",
   "metadata": {},
   "source": [
    "Since the function is defined as `side_by_side(a, b, c=42)`, this will cause `a = 1`, `b = 2` and `c = 3` since `1` is in the first position (where `a` is positioned in the defined function), `2` is in the second position (where `b` is positioned), and so on."
   ]
  },
  {
   "cell_type": "markdown",
   "id": "1517c27b-b5bc-40e9-b87f-7874c0b26758",
   "metadata": {},
   "source": [
    "<p></p>"
   ]
  },
  {
   "cell_type": "markdown",
   "id": "62595f82-1d3a-47af-be65-34b56e36a385",
   "metadata": {},
   "source": [
    "**Keyword arguments**"
   ]
  },
  {
   "cell_type": "markdown",
   "id": "0706d18e-0db6-4ad3-ab77-0c4d39a38b4d",
   "metadata": {},
   "source": [
    "Here, we specify which variable correspons to which argument value. This will also mean that the order of the argument values does **not** matter, unlike positional arguments."
   ]
  },
  {
   "cell_type": "code",
   "execution_count": 17,
   "id": "81406a8a-eb51-4c2f-965b-699fba164643",
   "metadata": {},
   "outputs": [
    {
     "data": {
      "text/plain": [
       "' 1| 2| 3'"
      ]
     },
     "execution_count": 17,
     "metadata": {},
     "output_type": "execute_result"
    }
   ],
   "source": [
    "side_by_side(b = 2, c = 3, a = 1)"
   ]
  },
  {
   "cell_type": "markdown",
   "id": "c0a322b8-5679-4e36-a67f-8bde7ab206d6",
   "metadata": {},
   "source": [
    "<p></p>"
   ]
  },
  {
   "cell_type": "markdown",
   "id": "e05f0215-7824-43d8-bcc9-81c1a934c1e3",
   "metadata": {},
   "source": [
    "**Default arguments**"
   ]
  },
  {
   "cell_type": "markdown",
   "id": "2cfc287c-dfce-4b6a-a0cd-17dba82df997",
   "metadata": {},
   "source": [
    "Here, we can just not pass off any argument value if a value has been defaultly assigned to a variable in the defined function.\n",
    "\n",
    "In the given `side_by_side` function, `c` is already defaultly assigned to the value `42`. If we don't pass any values for `c`, the function will automatically assign a vlue of `42` to it."
   ]
  },
  {
   "cell_type": "code",
   "execution_count": 20,
   "id": "202ee7a7-fd80-4d3b-bbfe-b7deadc08f51",
   "metadata": {},
   "outputs": [
    {
     "data": {
      "text/plain": [
       "' 1| 2| 42'"
      ]
     },
     "execution_count": 20,
     "metadata": {},
     "output_type": "execute_result"
    }
   ],
   "source": [
    "side_by_side(1, b = 2)"
   ]
  },
  {
   "cell_type": "markdown",
   "id": "c35c2bf5-b041-4c7c-bd0e-53d54013b166",
   "metadata": {},
   "source": [
    "<p></p>"
   ]
  },
  {
   "cell_type": "markdown",
   "id": "796f89a9-a12b-4b4f-835d-c5437e4c5102",
   "metadata": {},
   "source": [
    "**Mixture of argument styles**"
   ]
  },
  {
   "cell_type": "markdown",
   "id": "d9cf5a58-3fa9-4d66-9a77-c7561076aed4",
   "metadata": {},
   "source": [
    "We can use a combination of argument styles to pass off argument values in a function. However, some combinations will not work because Python cannot ambiguously assign a value to one of the variables of the function.\n",
    "\n",
    "Below shows some examples that **work**."
   ]
  },
  {
   "cell_type": "code",
   "execution_count": null,
   "id": "cee34b6f-fcd1-4be5-b521-de137bc0b1a2",
   "metadata": {},
   "outputs": [],
   "source": [
    "side_by_side(1, 2)           # Two positional, 1 default\n",
    "## ' 1| 2| 42'\n",
    "side_by_side(1, 2, 3)        # Three positional\n",
    "## ' 1| 2| 3'\n",
    "side_by_side(a=1, b=2)       # Two keyword, 1 default\n",
    "## ' 1| 2| 42'\n",
    "side_by_side(c=3, b=1, a=2)  # Three keyword\n",
    "## ' 2| 1| 3'\n",
    "side_by_side(1, c=3, b=2)    # One positional, 2 keyword\n",
    "## ' 1| 2| 3'\n",
    "side_by_side(1, b=2)         # One positional, 1 keyword, 1 default\n",
    "## ' 1| 2| 42'"
   ]
  },
  {
   "cell_type": "markdown",
   "id": "865cfafb-41a8-4f90-9343-35ebd44fa820",
   "metadata": {},
   "source": [
    "<p></p>"
   ]
  },
  {
   "cell_type": "markdown",
   "id": "b2c6be67-d4cb-4587-a8b9-6560f5ee5848",
   "metadata": {},
   "source": [
    "Below shows some examples that **don't work**."
   ]
  },
  {
   "cell_type": "code",
   "execution_count": null,
   "id": "351670b9-7d07-4827-b65e-f2003e70d10b",
   "metadata": {},
   "outputs": [],
   "source": [
    "side_by_side(a = 1, 2)       #So, is 2 for b or c?\n",
    "side_by_side(1, a = 2)       #1 is assigned to a via positional argument but a = 2 via keyword argument?"
   ]
  },
  {
   "cell_type": "markdown",
   "id": "c8da4331-18e0-49ff-b06d-8e3fc8f8b81b",
   "metadata": {},
   "source": [
    "<p></p>"
   ]
  },
  {
   "attachments": {},
   "cell_type": "markdown",
   "id": "cd1424b2",
   "metadata": {},
   "source": [
    "## 2.2 Docstrings"
   ]
  },
  {
   "cell_type": "markdown",
   "id": "38b4e0f5-a405-4d86-8e8c-e5708b84a18b",
   "metadata": {},
   "source": [
    "Python has a `docstring` feature that allows us to explain what a function does when we use the `help` function. So, if we have a defined function named `side_by_side`, when we do `help(side_by_side)`, the `docstring` will be displayed.\n",
    "\n",
    "`docstring` is enclosed by `'''` or `\"\"\"`, similar to when we want to make multiline comments."
   ]
  },
  {
   "cell_type": "code",
   "execution_count": 27,
   "id": "6fc46daf-0972-4e1e-87ad-83dd82cf32f9",
   "metadata": {},
   "outputs": [
    {
     "name": "stdout",
     "output_type": "stream",
     "text": [
      "Help on function create_multiples_two in module __main__:\n",
      "\n",
      "create_multiples_two(x)\n",
      "    This function creates a list with the number of elements\n",
      "    specified by the argument x, each of which are different\n",
      "    multiples of 2 starting from 2 to x * 2 in a descending\n",
      "    order.\n",
      "\n"
     ]
    }
   ],
   "source": [
    "def create_multiples_two(x):\n",
    "    '''\n",
    "    This function creates a list with the number of elements\n",
    "    specified by the argument x, each of which are different\n",
    "    multiples of 2 starting from 2 to x * 2 in a descending\n",
    "    order.\n",
    "    '''\n",
    "    y = []\n",
    "    while x > 0:\n",
    "        y.append(x * 2)\n",
    "        x -= 1\n",
    "    return y\n",
    "\n",
    "help(create_multiples_two)"
   ]
  },
  {
   "attachments": {},
   "cell_type": "markdown",
   "id": "c5eb2a29",
   "metadata": {},
   "source": [
    "## 2.3 Function are first-class citizens"
   ]
  },
  {
   "cell_type": "markdown",
   "id": "a35e140f-67b2-4e02-98fa-9fccede0309f",
   "metadata": {},
   "source": [
    "We can pass a function as an argument in another function. Below shows an example."
   ]
  },
  {
   "cell_type": "code",
   "execution_count": 33,
   "id": "988e9191-651e-45fc-b0c4-4d665d643b32",
   "metadata": {},
   "outputs": [
    {
     "name": "stdout",
     "output_type": "stream",
     "text": [
      "15\n",
      "1\n",
      "5\n"
     ]
    }
   ],
   "source": [
    "def statistics(x, data_function):               #Allows you to define the data_function as another function\n",
    "    return data_function(x)\n",
    "\n",
    "x = [1, 2, 3, 4, 5]\n",
    "\n",
    "print(statistics(x, sum))                       #Assigns the nested function (which is data_function) as sum(), which will return sum(x) \n",
    "print(statistics(x, min))                       #Assigns the nested function (which is data_function) as min(), which will return min(x)\n",
    "print(statistics(x, max))                       #Assigns the nested function (which is data_function) as max(), which will return max(x)"
   ]
  },
  {
   "cell_type": "markdown",
   "id": "242a462a-97ee-42ac-9212-3c8b3a10f125",
   "metadata": {},
   "source": [
    "Note that when we pass a function as an argument, we do not include `()`."
   ]
  },
  {
   "cell_type": "markdown",
   "id": "e7b0c23c-9610-4b17-be3f-e0cd63a10925",
   "metadata": {},
   "source": [
    "<p></p>"
   ]
  },
  {
   "attachments": {},
   "cell_type": "markdown",
   "id": "fcc08266",
   "metadata": {},
   "source": [
    "## 2.4 More about unpacking"
   ]
  },
  {
   "cell_type": "markdown",
   "id": "3270cedc-adad-4d5d-9aa9-0f5330128749",
   "metadata": {},
   "source": [
    "There are many different ways to do unpacking. Below shows some examples."
   ]
  },
  {
   "cell_type": "markdown",
   "id": "be4c500a-9e7a-44bc-92f4-1f6b8f2b72bb",
   "metadata": {},
   "source": [
    "<p></p>"
   ]
  },
  {
   "cell_type": "markdown",
   "id": "4bba21f5-ba25-4477-a0bd-de3f8e81c70b",
   "metadata": {},
   "source": [
    "**Example 1**"
   ]
  },
  {
   "cell_type": "code",
   "execution_count": 34,
   "id": "a41584ec-78e9-4611-a01f-fe885b720e03",
   "metadata": {},
   "outputs": [
    {
     "data": {
      "text/plain": [
       "([1, 2, 3], 4, 5)"
      ]
     },
     "execution_count": 34,
     "metadata": {},
     "output_type": "execute_result"
    }
   ],
   "source": [
    "*x, y, z = [1, 2, 3, 4, 5]\n",
    "x, y, z"
   ]
  },
  {
   "cell_type": "markdown",
   "id": "5e9a9d80-1017-4174-9cb5-fb84af25b732",
   "metadata": {},
   "source": [
    "Here, the asterisk `*` before `x` causes the collection of all the remaining elements into a list named `x` after `y` has been assigned to `4` and `z` has been assigned to `5`."
   ]
  },
  {
   "cell_type": "markdown",
   "id": "0c2f9f31-1e7e-4f55-b4c6-47ac2c275f3e",
   "metadata": {},
   "source": [
    "<p></p>"
   ]
  },
  {
   "cell_type": "markdown",
   "id": "5fe50d34-016f-43ac-87e3-826ac4545697",
   "metadata": {},
   "source": [
    "**Example 2**"
   ]
  },
  {
   "cell_type": "code",
   "execution_count": 35,
   "id": "69d1f98a-6572-4244-a08e-b730b9410cbf",
   "metadata": {},
   "outputs": [
    {
     "data": {
      "text/plain": [
       "(1, 5)"
      ]
     },
     "execution_count": 35,
     "metadata": {},
     "output_type": "execute_result"
    }
   ],
   "source": [
    "x, _, _, _, y = [1, 2, 3, 4, 5]\n",
    "x, y"
   ]
  },
  {
   "cell_type": "markdown",
   "id": "f832f7ec-8800-4e3b-a703-55da0c8b8a2b",
   "metadata": {},
   "source": [
    "Here, the `_` is a **throwaway variable**. This makes it possible for `y` to be assigned to be the last variable, which is `5`.\n",
    "\n",
    "In the same example, we can combine `*` with `_` to assign `_` to the value `[2, 3, 4]` instead of having three `_`."
   ]
  },
  {
   "cell_type": "code",
   "execution_count": 36,
   "id": "8cd3c6d4-96ae-4a11-94d4-170080ec016d",
   "metadata": {},
   "outputs": [
    {
     "data": {
      "text/plain": [
       "(1, 5)"
      ]
     },
     "execution_count": 36,
     "metadata": {},
     "output_type": "execute_result"
    }
   ],
   "source": [
    "x, *_, y = [1, 2, 3, 4, 5]\n",
    "x, y"
   ]
  }
 ],
 "metadata": {
  "kernelspec": {
   "display_name": "Python 3 (ipykernel)",
   "language": "python",
   "name": "python3"
  },
  "language_info": {
   "codemirror_mode": {
    "name": "ipython",
    "version": 3
   },
   "file_extension": ".py",
   "mimetype": "text/x-python",
   "name": "python",
   "nbconvert_exporter": "python",
   "pygments_lexer": "ipython3",
   "version": "3.11.5"
  },
  "toc": {
   "base_numbering": 1,
   "nav_menu": {},
   "number_sections": true,
   "sideBar": true,
   "skip_h1_title": false,
   "title_cell": "Table of Contents",
   "title_sidebar": "Contents",
   "toc_cell": false,
   "toc_position": {},
   "toc_section_display": true,
   "toc_window_display": false
  },
  "vscode": {
   "interpreter": {
    "hash": "31f2aee4e71d21fbe5cf8b01ff0e069b9275f58929596ceb00d14d90e3e16cd6"
   }
  }
 },
 "nbformat": 4,
 "nbformat_minor": 5
}
