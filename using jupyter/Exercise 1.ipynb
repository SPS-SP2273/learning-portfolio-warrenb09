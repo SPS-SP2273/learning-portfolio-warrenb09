{
 "cells": [
  {
   "cell_type": "markdown",
   "id": "4c7d675e-812b-4b12-be5a-ec5f574b7409",
   "metadata": {},
   "source": [
    "## **Quadratic Equations**\n",
    "---"
   ]
  },
  {
   "cell_type": "markdown",
   "id": "7fdcb0d2-0f31-418b-a199-67fdfd42e831",
   "metadata": {},
   "source": [
    "### **Introduction**\n",
    "![](https://upload.wikimedia.org/wikipedia/commons/thumb/f/f8/Polynomialdeg2.svg/450px-Polynomialdeg2.svg.png)"
   ]
  },
  {
   "cell_type": "markdown",
   "id": "a73197ca-c311-4f81-a382-3b81147b6833",
   "metadata": {},
   "source": [
    "*(Image from the [Wikipedia page on Quadratic equations](https://en.wikipedia.org/wiki/Quadratic_equation))*\n",
    "</p>The general form of a quadratic equation is:\n",
    "$$\n",
    "ax^{2}+bx+c=0\n",
    "$$"
   ]
  },
  {
   "cell_type": "markdown",
   "id": "74f6a2ac-a2c2-4a21-a9f2-14a6c1e14c68",
   "metadata": {},
   "source": [
    "### **Solutions**"
   ]
  },
  {
   "cell_type": "markdown",
   "id": "bc324b3d-9bc8-4385-80d8-93de2c4f9eef",
   "metadata": {},
   "source": [
    "Provided $a \\ne 0$, we can use an elementary algebraic method called [completeing the square](https://en.wikipedia.org/wiki/Completing_the_square) to show that a quadratic equation has the following solution:\n",
    "$$\n",
    "x=\\dfrac{}{}\n",
    "$$"
   ]
  }
 ],
 "metadata": {
  "kernelspec": {
   "display_name": "Python 3 (ipykernel)",
   "language": "python",
   "name": "python3"
  },
  "language_info": {
   "codemirror_mode": {
    "name": "ipython",
    "version": 3
   },
   "file_extension": ".py",
   "mimetype": "text/x-python",
   "name": "python",
   "nbconvert_exporter": "python",
   "pygments_lexer": "ipython3",
   "version": "3.11.5"
  }
 },
 "nbformat": 4,
 "nbformat_minor": 5
}
