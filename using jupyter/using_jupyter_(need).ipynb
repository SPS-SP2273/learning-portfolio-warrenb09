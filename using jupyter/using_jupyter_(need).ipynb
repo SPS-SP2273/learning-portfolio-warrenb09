{
 "cells": [
  {
   "cell_type": "markdown",
   "id": "123456",
   "metadata": {},
   "source": [
    "<div style=\"text-align:left;font-size:2em\"><span style=\"font-weight:bolder;font-size:1.25em\">SP2273 | Learning Portfolio</span><br><br><span style=\"font-weight:bold;color:darkred\">Using Jupyter (Need)</span></div>"
   ]
  },
  {
   "cell_type": "markdown",
   "id": "6b88da66",
   "metadata": {},
   "source": [
    "# 1 What to expect in this chapter\n",
    "\n"
   ]
  },
  {
   "cell_type": "markdown",
   "id": "470935d0",
   "metadata": {},
   "source": [
    "# 2 Getting ready"
   ]
  },
  {
   "cell_type": "markdown",
   "id": "29973317",
   "metadata": {},
   "source": [
    "1. Open Anaconda Prompt\n",
    "2. Copy file path name from the local directory (the folder containing the notebook in my device); let's call it path_to_folder\n",
    "3. Type `cd path_to_folder` in the prompt\n",
    "4. Type `jupyter notebook` to open Jupyter"
   ]
  },
  {
   "cell_type": "markdown",
   "id": "652d4748",
   "metadata": {},
   "source": [
    "# 3 Getting started with Jupyter"
   ]
  },
  {
   "cell_type": "markdown",
   "id": "51f17fdf",
   "metadata": {},
   "source": [
    "## 3.1 It is all about running cells"
   ]
  },
  {
   "cell_type": "markdown",
   "id": "8bf6c1af",
   "metadata": {},
   "source": [
    "We type our code or text in a Jupyter cell. We type codes in the Code cells and texts in Markdown cells.\n",
    "</p> By default when we create a cell it will be a coding cell, but we can change the cell to a Markdown cell in the dropdown menu shown below."
   ]
  },
  {
   "cell_type": "markdown",
   "id": "293c414c",
   "metadata": {},
   "source": [
    "![](\"C:\\Users\\Warren\\Pictures\\Screenshots\\Screenshot 2024-01-23 081806.png\")"
   ]
  },
  {
   "cell_type": "markdown",
   "id": "0d9d2329",
   "metadata": {},
   "source": [
    "#### Code cell"
   ]
  },
  {
   "cell_type": "code",
   "execution_count": 6,
   "id": "d7ede852-8e59-4250-9b4b-ca16dd2ec832",
   "metadata": {},
   "outputs": [
    {
     "name": "stdout",
     "output_type": "stream",
     "text": [
      "6\n"
     ]
    }
   ],
   "source": [
    "a = 2\n",
    "b = 4\n",
    "c = a + b\n",
    "print(c)"
   ]
  },
  {
   "cell_type": "markdown",
   "id": "a3ef726a",
   "metadata": {},
   "source": [
    "#### Markdown cell\n",
    "\n",
    "Hello! I'm a text!"
   ]
  },
  {
   "cell_type": "markdown",
   "id": "318d47c0",
   "metadata": {},
   "source": [
    "## 3.2 A traditional start"
   ]
  },
  {
   "cell_type": "code",
   "execution_count": 2,
   "id": "b52463c5-a40b-4f04-a860-d89cf23589db",
   "metadata": {},
   "outputs": [
    {
     "name": "stdout",
     "output_type": "stream",
     "text": [
      "Hello world!\n"
     ]
    }
   ],
   "source": [
    "print(\"Hello world!\")"
   ]
  },
  {
   "cell_type": "markdown",
   "id": "7ed14d08",
   "metadata": {},
   "source": [
    "# 4 All about Markdown"
   ]
  },
  {
   "cell_type": "markdown",
   "id": "23838e31",
   "metadata": {},
   "source": [
    "## 4.1 Rendering Markdown cells"
   ]
  },
  {
   "cell_type": "markdown",
   "id": "607dd527-48af-45cb-a1e0-693baf578322",
   "metadata": {},
   "source": [
    "Just anything then run the cell:\n",
    "<p>\n",
    "The ships hung in the sky in much the same way that bricks don’t.\n",
    "</p>"
   ]
  },
  {
   "cell_type": "markdown",
   "id": "5ec44837",
   "metadata": {},
   "source": [
    "## 4.2 Some basic syntax"
   ]
  },
  {
   "cell_type": "markdown",
   "id": "c4c69c0f",
   "metadata": {},
   "source": [
    "Some basic syntax for formatting of the text:"
   ]
  },
  {
   "cell_type": "markdown",
   "id": "b635e6d7",
   "metadata": {},
   "source": [
    "|**Style**|**Syntax**|\n",
    "|:--|:--|\n",
    "|bold|`** **`|\n",
    "|italics|`* *`|\n",
    "|bold + italics|`*** ***`|\n",
    "|subscript|`<sub> </sub>`|\n",
    "|superscript|`<sup> </sup>`|"
   ]
  },
  {
   "cell_type": "markdown",
   "id": "b4d9728e-083d-4927-94c5-0701530598c9",
   "metadata": {},
   "source": [
    "`The ships *hung in the sky* in much the same way that **bricks don’t.**<sup>1</sup><sub>QUOTE</sub>` gives \"The ships *hung in the sky* in much the same way that **bricks don’t.**<sup>1</sup><sub>QUOTE</sub>\""
   ]
  },
  {
   "cell_type": "markdown",
   "id": "3fa51d40",
   "metadata": {},
   "source": [
    "## 4.3 Headings"
   ]
  },
  {
   "cell_type": "markdown",
   "id": "27a17c4e",
   "metadata": {},
   "source": [
    "To create a heading, add hashtags (#) in front of the text that is supposed to be a heading (for example, `# heading`)."
   ]
  },
  {
   "cell_type": "markdown",
   "id": "6c85990e-1b99-4afa-bbbd-8f914eb81154",
   "metadata": {},
   "source": [
    "# heading\n",
    "## heading\n",
    "### heading\n",
    "#### heading"
   ]
  },
  {
   "cell_type": "markdown",
   "id": "a1aa8153",
   "metadata": {},
   "source": [
    "Be careful when using headings because it can create weird numbers in front of the heading (e.g. `4.3.1. heading` for when `#### heading` is used directly after the `4.3 Headings`)."
   ]
  },
  {
   "cell_type": "markdown",
   "id": "1720766d",
   "metadata": {},
   "source": [
    "## 4.4 Displaying Code"
   ]
  },
  {
   "cell_type": "markdown",
   "id": "ad0b5aca",
   "metadata": {},
   "source": [
    "If we want to display the syntax of a code (without running it), we use the syntax enclose the code in `` (backticks). So, in the example below we enclose the code print(\"Hello world!\") in between."
   ]
  },
  {
   "cell_type": "markdown",
   "id": "fc8b07c2-0943-4732-8c73-7a25e300464c",
   "metadata": {},
   "source": [
    "`print(\"Hello world!\")`"
   ]
  },
  {
   "cell_type": "markdown",
   "id": "f78cff2d",
   "metadata": {},
   "source": [
    "If we want the code to be color coded, we enclose the code in triple backticks, adding the coding language after the first triple backticks."
   ]
  },
  {
   "cell_type": "markdown",
   "id": "90819d63-bc07-4ac1-9edb-462758e785b7",
   "metadata": {},
   "source": [
    "```python\n",
    "print(\"Hello world!\")\n",
    "```"
   ]
  },
  {
   "cell_type": "markdown",
   "id": "06c0f32a",
   "metadata": {},
   "source": [
    "## 4.5 Links"
   ]
  },
  {
   "cell_type": "markdown",
   "id": "670cf43b",
   "metadata": {},
   "source": [
    "Syntax is `[displayed hyperlinked text](link address)` (for the example below, `[SP2273 website](https://sps.nus.edu.sg/sp2273)`). Remember to include the https://."
   ]
  },
  {
   "cell_type": "markdown",
   "id": "a588b7dd-cdba-4fa3-9c82-49455e7d265f",
   "metadata": {},
   "source": [
    "[SP2273 website](https://sps.nus.edu.sg/sp2273)"
   ]
  },
  {
   "cell_type": "markdown",
   "id": "2cabe394",
   "metadata": {},
   "source": [
    "## 4.6 Images"
   ]
  },
  {
   "cell_type": "markdown",
   "id": "a73c34cf",
   "metadata": {},
   "source": [
    "Syntax is `![image description](link address)` (for the example below, `![](https://nus.edu.sg/images/default-source/base/logo.png)`). Remember to include the https://."
   ]
  },
  {
   "cell_type": "markdown",
   "id": "dbf126a4-f074-42e5-9fff-9aca5b7555e6",
   "metadata": {},
   "source": [
    "![](https://nus.edu.sg/images/default-source/base/logo.png)"
   ]
  },
  {
   "cell_type": "markdown",
   "id": "6f731fed",
   "metadata": {},
   "source": [
    "#### Resizing images"
   ]
  },
  {
   "cell_type": "markdown",
   "id": "6780947d",
   "metadata": {},
   "source": [
    "There is no direct syntax in Markdown to resize images, but we can use an html code. Syntax is:\n",
    "``` html\n",
    "<img src=\"link address of image\"\n",
    "     width=\"width in px\"\n",
    "     height=\"height in px\" />\n",
    "```"
   ]
  },
  {
   "cell_type": "markdown",
   "id": "90837f67",
   "metadata": {},
   "source": [
    "For the example below, the syntax is\n",
    "``` html\n",
    "<img src=\"https://nus.edu.sg/images/default-source/base/logo.png\"\n",
    "     width=\"100\"\n",
    "     height=\"auto\" />\n",
    "```"
   ]
  },
  {
   "cell_type": "markdown",
   "id": "8f076065",
   "metadata": {},
   "source": [
    "<img src=\"https://nus.edu.sg/images/default-source/base/logo.png\"\n",
    "     width=\"100\"\n",
    "     height=\"auto\" />"
   ]
  },
  {
   "cell_type": "markdown",
   "id": "333bf250",
   "metadata": {},
   "source": [
    "The \"auto\" syntax helps in not distorting the resolution of the image by adjusting to a height that fits to the specified width of \"100\"."
   ]
  },
  {
   "cell_type": "markdown",
   "id": "83ea39db",
   "metadata": {},
   "source": [
    "## 4.7 Tables"
   ]
  },
  {
   "cell_type": "markdown",
   "id": "efb6fb90",
   "metadata": {},
   "source": [
    "Syntax is:"
   ]
  },
  {
   "cell_type": "markdown",
   "id": "729de734",
   "metadata": {},
   "source": [
    "``` html\n",
    "|A|B|C|\n",
    "|:---|:--:|---:|\n",
    "|A1  |B1  |C1  |\n",
    "|A2  |B2  |C2  |\n",
    "```"
   ]
  },
  {
   "cell_type": "markdown",
   "id": "5f591764",
   "metadata": {},
   "source": [
    "which gives the output as shown below."
   ]
  },
  {
   "cell_type": "markdown",
   "id": "8270e68a-f98a-4f0c-9faf-d643686d0d5c",
   "metadata": {},
   "source": [
    "<style>\n",
    "    #hahaha >table{\n",
    "    color:red;}\n",
    "</style>\n",
    "\n",
    "<div id=\"hahaha\">\n",
    "    \n",
    "|A   |B   |C   |\n",
    "|:-----|:--------:|---:|\n",
    "|A1  |B1  |C1  |\n",
    "|A2  |B2  |C2  |\n",
    "    \n",
    "</div>"
   ]
  },
  {
   "cell_type": "markdown",
   "id": "1b8f664a",
   "metadata": {},
   "source": [
    "The syntax `|:---|:--:|---:|` determines the alignment of the column."
   ]
  },
  {
   "cell_type": "markdown",
   "id": "a15cbfeb",
   "metadata": {},
   "source": [
    "`:---` is for left-aligned, `:--:` is for center-aligned, `---:` is for left-aligned."
   ]
  },
  {
   "cell_type": "markdown",
   "id": "4d22946f",
   "metadata": {},
   "source": [
    "## 4.8 Lists"
   ]
  },
  {
   "cell_type": "markdown",
   "id": "b4cefe22",
   "metadata": {},
   "source": []
  },
  {
   "cell_type": "markdown",
   "id": "731d089b-98d4-44af-87ce-169150d052c4",
   "metadata": {},
   "source": [
    "1. hi\n",
    "2. hi\n",
    "3. hi"
   ]
  },
  {
   "cell_type": "markdown",
   "id": "10b5bc9f-a74e-4269-9bce-7ae40e0963fe",
   "metadata": {},
   "source": [
    "- hi\n",
    "- hi\n",
    "- hi"
   ]
  },
  {
   "cell_type": "markdown",
   "id": "e28b23db-e89c-45b4-b1a6-2564b81ea239",
   "metadata": {},
   "source": [
    "1. hi\n",
    "   - hi\n",
    "3. hi\n",
    "   - hi"
   ]
  },
  {
   "cell_type": "markdown",
   "id": "5bd06f86-4436-4df7-867e-888ff3a43e4d",
   "metadata": {},
   "source": [
    "1. a\n",
    "   1. a\n",
    "   2. b\n",
    "3. b\n",
    "   1. a\n",
    "   2. b"
   ]
  },
  {
   "cell_type": "markdown",
   "id": "c7bc9044",
   "metadata": {},
   "source": [
    "## 4.9 Equations"
   ]
  },
  {
   "cell_type": "markdown",
   "id": "5081f214-ea6b-4de7-8ceb-16f04897fe0f",
   "metadata": {},
   "source": [
    "$$\n",
    "x = \\dfrac{-b\\pm\\sqrt{b^{2}-4ac}}{2a}\n",
    "$$"
   ]
  },
  {
   "cell_type": "markdown",
   "id": "5c64efb5-8d35-44fd-99c2-931e4742e89d",
   "metadata": {},
   "source": [
    "Testing $b^{2}-4ac$"
   ]
  },
  {
   "cell_type": "markdown",
   "id": "20d6b03f-1d0a-45fc-aaed-d4b4f729d025",
   "metadata": {},
   "source": [
    "$$\n",
    "\\int_{\\pi}^{2\\pi} \\dfrac{f(x)}{g(h(x))}dx\n",
    "$$"
   ]
  },
  {
   "cell_type": "markdown",
   "id": "1f2d6db9",
   "metadata": {},
   "source": [
    "## Footnotes"
   ]
  },
  {
   "cell_type": "markdown",
   "id": "fe248aa7-2a55-4351-81ac-0a056449e8c8",
   "metadata": {},
   "source": [
    "This is a eiufhweufe^[footnote]"
   ]
  }
 ],
 "metadata": {
  "kernelspec": {
   "display_name": "Python 3 (ipykernel)",
   "language": "python",
   "name": "python3"
  },
  "language_info": {
   "codemirror_mode": {
    "name": "ipython",
    "version": 3
   },
   "file_extension": ".py",
   "mimetype": "text/x-python",
   "name": "python",
   "nbconvert_exporter": "python",
   "pygments_lexer": "ipython3",
   "version": "3.11.5"
  },
  "toc": {
   "base_numbering": 1,
   "nav_menu": {},
   "number_sections": true,
   "sideBar": true,
   "skip_h1_title": false,
   "title_cell": "Table of Contents",
   "title_sidebar": "Contents",
   "toc_cell": false,
   "toc_position": {},
   "toc_section_display": true,
   "toc_window_display": false
  },
  "vscode": {
   "interpreter": {
    "hash": "31f2aee4e71d21fbe5cf8b01ff0e069b9275f58929596ceb00d14d90e3e16cd6"
   }
  }
 },
 "nbformat": 4,
 "nbformat_minor": 5
}
