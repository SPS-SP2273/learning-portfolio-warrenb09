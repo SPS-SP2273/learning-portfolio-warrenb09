{
 "cells": [
  {
   "attachments": {},
   "cell_type": "markdown",
   "id": "123456",
   "metadata": {},
   "source": [
    "<div style=\"text-align:left;font-size:2em\"><span style=\"font-weight:bolder;font-size:1.25em\">SP2273 | Learning Portfolio</span><br><br><span style=\"font-weight:bold;color:darkred\">Using Jupyter (Need)</span></div>"
   ]
  },
  {
   "attachments": {},
   "cell_type": "markdown",
   "id": "6b88da66",
   "metadata": {},
   "source": [
    "# 1 What to expect in this chapter\n",
    "\n"
   ]
  },
  {
   "attachments": {},
   "cell_type": "markdown",
   "id": "470935d0",
   "metadata": {},
   "source": [
    "# 2 Getting ready"
   ]
  },
  {
   "attachments": {},
   "cell_type": "markdown",
   "id": "652d4748",
   "metadata": {},
   "source": [
    "# 3 Getting started with Jupyter"
   ]
  },
  {
   "attachments": {},
   "cell_type": "markdown",
   "id": "51f17fdf",
   "metadata": {},
   "source": [
    "## 3.1 It is all about running cells"
   ]
  },
  {
   "cell_type": "code",
   "execution_count": 6,
   "id": "d7ede852-8e59-4250-9b4b-ca16dd2ec832",
   "metadata": {},
   "outputs": [
    {
     "name": "stdout",
     "output_type": "stream",
     "text": [
      "6\n"
     ]
    }
   ],
   "source": [
    "a = 2\n",
    "b = 4\n",
    "c = a + b\n",
    "print(c)"
   ]
  },
  {
   "attachments": {},
   "cell_type": "markdown",
   "id": "318d47c0",
   "metadata": {},
   "source": [
    "## 3.2 A traditional start"
   ]
  },
  {
   "cell_type": "code",
   "execution_count": 2,
   "id": "b52463c5-a40b-4f04-a860-d89cf23589db",
   "metadata": {},
   "outputs": [
    {
     "name": "stdout",
     "output_type": "stream",
     "text": [
      "Hello world!\n"
     ]
    }
   ],
   "source": [
    "print(\"Hello world!\")"
   ]
  },
  {
   "attachments": {},
   "cell_type": "markdown",
   "id": "7ed14d08",
   "metadata": {},
   "source": [
    "# 4 All about Markdown"
   ]
  },
  {
   "attachments": {},
   "cell_type": "markdown",
   "id": "23838e31",
   "metadata": {},
   "source": [
    "## 4.1 Rendering Markdown cells"
   ]
  },
  {
   "cell_type": "markdown",
   "id": "607dd527-48af-45cb-a1e0-693baf578322",
   "metadata": {},
   "source": [
    "The ships hung in the sky in much the same way that bricks don’t."
   ]
  },
  {
   "attachments": {},
   "cell_type": "markdown",
   "id": "5ec44837",
   "metadata": {},
   "source": [
    "## 4.2 Some basic syntax"
   ]
  },
  {
   "cell_type": "markdown",
   "id": "b4d9728e-083d-4927-94c5-0701530598c9",
   "metadata": {},
   "source": [
    "The ships *hung in the sky* in much the same way that **bricks don’t.**<sup>1</sup><sub>QUOTE</sub>"
   ]
  },
  {
   "cell_type": "markdown",
   "id": "5e0314b5-61e2-4f37-bcca-b573f3c1539a",
   "metadata": {},
   "source": []
  },
  {
   "attachments": {},
   "cell_type": "markdown",
   "id": "3fa51d40",
   "metadata": {},
   "source": [
    "## 4.3 Headings"
   ]
  },
  {
   "cell_type": "markdown",
   "id": "6c85990e-1b99-4afa-bbbd-8f914eb81154",
   "metadata": {},
   "source": [
    "# heading\n",
    "## heading\n",
    "### heading\n",
    "#### heading"
   ]
  },
  {
   "attachments": {},
   "cell_type": "markdown",
   "id": "1720766d",
   "metadata": {},
   "source": [
    "## 4.4 Displaying Code"
   ]
  },
  {
   "cell_type": "markdown",
   "id": "fc8b07c2-0943-4732-8c73-7a25e300464c",
   "metadata": {},
   "source": [
    "`print(\"Hello world!\")`"
   ]
  },
  {
   "cell_type": "markdown",
   "id": "90819d63-bc07-4ac1-9edb-462758e785b7",
   "metadata": {},
   "source": [
    "```python\n",
    "print(\"Hello world!\")\n",
    "```"
   ]
  },
  {
   "attachments": {},
   "cell_type": "markdown",
   "id": "06c0f32a",
   "metadata": {},
   "source": [
    "## 4.5 Links"
   ]
  },
  {
   "cell_type": "markdown",
   "id": "a588b7dd-cdba-4fa3-9c82-49455e7d265f",
   "metadata": {},
   "source": [
    "[SP2273 website](https://sps.nus.edu.sg/sp2273)"
   ]
  },
  {
   "cell_type": "markdown",
   "id": "622d76e3-6cb5-4036-a2d8-13655cddf7b3",
   "metadata": {},
   "source": [
    "[Google](https://google.com)"
   ]
  },
  {
   "attachments": {},
   "cell_type": "markdown",
   "id": "2cabe394",
   "metadata": {},
   "source": [
    "## 4.6 Images"
   ]
  },
  {
   "cell_type": "markdown",
   "id": "dbf126a4-f074-42e5-9fff-9aca5b7555e6",
   "metadata": {},
   "source": [
    "![](https://nus.edu.sg/images/default-source/base/logo.png)"
   ]
  },
  {
   "attachments": {},
   "cell_type": "markdown",
   "id": "83ea39db",
   "metadata": {},
   "source": [
    "## 4.7 Tables"
   ]
  },
  {
   "cell_type": "markdown",
   "id": "8270e68a-f98a-4f0c-9faf-d643686d0d5c",
   "metadata": {},
   "source": [
    "|A   |B   |C   |\n",
    "|:---|:--:|---:|\n",
    "|A1  |B1  |C1  |\n",
    "|A2  |B2  |C2  |"
   ]
  },
  {
   "cell_type": "markdown",
   "id": "ba01bc14-025d-4420-acdf-11cbf6dea2e3",
   "metadata": {},
   "source": [
    "|**A**|**B**|**C**|\n",
    "|:--:|:--:|:--:|\n",
    "|*a*|*b*|*c*|"
   ]
  },
  {
   "attachments": {},
   "cell_type": "markdown",
   "id": "4d22946f",
   "metadata": {},
   "source": [
    "## 4.8 Lists"
   ]
  },
  {
   "cell_type": "markdown",
   "id": "731d089b-98d4-44af-87ce-169150d052c4",
   "metadata": {},
   "source": [
    "1. hi\n",
    "2. hi\n",
    "3. hi"
   ]
  },
  {
   "cell_type": "markdown",
   "id": "10b5bc9f-a74e-4269-9bce-7ae40e0963fe",
   "metadata": {},
   "source": [
    "- hi\n",
    "- hi\n",
    "- hi"
   ]
  },
  {
   "cell_type": "markdown",
   "id": "e28b23db-e89c-45b4-b1a6-2564b81ea239",
   "metadata": {},
   "source": [
    "1. hi\n",
    "   - hi\n",
    "3. hi\n",
    "   - hi"
   ]
  },
  {
   "cell_type": "markdown",
   "id": "5bd06f86-4436-4df7-867e-888ff3a43e4d",
   "metadata": {},
   "source": [
    "1. a\n",
    "   1. a\n",
    "   2. b\n",
    "3. b\n",
    "   1. a\n",
    "   2. b"
   ]
  },
  {
   "attachments": {},
   "cell_type": "markdown",
   "id": "c7bc9044",
   "metadata": {},
   "source": [
    "## 4.9 Equations"
   ]
  },
  {
   "cell_type": "markdown",
   "id": "5081f214-ea6b-4de7-8ceb-16f04897fe0f",
   "metadata": {},
   "source": [
    "$$\n",
    "x = \\dfrac{-b\\pm\\sqrt{b^{2}-4ac}}{2a}\n",
    "$$"
   ]
  },
  {
   "cell_type": "markdown",
   "id": "5c64efb5-8d35-44fd-99c2-931e4742e89d",
   "metadata": {},
   "source": [
    "Testing $b^{2}-4ac$"
   ]
  },
  {
   "cell_type": "markdown",
   "id": "20d6b03f-1d0a-45fc-aaed-d4b4f729d025",
   "metadata": {},
   "source": [
    "$$\n",
    "\\int_{\\pi}^{2\\pi} \\dfrac{f(x)}{g(h(x))}dx\n",
    "$$"
   ]
  },
  {
   "attachments": {},
   "cell_type": "markdown",
   "id": "1f2d6db9",
   "metadata": {},
   "source": [
    "## Footnotes"
   ]
  },
  {
   "cell_type": "markdown",
   "id": "fe248aa7-2a55-4351-81ac-0a056449e8c8",
   "metadata": {},
   "source": [
    "This is a eiufhweufe^[footnote]"
   ]
  },
  {
   "cell_type": "code",
   "execution_count": null,
   "id": "63f58837-21ce-4cce-bc30-2779952c808f",
   "metadata": {},
   "outputs": [],
   "source": []
  },
  {
   "cell_type": "code",
   "execution_count": null,
   "id": "816fe665-7ba4-4c43-b601-2214d120c970",
   "metadata": {},
   "outputs": [],
   "source": []
  }
 ],
 "metadata": {
  "kernelspec": {
   "display_name": "Python 3 (ipykernel)",
   "language": "python",
   "name": "python3"
  },
  "language_info": {
   "codemirror_mode": {
    "name": "ipython",
    "version": 3
   },
   "file_extension": ".py",
   "mimetype": "text/x-python",
   "name": "python",
   "nbconvert_exporter": "python",
   "pygments_lexer": "ipython3",
   "version": "3.11.5"
  },
  "toc": {
   "base_numbering": 1,
   "nav_menu": {},
   "number_sections": true,
   "sideBar": true,
   "skip_h1_title": false,
   "title_cell": "Table of Contents",
   "title_sidebar": "Contents",
   "toc_cell": false,
   "toc_position": {},
   "toc_section_display": true,
   "toc_window_display": false
  },
  "vscode": {
   "interpreter": {
    "hash": "31f2aee4e71d21fbe5cf8b01ff0e069b9275f58929596ceb00d14d90e3e16cd6"
   }
  }
 },
 "nbformat": 4,
 "nbformat_minor": 5
}
