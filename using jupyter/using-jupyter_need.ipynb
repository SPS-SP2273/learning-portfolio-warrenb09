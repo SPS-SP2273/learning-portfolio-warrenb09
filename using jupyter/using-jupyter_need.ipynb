{
 "cells": [
  {
   "cell_type": "markdown",
   "id": "f57a1b92-a7dd-4f3c-8412-825a8ad99e85",
   "metadata": {},
   "source": [
    "print(\"Hello world!\")"
   ]
  },
  {
   "cell_type": "markdown",
   "id": "9ab2661a-e54f-4202-ab99-cb88f8e594cf",
   "metadata": {},
   "source": [
    "The ships *hung in the sky* in much the same way that **bricks don’t.**<sup>1</sup><sub>QUOTE</sub>"
   ]
  },
  {
   "cell_type": "markdown",
   "id": "f9941aa3-f7a4-460a-a829-c65fa491aa6e",
   "metadata": {},
   "source": [
    "`print(\"Hello world!\")`"
   ]
  },
  {
   "cell_type": "markdown",
   "id": "c07c83da-5c85-4d53-b021-5fe73e22478c",
   "metadata": {},
   "source": [
    "[Google](https://www.google.com)"
   ]
  },
  {
   "cell_type": "markdown",
   "id": "3347f45a-7f8b-490a-8a1f-78761a8c3731",
   "metadata": {},
   "source": [
    "[SP2273 Website](https://sps.nus.edu.sg/sp2273)"
   ]
  },
  {
   "cell_type": "markdown",
   "id": "fbee0845-9482-4144-8bd4-f46da7946a68",
   "metadata": {},
   "source": [
    "![](https://nus.edu.sg/images/default-source/base/logo.png)"
   ]
  },
  {
   "cell_type": "markdown",
   "id": "cfef19dd-4e3d-4efb-ba26-f46bc193bc32",
   "metadata": {},
   "source": [
    "|A   |B   |C   |\n",
    "|:---|:--:|---:|\n",
    "|A1  |B1  |C1  |\n",
    "|A2  |B2  |C2  |"
   ]
  },
  {
   "cell_type": "markdown",
   "id": "9d0203a1-65b2-46f3-a404-72808d0a96bf",
   "metadata": {},
   "source": [
    "| A    |  B   |    C |\r\n",
    "| :--- | :--: | ---: |\r\n",
    "| a1   |  b1  |   c1 |\r\n",
    "| a2   |  b2  |   c2 |\r\n",
    "| a3   |  b3  |   c3 |"
   ]
  },
  {
   "cell_type": "markdown",
   "id": "67b0f2a1-f587-47cb-bdb1-87655ff7f360",
   "metadata": {},
   "source": [
    "|A|B|\n",
    "|:---|---:|\n",
    "|A1|B1|\n",
    "|A2|B2|"
   ]
  },
  {
   "cell_type": "markdown",
   "id": "7c8a0a01-f7ff-49cd-9039-96f1c6508687",
   "metadata": {},
   "source": [
    "|**A**|**B**|**C**|\n",
    "|:--:|:--:|:--:|\n",
    "|*a*|*b*|*c*|"
   ]
  },
  {
   "cell_type": "markdown",
   "id": "477a731e-4df3-416a-87d8-a3b1c157a0ab",
   "metadata": {},
   "source": [
    "1. hi\n",
    "   - hi"
   ]
  },
  {
   "cell_type": "markdown",
   "id": "138fcd9f-25d5-4469-9c6a-0783b47c53a7",
   "metadata": {},
   "source": [
    "$$\n",
    "\\int_{\\pi}^{2\\pi} \\dfrac{f(x)}{g(h(x))}dx\n",
    "$$"
   ]
  },
  {
   "cell_type": "markdown",
   "id": "1d740fbd-3f65-407b-8603-192c76608eda",
   "metadata": {},
   "source": []
  }
 ],
 "metadata": {
  "kernelspec": {
   "display_name": "Python 3 (ipykernel)",
   "language": "python",
   "name": "python3"
  },
  "language_info": {
   "codemirror_mode": {
    "name": "ipython",
    "version": 3
   },
   "file_extension": ".py",
   "mimetype": "text/x-python",
   "name": "python",
   "nbconvert_exporter": "python",
   "pygments_lexer": "ipython3",
   "version": "3.11.5"
  }
 },
 "nbformat": 4,
 "nbformat_minor": 5
}
