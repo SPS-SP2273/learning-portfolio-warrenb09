{
 "cells": [
  {
   "cell_type": "markdown",
   "id": "123456",
   "metadata": {},
   "source": [
    "<div style=\"text-align:left;font-size:2em\"><span style=\"font-weight:bolder;font-size:1.25em\">SP2273 | Learning Portfolio</span><br><br><span style=\"font-weight:bold;color:darkred\">Using Jupyter (Need), Exercises</span></div>"
   ]
  },
  {
   "cell_type": "markdown",
   "id": "47b910d4",
   "metadata": {},
   "source": [
    "# Exercise 1"
   ]
  },
  {
   "cell_type": "markdown",
   "id": "2d793de2",
   "metadata": {},
   "source": [
    "## Quadratic Equations"
   ]
  },
  {
   "cell_type": "markdown",
   "id": "aeda5c86",
   "metadata": {},
   "source": [
    "### Introduction"
   ]
  },
  {
   "cell_type": "markdown",
   "id": "0264cafb",
   "metadata": {},
   "source": [
    "<img src=\"https://upload.wikimedia.org/wikipedia/commons/thumb/f/f8/Polynomialdeg2.svg/450px-Polynomialdeg2.svg.png\"\n",
    "     width=\"350\"\n",
    "     height=\"auto\"\n",
    "     align=\"left\" />"
   ]
  },
  {
   "cell_type": "markdown",
   "id": "0adb406d",
   "metadata": {},
   "source": [
    "*(Image from the [Wikipedia page on Quadratic equations](https://en.wikipedia.org/wiki/Quadratic_equation))*\n",
    "</p>The general form of a quadratic equation is:\n",
    "$$\n",
    "a^{2}+bx+c=0\n",
    "$$"
   ]
  },
  {
   "cell_type": "markdown",
   "id": "39305b24",
   "metadata": {},
   "source": [
    "### Solutions"
   ]
  },
  {
   "cell_type": "markdown",
   "id": "fca6ef55",
   "metadata": {},
   "source": [
    "Provided $a \\ne 0$, we can use an elementary algebraic method called [completeing the square](https://en.wikipedia.org/wiki/Completing_the_square) to show that a quadratic equation has the following solution:\n",
    "\n",
    "$$\n",
    "x=\\dfrac{-b \\pm \\sqrt{b^2-4ac}}{2a}\n",
    "$$"
   ]
  },
  {
   "cell_type": "markdown",
   "id": "1ddffffe",
   "metadata": {},
   "source": [
    "### Discriminant"
   ]
  },
  {
   "cell_type": "markdown",
   "id": "0d5cdfe1",
   "metadata": {},
   "source": [
    "The quantity $\\Delta=b^{2}-4ac$ is called the **discriminant** of the equation and decides the nature of its solutions. The table below shows the various possibilities."
   ]
  },
  {
   "cell_type": "markdown",
   "id": "8517fb53",
   "metadata": {},
   "source": [
    "|**Discriminant**    |**Roots**                          |\n",
    "|:------------------:|:----------------------------------|\n",
    "|$$\\Delta=b^{2}-4ac=0$$|A single solution of **$-b/2a$** |\n",
    "|$\\Delta=b^{2}-4ac>0$|Two distinct solutions             |\n",
    "|$\\Delta=b^{2}-4ac<0$|No real solutions; both are complex|"
   ]
  },
  {
   "cell_type": "markdown",
   "id": "f842dd8a",
   "metadata": {},
   "source": [
    "## Exercise 2"
   ]
  },
  {
   "cell_type": "markdown",
   "id": "857000ff",
   "metadata": {},
   "source": []
  }
 ],
 "metadata": {
  "kernelspec": {
   "display_name": "Python 3 (ipykernel)",
   "language": "python",
   "name": "python3"
  },
  "language_info": {
   "codemirror_mode": {
    "name": "ipython",
    "version": 3
   },
   "file_extension": ".py",
   "mimetype": "text/x-python",
   "name": "python",
   "nbconvert_exporter": "python",
   "pygments_lexer": "ipython3",
   "version": "3.11.5"
  },
  "toc": {
   "base_numbering": 1,
   "nav_menu": {},
   "number_sections": true,
   "sideBar": true,
   "skip_h1_title": false,
   "title_cell": "Table of Contents",
   "title_sidebar": "Contents",
   "toc_cell": false,
   "toc_position": {},
   "toc_section_display": true,
   "toc_window_display": false
  },
  "vscode": {
   "interpreter": {
    "hash": "31f2aee4e71d21fbe5cf8b01ff0e069b9275f58929596ceb00d14d90e3e16cd6"
   }
  }
 },
 "nbformat": 4,
 "nbformat_minor": 5
}
