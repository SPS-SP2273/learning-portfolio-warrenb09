{
 "cells": [
  {
   "cell_type": "markdown",
   "id": "123456",
   "metadata": {},
   "source": [
    "<div style=\"text-align:left;font-size:2em\"><span style=\"font-weight:bolder;font-size:1.25em\">SP2273 | Learning Portfolio</span><br><br><span style=\"font-weight:bold;color:darkred\">Using Jupyter (Need), Exercises</span></div>"
   ]
  },
  {
   "cell_type": "markdown",
   "id": "4d014fbf",
   "metadata": {},
   "source": [
    "# Exercise 1"
   ]
  },
  {
   "cell_type": "markdown",
   "id": "2d793de2",
   "metadata": {},
   "source": [
    "## Quadratic Equations"
   ]
  },
  {
   "cell_type": "markdown",
   "id": "aeda5c86",
   "metadata": {},
   "source": [
    "### Introduction"
   ]
  },
  {
   "cell_type": "markdown",
   "id": "0397b0be",
   "metadata": {},
   "source": [
    "<img src=\"https://upload.wikimedia.org/wikipedia/commons/thumb/f/f8/Polynomialdeg2.svg/450px-Polynomialdeg2.svg.png\"\n",
    "     width=\"350\"\n",
    "     height=\"auto\"\n",
    "     align=\"left\" />"
   ]
  },
  {
   "cell_type": "markdown",
   "id": "957a027e",
   "metadata": {},
   "source": [
    "*(Image from the [Wikipedia page on Quadratic equations](https://en.wikipedia.org/wiki/Quadratic_equation))*\n",
    "</p>The general form of a quadratic equation is:\n",
    "$$\n",
    "a^{2}+bx+c=0\n",
    "$$"
   ]
  },
  {
   "cell_type": "markdown",
   "id": "39305b24",
   "metadata": {},
   "source": [
    "### Solutions"
   ]
  },
  {
   "cell_type": "markdown",
   "id": "98df44c8",
   "metadata": {},
   "source": [
    "Provided $a \\ne 0$, we can use an elementary algebraic method called [completeing the square](https://en.wikipedia.org/wiki/Completing_the_square) to show that a quadratic equation has the following solution:\n",
    "\n",
    "$$\n",
    "x=\\dfrac{-b \\pm \\sqrt{b^2-4ac}}{2a}\n",
    "$$"
   ]
  },
  {
   "cell_type": "markdown",
   "id": "1ddffffe",
   "metadata": {},
   "source": [
    "### Discriminant"
   ]
  },
  {
   "cell_type": "markdown",
   "id": "ae6d6ffa",
   "metadata": {},
   "source": [
    "The quantity $\\Delta=b^{2}-4ac$ is called the **discriminant** of the equation and decides the nature of its solutions. The table below shows the various possibilities."
   ]
  },
  {
   "cell_type": "markdown",
   "id": "bc2534ad",
   "metadata": {},
   "source": [
    "|**Discriminant**    |**Roots**                          |\n",
    "|:------------------:|:----------------------------------|\n",
    "|$$\\Delta=b^{2}-4ac=0$$|A single solution of **$-b/2a$** |\n",
    "|$\\Delta=b^{2}-4ac>0$|Two distinct solutions             |\n",
    "|$\\Delta=b^{2}-4ac<0$|No real solutions; both are complex|"
   ]
  },
  {
   "cell_type": "markdown",
   "id": "fe9f05a1",
   "metadata": {},
   "source": [
    "## Exercise 2"
   ]
  },
  {
   "cell_type": "markdown",
   "id": "ad2b922e",
   "metadata": {},
   "source": [
    "1. What is a Git **repository**?\n",
    "<p> Answer: A Git repository is essentially a folder created in the GitHub server that holds files. The repository allows files to be shared among many people with the same repository. </p>\n",
    "<p></p>\n",
    "2. Git keeps tracks of ____________ in the files in our repository.\n",
    "<p> Answer: changes </p>\n",
    "<p></p>\n",
    "3. What is a **commit**?\n",
    "<p> Answer: A commit specifies what changes to the file that should be recorded in the repository and gives a description of the changes. This makes it easy to see the changes that have been made to a file over a period of time. </p>\n",
    "<p></p>\n",
    "4. What is a **push**?\n",
    "<p> Answer: A push is an action that can be done in GitHub Desktop after committing changes in the files of a repository that allows changes to a file to be viewed by other people sharing the same repository. Changes are recorded on the local device, not the GitHub server, and for these changes to be reflected on the files of the repository so that other people sharing the same repository can view the changes, we push these changes to the GitHub server. </p>\n",
    "<p></p>\n",
    "5. What is a **pull**?\n",
    "<p> Answer: A pull is an action that can be done in GitHub Desktop after committing changes in the files of a repository that allows changes to a file in the repository that has been recorded in the GitHub server i.e. pushed from another local device to be reflected in a different local device. </p>\n",
    "<p></p>\n",
    "6. What is the difference between **GitHub** and **GitHub Desktop**?\n",
    "<p> Answer: GitHub is a server that holds Git repositories, using the Git version control tool, to allows collaborations in coding for people that share the same repositories. On the other hand, GitHub Desktop is not GitHub itself, but rather it is a GUI that provides a friendly user interface to ease the use of GitHub. </p>\n"
   ]
  }
 ],
 "metadata": {
  "kernelspec": {
   "display_name": "Python 3 (ipykernel)",
   "language": "python",
   "name": "python3"
  },
  "language_info": {
   "codemirror_mode": {
    "name": "ipython",
    "version": 3
   },
   "file_extension": ".py",
   "mimetype": "text/x-python",
   "name": "python",
   "nbconvert_exporter": "python",
   "pygments_lexer": "ipython3",
   "version": "3.11.5"
  },
  "toc": {
   "base_numbering": 1,
   "nav_menu": {},
   "number_sections": true,
   "sideBar": true,
   "skip_h1_title": false,
   "title_cell": "Table of Contents",
   "title_sidebar": "Contents",
   "toc_cell": false,
   "toc_position": {},
   "toc_section_display": true,
   "toc_window_display": false
  },
  "vscode": {
   "interpreter": {
    "hash": "31f2aee4e71d21fbe5cf8b01ff0e069b9275f58929596ceb00d14d90e3e16cd6"
   }
  }
 },
 "nbformat": 4,
 "nbformat_minor": 5
}
